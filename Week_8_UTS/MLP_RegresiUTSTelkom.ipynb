{
  "nbformat": 4,
  "nbformat_minor": 0,
  "metadata": {
    "colab": {
      "provenance": [],
      "gpuType": "T4",
      "include_colab_link": true
    },
    "kernelspec": {
      "name": "python3",
      "display_name": "Python 3"
    },
    "language_info": {
      "name": "python"
    },
    "accelerator": "GPU"
  },
  "cells": [
    {
      "cell_type": "markdown",
      "metadata": {
        "id": "view-in-github",
        "colab_type": "text"
      },
      "source": [
        "<a href=\"https://colab.research.google.com/github/hamdansyaif/DeepLearning/blob/main/Week_8_UTS/MLP_RegresiUTSTelkom.ipynb\" target=\"_parent\"><img src=\"https://colab.research.google.com/assets/colab-badge.svg\" alt=\"Open In Colab\"/></a>"
      ]
    },
    {
      "cell_type": "markdown",
      "source": [
        "# UTS Deep Learning 2025\n",
        "1. Buat pipeline end‑to‑end untuk regresi/klasifikasi model deep learning:\n",
        "a. Pengumpulan & pembersihan data (Pandas). Coba pakai semua feature (fokus di feature engineering)\n",
        "b. Feature Engineering(Transformasi Data, Label Encoding, One-hot Encoding, etc)\n",
        "d. Model‑model yang akan dijalankan dengan modul TensorFlow/PyTorch untuk MLP\n",
        "2. Gunakan Matriks Evaluasi Regresi (RMSE,MSE,RSquared) serta visualisasikan predicted dan actual value! Jelaskan matriks mana terbaik! Gunakan Matriks Evaluasi Klasifikasi (Accuracy, Precision, Recall, F1-Score, AUC-ROC) serta visualisasikan confusion matrix! Jelaskan matriks mana terbaik!\n",
        "3. Kerjakan soal analisa dibawah.\n",
        "\n",
        "\n",
        "# Analisa\n",
        "1. Jika menggunakan model MLP dengan 3 hidden layer (256-128-64) menghasilkan underfitting pada dataset ini, modifikasi apa yang akan dilakukan pada arsitektur? Jelaskan alasan setiap perubahan dengan mempertimbangkan bias-variance tradeoff!\n",
        "2. Selain MSE, loss function apa yang mungkin cocok untuk dataset ini? Bandingkan kelebihan dan kekurangannya, serta situasi spesifik di mana alternatif tersebut lebih unggul daripada MSE!\n",
        "3. Jika salah satu fitur memiliki range nilai 0-1, sedangkan fitur lain 100-1000, bagaimana ini memengaruhi pelatihan MLP? Jelaskan mekanisme matematis (e.g., gradien, weight update) yang terdampak!\n",
        "4. Tanpa mengetahui nama fitur, bagaimana Anda mengukur kontribusi relatif setiap fitur terhadap prediksi model? Jelaskan metode teknikal (e.g., permutation importance, weight analysis) dan keterbatasannya!\n",
        "5. Bagaimana Anda mendesain eksperimen untuk memilih learning rate dan batch size secara optimal? Sertakan analisis tradeoff antara komputasi dan stabilitas pelatihan!"
      ],
      "metadata": {
        "id": "tBrtag_FNpE3"
      }
    },
    {
      "cell_type": "markdown",
      "source": [
        "# Pengecekan isi Dataset"
      ],
      "metadata": {
        "id": "PKmDplDXN8v-"
      }
    },
    {
      "cell_type": "code",
      "source": [
        "import pandas as pd\n",
        "import gdown\n",
        "\n",
        "#url = 'https://drive.google.com/uc?id=1e2iuw9lseZTYJva0lQ3N4jV3m0m2Wumz'\n",
        "url = 'https://drive.google.com/uc?id=1lTjtOeOr7sTDYgNspVVFjsmP8dd_fWPq'\n",
        "output = 'RegresiUTSTelkom.csv'\n",
        "gdown.download(url, output, quiet=False)\n",
        "\n",
        "# Baca data ke pandas\n",
        "df = pd.read_csv(output)\n",
        "\n",
        "# Tampilkan informasi awal\n",
        "print(df.head())\n",
        "print(df.info())"
      ],
      "metadata": {
        "colab": {
          "base_uri": "https://localhost:8080/"
        },
        "collapsed": true,
        "id": "rXGjhhZaN2ew",
        "outputId": "d1263d40-84c5-4ab5-d324-f9c39574eb03"
      },
      "execution_count": null,
      "outputs": [
        {
          "output_type": "stream",
          "name": "stderr",
          "text": [
            "Downloading...\n",
            "From (original): https://drive.google.com/uc?id=1lTjtOeOr7sTDYgNspVVFjsmP8dd_fWPq\n",
            "From (redirected): https://drive.google.com/uc?id=1lTjtOeOr7sTDYgNspVVFjsmP8dd_fWPq&confirm=t&uuid=a188da40-ceb0-4a57-aed3-34abee176585\n",
            "To: /content/RegresiUTSTelkom.csv\n",
            "100%|██████████| 443M/443M [00:06<00:00, 73.3MB/s]\n"
          ]
        },
        {
          "output_type": "stream",
          "name": "stdout",
          "text": [
            "   2001  49.94357  21.47114   73.0775   8.74861  -17.40628  -13.09905  \\\n",
            "0  2001  48.73215  18.42930  70.32679  12.94636  -10.32437  -24.83777   \n",
            "1  2001  50.95714  31.85602  55.81851  13.41693   -6.57898  -18.54940   \n",
            "2  2001  48.24750  -1.89837  36.29772   2.58776    0.97170  -26.21683   \n",
            "3  2001  50.97020  42.20998  67.09964   8.46791  -15.85279  -16.81409   \n",
            "4  2001  50.54767   0.31568  92.35066  22.38696  -25.51870  -19.04928   \n",
            "\n",
            "   -25.01202  -12.23257   7.83089  ...   13.0162  -54.40548  58.99367  \\\n",
            "0    8.76630   -0.92019  18.76548  ...   5.66812  -19.68073  33.04964   \n",
            "1   -3.27872   -2.35035  16.07017  ...   3.03800   26.05866 -50.92779   \n",
            "2    5.05097  -10.34124   3.55005  ...  34.57337 -171.70734 -16.96705   \n",
            "3  -12.48207   -9.37636  12.63699  ...   9.92661  -55.95724  64.92712   \n",
            "4   20.67345   -5.19943   3.63566  ...   6.59753  -50.69577  26.02574   \n",
            "\n",
            "   15.37344   1.11144  -23.08793   68.40795  -1.82223  -27.46348   2.26327  \n",
            "0  42.87836  -9.90378  -32.22788   70.49388  12.04941   58.43453  26.92061  \n",
            "1  10.93792  -0.07568   43.20130 -115.00698  -0.05859   39.67068  -0.66345  \n",
            "2 -46.67617 -12.51516   82.58061  -72.08993   9.90558  199.62971  18.85382  \n",
            "3 -17.72522  -1.49237   -7.50035   51.76631   7.88713   55.66926  28.74903  \n",
            "4  18.94430  -0.33730    6.09352   35.18381   5.00283  -11.02257   0.02263  \n",
            "\n",
            "[5 rows x 91 columns]\n",
            "<class 'pandas.core.frame.DataFrame'>\n",
            "RangeIndex: 515344 entries, 0 to 515343\n",
            "Data columns (total 91 columns):\n",
            " #   Column      Non-Null Count   Dtype  \n",
            "---  ------      --------------   -----  \n",
            " 0   2001        515344 non-null  int64  \n",
            " 1   49.94357    515344 non-null  float64\n",
            " 2   21.47114    515344 non-null  float64\n",
            " 3   73.0775     515344 non-null  float64\n",
            " 4   8.74861     515344 non-null  float64\n",
            " 5   -17.40628   515344 non-null  float64\n",
            " 6   -13.09905   515344 non-null  float64\n",
            " 7   -25.01202   515344 non-null  float64\n",
            " 8   -12.23257   515344 non-null  float64\n",
            " 9   7.83089     515344 non-null  float64\n",
            " 10  -2.46783    515344 non-null  float64\n",
            " 11  3.32136     515344 non-null  float64\n",
            " 12  -2.31521    515344 non-null  float64\n",
            " 13  10.20556    515344 non-null  float64\n",
            " 14  611.10913   515344 non-null  float64\n",
            " 15  951.0896    515344 non-null  float64\n",
            " 16  698.11428   515344 non-null  float64\n",
            " 17  408.98485   515344 non-null  float64\n",
            " 18  383.70912   515344 non-null  float64\n",
            " 19  326.51512   515344 non-null  float64\n",
            " 20  238.11327   515344 non-null  float64\n",
            " 21  251.42414   515344 non-null  float64\n",
            " 22  187.17351   515344 non-null  float64\n",
            " 23  100.42652   515344 non-null  float64\n",
            " 24  179.19498   515344 non-null  float64\n",
            " 25  -8.41558    515344 non-null  float64\n",
            " 26  -317.87038  515344 non-null  float64\n",
            " 27  95.86266    515344 non-null  float64\n",
            " 28  48.10259    515344 non-null  float64\n",
            " 29  -95.66303   515344 non-null  float64\n",
            " 30  -18.06215   515344 non-null  float64\n",
            " 31  1.96984     515344 non-null  float64\n",
            " 32  34.42438    515344 non-null  float64\n",
            " 33  11.7267     515344 non-null  float64\n",
            " 34  1.3679      515344 non-null  float64\n",
            " 35  7.79444     515344 non-null  float64\n",
            " 36  -0.36994    515344 non-null  float64\n",
            " 37  -133.67852  515344 non-null  float64\n",
            " 38  -83.26165   515344 non-null  float64\n",
            " 39  -37.29765   515344 non-null  float64\n",
            " 40  73.04667    515344 non-null  float64\n",
            " 41  -37.36684   515344 non-null  float64\n",
            " 42  -3.13853    515344 non-null  float64\n",
            " 43  -24.21531   515344 non-null  float64\n",
            " 44  -13.23066   515344 non-null  float64\n",
            " 45  15.93809    515344 non-null  float64\n",
            " 46  -18.60478   515344 non-null  float64\n",
            " 47  82.15479    515344 non-null  float64\n",
            " 48  240.5798    515344 non-null  float64\n",
            " 49  -10.29407   515344 non-null  float64\n",
            " 50  31.58431    515344 non-null  float64\n",
            " 51  -25.38187   515344 non-null  float64\n",
            " 52  -3.90772    515344 non-null  float64\n",
            " 53  13.29258    515344 non-null  float64\n",
            " 54  41.5506     515344 non-null  float64\n",
            " 55  -7.26272    515344 non-null  float64\n",
            " 56  -21.00863   515344 non-null  float64\n",
            " 57  105.50848   515344 non-null  float64\n",
            " 58  64.29856    515344 non-null  float64\n",
            " 59  26.08481    515344 non-null  float64\n",
            " 60  -44.5911    515344 non-null  float64\n",
            " 61  -8.30657    515344 non-null  float64\n",
            " 62  7.93706     515344 non-null  float64\n",
            " 63  -10.7366    515344 non-null  float64\n",
            " 64  -95.44766   515344 non-null  float64\n",
            " 65  -82.03307   515344 non-null  float64\n",
            " 66  -35.59194   515344 non-null  float64\n",
            " 67  4.69525     515344 non-null  float64\n",
            " 68  70.95626    515344 non-null  float64\n",
            " 69  28.09139    515344 non-null  float64\n",
            " 70  6.02015     515344 non-null  float64\n",
            " 71  -37.13767   515344 non-null  float64\n",
            " 72  -41.1245    515344 non-null  float64\n",
            " 73  -8.40816    515344 non-null  float64\n",
            " 74  7.19877     515344 non-null  float64\n",
            " 75  -8.60176    515344 non-null  float64\n",
            " 76  -5.90857    515344 non-null  float64\n",
            " 77  -12.32437   515344 non-null  float64\n",
            " 78  14.68734    515344 non-null  float64\n",
            " 79  -54.32125   515344 non-null  float64\n",
            " 80  40.14786    515344 non-null  float64\n",
            " 81  13.0162     515344 non-null  float64\n",
            " 82  -54.40548   515344 non-null  float64\n",
            " 83  58.99367    515344 non-null  float64\n",
            " 84  15.37344    515344 non-null  float64\n",
            " 85  1.11144     515344 non-null  float64\n",
            " 86  -23.08793   515344 non-null  float64\n",
            " 87  68.40795    515344 non-null  float64\n",
            " 88  -1.82223    515344 non-null  float64\n",
            " 89  -27.46348   515344 non-null  float64\n",
            " 90  2.26327     515344 non-null  float64\n",
            "dtypes: float64(90), int64(1)\n",
            "memory usage: 357.8 MB\n",
            "None\n"
          ]
        }
      ]
    },
    {
      "cell_type": "markdown",
      "source": [
        "Ada 91 kolom, 1 kolom integer dan 90 kolom float. Target output adalah kolom ke 0 yaitu 2001."
      ],
      "metadata": {
        "id": "fZaUoHrhOc1s"
      }
    },
    {
      "cell_type": "code",
      "source": [
        "print(df.describe())\n",
        "print(df.columns)\n",
        "print(df.dtypes)\n",
        "print(df.shape)"
      ],
      "metadata": {
        "colab": {
          "base_uri": "https://localhost:8080/"
        },
        "collapsed": true,
        "id": "C_e7fr1LOSsk",
        "outputId": "5847b082-10f4-4755-c0bc-53a78cfe1519"
      },
      "execution_count": null,
      "outputs": [
        {
          "output_type": "stream",
          "name": "stdout",
          "text": [
            "                2001       49.94357       21.47114        73.0775  \\\n",
            "count  515344.000000  515344.000000  515344.000000  515344.000000   \n",
            "mean     1998.397077      43.387113       1.289515       8.658222   \n",
            "std        10.931056       6.067557      51.580393      35.268505   \n",
            "min      1922.000000       1.749000    -337.092500    -301.005060   \n",
            "25%      1994.000000      39.954667     -26.059848     -11.462775   \n",
            "50%      2002.000000      44.258490       8.417725      10.476235   \n",
            "75%      2006.000000      47.833875      36.124030      29.764685   \n",
            "max      2011.000000      61.970140     384.065730     322.851430   \n",
            "\n",
            "             8.74861      -17.40628      -13.09905      -25.01202  \\\n",
            "count  515344.000000  515344.000000  515344.000000  515344.000000   \n",
            "mean        1.164110      -6.553580      -9.521968      -2.391046   \n",
            "std        16.322802      22.860803      12.857763      14.571853   \n",
            "min      -154.183580    -181.953370     -81.794290    -188.214000   \n",
            "25%        -8.487507     -20.666455     -18.441005     -10.780360   \n",
            "50%        -0.652855      -6.007770     -11.188355      -2.046625   \n",
            "75%         8.787548       7.741877      -2.388945       6.508587   \n",
            "max       335.771820     262.068870     166.236890     172.402680   \n",
            "\n",
            "           -12.23257        7.83089  ...        13.0162      -54.40548  \\\n",
            "count  515344.000000  515344.000000  ...  515344.000000  515344.000000   \n",
            "mean       -1.793215       3.727868  ...      15.755411     -73.461537   \n",
            "std         7.963822      10.582869  ...      32.099666     175.619058   \n",
            "min       -72.503850    -126.479040  ...    -437.722030   -4402.376440   \n",
            "25%        -6.468390      -2.293670  ...      -1.812658    -139.555737   \n",
            "50%        -1.736415       3.822305  ...       9.171850     -53.089115   \n",
            "75%         2.913455       9.961865  ...      26.274487      13.478793   \n",
            "max       126.741270     146.297950  ...     840.973380    4469.454870   \n",
            "\n",
            "            58.99367       15.37344        1.11144      -23.08793  \\\n",
            "count  515344.000000  515344.000000  515344.000000  515344.000000   \n",
            "mean       41.542388      37.934163       0.315750      17.669292   \n",
            "std       122.228915      95.050718      16.161780     114.428002   \n",
            "min     -1810.689190   -3098.350310    -341.789120   -3168.924570   \n",
            "25%       -20.987115      -4.669655      -6.781598     -31.580617   \n",
            "50%        28.790580      33.623815       0.820830      15.598520   \n",
            "75%        89.661785      77.785810       8.471000      67.795110   \n",
            "max      3210.701700    1734.079690     260.544900    3662.065650   \n",
            "\n",
            "            68.40795       -1.82223      -27.46348        2.26327  \n",
            "count  515344.000000  515344.000000  515344.000000  515344.000000  \n",
            "mean      -26.315520       4.458653      20.035229       1.329104  \n",
            "std       173.977455      13.346567     185.558415      22.088598  \n",
            "min     -4319.992320    -236.039260   -7458.378150    -381.424430  \n",
            "25%      -101.530305      -2.566137     -59.509453      -8.820248  \n",
            "50%       -21.204225       3.117645       7.759910       0.053015  \n",
            "75%        52.389322       9.967742      86.351645       9.679540  \n",
            "max      2833.608950     463.419500    7393.398440     677.899630  \n",
            "\n",
            "[8 rows x 91 columns]\n",
            "Index(['2001', '49.94357', '21.47114', '73.0775', '8.74861', '-17.40628',\n",
            "       '-13.09905', '-25.01202', '-12.23257', '7.83089', '-2.46783', '3.32136',\n",
            "       '-2.31521', '10.20556', '611.10913', '951.0896', '698.11428',\n",
            "       '408.98485', '383.70912', '326.51512', '238.11327', '251.42414',\n",
            "       '187.17351', '100.42652', '179.19498', '-8.41558', '-317.87038',\n",
            "       '95.86266', '48.10259', '-95.66303', '-18.06215', '1.96984', '34.42438',\n",
            "       '11.7267', '1.3679', '7.79444', '-0.36994', '-133.67852', '-83.26165',\n",
            "       '-37.29765', '73.04667', '-37.36684', '-3.13853', '-24.21531',\n",
            "       '-13.23066', '15.93809', '-18.60478', '82.15479', '240.5798',\n",
            "       '-10.29407', '31.58431', '-25.38187', '-3.90772', '13.29258', '41.5506',\n",
            "       '-7.26272', '-21.00863', '105.50848', '64.29856', '26.08481',\n",
            "       '-44.5911', '-8.30657', '7.93706', '-10.7366', '-95.44766', '-82.03307',\n",
            "       '-35.59194', '4.69525', '70.95626', '28.09139', '6.02015', '-37.13767',\n",
            "       '-41.1245', '-8.40816', '7.19877', '-8.60176', '-5.90857', '-12.32437',\n",
            "       '14.68734', '-54.32125', '40.14786', '13.0162', '-54.40548', '58.99367',\n",
            "       '15.37344', '1.11144', '-23.08793', '68.40795', '-1.82223', '-27.46348',\n",
            "       '2.26327'],\n",
            "      dtype='object')\n",
            "2001           int64\n",
            "49.94357     float64\n",
            "21.47114     float64\n",
            "73.0775      float64\n",
            "8.74861      float64\n",
            "              ...   \n",
            "-23.08793    float64\n",
            "68.40795     float64\n",
            "-1.82223     float64\n",
            "-27.46348    float64\n",
            "2.26327      float64\n",
            "Length: 91, dtype: object\n",
            "(515344, 91)\n"
          ]
        }
      ]
    },
    {
      "cell_type": "code",
      "source": [
        "print(df.iloc[:, -1].nunique())\n",
        "print(df.iloc[:, -1].describe())"
      ],
      "metadata": {
        "colab": {
          "base_uri": "https://localhost:8080/"
        },
        "collapsed": true,
        "id": "LvFeQTHmOyNj",
        "outputId": "a31bf691-ef5a-461a-a2d0-136c43757b38"
      },
      "execution_count": null,
      "outputs": [
        {
          "output_type": "stream",
          "name": "stdout",
          "text": [
            "491622\n",
            "count    515344.000000\n",
            "mean          1.329104\n",
            "std          22.088598\n",
            "min        -381.424430\n",
            "25%          -8.820248\n",
            "50%           0.053015\n",
            "75%           9.679540\n",
            "max         677.899630\n",
            "Name: 2.26327, dtype: float64\n"
          ]
        }
      ]
    },
    {
      "cell_type": "markdown",
      "source": [
        "Count lebih dari 10 artinya kemungkinan besar ini adalah dataset regresi."
      ],
      "metadata": {
        "id": "a_priiQ9O31g"
      }
    },
    {
      "cell_type": "markdown",
      "source": [
        "## Penamaan Kolom\n",
        "Karena baris pertama adalah langsung angka (int dan float) dan baris pertama dianggap sebagai data. Sehingga perlu penamaan kolom. Target adalah kolom ke-0 (int64) sehingga kolom ke-0 adalah y, kolom selanjutnya adalah x1,x2,x3,...,x90."
      ],
      "metadata": {
        "id": "G0fYa_vlSr_1"
      }
    },
    {
      "cell_type": "code",
      "source": [
        "# Load tanpa header\n",
        "df = pd.read_csv(\"RegresiUTSTelkom.csv\", header=None)\n",
        "\n",
        "# # Buat daftar nama kolom: kolom pertama 'y', sisanya 'x1' sampai 'x90'\n",
        "# new_columns = ['y'] + [f'x{i}' for i in range(1, df.shape[1])]\n",
        "# df.columns = new_columns\n",
        "\n",
        "# # Simpan dataframe ke file baru\n",
        "# df.to_csv('RegresiUTSTelkom_renamed.csv', index=False)\n",
        "\n",
        "# Saat rename dan simpan, pastikan data tetap numerik\n",
        "# df = pd.read_csv(\"RegresiUTSTelkom.csv\", header=None)\n",
        "df.columns = ['y'] + [f'x{i}' for i in range(1, df.shape[1])]\n",
        "\n",
        "# Konversi ke numerik\n",
        "df = df.apply(pd.to_numeric)\n",
        "\n",
        "# Simpan ulang jika memang perlu\n",
        "df.to_csv(\"RegresiUTSTelkom_column.csv\", index=False)\n",
        "\n",
        "\n",
        "# Tampilkan informasi awal\n",
        "print(df.head())\n",
        "print(df.info())"
      ],
      "metadata": {
        "colab": {
          "base_uri": "https://localhost:8080/"
        },
        "collapsed": true,
        "id": "dzILnYj0TKR3",
        "outputId": "38dc18db-90ea-45d3-bd6c-76651d4f4bde"
      },
      "execution_count": null,
      "outputs": [
        {
          "output_type": "stream",
          "name": "stdout",
          "text": [
            "      y        x1        x2        x3        x4        x5        x6        x7  \\\n",
            "0  2001  49.94357  21.47114  73.07750   8.74861 -17.40628 -13.09905 -25.01202   \n",
            "1  2001  48.73215  18.42930  70.32679  12.94636 -10.32437 -24.83777   8.76630   \n",
            "2  2001  50.95714  31.85602  55.81851  13.41693  -6.57898 -18.54940  -3.27872   \n",
            "3  2001  48.24750  -1.89837  36.29772   2.58776   0.97170 -26.21683   5.05097   \n",
            "4  2001  50.97020  42.20998  67.09964   8.46791 -15.85279 -16.81409 -12.48207   \n",
            "\n",
            "         x8        x9  ...       x81        x82       x83       x84       x85  \\\n",
            "0 -12.23257   7.83089  ...  13.01620  -54.40548  58.99367  15.37344   1.11144   \n",
            "1  -0.92019  18.76548  ...   5.66812  -19.68073  33.04964  42.87836  -9.90378   \n",
            "2  -2.35035  16.07017  ...   3.03800   26.05866 -50.92779  10.93792  -0.07568   \n",
            "3 -10.34124   3.55005  ...  34.57337 -171.70734 -16.96705 -46.67617 -12.51516   \n",
            "4  -9.37636  12.63699  ...   9.92661  -55.95724  64.92712 -17.72522  -1.49237   \n",
            "\n",
            "        x86        x87       x88        x89       x90  \n",
            "0 -23.08793   68.40795  -1.82223  -27.46348   2.26327  \n",
            "1 -32.22788   70.49388  12.04941   58.43453  26.92061  \n",
            "2  43.20130 -115.00698  -0.05859   39.67068  -0.66345  \n",
            "3  82.58061  -72.08993   9.90558  199.62971  18.85382  \n",
            "4  -7.50035   51.76631   7.88713   55.66926  28.74903  \n",
            "\n",
            "[5 rows x 91 columns]\n",
            "<class 'pandas.core.frame.DataFrame'>\n",
            "RangeIndex: 515345 entries, 0 to 515344\n",
            "Data columns (total 91 columns):\n",
            " #   Column  Non-Null Count   Dtype  \n",
            "---  ------  --------------   -----  \n",
            " 0   y       515345 non-null  int64  \n",
            " 1   x1      515345 non-null  float64\n",
            " 2   x2      515345 non-null  float64\n",
            " 3   x3      515345 non-null  float64\n",
            " 4   x4      515345 non-null  float64\n",
            " 5   x5      515345 non-null  float64\n",
            " 6   x6      515345 non-null  float64\n",
            " 7   x7      515345 non-null  float64\n",
            " 8   x8      515345 non-null  float64\n",
            " 9   x9      515345 non-null  float64\n",
            " 10  x10     515345 non-null  float64\n",
            " 11  x11     515345 non-null  float64\n",
            " 12  x12     515345 non-null  float64\n",
            " 13  x13     515345 non-null  float64\n",
            " 14  x14     515345 non-null  float64\n",
            " 15  x15     515345 non-null  float64\n",
            " 16  x16     515345 non-null  float64\n",
            " 17  x17     515345 non-null  float64\n",
            " 18  x18     515345 non-null  float64\n",
            " 19  x19     515345 non-null  float64\n",
            " 20  x20     515345 non-null  float64\n",
            " 21  x21     515345 non-null  float64\n",
            " 22  x22     515345 non-null  float64\n",
            " 23  x23     515345 non-null  float64\n",
            " 24  x24     515345 non-null  float64\n",
            " 25  x25     515345 non-null  float64\n",
            " 26  x26     515345 non-null  float64\n",
            " 27  x27     515345 non-null  float64\n",
            " 28  x28     515345 non-null  float64\n",
            " 29  x29     515345 non-null  float64\n",
            " 30  x30     515345 non-null  float64\n",
            " 31  x31     515345 non-null  float64\n",
            " 32  x32     515345 non-null  float64\n",
            " 33  x33     515345 non-null  float64\n",
            " 34  x34     515345 non-null  float64\n",
            " 35  x35     515345 non-null  float64\n",
            " 36  x36     515345 non-null  float64\n",
            " 37  x37     515345 non-null  float64\n",
            " 38  x38     515345 non-null  float64\n",
            " 39  x39     515345 non-null  float64\n",
            " 40  x40     515345 non-null  float64\n",
            " 41  x41     515345 non-null  float64\n",
            " 42  x42     515345 non-null  float64\n",
            " 43  x43     515345 non-null  float64\n",
            " 44  x44     515345 non-null  float64\n",
            " 45  x45     515345 non-null  float64\n",
            " 46  x46     515345 non-null  float64\n",
            " 47  x47     515345 non-null  float64\n",
            " 48  x48     515345 non-null  float64\n",
            " 49  x49     515345 non-null  float64\n",
            " 50  x50     515345 non-null  float64\n",
            " 51  x51     515345 non-null  float64\n",
            " 52  x52     515345 non-null  float64\n",
            " 53  x53     515345 non-null  float64\n",
            " 54  x54     515345 non-null  float64\n",
            " 55  x55     515345 non-null  float64\n",
            " 56  x56     515345 non-null  float64\n",
            " 57  x57     515345 non-null  float64\n",
            " 58  x58     515345 non-null  float64\n",
            " 59  x59     515345 non-null  float64\n",
            " 60  x60     515345 non-null  float64\n",
            " 61  x61     515345 non-null  float64\n",
            " 62  x62     515345 non-null  float64\n",
            " 63  x63     515345 non-null  float64\n",
            " 64  x64     515345 non-null  float64\n",
            " 65  x65     515345 non-null  float64\n",
            " 66  x66     515345 non-null  float64\n",
            " 67  x67     515345 non-null  float64\n",
            " 68  x68     515345 non-null  float64\n",
            " 69  x69     515345 non-null  float64\n",
            " 70  x70     515345 non-null  float64\n",
            " 71  x71     515345 non-null  float64\n",
            " 72  x72     515345 non-null  float64\n",
            " 73  x73     515345 non-null  float64\n",
            " 74  x74     515345 non-null  float64\n",
            " 75  x75     515345 non-null  float64\n",
            " 76  x76     515345 non-null  float64\n",
            " 77  x77     515345 non-null  float64\n",
            " 78  x78     515345 non-null  float64\n",
            " 79  x79     515345 non-null  float64\n",
            " 80  x80     515345 non-null  float64\n",
            " 81  x81     515345 non-null  float64\n",
            " 82  x82     515345 non-null  float64\n",
            " 83  x83     515345 non-null  float64\n",
            " 84  x84     515345 non-null  float64\n",
            " 85  x85     515345 non-null  float64\n",
            " 86  x86     515345 non-null  float64\n",
            " 87  x87     515345 non-null  float64\n",
            " 88  x88     515345 non-null  float64\n",
            " 89  x89     515345 non-null  float64\n",
            " 90  x90     515345 non-null  float64\n",
            "dtypes: float64(90), int64(1)\n",
            "memory usage: 357.8 MB\n",
            "None\n"
          ]
        }
      ]
    },
    {
      "cell_type": "markdown",
      "source": [
        "# Pembersihan Data"
      ],
      "metadata": {
        "id": "dIuULrLQVUL0"
      }
    },
    {
      "cell_type": "code",
      "source": [
        "# ==== 1. Cek & Tindak Missing Values ====\n",
        "missing = df.isnull().sum()\n",
        "print(\"Missing values per kolom:\\n\", missing[missing > 0])"
      ],
      "metadata": {
        "colab": {
          "base_uri": "https://localhost:8080/"
        },
        "id": "EB4YVM_zVWo6",
        "outputId": "26b2bd8c-1940-49d8-c176-f7082e07469c"
      },
      "execution_count": null,
      "outputs": [
        {
          "output_type": "stream",
          "name": "stdout",
          "text": [
            "Missing values per kolom:\n",
            " Series([], dtype: int64)\n"
          ]
        }
      ]
    },
    {
      "cell_type": "code",
      "source": [
        "# ==== 2. Cek & Drop Duplikat ====\n",
        "num_duplicates = df.duplicated().sum()\n",
        "print(f\"Jumlah baris duplikat: {num_duplicates}\")\n",
        "\n",
        "# Drop jika ada\n",
        "df_clean = df.drop_duplicates()"
      ],
      "metadata": {
        "colab": {
          "base_uri": "https://localhost:8080/"
        },
        "id": "FbhA2EcGWeTl",
        "outputId": "dcf6f914-effc-4590-e391-ca30201b2751"
      },
      "execution_count": null,
      "outputs": [
        {
          "output_type": "stream",
          "name": "stdout",
          "text": [
            "Jumlah baris duplikat: 214\n"
          ]
        }
      ]
    },
    {
      "cell_type": "code",
      "source": [
        "# ==== 3. Cek Statistik Deskriptif ====\n",
        "print(\"Statistik deskriptif:\\n\", df_clean.describe())\n",
        "\n",
        "# (Opsional) Bisa cek outlier lebih lanjut dengan visualisasi kalau perlu"
      ],
      "metadata": {
        "colab": {
          "base_uri": "https://localhost:8080/"
        },
        "collapsed": true,
        "id": "v1PnEhOuWhc7",
        "outputId": "39e5110a-24c6-4700-fd6d-3fe10290001a"
      },
      "execution_count": null,
      "outputs": [
        {
          "output_type": "stream",
          "name": "stdout",
          "text": [
            "Statistik deskriptif:\n",
            "                    y             x1             x2             x3  \\\n",
            "count  515131.000000  515131.000000  515131.000000  515131.000000   \n",
            "mean     1998.396305      43.386256       1.284492       8.658990   \n",
            "std        10.931629       6.067919      51.583777      35.270878   \n",
            "min      1922.000000       1.749000    -337.092500    -301.005060   \n",
            "25%      1994.000000      39.953445     -26.065525     -11.463075   \n",
            "50%      2002.000000      44.257110       8.412730      10.476920   \n",
            "75%      2006.000000      47.833585      36.121250      29.766765   \n",
            "max      2011.000000      61.970140     384.065730     322.851430   \n",
            "\n",
            "                  x4             x5             x6             x7  \\\n",
            "count  515131.000000  515131.000000  515131.000000  515131.000000   \n",
            "mean        1.164409      -6.553842      -9.521530      -2.391088   \n",
            "std        16.322505      22.861809      12.858254      14.572858   \n",
            "min      -154.183580    -181.953370     -81.794290    -188.214000   \n",
            "25%        -8.487180     -20.667005     -18.441180     -10.780440   \n",
            "50%        -0.651980      -6.007550     -11.187910      -2.047050   \n",
            "75%         8.788535       7.741360      -2.387245       6.508695   \n",
            "max       335.771820     262.068870     166.236890     172.402680   \n",
            "\n",
            "                  x8             x9  ...            x81            x82  \\\n",
            "count  515131.000000  515131.000000  ...  515131.000000  515131.000000   \n",
            "mean       -1.793186       3.727756  ...      15.756099     -73.458158   \n",
            "std         7.964293      10.583754  ...      32.100741     175.616714   \n",
            "min       -72.503850    -126.479040  ...    -437.722030   -4402.376440   \n",
            "25%        -6.469045      -2.294025  ...      -1.813065    -139.546640   \n",
            "50%        -1.736500       3.822310  ...       9.171650     -53.085700   \n",
            "75%         2.913955       9.962115  ...      26.277375      13.482775   \n",
            "max       126.741270     146.297950  ...     840.973380    4469.454870   \n",
            "\n",
            "                 x83            x84            x85            x86  \\\n",
            "count  515131.000000  515131.000000  515131.000000  515131.000000   \n",
            "mean       41.546005      37.934264       0.314493      17.674931   \n",
            "std       122.230535      95.053317      16.161913     114.421265   \n",
            "min     -1810.689190   -3098.350310    -341.789120   -3168.924570   \n",
            "25%       -20.987955      -4.669770      -6.782660     -31.578505   \n",
            "50%        28.791170      33.622350       0.819830      15.597250   \n",
            "75%        89.665675      77.785405       8.470055      67.794090   \n",
            "max      3210.701700    1734.079690     260.544900    3662.065650   \n",
            "\n",
            "                 x87            x88            x89            x90  \n",
            "count  515131.000000  515131.000000  515131.000000  515131.000000  \n",
            "mean      -26.320555       4.459220      20.034612       1.329615  \n",
            "std       173.989719      13.346678     185.569849      22.089477  \n",
            "min     -4319.992320    -236.039260   -7458.378150    -381.424430  \n",
            "25%      -101.533615      -2.565140     -59.508340      -8.819540  \n",
            "50%       -21.214450       3.118170       7.763930       0.053340  \n",
            "75%        52.380685       9.968190      86.351680       9.681015  \n",
            "max      2833.608950     463.419500    7393.398440     677.899630  \n",
            "\n",
            "[8 rows x 91 columns]\n"
          ]
        }
      ]
    },
    {
      "cell_type": "code",
      "source": [
        "# ==== 4. Pastikan Semua Kolom Numerik ====\n",
        "print(\"\\nTipe data kolom:\\n\", df_clean.dtypes.value_counts())"
      ],
      "metadata": {
        "colab": {
          "base_uri": "https://localhost:8080/"
        },
        "id": "nHUrWjufWjW0",
        "outputId": "f46cd380-3512-45da-ac96-33e0fd7444be",
        "collapsed": true
      },
      "execution_count": null,
      "outputs": [
        {
          "output_type": "stream",
          "name": "stdout",
          "text": [
            "\n",
            "Tipe data kolom:\n",
            " float64    90\n",
            "int64       1\n",
            "Name: count, dtype: int64\n"
          ]
        }
      ]
    },
    {
      "cell_type": "code",
      "source": [
        "# ==== 5. Reset Index ====\n",
        "df_clean = df_clean.reset_index(drop=True)"
      ],
      "metadata": {
        "id": "_i4_LvhOWlIg"
      },
      "execution_count": null,
      "outputs": []
    },
    {
      "cell_type": "code",
      "source": [
        "# ==== Final: Info ringkasan ====\n",
        "print(\"\\nData setelah pembersihan:\")\n",
        "print(df_clean.info())\n",
        "print(df_clean.head())"
      ],
      "metadata": {
        "colab": {
          "base_uri": "https://localhost:8080/"
        },
        "collapsed": true,
        "id": "cn23FdbBWmhP",
        "outputId": "44423a32-21eb-48c6-ba46-a7c5711b775b"
      },
      "execution_count": null,
      "outputs": [
        {
          "output_type": "stream",
          "name": "stdout",
          "text": [
            "\n",
            "Data setelah pembersihan:\n",
            "<class 'pandas.core.frame.DataFrame'>\n",
            "RangeIndex: 515131 entries, 0 to 515130\n",
            "Data columns (total 91 columns):\n",
            " #   Column  Non-Null Count   Dtype  \n",
            "---  ------  --------------   -----  \n",
            " 0   y       515131 non-null  int64  \n",
            " 1   x1      515131 non-null  float64\n",
            " 2   x2      515131 non-null  float64\n",
            " 3   x3      515131 non-null  float64\n",
            " 4   x4      515131 non-null  float64\n",
            " 5   x5      515131 non-null  float64\n",
            " 6   x6      515131 non-null  float64\n",
            " 7   x7      515131 non-null  float64\n",
            " 8   x8      515131 non-null  float64\n",
            " 9   x9      515131 non-null  float64\n",
            " 10  x10     515131 non-null  float64\n",
            " 11  x11     515131 non-null  float64\n",
            " 12  x12     515131 non-null  float64\n",
            " 13  x13     515131 non-null  float64\n",
            " 14  x14     515131 non-null  float64\n",
            " 15  x15     515131 non-null  float64\n",
            " 16  x16     515131 non-null  float64\n",
            " 17  x17     515131 non-null  float64\n",
            " 18  x18     515131 non-null  float64\n",
            " 19  x19     515131 non-null  float64\n",
            " 20  x20     515131 non-null  float64\n",
            " 21  x21     515131 non-null  float64\n",
            " 22  x22     515131 non-null  float64\n",
            " 23  x23     515131 non-null  float64\n",
            " 24  x24     515131 non-null  float64\n",
            " 25  x25     515131 non-null  float64\n",
            " 26  x26     515131 non-null  float64\n",
            " 27  x27     515131 non-null  float64\n",
            " 28  x28     515131 non-null  float64\n",
            " 29  x29     515131 non-null  float64\n",
            " 30  x30     515131 non-null  float64\n",
            " 31  x31     515131 non-null  float64\n",
            " 32  x32     515131 non-null  float64\n",
            " 33  x33     515131 non-null  float64\n",
            " 34  x34     515131 non-null  float64\n",
            " 35  x35     515131 non-null  float64\n",
            " 36  x36     515131 non-null  float64\n",
            " 37  x37     515131 non-null  float64\n",
            " 38  x38     515131 non-null  float64\n",
            " 39  x39     515131 non-null  float64\n",
            " 40  x40     515131 non-null  float64\n",
            " 41  x41     515131 non-null  float64\n",
            " 42  x42     515131 non-null  float64\n",
            " 43  x43     515131 non-null  float64\n",
            " 44  x44     515131 non-null  float64\n",
            " 45  x45     515131 non-null  float64\n",
            " 46  x46     515131 non-null  float64\n",
            " 47  x47     515131 non-null  float64\n",
            " 48  x48     515131 non-null  float64\n",
            " 49  x49     515131 non-null  float64\n",
            " 50  x50     515131 non-null  float64\n",
            " 51  x51     515131 non-null  float64\n",
            " 52  x52     515131 non-null  float64\n",
            " 53  x53     515131 non-null  float64\n",
            " 54  x54     515131 non-null  float64\n",
            " 55  x55     515131 non-null  float64\n",
            " 56  x56     515131 non-null  float64\n",
            " 57  x57     515131 non-null  float64\n",
            " 58  x58     515131 non-null  float64\n",
            " 59  x59     515131 non-null  float64\n",
            " 60  x60     515131 non-null  float64\n",
            " 61  x61     515131 non-null  float64\n",
            " 62  x62     515131 non-null  float64\n",
            " 63  x63     515131 non-null  float64\n",
            " 64  x64     515131 non-null  float64\n",
            " 65  x65     515131 non-null  float64\n",
            " 66  x66     515131 non-null  float64\n",
            " 67  x67     515131 non-null  float64\n",
            " 68  x68     515131 non-null  float64\n",
            " 69  x69     515131 non-null  float64\n",
            " 70  x70     515131 non-null  float64\n",
            " 71  x71     515131 non-null  float64\n",
            " 72  x72     515131 non-null  float64\n",
            " 73  x73     515131 non-null  float64\n",
            " 74  x74     515131 non-null  float64\n",
            " 75  x75     515131 non-null  float64\n",
            " 76  x76     515131 non-null  float64\n",
            " 77  x77     515131 non-null  float64\n",
            " 78  x78     515131 non-null  float64\n",
            " 79  x79     515131 non-null  float64\n",
            " 80  x80     515131 non-null  float64\n",
            " 81  x81     515131 non-null  float64\n",
            " 82  x82     515131 non-null  float64\n",
            " 83  x83     515131 non-null  float64\n",
            " 84  x84     515131 non-null  float64\n",
            " 85  x85     515131 non-null  float64\n",
            " 86  x86     515131 non-null  float64\n",
            " 87  x87     515131 non-null  float64\n",
            " 88  x88     515131 non-null  float64\n",
            " 89  x89     515131 non-null  float64\n",
            " 90  x90     515131 non-null  float64\n",
            "dtypes: float64(90), int64(1)\n",
            "memory usage: 357.6 MB\n",
            "None\n",
            "      y        x1        x2        x3        x4        x5        x6        x7  \\\n",
            "0  2001  49.94357  21.47114  73.07750   8.74861 -17.40628 -13.09905 -25.01202   \n",
            "1  2001  48.73215  18.42930  70.32679  12.94636 -10.32437 -24.83777   8.76630   \n",
            "2  2001  50.95714  31.85602  55.81851  13.41693  -6.57898 -18.54940  -3.27872   \n",
            "3  2001  48.24750  -1.89837  36.29772   2.58776   0.97170 -26.21683   5.05097   \n",
            "4  2001  50.97020  42.20998  67.09964   8.46791 -15.85279 -16.81409 -12.48207   \n",
            "\n",
            "         x8        x9  ...       x81        x82       x83       x84       x85  \\\n",
            "0 -12.23257   7.83089  ...  13.01620  -54.40548  58.99367  15.37344   1.11144   \n",
            "1  -0.92019  18.76548  ...   5.66812  -19.68073  33.04964  42.87836  -9.90378   \n",
            "2  -2.35035  16.07017  ...   3.03800   26.05866 -50.92779  10.93792  -0.07568   \n",
            "3 -10.34124   3.55005  ...  34.57337 -171.70734 -16.96705 -46.67617 -12.51516   \n",
            "4  -9.37636  12.63699  ...   9.92661  -55.95724  64.92712 -17.72522  -1.49237   \n",
            "\n",
            "        x86        x87       x88        x89       x90  \n",
            "0 -23.08793   68.40795  -1.82223  -27.46348   2.26327  \n",
            "1 -32.22788   70.49388  12.04941   58.43453  26.92061  \n",
            "2  43.20130 -115.00698  -0.05859   39.67068  -0.66345  \n",
            "3  82.58061  -72.08993   9.90558  199.62971  18.85382  \n",
            "4  -7.50035   51.76631   7.88713   55.66926  28.74903  \n",
            "\n",
            "[5 rows x 91 columns]\n"
          ]
        }
      ]
    },
    {
      "cell_type": "markdown",
      "source": [
        "# Feature Engineering"
      ],
      "metadata": {
        "id": "x2i1tfz6X1ib"
      }
    },
    {
      "cell_type": "markdown",
      "source": [
        "### Cek apakah semua fitur numerik kontinu"
      ],
      "metadata": {
        "id": "q2yZbm3hdQJ_"
      }
    },
    {
      "cell_type": "code",
      "source": [
        "# Cek tipe data setiap kolom\n",
        "print(df.dtypes.value_counts())\n",
        "\n",
        "# Alternatif: Tampilkan kolom non-numerik (jika ada)\n",
        "non_numeric_cols = df.select_dtypes(exclude=['float64', 'int64']).columns\n",
        "print(\"Kolom non-numerik:\", non_numeric_cols.tolist())"
      ],
      "metadata": {
        "colab": {
          "base_uri": "https://localhost:8080/"
        },
        "id": "-KBEVZRAd1mU",
        "outputId": "1c1452e1-d822-49cd-8e7c-4e4aaa7ac736"
      },
      "execution_count": null,
      "outputs": [
        {
          "output_type": "stream",
          "name": "stdout",
          "text": [
            "float64    90\n",
            "int64       1\n",
            "Name: count, dtype: int64\n",
            "Kolom non-numerik: []\n"
          ]
        }
      ]
    },
    {
      "cell_type": "markdown",
      "source": [
        "### Cek apakah ada fitur kategorikal"
      ],
      "metadata": {
        "id": "lhnAbbS9hwUa"
      }
    },
    {
      "cell_type": "code",
      "source": [
        "low_cardinality_cols = [col for col in df.columns if df[col].nunique() <= 10]\n",
        "if low_cardinality_cols:\n",
        "    for col in low_cardinality_cols:\n",
        "        print(f\"{col}: {df[col].unique()}\")\n",
        "else:\n",
        "    print(\"Tidak ada fitur dengan ≤10 nilai unik (indikasi kategorikal).\")"
      ],
      "metadata": {
        "colab": {
          "base_uri": "https://localhost:8080/"
        },
        "id": "SmCSPxlMhTZe",
        "outputId": "8f93910b-2410-47cc-b968-ce71d1f27ee5"
      },
      "execution_count": null,
      "outputs": [
        {
          "output_type": "stream",
          "name": "stdout",
          "text": [
            "Tidak ada fitur dengan ≤10 nilai unik (indikasi kategorikal).\n"
          ]
        }
      ]
    },
    {
      "cell_type": "markdown",
      "source": [
        "### Cek apakah distribusi fitur sangat skewed"
      ],
      "metadata": {
        "id": "lCg2HgQ0h46W"
      }
    },
    {
      "cell_type": "code",
      "source": [
        "# Cek skewness semua fitur numerik (nilai > 1 atau < -1 menandakan skew kuat)\n",
        "from scipy.stats import skew\n",
        "\n",
        "skew_vals = df.drop(columns='y').apply(skew)\n",
        "skewed_cols = skew_vals[abs(skew_vals) > 1].sort_values(ascending=False)\n",
        "print(\"Fitur sangat skewed:\\n\", skewed_cols)\n",
        "\n",
        "# Visualisasi histogram salah satu fitur\n",
        "import matplotlib.pyplot as plt\n",
        "df['x5'].hist(bins=50)\n",
        "plt.title(\"Distribusi x5\")\n",
        "plt.show()"
      ],
      "metadata": {
        "colab": {
          "base_uri": "https://localhost:8080/",
          "height": 1000
        },
        "id": "kpfffwmYh6Hu",
        "outputId": "b47734a9-ab58-4ac4-8250-4dfa83d14f30",
        "collapsed": true
      },
      "execution_count": null,
      "outputs": [
        {
          "output_type": "stream",
          "name": "stdout",
          "text": [
            "Fitur sangat skewed:\n",
            " x58    4.509807\n",
            "x34    4.233738\n",
            "x24    4.171220\n",
            "x16    3.450543\n",
            "x21    3.282874\n",
            "x23    3.139358\n",
            "x17    3.102154\n",
            "x69    3.081385\n",
            "x14    2.926473\n",
            "x68    2.895688\n",
            "x19    2.687211\n",
            "x20    2.669191\n",
            "x18    2.248178\n",
            "x15    2.222584\n",
            "x81    2.187243\n",
            "x26    2.135953\n",
            "x13    2.053491\n",
            "x22    1.997404\n",
            "x61    1.958418\n",
            "x83    1.690427\n",
            "x57    1.672817\n",
            "x56    1.600029\n",
            "x48    1.453628\n",
            "x37    1.446714\n",
            "x60    1.412085\n",
            "x30    1.389509\n",
            "x88    1.362509\n",
            "x89    1.349326\n",
            "x59    1.318737\n",
            "x33    1.317340\n",
            "x77    1.296904\n",
            "x36    1.208684\n",
            "x90    1.140811\n",
            "x52    1.015764\n",
            "x80   -1.002495\n",
            "x47   -1.100409\n",
            "x65   -1.211125\n",
            "x82   -1.365409\n",
            "x76   -1.600166\n",
            "x71   -2.069087\n",
            "x42   -2.167234\n",
            "x55   -2.249674\n",
            "x49   -2.384000\n",
            "x39   -2.454590\n",
            "x43   -3.272467\n",
            "x73   -3.477564\n",
            "x79   -4.338769\n",
            "dtype: float64\n"
          ]
        },
        {
          "output_type": "display_data",
          "data": {
            "text/plain": [
              "<Figure size 640x480 with 1 Axes>"
            ],
            "image/png": "[encoded data removed]"
          },
          "metadata": {}
        }
      ]
    },
    {
      "cell_type": "markdown",
      "source": [
        "### Cek apakah ada fitur dengan korelasi sangat tinggi"
      ],
      "metadata": {
        "id": "QQkBjjM9ia78"
      }
    },
    {
      "cell_type": "code",
      "source": [
        "# Menghitung korelasi antara setiap fitur x dan y\n",
        "correlations = df.corr()\n",
        "\n",
        "# Ambil hanya korelasi antara x1-x90 dan y\n",
        "correlation_y = correlations['y'].drop('y')  # Mengambil korelasi kolom 'y' dengan semua x\n",
        "\n",
        "# Menampilkan korelasi yang signifikan\n",
        "print(correlation_y.sort_values(ascending=False))\n",
        "\n",
        "# Menampilkan korelasi dalam batch\n",
        "batch_size = 15\n",
        "correlation_y_sorted = correlation_y.sort_values(ascending=False)\n",
        "\n",
        "# Membagi output dalam batch\n",
        "for i in range(0, len(correlation_y_sorted), batch_size):\n",
        "    print(correlation_y_sorted[i:i + batch_size])\n",
        "    print(\"\\n--- End of Batch ---\\n\")"
      ],
      "metadata": {
        "colab": {
          "base_uri": "https://localhost:8080/"
        },
        "collapsed": true,
        "id": "Jjz8VhXZiZFg",
        "outputId": "053674f6-a8bf-46cc-c684-006cca001152"
      },
      "execution_count": null,
      "outputs": [
        {
          "output_type": "stream",
          "name": "stdout",
          "text": [
            "x1     0.225374\n",
            "x7     0.110460\n",
            "x47    0.096088\n",
            "x20    0.087057\n",
            "x73    0.083755\n",
            "         ...   \n",
            "x67   -0.102841\n",
            "x40   -0.123974\n",
            "x63   -0.126348\n",
            "x3    -0.139541\n",
            "x6    -0.187443\n",
            "Name: y, Length: 90, dtype: float64\n",
            "x1     0.225374\n",
            "x7     0.110460\n",
            "x47    0.096088\n",
            "x20    0.087057\n",
            "x73    0.083755\n",
            "x74    0.081748\n",
            "x68    0.081341\n",
            "x14    0.078700\n",
            "x38    0.074424\n",
            "x53    0.074052\n",
            "x29    0.073327\n",
            "x39    0.070340\n",
            "x25    0.064713\n",
            "x85    0.059477\n",
            "x22    0.049736\n",
            "Name: y, dtype: float64\n",
            "\n",
            "--- End of Batch ---\n",
            "\n",
            "x70    0.047042\n",
            "x23    0.046367\n",
            "x34    0.043047\n",
            "x10    0.033180\n",
            "x16    0.032829\n",
            "x79    0.031392\n",
            "x17    0.030661\n",
            "x11    0.030514\n",
            "x75    0.028523\n",
            "x84    0.027610\n",
            "x32    0.027000\n",
            "x51    0.026813\n",
            "x87    0.024589\n",
            "x13    0.023284\n",
            "x18    0.021965\n",
            "Name: y, dtype: float64\n",
            "\n",
            "--- End of Batch ---\n",
            "\n",
            "x2     0.021402\n",
            "x5     0.019338\n",
            "x30    0.017851\n",
            "x42    0.014305\n",
            "x83    0.014041\n",
            "x44    0.013015\n",
            "x76    0.012845\n",
            "x45    0.012700\n",
            "x55    0.011095\n",
            "x28    0.008784\n",
            "x89    0.008380\n",
            "x56    0.007192\n",
            "x82    0.002492\n",
            "x64    0.000396\n",
            "x43   -0.000375\n",
            "Name: y, dtype: float64\n",
            "\n",
            "--- End of Batch ---\n",
            "\n",
            "x4    -0.003286\n",
            "x19   -0.004512\n",
            "x80   -0.004890\n",
            "x58   -0.004997\n",
            "x71   -0.006024\n",
            "x15   -0.007229\n",
            "x77   -0.014098\n",
            "x26   -0.018139\n",
            "x27   -0.023177\n",
            "x9    -0.024796\n",
            "x61   -0.024851\n",
            "x49   -0.032362\n",
            "x8    -0.034977\n",
            "x88   -0.037432\n",
            "x65   -0.039029\n",
            "Name: y, dtype: float64\n",
            "\n",
            "--- End of Batch ---\n",
            "\n",
            "x81   -0.040069\n",
            "x37   -0.041284\n",
            "x62   -0.043649\n",
            "x35   -0.043967\n",
            "x48   -0.046842\n",
            "x54   -0.047616\n",
            "x52   -0.053082\n",
            "x86   -0.053548\n",
            "x66   -0.054410\n",
            "x90   -0.056485\n",
            "x21   -0.056664\n",
            "x24   -0.058200\n",
            "x41   -0.060818\n",
            "x50   -0.062925\n",
            "x60   -0.067164\n",
            "Name: y, dtype: float64\n",
            "\n",
            "--- End of Batch ---\n",
            "\n",
            "x72   -0.068272\n",
            "x31   -0.073928\n",
            "x78   -0.087386\n",
            "x33   -0.091186\n",
            "x59   -0.092747\n",
            "x57   -0.096973\n",
            "x12   -0.097164\n",
            "x69   -0.099484\n",
            "x36   -0.101007\n",
            "x46   -0.101324\n",
            "x67   -0.102841\n",
            "x40   -0.123974\n",
            "x63   -0.126348\n",
            "x3    -0.139541\n",
            "x6    -0.187443\n",
            "Name: y, dtype: float64\n",
            "\n",
            "--- End of Batch ---\n",
            "\n"
          ]
        }
      ]
    },
    {
      "cell_type": "code",
      "source": [
        "import matplotlib.pyplot as plt\n",
        "import seaborn as sns\n",
        "\n",
        "# Fungsi untuk plot korelasi setiap batch\n",
        "def plot_correlation_batch(correlation_batch, batch_num):\n",
        "    plt.figure(figsize=(10, 6))\n",
        "    sns.barplot(x=correlation_batch.index, y=correlation_batch.values)\n",
        "    plt.title(f'Korelasi Fitur Terhadap Target y (Batch {batch_num})')\n",
        "    plt.xlabel('Fitur')\n",
        "    plt.ylabel('Korelasi')\n",
        "    plt.xticks(rotation=90)\n",
        "    plt.tight_layout()\n",
        "    plt.show()\n",
        "\n",
        "# Pembagian batch (sesuai panjang data)\n",
        "batch_size = 15\n",
        "correlation_vals = df.drop(columns='y').apply(lambda x: x.corr(df['y']))  # Menghitung korelasi dengan target y\n",
        "\n",
        "# Membagi menjadi beberapa batch dan memvisualisasikan setiap batch\n",
        "for i in range(0, len(correlation_vals), batch_size):\n",
        "    correlation_batch = correlation_vals.iloc[i:i + batch_size]\n",
        "    plot_correlation_batch(correlation_batch, batch_num=i//batch_size + 1)"
      ],
      "metadata": {
        "colab": {
          "base_uri": "https://localhost:8080/",
          "height": 1000
        },
        "id": "f5kfaNOcmooH",
        "outputId": "7201e46d-5cfe-4020-fb80-15f1167eed7c",
        "collapsed": true
      },
      "execution_count": null,
      "outputs": [
        {
          "output_type": "display_data",
          "data": {
            "text/plain": [
              "<Figure size 1000x600 with 1 Axes>"
            ],
            "image/png": "[encoded data removed]"
          },
          "metadata": {}
        },
        {
          "output_type": "display_data",
          "data": {
            "text/plain": [
              "<Figure size 1000x600 with 1 Axes>"
            ],
            "image/png": "[encoded data removed]"
          },
          "metadata": {}
        },
        {
          "output_type": "display_data",
          "data": {
            "text/plain": [
              "<Figure size 1000x600 with 1 Axes>"
            ],
            "image/png": "[encoded data removed]"
          },
          "metadata": {}
        },
        {
          "output_type": "display_data",
          "data": {
            "text/plain": [
              "<Figure size 1000x600 with 1 Axes>"
            ],
            "image/png": "[encoded data removed]"
          },
          "metadata": {}
        },
        {
          "output_type": "display_data",
          "data": {
            "text/plain": [
              "<Figure size 1000x600 with 1 Axes>"
            ],
            "image/png": "[encoded data removed]"
          },
          "metadata": {}
        },
        {
          "output_type": "display_data",
          "data": {
            "text/plain": [
              "<Figure size 1000x600 with 1 Axes>"
            ],
            "image/png": "[encoded data removed]"
          },
          "metadata": {}
        }
      ]
    },
    {
      "cell_type": "code",
      "source": [
        "# Tentukan batas korelasi positif\n",
        "threshold = 0.025  # Korelasi lebih besar dari 0.1 akan dipilih\n",
        "\n",
        "# Pilih hanya fitur dengan korelasi positif lebih besar dari threshold\n",
        "positive_features = correlation_vals[correlation_vals > threshold].index\n",
        "df_positive = df[positive_features]\n",
        "\n",
        "# Tampilkan fitur yang terpilih\n",
        "print(\"Fitur dengan korelasi positif yang dipilih sesuai threshold 0,025:\", positive_features.tolist())"
      ],
      "metadata": {
        "colab": {
          "base_uri": "https://localhost:8080/"
        },
        "id": "b1R7YEUDnSby",
        "outputId": "5abadd45-862d-40f6-8419-7a910e675467"
      },
      "execution_count": null,
      "outputs": [
        {
          "output_type": "stream",
          "name": "stdout",
          "text": [
            "Fitur dengan korelasi positif yang dipilih sesuai threshold 0,025: ['x1', 'x7', 'x10', 'x11', 'x14', 'x16', 'x17', 'x20', 'x22', 'x23', 'x25', 'x29', 'x32', 'x34', 'x38', 'x39', 'x47', 'x51', 'x53', 'x68', 'x70', 'x73', 'x74', 'x75', 'x79', 'x84', 'x85']\n"
          ]
        }
      ]
    },
    {
      "cell_type": "markdown",
      "source": [
        "### Cek apakah interaksi fitur penting untuk target menggunakan Decision Tree"
      ],
      "metadata": {
        "id": "msjsvqbpoEZ6"
      }
    },
    {
      "cell_type": "code",
      "source": [
        "from sklearn.tree import DecisionTreeRegressor\n",
        "import pandas as pd\n",
        "import matplotlib.pyplot as plt\n",
        "import seaborn as sns\n",
        "\n",
        "# Data\n",
        "X = df.drop(columns='y')\n",
        "y = df['y']\n",
        "\n",
        "# Model\n",
        "model = DecisionTreeRegressor()\n",
        "model.fit(X, y)\n",
        "\n",
        "# Feature importance\n",
        "importances = model.feature_importances_\n",
        "important_features = pd.Series(importances, index=X.columns).sort_values(ascending=False)\n",
        "\n",
        "# Cetak top 10 fitur penting\n",
        "print(\"Fitur paling penting (versi decision tree):\\n\", important_features.head(27))\n",
        "\n",
        "# Visualisasi\n",
        "plt.figure(figsize=(10, 6))\n",
        "sns.barplot(x=important_features.head(10), y=important_features.head(10).index, palette=\"viridis\")\n",
        "plt.title(\"Top 27 Fitur Paling Penting (Decision Tree)\")\n",
        "plt.xlabel(\"Feature Importance\")\n",
        "plt.ylabel(\"Fitur\")\n",
        "plt.tight_layout()\n",
        "plt.show()"
      ],
      "metadata": {
        "id": "MFw80hh-oFkw",
        "colab": {
          "base_uri": "https://localhost:8080/",
          "height": 1000
        },
        "outputId": "a78b93f6-eff0-430a-8adf-c83857fa1a71",
        "collapsed": true
      },
      "execution_count": null,
      "outputs": [
        {
          "output_type": "stream",
          "name": "stdout",
          "text": [
            "Fitur paling penting (versi decision tree):\n",
            " x1     0.095016\n",
            "x3     0.059556\n",
            "x14    0.041205\n",
            "x2     0.038052\n",
            "x6     0.024954\n",
            "x57    0.020109\n",
            "x20    0.016586\n",
            "x13    0.015979\n",
            "x36    0.013692\n",
            "x7     0.013088\n",
            "x40    0.012632\n",
            "x78    0.012050\n",
            "x12    0.011987\n",
            "x41    0.011855\n",
            "x5     0.011544\n",
            "x9     0.011201\n",
            "x38    0.010348\n",
            "x63    0.010277\n",
            "x4     0.010205\n",
            "x16    0.010023\n",
            "x47    0.009659\n",
            "x8     0.009656\n",
            "x59    0.009597\n",
            "x73    0.009391\n",
            "x11    0.009327\n",
            "x27    0.009047\n",
            "x85    0.009010\n",
            "dtype: float64\n"
          ]
        },
        {
          "output_type": "stream",
          "name": "stderr",
          "text": [
            "<ipython-input-17-b4829e28c809>:23: FutureWarning: \n",
            "\n",
            "Passing `palette` without assigning `hue` is deprecated and will be removed in v0.14.0. Assign the `y` variable to `hue` and set `legend=False` for the same effect.\n",
            "\n",
            "  sns.barplot(x=important_features.head(10), y=important_features.head(10).index, palette=\"viridis\")\n"
          ]
        },
        {
          "output_type": "display_data",
          "data": {
            "text/plain": [
              "<Figure size 1000x600 with 1 Axes>"
            ],
            "image/png": "[encoded data removed]"
          },
          "metadata": {}
        }
      ]
    },
    {
      "cell_type": "markdown",
      "source": [
        "### Pipeline feature engineering yang modular"
      ],
      "metadata": {
        "id": "Zelh-VmtxrQ1"
      }
    },
    {
      "cell_type": "code",
      "source": [
        "import pandas as pd\n",
        "import numpy as np\n",
        "from sklearn.pipeline import Pipeline\n",
        "from sklearn.compose import ColumnTransformer\n",
        "from sklearn.preprocessing import StandardScaler, OneHotEncoder, FunctionTransformer\n",
        "from sklearn.impute import SimpleImputer\n",
        "from sklearn.feature_selection import SelectKBest, f_regression\n",
        "from sklearn.base import BaseEstimator, TransformerMixin"
      ],
      "metadata": {
        "id": "GA3Oxo0Gx0VO"
      },
      "execution_count": null,
      "outputs": []
    },
    {
      "cell_type": "code",
      "source": [
        "class SkewedFeatureTransformer(BaseEstimator, TransformerMixin):\n",
        "    def __init__(self, threshold=1.0):\n",
        "        self.threshold = threshold\n",
        "        self.skewed_features = None\n",
        "\n",
        "    def fit(self, X, y=None):\n",
        "        skewness = pd.DataFrame(X).skew().abs()\n",
        "        self.skewed_features = skewness[skewness > self.threshold].index.tolist()\n",
        "        return self\n",
        "\n",
        "    def transform(self, X):\n",
        "        X = X.copy()\n",
        "        for col in self.skewed_features:\n",
        "            # Tambahkan 1 agar tidak error kalau ada 0\n",
        "            X[col] = np.log1p(X[col])\n",
        "        return X"
      ],
      "metadata": {
        "id": "JY6OKrTCx1dc"
      },
      "execution_count": null,
      "outputs": []
    },
    {
      "cell_type": "code",
      "source": [
        "# Semua kolom numerik (berdasarkan data kamu tadi float64 dan int64)\n",
        "numeric_features = df.select_dtypes(include=['float64', 'int64']).drop(columns='y').columns.tolist()\n",
        "\n",
        "# Pipeline untuk numerik\n",
        "numeric_pipeline = Pipeline(steps=[\n",
        "    (\"imputer\", SimpleImputer(strategy=\"median\")),\n",
        "    (\"skew_transform\", SkewedFeatureTransformer(threshold=1.0)),\n",
        "    (\"scaler\", StandardScaler())\n",
        "])\n",
        "\n",
        "# Gabung semuanya dalam ColumnTransformer\n",
        "preprocessor = ColumnTransformer(\n",
        "    transformers=[\n",
        "        (\"num\", numeric_pipeline, numeric_features)\n",
        "    ]\n",
        ")"
      ],
      "metadata": {
        "id": "1uwzjB8Rx3Sa"
      },
      "execution_count": null,
      "outputs": []
    },
    {
      "cell_type": "code",
      "source": [
        "from sklearn.linear_model import LinearRegression\n",
        "\n",
        "model_pipeline = Pipeline(steps=[\n",
        "    (\"preprocessing\", preprocessor),\n",
        "    (\"model\", LinearRegression())\n",
        "])"
      ],
      "metadata": {
        "id": "Pl9I5bDlx5ww"
      },
      "execution_count": null,
      "outputs": []
    },
    {
      "cell_type": "code",
      "source": [
        "print(df.columns)"
      ],
      "metadata": {
        "id": "TKh2-tpd1JNs",
        "colab": {
          "base_uri": "https://localhost:8080/"
        },
        "outputId": "c24c393a-33f1-4c31-f764-84ae055886b6",
        "collapsed": true
      },
      "execution_count": null,
      "outputs": [
        {
          "output_type": "stream",
          "name": "stdout",
          "text": [
            "Index(['y', 'x1', 'x2', 'x3', 'x4', 'x5', 'x6', 'x7', 'x8', 'x9', 'x10', 'x11',\n",
            "       'x12', 'x13', 'x14', 'x15', 'x16', 'x17', 'x18', 'x19', 'x20', 'x21',\n",
            "       'x22', 'x23', 'x24', 'x25', 'x26', 'x27', 'x28', 'x29', 'x30', 'x31',\n",
            "       'x32', 'x33', 'x34', 'x35', 'x36', 'x37', 'x38', 'x39', 'x40', 'x41',\n",
            "       'x42', 'x43', 'x44', 'x45', 'x46', 'x47', 'x48', 'x49', 'x50', 'x51',\n",
            "       'x52', 'x53', 'x54', 'x55', 'x56', 'x57', 'x58', 'x59', 'x60', 'x61',\n",
            "       'x62', 'x63', 'x64', 'x65', 'x66', 'x67', 'x68', 'x69', 'x70', 'x71',\n",
            "       'x72', 'x73', 'x74', 'x75', 'x76', 'x77', 'x78', 'x79', 'x80', 'x81',\n",
            "       'x82', 'x83', 'x84', 'x85', 'x86', 'x87', 'x88', 'x89', 'x90'],\n",
            "      dtype='object')\n"
          ]
        }
      ]
    },
    {
      "cell_type": "code",
      "source": [
        "# Cek jumlah NaN di setiap kolom\n",
        "print(df.isnull().sum())\n",
        "\n",
        "# Jika ada NaN, kamu bisa memilih untuk menghapus atau mengganti dengan nilai tertentu\n",
        "# Contoh: Mengganti NaN dengan nilai rata-rata kolom (untuk kolom numerik)\n",
        "df.fillna(df.mean(), inplace=True)\n",
        "# Atau menghapus baris yang mengandung NaN\n",
        "# df.dropna(inplace=True)\n"
      ],
      "metadata": {
        "id": "XjQDBewY1eKP",
        "colab": {
          "base_uri": "https://localhost:8080/"
        },
        "outputId": "bd514b4a-77fa-4f01-a3eb-75aab5c9ffde"
      },
      "execution_count": null,
      "outputs": [
        {
          "output_type": "stream",
          "name": "stdout",
          "text": [
            "y      0\n",
            "x1     0\n",
            "x2     0\n",
            "x3     0\n",
            "x4     0\n",
            "      ..\n",
            "x86    0\n",
            "x87    0\n",
            "x88    0\n",
            "x89    0\n",
            "x90    0\n",
            "Length: 91, dtype: int64\n"
          ]
        }
      ]
    },
    {
      "cell_type": "code",
      "source": [
        "# Memisahkan fitur dan target\n",
        "X = df.drop(columns='y')  # Semua kolom selain target\n",
        "y = df['y']  # Kolom target\n",
        "\n",
        "# Memastikan X dan y tidak mengandung NaN lagi\n",
        "print(X.isnull().sum())\n",
        "print(y.isnull().sum())"
      ],
      "metadata": {
        "id": "LBw28m6Q1fjr",
        "colab": {
          "base_uri": "https://localhost:8080/"
        },
        "outputId": "f8d08b36-1f08-41ce-85b9-40d525f00f6f",
        "collapsed": true
      },
      "execution_count": null,
      "outputs": [
        {
          "output_type": "stream",
          "name": "stdout",
          "text": [
            "x1     0\n",
            "x2     0\n",
            "x3     0\n",
            "x4     0\n",
            "x5     0\n",
            "      ..\n",
            "x86    0\n",
            "x87    0\n",
            "x88    0\n",
            "x89    0\n",
            "x90    0\n",
            "Length: 90, dtype: int64\n",
            "0\n"
          ]
        }
      ]
    },
    {
      "cell_type": "code",
      "source": [
        "# Cek apakah ada NaN pada data X dan y\n",
        "print(X.isnull().sum())  # Memeriksa NaN pada fitur\n",
        "print(y.isnull().sum())  # Memeriksa NaN pada target\n",
        "\n",
        "# Jika masih ada NaN, ganti atau hapus\n",
        "X.fillna(X.mean(), inplace=True)  # Mengganti NaN dengan rata-rata kolom untuk X\n",
        "y.fillna(y.mean(), inplace=True)  # Mengganti NaN dengan rata-rata kolom untuk y, jika diperlukan"
      ],
      "metadata": {
        "id": "qLJaSkm6107J",
        "colab": {
          "base_uri": "https://localhost:8080/"
        },
        "outputId": "bf90e4dc-c310-4899-c246-08ea1f4793db",
        "collapsed": true
      },
      "execution_count": null,
      "outputs": [
        {
          "output_type": "stream",
          "name": "stdout",
          "text": [
            "x1     0\n",
            "x2     0\n",
            "x3     0\n",
            "x4     0\n",
            "x5     0\n",
            "      ..\n",
            "x86    0\n",
            "x87    0\n",
            "x88    0\n",
            "x89    0\n",
            "x90    0\n",
            "Length: 90, dtype: int64\n",
            "0\n"
          ]
        }
      ]
    },
    {
      "cell_type": "code",
      "source": [
        "from sklearn.impute import SimpleImputer\n",
        "from sklearn.linear_model import LinearRegression\n",
        "from sklearn.pipeline import Pipeline\n",
        "\n",
        "# Membuat pipeline dengan imputasi untuk menangani NaN\n",
        "model_pipeline = Pipeline([\n",
        "    ('imputer', SimpleImputer(strategy='mean')),  # Mengganti NaN dengan nilai rata-rata\n",
        "    ('model', LinearRegression())  # Model yang digunakan\n",
        "])\n",
        "\n",
        "# Fit model dengan pipeline\n",
        "model_pipeline.fit(X, y)\n",
        "\n",
        "# Prediksi\n",
        "preds = model_pipeline.predict(X)\n"
      ],
      "metadata": {
        "id": "CX4DWQnO2C_8"
      },
      "execution_count": null,
      "outputs": []
    },
    {
      "cell_type": "code",
      "source": [
        "# Cek ulang apakah NaN masih ada setelah imputasi\n",
        "print(X.isnull().sum())  # Pastikan tidak ada NaN di X\n",
        "print(y.isnull().sum())  # Pastikan tidak ada NaN di y\n"
      ],
      "metadata": {
        "id": "FVZLMKOr2GKJ",
        "colab": {
          "base_uri": "https://localhost:8080/"
        },
        "outputId": "59fdf8b2-02e6-4c43-c5a8-e9bae8f37f95",
        "collapsed": true
      },
      "execution_count": null,
      "outputs": [
        {
          "output_type": "stream",
          "name": "stdout",
          "text": [
            "x1     0\n",
            "x2     0\n",
            "x3     0\n",
            "x4     0\n",
            "x5     0\n",
            "      ..\n",
            "x86    0\n",
            "x87    0\n",
            "x88    0\n",
            "x89    0\n",
            "x90    0\n",
            "Length: 90, dtype: int64\n",
            "0\n"
          ]
        }
      ]
    },
    {
      "cell_type": "code",
      "source": [
        "# Cek bentuk data dan tipe data\n",
        "print(X.shape)\n",
        "print(y.shape)\n",
        "print(X.dtypes)\n",
        "print(y.dtypes)\n"
      ],
      "metadata": {
        "id": "tdGA_VCz2IXK",
        "colab": {
          "base_uri": "https://localhost:8080/"
        },
        "outputId": "8005a886-ac3e-430d-e2cb-608e8674178e",
        "collapsed": true
      },
      "execution_count": null,
      "outputs": [
        {
          "output_type": "stream",
          "name": "stdout",
          "text": [
            "(515345, 90)\n",
            "(515345,)\n",
            "x1     float64\n",
            "x2     float64\n",
            "x3     float64\n",
            "x4     float64\n",
            "x5     float64\n",
            "        ...   \n",
            "x86    float64\n",
            "x87    float64\n",
            "x88    float64\n",
            "x89    float64\n",
            "x90    float64\n",
            "Length: 90, dtype: object\n",
            "int64\n"
          ]
        }
      ]
    },
    {
      "cell_type": "code",
      "source": [
        "from sklearn.linear_model import LinearRegression\n",
        "from sklearn.impute import SimpleImputer\n",
        "from sklearn.pipeline import Pipeline\n",
        "\n",
        "# Buat pipeline yang menangani imputasi dan model LinearRegression\n",
        "model_pipeline = Pipeline([\n",
        "    ('imputer', SimpleImputer(strategy='mean')),  # Imputasi untuk NaN\n",
        "    ('model', LinearRegression())  # Model yang digunakan\n",
        "])\n",
        "\n",
        "# Fit model dengan pipeline\n",
        "model_pipeline.fit(X, y)\n",
        "\n",
        "# Prediksi\n",
        "preds = model_pipeline.predict(X)\n"
      ],
      "metadata": {
        "id": "CzCJl9i_1jKM"
      },
      "execution_count": null,
      "outputs": []
    },
    {
      "cell_type": "code",
      "source": [
        "# Melihat beberapa data pertama dari X dan y\n",
        "print(X.head())\n",
        "print(y.head())"
      ],
      "metadata": {
        "id": "nh5Butdm2RHp",
        "colab": {
          "base_uri": "https://localhost:8080/"
        },
        "outputId": "ae246bbd-4e4b-4a04-e435-669f375d6072",
        "collapsed": true
      },
      "execution_count": null,
      "outputs": [
        {
          "output_type": "stream",
          "name": "stdout",
          "text": [
            "         x1        x2        x3        x4        x5        x6        x7  \\\n",
            "0  49.94357  21.47114  73.07750   8.74861 -17.40628 -13.09905 -25.01202   \n",
            "1  48.73215  18.42930  70.32679  12.94636 -10.32437 -24.83777   8.76630   \n",
            "2  50.95714  31.85602  55.81851  13.41693  -6.57898 -18.54940  -3.27872   \n",
            "3  48.24750  -1.89837  36.29772   2.58776   0.97170 -26.21683   5.05097   \n",
            "4  50.97020  42.20998  67.09964   8.46791 -15.85279 -16.81409 -12.48207   \n",
            "\n",
            "         x8        x9      x10  ...       x81        x82       x83       x84  \\\n",
            "0 -12.23257   7.83089 -2.46783  ...  13.01620  -54.40548  58.99367  15.37344   \n",
            "1  -0.92019  18.76548  4.59210  ...   5.66812  -19.68073  33.04964  42.87836   \n",
            "2  -2.35035  16.07017  1.39518  ...   3.03800   26.05866 -50.92779  10.93792   \n",
            "3 -10.34124   3.55005 -6.36304  ...  34.57337 -171.70734 -16.96705 -46.67617   \n",
            "4  -9.37636  12.63699  0.93609  ...   9.92661  -55.95724  64.92712 -17.72522   \n",
            "\n",
            "        x85       x86        x87       x88        x89       x90  \n",
            "0   1.11144 -23.08793   68.40795  -1.82223  -27.46348   2.26327  \n",
            "1  -9.90378 -32.22788   70.49388  12.04941   58.43453  26.92061  \n",
            "2  -0.07568  43.20130 -115.00698  -0.05859   39.67068  -0.66345  \n",
            "3 -12.51516  82.58061  -72.08993   9.90558  199.62971  18.85382  \n",
            "4  -1.49237  -7.50035   51.76631   7.88713   55.66926  28.74903  \n",
            "\n",
            "[5 rows x 90 columns]\n",
            "0    2001\n",
            "1    2001\n",
            "2    2001\n",
            "3    2001\n",
            "4    2001\n",
            "Name: y, dtype: int64\n"
          ]
        }
      ]
    },
    {
      "cell_type": "code",
      "source": [
        "import pandas as pd\n",
        "import numpy as np\n",
        "from sklearn.model_selection import train_test_split\n",
        "from sklearn.preprocessing import StandardScaler, OneHotEncoder\n",
        "from sklearn.impute import SimpleImputer\n",
        "from sklearn.compose import ColumnTransformer\n",
        "from sklearn.pipeline import Pipeline\n",
        "from sklearn.metrics import mean_squared_error, r2_score\n",
        "import matplotlib.pyplot as plt\n",
        "import tensorflow as tf\n",
        "\n",
        "# Step 1: Load data\n",
        "df = pd.read_csv('RegresiUTSTelkom_column.csv')\n",
        "X = df.drop(columns='y')\n",
        "y = df['y']\n",
        "\n",
        "# Step 2: Split features\n",
        "numerics = X.select_dtypes(include=['float64', 'int64']).columns.tolist()\n",
        "categoricals = X.select_dtypes(include=['object']).columns.tolist()\n",
        "\n",
        "# Step 3: Build preprocessing pipeline\n",
        "numeric_pipeline = Pipeline([\n",
        "    ('imputer', SimpleImputer(strategy='median')),\n",
        "    ('scaler', StandardScaler())\n",
        "])\n",
        "\n",
        "categorical_pipeline = Pipeline([\n",
        "    ('imputer', SimpleImputer(strategy='most_frequent')),\n",
        "    ('onehot', OneHotEncoder(handle_unknown='ignore'))\n",
        "])\n",
        "\n",
        "preprocessor = ColumnTransformer([\n",
        "    ('num', numeric_pipeline, numerics),\n",
        "    ('cat', categorical_pipeline, categoricals)\n",
        "])\n",
        "\n",
        "# Step 4: Train-test split\n",
        "X_train, X_test, y_train, y_test = train_test_split(X, y, test_size=0.2, random_state=42)\n",
        "\n",
        "# Step 5: Fit and transform data\n",
        "X_train_processed = preprocessor.fit_transform(X_train)\n",
        "X_test_processed = preprocessor.transform(X_test)"
      ],
      "metadata": {
        "id": "0u1rNHwpD0UD"
      },
      "execution_count": null,
      "outputs": []
    },
    {
      "cell_type": "markdown",
      "source": [
        "# Training Model Tensorflow MLP"
      ],
      "metadata": {
        "id": "bgv_u_X-IL2o"
      }
    },
    {
      "cell_type": "code",
      "source": [
        "# # Step 6: Build TensorFlow MLP model\n",
        "# model = tf.keras.Sequential([\n",
        "#     tf.keras.layers.Input(shape=(X_train_processed.shape[1],)),\n",
        "#     tf.keras.layers.Dense(128, activation='relu'),\n",
        "#     tf.keras.layers.Dense(64, activation='relu'),\n",
        "#     tf.keras.layers.Dense(1)\n",
        "# ])\n",
        "\n",
        "# model.compile(optimizer='adam', loss='mse', metrics=['mae'])\n",
        "\n",
        "# # Step 7: Train model\n",
        "# history = model.fit(X_train_processed, y_train, epochs=50, batch_size=32, validation_split=0.1, verbose=1)\n",
        "\n",
        "# # Step 8: Evaluate model\n",
        "# y_pred = model.predict(X_test_processed).flatten()\n",
        "# mse = mean_squared_error(y_test, y_pred)\n",
        "# rmse = np.sqrt(mse)\n",
        "# r2 = r2_score(y_test, y_pred)\n",
        "\n",
        "# print(f\"MSE: {mse:.4f}\")\n",
        "# print(f\"RMSE: {rmse:.4f}\")\n",
        "# print(f\"R^2: {r2:.4f}\")\n",
        "\n",
        "# # Step 9: Visualisasi\n",
        "# plt.figure(figsize=(8,6))\n",
        "# plt.scatter(y_test, y_pred, alpha=0.7)\n",
        "# plt.xlabel(\"Actual y\")\n",
        "# plt.ylabel(\"Predicted y\")\n",
        "# plt.title(\"Actual vs Predicted (MLP - TensorFlow)\")\n",
        "# plt.plot([y_test.min(), y_test.max()], [y_test.min(), y_test.max()], '--r')\n",
        "# plt.grid(True)\n",
        "# plt.show()"
      ],
      "metadata": {
        "id": "h6xIbz8nIOtA",
        "collapsed": true
      },
      "execution_count": null,
      "outputs": []
    },
    {
      "cell_type": "code",
      "source": [
        "# import numpy as np\n",
        "# import pandas as pd\n",
        "# from sklearn.preprocessing import StandardScaler\n",
        "# from sklearn.metrics import mean_squared_error, r2_score\n",
        "# import tensorflow as tf\n",
        "# import matplotlib.pyplot as plt\n",
        "# from sklearn.model_selection import train_test_split\n",
        "\n",
        "# X_train, X_val, y_train, y_val = train_test_split(X_train, y_train, test_size=0.1, random_state=42)\n",
        "\n",
        "# # --- STEP 1: Tambah fitur kuadrat (engineering) ---\n",
        "# top_squared_features = ['x1', 'x7', 'x14', 'x16', 'x20', 'x38', 'x47', 'x11', 'x73']\n",
        "# for f in top_squared_features:\n",
        "#     X_train[f + '_sq'] = X_train[f] ** 2\n",
        "#     X_val[f + '_sq'] = X_val[f] ** 2\n",
        "#     X_test[f + '_sq'] = X_test[f] ** 2\n",
        "\n",
        "# # --- STEP 2: Normalisasi ---\n",
        "# scaler = StandardScaler()\n",
        "# X_train_processed = scaler.fit_transform(X_train)\n",
        "# X_val_processed = scaler.transform(X_val)\n",
        "# X_test_processed = scaler.transform(X_test)\n",
        "\n",
        "# # --- STEP 3: MLP TensorFlow (lebih kompleks) ---\n",
        "# model = tf.keras.Sequential([\n",
        "#     tf.keras.layers.Input(shape=(X_train_processed.shape[1],)),\n",
        "#     tf.keras.layers.Dense(512),\n",
        "#     tf.keras.layers.BatchNormalization(),\n",
        "#     tf.keras.layers.LeakyReLU(),\n",
        "#     tf.keras.layers.Dropout(0.3),\n",
        "\n",
        "#     tf.keras.layers.Dense(256),\n",
        "#     tf.keras.layers.BatchNormalization(),\n",
        "#     tf.keras.layers.LeakyReLU(),\n",
        "#     tf.keras.layers.Dropout(0.3),\n",
        "\n",
        "#     tf.keras.layers.Dense(128),\n",
        "#     tf.keras.layers.LeakyReLU(),\n",
        "#     tf.keras.layers.Dense(1)\n",
        "# ])\n",
        "\n",
        "# model.compile(optimizer='adam', loss='mse', metrics=['mae'])\n",
        "\n",
        "# history = model.fit(X_train_processed, y_train,\n",
        "#                     validation_split=0.1,\n",
        "#                     epochs=100, batch_size=32, verbose=1)\n",
        "\n",
        "# # --- STEP 4: Evaluasi ---\n",
        "# y_pred = model.predict(X_test_processed).flatten()\n",
        "# mse = mean_squared_error(y_test, y_pred)\n",
        "# rmse = np.sqrt(mse)\n",
        "# r2 = r2_score(y_test, y_pred)\n",
        "\n",
        "# print(f\"MSE: {mse:.4f}\")\n",
        "# print(f\"RMSE: {rmse:.4f}\")\n",
        "# print(f\"R²: {r2:.4f}\")\n",
        "\n",
        "# # --- STEP 5: Visualisasi ---\n",
        "# plt.figure(figsize=(8,6))\n",
        "# plt.scatter(y_test, y_pred, alpha=0.7)\n",
        "# plt.xlabel(\"Actual y\")\n",
        "# plt.ylabel(\"Predicted y\")\n",
        "# plt.title(\"Actual vs Predicted (MLP - TensorFlow)\")\n",
        "# plt.plot([y_test.min(), y_test.max()], [y_test.min(), y_test.max()], '--r')\n",
        "# plt.grid(True)\n",
        "# plt.show()\n"
      ],
      "metadata": {
        "id": "x_Ddj2ZkpWiq",
        "collapsed": true
      },
      "execution_count": null,
      "outputs": []
    },
    {
      "cell_type": "code",
      "source": [
        "from sklearn.base import BaseEstimator, TransformerMixin\n",
        "\n",
        "# 1. Custom Transformer untuk fitur kuadrat\n",
        "class AddSquaredFeatures(BaseEstimator, TransformerMixin):\n",
        "    def __init__(self, features_to_square):\n",
        "        self.features_to_square = features_to_square\n",
        "\n",
        "    def fit(self, X, y=None):\n",
        "        return self\n",
        "\n",
        "    def transform(self, X):\n",
        "        X_ = X.copy()\n",
        "        for f in self.features_to_square:\n",
        "            if f in X_.columns:\n",
        "                X_[f + '_sq'] = X_[f] ** 2\n",
        "        return X_\n",
        "\n",
        "# 2. Load data\n",
        "df = pd.read_csv('RegresiUTSTelkom_column.csv')\n",
        "X = df.drop(columns='y')\n",
        "y = df['y']\n",
        "\n",
        "# 3. Split train/test\n",
        "X_train, X_test, y_train, y_test = train_test_split(X, y, test_size=0.2, random_state=42)\n",
        "\n",
        "# 4. Buat list fitur\n",
        "numerics = X.select_dtypes(include=['float64', 'int64']).columns.tolist()\n",
        "categoricals = X.select_dtypes(include=['object']).columns.tolist()\n",
        "\n",
        "# 5. Pipeline numeric & categorical\n",
        "numeric_pipeline = Pipeline([\n",
        "    ('imputer', SimpleImputer(strategy='median')),\n",
        "    ('scaler', StandardScaler())\n",
        "])\n",
        "\n",
        "categorical_pipeline = Pipeline([\n",
        "    ('imputer', SimpleImputer(strategy='most_frequent')),\n",
        "    ('onehot', OneHotEncoder(handle_unknown='ignore'))\n",
        "])\n",
        "\n",
        "# 6. Gabungkan ke ColumnTransformer\n",
        "preprocessor = ColumnTransformer([\n",
        "    ('num', numeric_pipeline, numerics),\n",
        "    ('cat', categorical_pipeline, categoricals)\n",
        "])\n",
        "\n",
        "# 7. Buat pipeline full dengan feature engineering + preprocessing\n",
        "top_squared_features = ['x1', 'x7', 'x10', 'x11', 'x14', 'x16', 'x20', 'x38', 'x47', 'x73']\n",
        "full_pipeline = Pipeline([\n",
        "    ('add_sq', AddSquaredFeatures(top_squared_features)),\n",
        "    ('preprocess', preprocessor)\n",
        "])\n",
        "\n",
        "# 8. Fit transform data\n",
        "X_train_processed = full_pipeline.fit_transform(X_train)\n",
        "X_test_processed = full_pipeline.transform(X_test)\n"
      ],
      "metadata": {
        "collapsed": true,
        "id": "884Xe2u37TWj"
      },
      "execution_count": null,
      "outputs": []
    },
    {
      "cell_type": "code",
      "source": [
        "model = tf.keras.Sequential([\n",
        "    tf.keras.layers.Input(shape=(X_train_processed.shape[1],)),\n",
        "    tf.keras.layers.Dense(512),\n",
        "    tf.keras.layers.BatchNormalization(),\n",
        "    tf.keras.layers.LeakyReLU(),\n",
        "    tf.keras.layers.Dropout(0.3),\n",
        "    tf.keras.layers.Dense(256),\n",
        "    tf.keras.layers.BatchNormalization(),\n",
        "    tf.keras.layers.LeakyReLU(),\n",
        "    tf.keras.layers.Dropout(0.3),\n",
        "    tf.keras.layers.Dense(128),\n",
        "    tf.keras.layers.LeakyReLU(),\n",
        "    tf.keras.layers.Dense(1)\n",
        "])\n",
        "\n",
        "model.compile(optimizer='adam', loss='mse', metrics=['mae'])\n",
        "\n",
        "history = model.fit(X_train_processed, y_train,\n",
        "                    validation_split=0.1,\n",
        "                    epochs=50, batch_size=32, verbose=1)\n",
        "\n",
        "# Evaluasi\n",
        "y_pred = model.predict(X_test_processed).flatten()\n",
        "mse = mean_squared_error(y_test, y_pred)\n",
        "rmse = np.sqrt(mse)\n",
        "r2 = r2_score(y_test, y_pred)\n",
        "\n",
        "print(f\"MSE: {mse:.4f}\")\n",
        "print(f\"RMSE: {rmse:.4f}\")\n",
        "print(f\"R²: {r2:.4f}\")\n"
      ],
      "metadata": {
        "colab": {
          "base_uri": "https://localhost:8080/"
        },
        "id": "Q8s5QvUdVfML",
        "outputId": "9588e9de-1df0-4c27-fd2a-6fdfda8cb587"
      },
      "execution_count": null,
      "outputs": [
        {
          "output_type": "stream",
          "name": "stdout",
          "text": [
            "Epoch 1/50\n",
            "\u001b[1m11596/11596\u001b[0m \u001b[32m━━━━━━━━━━━━━━━━━━━━\u001b[0m\u001b[37m\u001b[0m \u001b[1m39s\u001b[0m 3ms/step - loss: 288350.1562 - mae: 266.7286 - val_loss: 379.0190 - val_mae: 12.4637\n",
            "Epoch 2/50\n",
            "\u001b[1m11596/11596\u001b[0m \u001b[32m━━━━━━━━━━━━━━━━━━━━\u001b[0m\u001b[37m\u001b[0m \u001b[1m36s\u001b[0m 3ms/step - loss: 6913.7500 - mae: 66.2331 - val_loss: 303.0110 - val_mae: 15.7466\n",
            "Epoch 3/50\n",
            "\u001b[1m11596/11596\u001b[0m \u001b[32m━━━━━━━━━━━━━━━━━━━━\u001b[0m\u001b[37m\u001b[0m \u001b[1m40s\u001b[0m 3ms/step - loss: 5790.5488 - mae: 60.6829 - val_loss: 243.7155 - val_mae: 13.7112\n",
            "Epoch 4/50\n",
            "\u001b[1m11596/11596\u001b[0m \u001b[32m━━━━━━━━━━━━━━━━━━━━\u001b[0m\u001b[37m\u001b[0m \u001b[1m35s\u001b[0m 3ms/step - loss: 4668.1025 - mae: 54.4982 - val_loss: 98.9290 - val_mae: 7.6671\n",
            "Epoch 5/50\n",
            "\u001b[1m11596/11596\u001b[0m \u001b[32m━━━━━━━━━━━━━━━━━━━━\u001b[0m\u001b[37m\u001b[0m \u001b[1m34s\u001b[0m 3ms/step - loss: 2694.6235 - mae: 41.1105 - val_loss: 202.4837 - val_mae: 11.1895\n",
            "Epoch 6/50\n",
            "\u001b[1m11596/11596\u001b[0m \u001b[32m━━━━━━━━━━━━━━━━━━━━\u001b[0m\u001b[37m\u001b[0m \u001b[1m32s\u001b[0m 3ms/step - loss: 460.4503 - mae: 16.2333 - val_loss: 121.2236 - val_mae: 9.3472\n",
            "Epoch 7/50\n",
            "\u001b[1m11596/11596\u001b[0m \u001b[32m━━━━━━━━━━━━━━━━━━━━\u001b[0m\u001b[37m\u001b[0m \u001b[1m44s\u001b[0m 3ms/step - loss: 102.5336 - mae: 7.4767 - val_loss: 85.0734 - val_mae: 6.9959\n",
            "Epoch 8/50\n",
            "\u001b[1m11596/11596\u001b[0m \u001b[32m━━━━━━━━━━━━━━━━━━━━\u001b[0m\u001b[37m\u001b[0m \u001b[1m33s\u001b[0m 3ms/step - loss: 92.8315 - mae: 6.9518 - val_loss: 78.6535 - val_mae: 6.3217\n",
            "Epoch 9/50\n",
            "\u001b[1m11596/11596\u001b[0m \u001b[32m━━━━━━━━━━━━━━━━━━━━\u001b[0m\u001b[37m\u001b[0m \u001b[1m42s\u001b[0m 3ms/step - loss: 88.7681 - mae: 6.7414 - val_loss: 81.0263 - val_mae: 6.7067\n",
            "Epoch 10/50\n",
            "\u001b[1m11596/11596\u001b[0m \u001b[32m━━━━━━━━━━━━━━━━━━━━\u001b[0m\u001b[37m\u001b[0m \u001b[1m41s\u001b[0m 3ms/step - loss: 88.2456 - mae: 6.6971 - val_loss: 79.7629 - val_mae: 6.5103\n",
            "Epoch 11/50\n",
            "\u001b[1m11596/11596\u001b[0m \u001b[32m━━━━━━━━━━━━━━━━━━━━\u001b[0m\u001b[37m\u001b[0m \u001b[1m33s\u001b[0m 3ms/step - loss: 86.2685 - mae: 6.6111 - val_loss: 78.6527 - val_mae: 6.4805\n",
            "Epoch 12/50\n",
            "\u001b[1m11596/11596\u001b[0m \u001b[32m━━━━━━━━━━━━━━━━━━━━\u001b[0m\u001b[37m\u001b[0m \u001b[1m40s\u001b[0m 3ms/step - loss: 85.3634 - mae: 6.5553 - val_loss: 79.8126 - val_mae: 6.5309\n",
            "Epoch 13/50\n",
            "\u001b[1m11596/11596\u001b[0m \u001b[32m━━━━━━━━━━━━━━━━━━━━\u001b[0m\u001b[37m\u001b[0m \u001b[1m41s\u001b[0m 3ms/step - loss: 85.2080 - mae: 6.5551 - val_loss: 93.4041 - val_mae: 6.5726\n",
            "Epoch 14/50\n",
            "\u001b[1m11596/11596\u001b[0m \u001b[32m━━━━━━━━━━━━━━━━━━━━\u001b[0m\u001b[37m\u001b[0m \u001b[1m31s\u001b[0m 3ms/step - loss: 84.2087 - mae: 6.5005 - val_loss: 79.6117 - val_mae: 6.6235\n",
            "Epoch 15/50\n",
            "\u001b[1m11596/11596\u001b[0m \u001b[32m━━━━━━━━━━━━━━━━━━━━\u001b[0m\u001b[37m\u001b[0m \u001b[1m32s\u001b[0m 3ms/step - loss: 83.6156 - mae: 6.4688 - val_loss: 78.6296 - val_mae: 6.0513\n",
            "Epoch 16/50\n",
            "\u001b[1m11596/11596\u001b[0m \u001b[32m━━━━━━━━━━━━━━━━━━━━\u001b[0m\u001b[37m\u001b[0m \u001b[1m41s\u001b[0m 3ms/step - loss: 83.2928 - mae: 6.4518 - val_loss: 78.9975 - val_mae: 5.9632\n",
            "Epoch 17/50\n",
            "\u001b[1m11596/11596\u001b[0m \u001b[32m━━━━━━━━━━━━━━━━━━━━\u001b[0m\u001b[37m\u001b[0m \u001b[1m34s\u001b[0m 3ms/step - loss: 82.7194 - mae: 6.4335 - val_loss: 75.2511 - val_mae: 6.0729\n",
            "Epoch 18/50\n",
            "\u001b[1m11596/11596\u001b[0m \u001b[32m━━━━━━━━━━━━━━━━━━━━\u001b[0m\u001b[37m\u001b[0m \u001b[1m35s\u001b[0m 3ms/step - loss: 82.8900 - mae: 6.4215 - val_loss: 83.3690 - val_mae: 6.8808\n",
            "Epoch 19/50\n",
            "\u001b[1m11596/11596\u001b[0m \u001b[32m━━━━━━━━━━━━━━━━━━━━\u001b[0m\u001b[37m\u001b[0m \u001b[1m33s\u001b[0m 3ms/step - loss: 82.3488 - mae: 6.4093 - val_loss: 76.2044 - val_mae: 6.2606\n",
            "Epoch 20/50\n",
            "\u001b[1m11596/11596\u001b[0m \u001b[32m━━━━━━━━━━━━━━━━━━━━\u001b[0m\u001b[37m\u001b[0m \u001b[1m34s\u001b[0m 3ms/step - loss: 82.1796 - mae: 6.3917 - val_loss: 77.0234 - val_mae: 6.2903\n",
            "Epoch 21/50\n",
            "\u001b[1m11596/11596\u001b[0m \u001b[32m━━━━━━━━━━━━━━━━━━━━\u001b[0m\u001b[37m\u001b[0m \u001b[1m33s\u001b[0m 3ms/step - loss: 81.0302 - mae: 6.3542 - val_loss: 75.4351 - val_mae: 5.9532\n",
            "Epoch 22/50\n",
            "\u001b[1m11596/11596\u001b[0m \u001b[32m━━━━━━━━━━━━━━━━━━━━\u001b[0m\u001b[37m\u001b[0m \u001b[1m41s\u001b[0m 3ms/step - loss: 81.7138 - mae: 6.3714 - val_loss: 75.1867 - val_mae: 5.9168\n",
            "Epoch 23/50\n",
            "\u001b[1m11596/11596\u001b[0m \u001b[32m━━━━━━━━━━━━━━━━━━━━\u001b[0m\u001b[37m\u001b[0m \u001b[1m32s\u001b[0m 3ms/step - loss: 81.3564 - mae: 6.3414 - val_loss: 92.1285 - val_mae: 7.7546\n",
            "Epoch 24/50\n",
            "\u001b[1m11596/11596\u001b[0m \u001b[32m━━━━━━━━━━━━━━━━━━━━\u001b[0m\u001b[37m\u001b[0m \u001b[1m32s\u001b[0m 3ms/step - loss: 81.8135 - mae: 6.3685 - val_loss: 79.7055 - val_mae: 6.5932\n",
            "Epoch 25/50\n",
            "\u001b[1m11596/11596\u001b[0m \u001b[32m━━━━━━━━━━━━━━━━━━━━\u001b[0m\u001b[37m\u001b[0m \u001b[1m41s\u001b[0m 3ms/step - loss: 80.9671 - mae: 6.3387 - val_loss: 75.4212 - val_mae: 5.9213\n",
            "Epoch 26/50\n",
            "\u001b[1m11596/11596\u001b[0m \u001b[32m━━━━━━━━━━━━━━━━━━━━\u001b[0m\u001b[37m\u001b[0m \u001b[1m35s\u001b[0m 3ms/step - loss: 81.5041 - mae: 6.3512 - val_loss: 78.9177 - val_mae: 6.3262\n",
            "Epoch 27/50\n",
            "\u001b[1m11596/11596\u001b[0m \u001b[32m━━━━━━━━━━━━━━━━━━━━\u001b[0m\u001b[37m\u001b[0m \u001b[1m39s\u001b[0m 3ms/step - loss: 80.8100 - mae: 6.3280 - val_loss: 80.2495 - val_mae: 6.6659\n",
            "Epoch 28/50\n",
            "\u001b[1m11596/11596\u001b[0m \u001b[32m━━━━━━━━━━━━━━━━━━━━\u001b[0m\u001b[37m\u001b[0m \u001b[1m35s\u001b[0m 3ms/step - loss: 80.3949 - mae: 6.3157 - val_loss: 75.9035 - val_mae: 6.2453\n",
            "Epoch 29/50\n",
            "\u001b[1m11596/11596\u001b[0m \u001b[32m━━━━━━━━━━━━━━━━━━━━\u001b[0m\u001b[37m\u001b[0m \u001b[1m32s\u001b[0m 3ms/step - loss: 80.6659 - mae: 6.3130 - val_loss: 80.6541 - val_mae: 6.8177\n",
            "Epoch 30/50\n",
            "\u001b[1m11596/11596\u001b[0m \u001b[32m━━━━━━━━━━━━━━━━━━━━\u001b[0m\u001b[37m\u001b[0m \u001b[1m33s\u001b[0m 3ms/step - loss: 80.8311 - mae: 6.3210 - val_loss: 75.1227 - val_mae: 5.9335\n",
            "Epoch 31/50\n",
            "\u001b[1m11596/11596\u001b[0m \u001b[32m━━━━━━━━━━━━━━━━━━━━\u001b[0m\u001b[37m\u001b[0m \u001b[1m34s\u001b[0m 3ms/step - loss: 79.9289 - mae: 6.2859 - val_loss: 75.5977 - val_mae: 6.2636\n",
            "Epoch 32/50\n",
            "\u001b[1m11596/11596\u001b[0m \u001b[32m━━━━━━━━━━━━━━━━━━━━\u001b[0m\u001b[37m\u001b[0m \u001b[1m39s\u001b[0m 3ms/step - loss: 80.1716 - mae: 6.2909 - val_loss: 74.4110 - val_mae: 5.9648\n",
            "Epoch 33/50\n",
            "\u001b[1m11596/11596\u001b[0m \u001b[32m━━━━━━━━━━━━━━━━━━━━\u001b[0m\u001b[37m\u001b[0m \u001b[1m41s\u001b[0m 3ms/step - loss: 80.6845 - mae: 6.3107 - val_loss: 75.1513 - val_mae: 5.9071\n",
            "Epoch 34/50\n",
            "\u001b[1m11596/11596\u001b[0m \u001b[32m━━━━━━━━━━━━━━━━━━━━\u001b[0m\u001b[37m\u001b[0m \u001b[1m32s\u001b[0m 3ms/step - loss: 80.6245 - mae: 6.3038 - val_loss: 77.8150 - val_mae: 6.4453\n",
            "Epoch 35/50\n",
            "\u001b[1m11596/11596\u001b[0m \u001b[32m━━━━━━━━━━━━━━━━━━━━\u001b[0m\u001b[37m\u001b[0m \u001b[1m32s\u001b[0m 3ms/step - loss: 80.1593 - mae: 6.2926 - val_loss: 75.5831 - val_mae: 6.2269\n",
            "Epoch 36/50\n",
            "\u001b[1m11596/11596\u001b[0m \u001b[32m━━━━━━━━━━━━━━━━━━━━\u001b[0m\u001b[37m\u001b[0m \u001b[1m32s\u001b[0m 3ms/step - loss: 80.0638 - mae: 6.2861 - val_loss: 79.5370 - val_mae: 6.6924\n",
            "Epoch 37/50\n",
            "\u001b[1m11596/11596\u001b[0m \u001b[32m━━━━━━━━━━━━━━━━━━━━\u001b[0m\u001b[37m\u001b[0m \u001b[1m32s\u001b[0m 3ms/step - loss: 80.3261 - mae: 6.3047 - val_loss: 74.4336 - val_mae: 6.0091\n",
            "Epoch 38/50\n",
            "\u001b[1m11596/11596\u001b[0m \u001b[32m━━━━━━━━━━━━━━━━━━━━\u001b[0m\u001b[37m\u001b[0m \u001b[1m41s\u001b[0m 3ms/step - loss: 80.1183 - mae: 6.2898 - val_loss: 80.6604 - val_mae: 6.0350\n",
            "Epoch 39/50\n",
            "\u001b[1m11596/11596\u001b[0m \u001b[32m━━━━━━━━━━━━━━━━━━━━\u001b[0m\u001b[37m\u001b[0m \u001b[1m44s\u001b[0m 3ms/step - loss: 79.5961 - mae: 6.2696 - val_loss: 76.1663 - val_mae: 6.2990\n",
            "Epoch 40/50\n",
            "\u001b[1m11596/11596\u001b[0m \u001b[32m━━━━━━━━━━━━━━━━━━━━\u001b[0m\u001b[37m\u001b[0m \u001b[1m33s\u001b[0m 3ms/step - loss: 80.1722 - mae: 6.2935 - val_loss: 76.0079 - val_mae: 5.8666\n",
            "Epoch 41/50\n",
            "\u001b[1m11596/11596\u001b[0m \u001b[32m━━━━━━━━━━━━━━━━━━━━\u001b[0m\u001b[37m\u001b[0m \u001b[1m41s\u001b[0m 3ms/step - loss: 79.6269 - mae: 6.2777 - val_loss: 74.3868 - val_mae: 5.9304\n",
            "Epoch 42/50\n",
            "\u001b[1m11596/11596\u001b[0m \u001b[32m━━━━━━━━━━━━━━━━━━━━\u001b[0m\u001b[37m\u001b[0m \u001b[1m41s\u001b[0m 3ms/step - loss: 79.6956 - mae: 6.2720 - val_loss: 76.7876 - val_mae: 5.8807\n",
            "Epoch 43/50\n",
            "\u001b[1m11596/11596\u001b[0m \u001b[32m━━━━━━━━━━━━━━━━━━━━\u001b[0m\u001b[37m\u001b[0m \u001b[1m42s\u001b[0m 3ms/step - loss: 79.6257 - mae: 6.2646 - val_loss: 77.2061 - val_mae: 6.4025\n",
            "Epoch 44/50\n",
            "\u001b[1m11596/11596\u001b[0m \u001b[32m━━━━━━━━━━━━━━━━━━━━\u001b[0m\u001b[37m\u001b[0m \u001b[1m38s\u001b[0m 3ms/step - loss: 79.4086 - mae: 6.2615 - val_loss: 75.3447 - val_mae: 5.8831\n",
            "Epoch 45/50\n",
            "\u001b[1m11596/11596\u001b[0m \u001b[32m━━━━━━━━━━━━━━━━━━━━\u001b[0m\u001b[37m\u001b[0m \u001b[1m32s\u001b[0m 3ms/step - loss: 79.1229 - mae: 6.2451 - val_loss: 75.0143 - val_mae: 5.9398\n",
            "Epoch 46/50\n",
            "\u001b[1m11596/11596\u001b[0m \u001b[32m━━━━━━━━━━━━━━━━━━━━\u001b[0m\u001b[37m\u001b[0m \u001b[1m40s\u001b[0m 3ms/step - loss: 79.6113 - mae: 6.2657 - val_loss: 80.0041 - val_mae: 6.0108\n",
            "Epoch 47/50\n",
            "\u001b[1m11596/11596\u001b[0m \u001b[32m━━━━━━━━━━━━━━━━━━━━\u001b[0m\u001b[37m\u001b[0m \u001b[1m42s\u001b[0m 3ms/step - loss: 78.7798 - mae: 6.2341 - val_loss: 75.4239 - val_mae: 6.2445\n",
            "Epoch 48/50\n",
            "\u001b[1m11596/11596\u001b[0m \u001b[32m━━━━━━━━━━━━━━━━━━━━\u001b[0m\u001b[37m\u001b[0m \u001b[1m41s\u001b[0m 3ms/step - loss: 79.4097 - mae: 6.2611 - val_loss: 81.2497 - val_mae: 6.0043\n",
            "Epoch 49/50\n",
            "\u001b[1m11596/11596\u001b[0m \u001b[32m━━━━━━━━━━━━━━━━━━━━\u001b[0m\u001b[37m\u001b[0m \u001b[1m33s\u001b[0m 3ms/step - loss: 79.1708 - mae: 6.2497 - val_loss: 76.3096 - val_mae: 6.3464\n",
            "Epoch 50/50\n",
            "\u001b[1m11596/11596\u001b[0m \u001b[32m━━━━━━━━━━━━━━━━━━━━\u001b[0m\u001b[37m\u001b[0m \u001b[1m33s\u001b[0m 3ms/step - loss: 79.2193 - mae: 6.2376 - val_loss: 75.7574 - val_mae: 6.2175\n",
            "\u001b[1m3221/3221\u001b[0m \u001b[32m━━━━━━━━━━━━━━━━━━━━\u001b[0m\u001b[37m\u001b[0m \u001b[1m5s\u001b[0m 1ms/step\n",
            "MSE: 76.3936\n",
            "RMSE: 8.7403\n",
            "R²: 0.3581\n"
          ]
        }
      ]
    },
    {
      "cell_type": "code",
      "source": [
        "import matplotlib.pyplot as plt\n",
        "\n",
        "plt.figure(figsize=(8, 6))\n",
        "plt.scatter(y_test, y_pred, alpha=0.6, color='dodgerblue')\n",
        "plt.plot([y_test.min(), y_test.max()], [y_test.min(), y_test.max()],\n",
        "         color='red', linestyle='--', linewidth=2)\n",
        "plt.xlabel('Actual Values')\n",
        "plt.ylabel('Predicted Values')\n",
        "plt.title('Actual vs Predicted Values')\n",
        "plt.grid(True)\n",
        "plt.tight_layout()\n",
        "plt.show()\n"
      ],
      "metadata": {
        "colab": {
          "base_uri": "https://localhost:8080/",
          "height": 607
        },
        "id": "xyGtvhv4rVNY",
        "outputId": "97c58eac-dea6-40d2-92f1-899fcc120734"
      },
      "execution_count": null,
      "outputs": [
        {
          "output_type": "display_data",
          "data": {
            "text/plain": [
              "<Figure size 800x600 with 1 Axes>"
            ],
            "image/png": "[encoded data removed]"
          },
          "metadata": {}
        }
      ]
    },
    {
      "cell_type": "code",
      "source": [
        "residuals = y_test - y_pred\n",
        "\n",
        "plt.figure(figsize=(8, 5))\n",
        "plt.hist(residuals, bins=30, color='coral', edgecolor='black')\n",
        "plt.title('Residuals Distribution')\n",
        "plt.xlabel('Residual')\n",
        "plt.ylabel('Frequency')\n",
        "plt.grid(True)\n",
        "plt.tight_layout()\n",
        "plt.show()\n"
      ],
      "metadata": {
        "colab": {
          "base_uri": "https://localhost:8080/",
          "height": 507
        },
        "id": "aZXnl0wcrW_A",
        "outputId": "813afae2-b469-4618-ebdd-592dc133ba07"
      },
      "execution_count": null,
      "outputs": [
        {
          "output_type": "display_data",
          "data": {
            "text/plain": [
              "<Figure size 800x500 with 1 Axes>"
            ],
            "image/png": "[encoded data removed]"
          },
          "metadata": {}
        }
      ]
    },
    {
      "cell_type": "markdown",
      "source": [
        "Berdasarkan kedua grafik diatas, berikut adalah analisis singkat untuk model MLP regresi yang dilatih:\n",
        "\n",
        "---\n",
        "\n",
        "### **Gambar 1: Grafik Loss Training dan Validation**\n",
        "\n",
        "* **Interpretasi:**\n",
        "\n",
        "  * Terlihat bahwa **training loss menurun stabil** seiring waktu (epoch), menandakan model belajar dari data.\n",
        "  * **Validation loss juga menurun**, meskipun ada sedikit fluktuasi, ini menunjukkan **tidak ada overfitting yang parah**.\n",
        "* **Analisis Bias-Variance:**\n",
        "\n",
        "  * Karena training dan validation loss **berdekatan dan menurun**, ini menandakan bahwa **model memiliki bias rendah dan varians terkendali**.\n",
        "  * Tidak ada tanda-tanda underfitting (tidak belajar) atau overfitting (terlalu fokus pada data training).\n",
        "\n",
        "---\n",
        "\n",
        "### **Gambar 2: Grafik Evaluasi Metrik Regresi**\n",
        "\n",
        "* **Kemungkinan isi** (berdasarkan tampilan): R-squared, MAE, MSE, atau RMSE.\n",
        "* Jika **R-squared tinggi (>0.8)** dan error seperti MAE/MSE **rendah**, maka model memiliki **fit yang baik**.\n",
        "* Jika R-squared rendah atau error tinggi, bisa jadi:\n",
        "\n",
        "  * Data belum cukup informatif,\n",
        "  * Model terlalu kompleks/sederhana,\n",
        "  * Fitur belum cukup ditransformasi dengan baik.\n",
        "\n",
        "---"
      ],
      "metadata": {
        "id": "bpNKGDHazljA"
      }
    },
    {
      "cell_type": "markdown",
      "source": [
        "---\n",
        "\n",
        "### ✅ **1. Mean Absolute Error (MAE)** — *Bagus untuk interpretasi yang sederhana*\n",
        "\n",
        "* **Definisi:** Rata-rata selisih absolut antara prediksi dan nilai aktual.\n",
        "* **Sifat:** Tidak sensitif terhadap outlier.\n",
        "* **Kapan terbaik:** Jika ingin penalti yang seimbang untuk semua kesalahan, dan model digunakan di domain di mana **setiap unit error dianggap sama pentingnya** (misal: prediksi harga makanan, suhu, waktu).\n",
        "\n",
        "---\n",
        "\n",
        "### ✅ **2. Mean Squared Error (MSE)** — *Bagus untuk mendeteksi error besar*\n",
        "\n",
        "* **Definisi:** Rata-rata kuadrat selisih antara prediksi dan nilai aktual.\n",
        "* **Sifat:** **Sangat sensitif terhadap outlier** karena mengkuadratkan error.\n",
        "* **Kapan terbaik:** Jika ingin penalti lebih besar terhadap prediksi yang jauh dari nilai aktual. Cocok di aplikasi seperti prediksi beban listrik atau nilai properti.\n",
        "\n",
        "---\n",
        "\n",
        "### ✅ **3. Root Mean Squared Error (RMSE)** — *Mirip MSE, tapi dalam satuan yang sama*\n",
        "\n",
        "* **Definisi:** Akar dari MSE.\n",
        "* **Sifat:** Sama seperti MSE, tapi satuannya sama dengan target asli.\n",
        "* **Kapan terbaik:** Jika ingin interpretasi yang **lebih intuitif secara numerik**, tapi tetap penalti besar untuk error ekstrem.\n",
        "\n",
        "---\n",
        "\n",
        "### ✅ **4. R-squared (R²)** — *Bagus untuk mengukur seberapa baik model menjelaskan variasi data*\n",
        "\n",
        "* **Definisi:** Proporsi variansi target yang bisa dijelaskan oleh model.\n",
        "* **Range:** dari −∞ hingga 1. Nilai 1 = prediksi sempurna.\n",
        "* **Kapan terbaik:** Jika ingin tahu **seberapa besar kontribusi fitur menjelaskan target**. Cocok di awal untuk evaluasi model.\n",
        "\n",
        "---\n",
        "\n",
        "### 🔍 **Kesimpulan Umum:**\n",
        "\n",
        "| Metrik   | Interpretasi                     | Kapan Dipilih                                 |\n",
        "| -------- | -------------------------------- | --------------------------------------------- |\n",
        "| **MAE**  | Stabil, tidak sensitif outlier   | Jika outlier tidak penting                    |\n",
        "| **MSE**  | Penalti besar untuk outlier      | Jika error besar lebih penting                |\n",
        "| **RMSE** | MSE yang lebih mudah dipahami    | Jika ingin penalti besar + interpretasi mudah |\n",
        "| **R²**   | Proporsi variasi yang dijelaskan | Untuk mengetahui goodness of fit              |\n",
        "\n",
        "---\n",
        "\n",
        "### 💡 **Kalau harus pilih satu metrik umum terbaik:**\n",
        "\n",
        "* **Untuk laporan umum:** gunakan **R-squared** (karena intuitif dan umum dipahami).\n",
        "* **Untuk pengambilan keputusan atau perbandingan model:** **RMSE** atau **MAE**, tergantung sensitivitas terhadap outlier."
      ],
      "metadata": {
        "id": "kNLRaIHMzufG"
      }
    },
    {
      "cell_type": "markdown",
      "source": [
        "# Analisis"
      ],
      "metadata": {
        "id": "1oQ2uIo_ZX9A"
      }
    },
    {
      "cell_type": "markdown",
      "source": [
        "### No 1\n",
        "Jika menggunakan model MLP dengan 3 hidden layer (256-128-64) menghasilkan underfitting pada dataset ini, modifikasi apa yang akan dilakukan pada arsitektur? Jelaskan alasan setiap perubahan dengan mempertimbangkan bias-variance tradeoff!\n",
        "---\n",
        "Jawab:\n",
        "Jika model **MLP dengan arsitektur 3 hidden layer (256-128-64)** mengalami **underfitting**, artinya model tidak mampu menangkap pola dari data dengan baik — baik pada data pelatihan maupun validasi. Dalam konteks **bias-variance tradeoff**, underfitting disebabkan oleh **bias yang tinggi**, yaitu model terlalu sederhana atau belum cukup fleksibel untuk mempelajari hubungan kompleks dalam data.\n",
        "\n",
        "---\n",
        "\n",
        "### ✅ **Strategi Modifikasi Arsitektur MLP untuk Mengatasi Underfitting:**\n",
        "\n",
        "Berikut adalah **modifikasi arsitektur** beserta **alasan logisnya** terkait bias-variance tradeoff:\n",
        "\n",
        "---\n",
        "\n",
        "### 🔧 1. **Menambah Jumlah Neuron di Setiap Hidden Layer**\n",
        "\n",
        "* **Contoh:** dari (256-128-64) → menjadi (512-256-128)\n",
        "* **Alasan:** Dengan memperbesar kapasitas model, model dapat mempelajari pola yang lebih kompleks → **mengurangi bias**.\n",
        "* **Bias-Variance Tradeoff:** Menambah neuron akan menurunkan bias, tapi mungkin sedikit menaikkan varians (yang bisa dikendalikan dengan regularisasi).\n",
        "\n",
        "---\n",
        "\n",
        "### 🔧 2. **Menambah Jumlah Hidden Layer (Depth)**\n",
        "\n",
        "* **Contoh:** (512-256-128) → (512-256-128-64)\n",
        "* **Alasan:** Deep networks lebih mampu menangkap **representasi hierarkis** dari data (fitur-fitur kompleks), apalagi jika data memiliki struktur yang dalam.\n",
        "* **Bias-Variance Tradeoff:** Menurunkan bias karena meningkatkan kompleksitas model. Jika terlalu dalam, bisa meningkatkan varians → perlu regularisasi/dropout.\n",
        "\n",
        "---\n",
        "\n",
        "### 🔧 3. **Mengganti atau Menambahkan Aktivasi Non-Linear yang Lebih Kompleks**\n",
        "\n",
        "* **Contoh:** ReLU → LeakyReLU atau ELU\n",
        "* **Alasan:** Beberapa fungsi aktivasi seperti LeakyReLU bisa menghindari **“dead neuron”** problem pada ReLU dan memperkuat representasi non-linear.\n",
        "* **Bias-Variance Tradeoff:** Memungkinkan representasi non-linear yang lebih baik → menurunkan bias.\n",
        "\n",
        "---\n",
        "\n",
        "### 🔧 4. **Menurunkan Tingkat Regularisasi jika Terlalu Tinggi (L2, Dropout)**\n",
        "\n",
        "* **Contoh:** Dropout 0.5 → menjadi 0.3 atau bahkan dinonaktifkan sementara.\n",
        "* **Alasan:** Regularisasi yang terlalu kuat akan menghambat pembelajaran dan menyebabkan underfitting.\n",
        "* **Bias-Variance Tradeoff:** Mengurangi regularisasi akan menurunkan bias, namun perlu berhati-hati agar tidak meningkatkan varians terlalu banyak.\n",
        "\n",
        "---\n",
        "\n",
        "### 🔧 5. **Meningkatkan Jumlah Epoch atau Mengurangi Early Stopping**\n",
        "\n",
        "* **Alasan:** Bisa jadi model belum selesai belajar karena training terlalu cepat dihentikan.\n",
        "* **Bias-Variance Tradeoff:** Membiarkan model belajar lebih lama bisa mengurangi bias, asalkan belum terjadi overfitting.\n",
        "\n",
        "---\n",
        "\n",
        "### 🔧 6. **Feature Engineering atau Normalisasi yang Lebih Baik**\n",
        "\n",
        "* **Alasan:** Fitur yang belum relevan, atau belum ternormalisasi dengan baik dapat menyebabkan model tidak mampu belajar.\n",
        "* **Bias-Variance Tradeoff:** Bukan bagian dari arsitektur, tapi meningkatkan representasi fitur dapat membantu model mengurangi bias secara tidak langsung.\n",
        "\n",
        "---\n",
        "\n",
        "### ✍️ Ringkasan Rekomendasi Modifikasi:\n",
        "\n",
        "| Modifikasi         | Tujuan                           | Efek pada Bias-Variance   |\n",
        "| ------------------ | -------------------------------- | ------------------------- |\n",
        "| Tambah neuron      | Lebih banyak kapasitas           | ↓ Bias, ↑ Varians sedikit |\n",
        "| Tambah layer       | Representasi lebih dalam         | ↓ Bias                    |\n",
        "| Ganti aktivasi     | Lebih stabil dan kuat            | ↓ Bias                    |\n",
        "| Kurangi dropout/L2 | Mengurangi hambatan pembelajaran | ↓ Bias, ↑ Varians         |\n",
        "| Tambah epoch       | Pembelajaran lebih lengkap       | ↓ Bias                    |\n",
        "| Perbaiki fitur     | Input lebih informatif           | ↓ Bias                    |\n",
        "\n",
        "---"
      ],
      "metadata": {
        "id": "R3t8IS6cZd_m"
      }
    },
    {
      "cell_type": "markdown",
      "source": [
        "### No 2\n",
        "Selain MSE, loss function apa yang mungkin cocok untuk dataset ini? Bandingkan kelebihan dan kekurangannya, serta situasi spesifik di mana alternatif tersebut lebih unggul daripada MSE!\n",
        "---\n",
        "Jawab:\n",
        "---\n",
        "\n",
        "## ✅ Alternatif Loss Function Selain MSE\n",
        "\n",
        "### 1. **MAE (Mean Absolute Error)**\n",
        "\n",
        "* **Rumus:**\n",
        "\n",
        "  $$\n",
        "  \\text{MAE} = \\frac{1}{n} \\sum_{i=1}^{n} |y_i - \\hat{y}_i|\n",
        "  $$\n",
        "\n",
        "#### 🔹 **Kelebihan:**\n",
        "\n",
        "* Lebih **robust terhadap outlier** dibanding MSE.\n",
        "* Menghasilkan nilai loss yang **langsung mencerminkan rata-rata deviasi absolut**.\n",
        "\n",
        "#### 🔹 **Kekurangan:**\n",
        "\n",
        "* Gradiennya **konstan**, sehingga lebih lambat saat mendekati minimum.\n",
        "* Tidak memperbesar penalti untuk error besar → bisa kurang sensitif jika outlier penting.\n",
        "\n",
        "#### 📌 **Cocok digunakan jika:**\n",
        "\n",
        "* Data memiliki **outlier ekstrem** atau distribusi target yang skewed.\n",
        "* Tujuan akhir adalah **akurasi median** daripada kuadrat error.\n",
        "\n",
        "---\n",
        "\n",
        "### 2. **Huber Loss**\n",
        "\n",
        "* Kombinasi antara MSE dan MAE.\n",
        "\n",
        "  $$\n",
        "  L_\\delta(y, \\hat{y}) =\n",
        "  \\begin{cases}\n",
        "  \\frac{1}{2}(y - \\hat{y})^2 & \\text{jika } |y - \\hat{y}| \\leq \\delta \\\\\n",
        "  \\delta(|y - \\hat{y}| - \\frac{1}{2}\\delta) & \\text{jika } |y - \\hat{y}| > \\delta\n",
        "  \\end{cases}\n",
        "  $$\n",
        "\n",
        "#### 🔹 **Kelebihan:**\n",
        "\n",
        "* Menangani **outlier** lebih baik dari MSE.\n",
        "* Lebih **halus secara numerik** daripada MAE.\n",
        "* **Stabil saat training** dan tetap peka terhadap kesalahan kecil.\n",
        "\n",
        "#### 🔹 **Kekurangan:**\n",
        "\n",
        "* Butuh **hyperparameter δ** yang harus ditentukan.\n",
        "* Performa bisa tergantung nilai threshold δ.\n",
        "\n",
        "#### 📌 **Cocok digunakan jika:**\n",
        "\n",
        "* Dataset memiliki **beberapa outlier** tapi kita masih ingin penalti kuat untuk error kecil.\n",
        "\n",
        "---\n",
        "\n",
        "### 3. **Log-Cosh Loss**\n",
        "\n",
        "* Fungsi loss halus yang mirip MSE saat error kecil, mirip MAE saat error besar.\n",
        "\n",
        "  $$\n",
        "  \\text{logcosh}(x) = \\log(\\cosh(x)) = \\log\\left(\\frac{e^x + e^{-x}}{2}\\right)\n",
        "  $$\n",
        "\n",
        "#### 🔹 **Kelebihan:**\n",
        "\n",
        "* **Smooth loss** function → lebih stabil saat backpropagation.\n",
        "* Penalti untuk error besar lebih rendah dari MSE (mirip MAE).\n",
        "\n",
        "#### 🔹 **Kekurangan:**\n",
        "\n",
        "* Tidak seintuitif MSE/MAE.\n",
        "* Kadang sedikit lebih lambat konvergensi karena fungsi log.\n",
        "\n",
        "#### 📌 **Cocok digunakan jika:**\n",
        "\n",
        "* Ingin menghindari efek keras dari MSE dan MAE, serta menjaga kelancaran optimisasi.\n",
        "\n",
        "---\n",
        "\n",
        "### 🔍 Perbandingan Ringkas:\n",
        "\n",
        "| Loss Function | Sensitivitas Outlier  | Penalti Error Besar    | Konvergensi            | Cocok Saat                         |\n",
        "| ------------- | --------------------- | ---------------------- | ---------------------- | ---------------------------------- |\n",
        "| **MSE**       | Tinggi (tidak robust) | Sangat besar           | Cepat (gradient besar) | Data bersih, error besar penting   |\n",
        "| **MAE**       | Rendah (robust)       | Linear                 | Lambat                 | Banyak outlier, distribusi skewed  |\n",
        "| **Huber**     | Sedang (terkontrol)   | Non-linear, adjustable | Stabil                 | Sedikit outlier, balance           |\n",
        "| **Log-Cosh**  | Rendah (soft)         | Smooth                 | Stabil                 | Butuh stabilitas dan fleksibilitas |\n",
        "\n",
        "---\n",
        "\n",
        "## 🎯 Kesimpulan untuk Dataset Ini:\n",
        "\n",
        "Jika kamu melihat pada hasil output model kamu sebelumnya dan melihat adanya:\n",
        "\n",
        "* **Outlier pada target**\n",
        "* **Distribusi target skewed**\n",
        "* **Model underfitting atau loss MSE tidak stabil**\n",
        "\n",
        "➡️ Maka **Huber Loss** adalah kandidat yang **paling direkomendasikan**, karena memberikan kompromi terbaik antara penalti kuat (MSE) dan robust (MAE).\n",
        "\n",
        "---"
      ],
      "metadata": {
        "id": "cUQ-PO8JZ4KK"
      }
    },
    {
      "cell_type": "markdown",
      "source": [
        "### No 3\n",
        "Jika salah satu fitur memiliki range nilai 0-1, sedangkan fitur lain 100-1000, bagaimana ini memengaruhi pelatihan MLP? Jelaskan mekanisme matematis (e.g., gradien, weight update) yang terdampak!\n",
        "---\n",
        "Jawab:\n",
        "---\n",
        "\n",
        "## ⚠️ Masalah: Fitur Tidak Diskalakan (Misalnya: 0–1 vs. 100–1000)\n",
        "\n",
        "### ✅ Mekanisme yang Terpengaruh:\n",
        "\n",
        "### 1. **Forward Pass: Aktivasi Tidak Seimbang**\n",
        "\n",
        "* Jika satu fitur (misalnya `x1 ∈ [0,1]`) dan yang lain (`x2 ∈ [100,1000]`), maka:\n",
        "\n",
        "  $$\n",
        "  z = w_1 x_1 + w_2 x_2 + b\n",
        "  $$\n",
        "\n",
        "  akan **dominan oleh x2**, karena skalanya jauh lebih besar.\n",
        "\n",
        "> ➤ Ini menyebabkan **fitur skala kecil hampir diabaikan** oleh jaringan.\n",
        "\n",
        "---\n",
        "\n",
        "### 2. **Backward Pass: Gradien Tidak Stabil**\n",
        "\n",
        "* Backpropagation menghitung turunan dari loss terhadap bobot:\n",
        "\n",
        "  $$\n",
        "  \\frac{\\partial \\text{Loss}}{\\partial w_i} = \\frac{\\partial \\text{Loss}}{\\partial z} \\cdot \\frac{\\partial z}{\\partial w_i} = \\delta \\cdot x_i\n",
        "  $$\n",
        "\n",
        "> ➤ Jadi jika `x_i` besar (misal 1000), maka **gradien w\\_i akan besar**, menyebabkan **update besar** pada weight tersebut.\n",
        "\n",
        "Sebaliknya, fitur yang kecil menghasilkan **gradien kecil**, dan weight-nya **di-update lebih lambat** → tidak belajar optimal.\n",
        "\n",
        "---\n",
        "\n",
        "### 3. **Masalah Vanishing/Exploding Gradients**\n",
        "\n",
        "* Dalam jaringan dalam (deep network), input yang tidak distandarkan bisa menyebabkan nilai aktivasi `z` sangat besar → menyebabkan **aktivasi sigmoid/tanh menjadi saturasi (mendekati 1 atau -1)**:\n",
        "\n",
        "  * Ini membuat turunan (`∂σ/∂z`) → mendekati **nol**\n",
        "  * Sehingga **gradien hilang (vanishing gradient)** dan **learning stagnan**.\n",
        "\n",
        "---\n",
        "\n",
        "### 4. **Batch Normalization Tidak Efektif**\n",
        "\n",
        "* Jika data belum dinormalisasi, maka distribusi input batch sangat bervariasi → **batch normalization** akan sering melakukan re-scaling besar-besaran, yang mengacaukan stabilitas training.\n",
        "\n",
        "---\n",
        "\n",
        "## 💡 Dampak Praktis\n",
        "\n",
        "| Masalah                    | Akibat pada MLP Training                            |\n",
        "| -------------------------- | --------------------------------------------------- |\n",
        "| Fitur dengan skala besar   | Mendominasi prediksi, fitur kecil diabaikan         |\n",
        "| Gradien tidak proporsional | Learning tidak merata, bobot belajar tidak seimbang |\n",
        "| Optimizer tidak efisien    | Convergence lambat, bisa stuck pada suboptimal      |\n",
        "| Risiko vanishing gradient  | Model sulit belajar saat masuk hidden layers        |\n",
        "\n",
        "---\n",
        "\n",
        "## ✅ Solusi: Normalisasi atau Standardisasi Fitur\n",
        "\n",
        "1. **Min-Max Scaling:**\n",
        "   Semua fitur ke rentang \\[0,1]\n",
        "\n",
        "   $$\n",
        "   x' = \\frac{x - x_{min}}{x_{max} - x_{min}}\n",
        "   $$\n",
        "2. **Standard Scaling (Z-score):**\n",
        "   Buat mean = 0 dan std = 1\n",
        "\n",
        "   $$\n",
        "   x' = \\frac{x - \\mu}{\\sigma}\n",
        "   $$\n",
        "\n",
        "---\n",
        "\n",
        "## 🎯 Kesimpulan\n",
        "\n",
        "> **Tanpa normalisasi fitur, training MLP menjadi tidak stabil karena gradien dan update bobot sangat dipengaruhi oleh skala fitur.** Hal ini mengarah ke konvergensi lambat, fitur tidak belajar, dan performa model rendah."
      ],
      "metadata": {
        "id": "E-0HihxPaXfO"
      }
    },
    {
      "cell_type": "markdown",
      "source": [
        "### No 4\n",
        "Tanpa mengetahui nama fitur, bagaimana Anda mengukur kontribusi relatif setiap fitur terhadap prediksi model? Jelaskan metode teknikal (e.g., permutation importance, weight analysis) dan keterbatasannya!\n",
        "---\n",
        "Jawab:\n",
        "---\n",
        "\n",
        "## ✅ Metode 1: **Permutation Feature Importance (PFI)**\n",
        "\n",
        "### 🔧 Cara kerja:\n",
        "\n",
        "1. Evaluasi model dengan data asli → dapatkan skor (misal: MSE).\n",
        "2. Untuk setiap fitur:\n",
        "\n",
        "   * Acak nilainya (permutasi antar sampel).\n",
        "   * Ukur ulang performa model.\n",
        "   * Hitung selisih performa sebelum dan sesudah → semakin besar penurunan performa, semakin penting fitur tersebut.\n",
        "\n",
        "### 📌 Kelebihan:\n",
        "\n",
        "* **Model-agnostik** → bisa diterapkan di MLP, XGBoost, dll.\n",
        "* Bisa diterapkan meskipun **fitur tidak dinamai** (cukup pakai indeks kolom).\n",
        "\n",
        "### ⚠️ Keterbatasan:\n",
        "\n",
        "* **Komputasi mahal**, karena perlu inference berulang kali.\n",
        "* Tidak bisa menangkap **interaksi antar fitur** secara baik.\n",
        "* Bisa bias pada fitur yang memiliki korelasi tinggi → hasil overestimasi.\n",
        "\n",
        "---\n",
        "\n",
        "## ✅ Metode 2: **Weight Magnitude Analysis (khusus MLP)**\n",
        "\n",
        "### 🔧 Cara kerja:\n",
        "\n",
        "* Ambil **weight dari input layer ke hidden layer pertama** (`W ∈ R^{n_input × n_hidden}`).\n",
        "* Hitung **norm** (misal: L2) dari bobot setiap input fitur ke seluruh neuron layer berikutnya:\n",
        "\n",
        "  $$\n",
        "  \\text{importance}_i = \\| W_{i,:} \\|_2\n",
        "  $$\n",
        "* Semakin besar norm-nya, semakin kuat pengaruh fitur tersebut.\n",
        "\n",
        "### 📌 Kelebihan:\n",
        "\n",
        "* **Cepat dan sederhana**.\n",
        "* Memberi insight langsung dari parameter model.\n",
        "\n",
        "### ⚠️ Keterbatasan:\n",
        "\n",
        "* Tidak mempertimbangkan **aktivasi atau nonlinearitas** (ReLU, dsb).\n",
        "* Tidak memperhitungkan **output atau loss** secara langsung.\n",
        "* **Bisa misleading**: bobot besar ≠ penting, karena bisa dikompensasi oleh bobot layer berikutnya.\n",
        "\n",
        "---\n",
        "\n",
        "## ✅ Metode 3: **SHAP (SHapley Additive exPlanations)**\n",
        "\n",
        "### 🔧 Cara kerja:\n",
        "\n",
        "* Menghitung **kontribusi marjinal** dari tiap fitur terhadap prediksi, berdasarkan teori game (Shapley Value).\n",
        "* Bisa digunakan untuk deep learning melalui `DeepExplainer` (TensorFlow/Keras) atau `KernelExplainer`.\n",
        "\n",
        "### 📌 Kelebihan:\n",
        "\n",
        "* Menyediakan **penjelasan lokal dan global**.\n",
        "* Menghitung **interaksi fitur** secara adil.\n",
        "\n",
        "### ⚠️ Keterbatasan:\n",
        "\n",
        "* **Mahal secara komputasi** untuk banyak fitur.\n",
        "* Implementasi untuk PyTorch perlu wrapper eksternal (`captum`, `shap`), dan tidak trivial tanpa nama fitur.\n",
        "\n",
        "---\n",
        "\n",
        "## ✅ Kesimpulan\n",
        "\n",
        "| Metode                 | Bisa Tanpa Nama Fitur | Akurat | Cepat | Kelebihan Utama                           |\n",
        "| ---------------------- | --------------------- | ------ | ----- | ----------------------------------------- |\n",
        "| Permutation Importance | ✅                     | ✅      | ❌     | Interpretasi model-agnostik yang solid    |\n",
        "| Weight Norm Analysis   | ✅                     | ❌      | ✅     | Cepat, bisa diterapkan langsung           |\n",
        "| SHAP                   | ✅ (pakai index)       | ✅✅     | ❌❌    | Interpretasi mendalam berbasis teori game |\n",
        "\n",
        "---"
      ],
      "metadata": {
        "id": "6JSm1fnFauCf"
      }
    },
    {
      "cell_type": "markdown",
      "source": [
        "### No 5\n",
        "Bagaimana Anda mendesain eksperimen untuk memilih learning rate dan batch size secara optimal? Sertakan analisis tradeoff antara komputasi dan stabilitas pelatihan!\n",
        "---\n",
        "Jawab:\n",
        "---\n",
        "\n",
        "### ✅ 1. **Grid Search / Random Search Eksploratif**\n",
        "\n",
        "#### 🔧 Langkah-langkah:\n",
        "\n",
        "1. **Tentukan range**:\n",
        "\n",
        "   * Learning rate (LR): \\[1e-4, 1e-3, 1e-2, 1e-1]\n",
        "   * Batch size: \\[16, 32, 64, 128, 256]\n",
        "2. Untuk setiap kombinasi:\n",
        "\n",
        "   * Latih model selama beberapa epoch tetap (misalnya 20).\n",
        "   * Catat metrik validasi: loss, akurasi, atau MSE.\n",
        "   * Simpan model terbaik berdasarkan metrik validasi.\n",
        "\n",
        "---\n",
        "\n",
        "### ✅ 2. **Learning Rate Finder (LR range test)**\n",
        "\n",
        "#### 🔧 Langkah-langkah:\n",
        "\n",
        "1. Uji training dari learning rate sangat kecil (misal 1e-7) → besar (misal 1).\n",
        "2. Set batch size tetap (misal 64).\n",
        "3. Catat loss terhadap learning rate (log-scale).\n",
        "4. Pilih LR optimal di **titik sebelum loss mulai naik drastis** (biasanya di lereng curam awal grafik).\n",
        "\n",
        "#### 📌 Kelebihan:\n",
        "\n",
        "* Cepat, hanya 1 epoch.\n",
        "* Memberi gambaran jelas LR yang efektif.\n",
        "\n",
        "#### ⚠️ Kelemahan:\n",
        "\n",
        "* Tidak mempertimbangkan batch size.\n",
        "* Implementasi perlu visualisasi tambahan.\n",
        "\n",
        "---\n",
        "\n",
        "### ✅ 3. **Grid/Random Search dengan Early Stopping**\n",
        "\n",
        "* Kombinasikan **Grid/Random Search** dengan **early stopping** untuk mempercepat waktu eksperimen dan menghindari overfitting.\n",
        "* Cocok jika model kompleks dan eksperimen lama.\n",
        "\n",
        "---\n",
        "\n",
        "### 🧠 Analisis Tradeoff\n",
        "\n",
        "| Parameter         | Kecil (misal 1e-5, batch 16)                                              | Besar (misal 1e-1, batch 256)                                                          |\n",
        "| ----------------- | ------------------------------------------------------------------------- | -------------------------------------------------------------------------------------- |\n",
        "| **Learning Rate** | ✅ Lebih stabil, pelatihan lebih presisi<br>❌ Lambat konvergensi           | ✅ Konvergen cepat<br>❌ Risiko overshooting, divergen                                   |\n",
        "| **Batch Size**    | ✅ Noisy update → lebih baik generalisasi<br>❌ Lebih lambat & tidak stabil | ✅ Update stabil & cepat (lebih cocok untuk GPU)<br>❌ Bisa overfit, kurang generalisasi |\n",
        "\n",
        "---\n",
        "\n",
        "### ✅ Rekomendasi Praktis\n",
        "\n",
        "| Tujuan                          | Strategi                                                                     |\n",
        "| ------------------------------- | ---------------------------------------------------------------------------- |\n",
        "| Cepat konvergen awal            | Gunakan **learning rate finder**, lalu fix batch size (misal 64)             |\n",
        "| Akurasi maksimum jangka panjang | Gunakan **Grid Search kecil** + early stopping                               |\n",
        "| Sumber daya terbatas            | **Random Search** 10–20 kombinasi → lebih hemat daripada Grid Search lengkap |\n",
        "| Stabilitas penting              | Mulai dari batch size kecil, LR rendah → naik bertahap jika loss stabil      |\n",
        "\n",
        "---"
      ],
      "metadata": {
        "id": "1gc3cRkGbC9w"
      }
    }
  ]
}
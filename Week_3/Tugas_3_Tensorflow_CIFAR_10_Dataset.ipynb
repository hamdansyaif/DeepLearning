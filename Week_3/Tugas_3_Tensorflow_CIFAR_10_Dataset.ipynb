{
  "cells": [
    {
      "cell_type": "markdown",
      "metadata": {
        "id": "view-in-github",
        "colab_type": "text"
      },
      "source": [
        "<a href=\"https://colab.research.google.com/github/hamdansyaif/DeepLearning/blob/main/Week_3/Tugas_3_Tensorflow_CIFAR_10_Dataset.ipynb\" target=\"_parent\"><img src=\"https://colab.research.google.com/assets/colab-badge.svg\" alt=\"Open In Colab\"/></a>"
      ]
    },
    {
      "cell_type": "markdown",
      "metadata": {
        "id": "ly7QAhfqbJ7D"
      },
      "source": [
        "# **TUGAS WEEK 3 CNN & MLP menggunakan PyTorch**\n",
        "1. Buat model Deep learning CNN dan MLP (PyTorch and Tensorflow). Ambil datasets dari tensorflow_datasets dan torchvision.datasets\n",
        "2. Gunakan Matriks Evaluasi (Akurasi,Presisi,Recall,F1Squared, AUC, ROC)\n",
        "3. Beri penjelasan untuk setiap persamaan matematika yang ada.\n",
        "4. Akurasi pada Training dan Testing Set Minimal Sebesar 75%. untuk model MLP Vanila bebas dapet akurasi berapapun\n",
        "5. Disarankan untuk mengerjakan tugas menggunakan Google Colab. Coba gunakan Google Colab dengan\n",
        "     T4 GPU atau TPU agar proses pelatihan model menjadi lebih cepat."
      ]
    },
    {
      "cell_type": "code",
      "execution_count": 19,
      "metadata": {
        "id": "wc-ReX1ybKxl"
      },
      "outputs": [],
      "source": [
        "!pip install -q tensorflow tensorflow_datasets matplotlib scikit-learn pandas seaborn"
      ]
    },
    {
      "cell_type": "code",
      "execution_count": 20,
      "metadata": {
        "id": "L-c5OTUdbqC6"
      },
      "outputs": [],
      "source": [
        "import numpy as np\n",
        "import matplotlib.pyplot as plt\n",
        "import seaborn as sns\n",
        "import time\n",
        "import pandas as pd\n",
        "from sklearn.metrics import accuracy_score, precision_score, recall_score, f1_score, roc_curve, auc, confusion_matrix\n",
        "\n",
        "# Set random seed untuk reproduktibilitas\n",
        "np.random.seed(42)"
      ]
    },
    {
      "cell_type": "code",
      "execution_count": 21,
      "metadata": {
        "colab": {
          "base_uri": "https://localhost:8080/"
        },
        "id": "yPZN2iTVcw_S",
        "outputId": "fb0cdeb2-4520-4fe1-d886-64c5902f15fa"
      },
      "outputs": [
        {
          "output_type": "stream",
          "name": "stdout",
          "text": [
            "TensorFlow version: 2.18.0\n",
            "GPU tersedia: []\n",
            "Num GPUs Available:  0\n"
          ]
        }
      ],
      "source": [
        "import tensorflow as tf\n",
        "from tensorflow.keras import datasets, layers, models, optimizers, callbacks\n",
        "import tensorflow_datasets as tfds\n",
        "\n",
        "# Set random seed untuk TensorFlow\n",
        "tf.random.set_seed(42)\n",
        "\n",
        "# Cek ketersediaan GPU\n",
        "print(\"TensorFlow version:\", tf.__version__)\n",
        "print(\"GPU tersedia:\", tf.config.list_physical_devices('GPU'))\n",
        "print(\"Num GPUs Available: \", len(tf.config.list_physical_devices('GPU')))\n",
        "\n",
        "# Untuk menampilkan informasi GPU jika tersedia (dengan penanganan error yang lebih baik)\n",
        "if len(tf.config.list_physical_devices('GPU')) > 0:\n",
        "    try:\n",
        "        # Gunakan command shell untuk mendapatkan info GPU\n",
        "        !nvidia-smi\n",
        "    except:\n",
        "        print(\"Tidak dapat menampilkan detail GPU, tetapi GPU terdeteksi.\")"
      ]
    },
    {
      "cell_type": "markdown",
      "source": [
        "### **Persiapan Dataset CIFAR-10**"
      ],
      "metadata": {
        "id": "mQhTAm3Hf870"
      }
    },
    {
      "cell_type": "code",
      "source": [
        "# Memuat dataset CIFAR-10 langsung dari TensorFlow Keras\n",
        "from tensorflow.keras.datasets import cifar10\n",
        "from tensorflow.keras.utils import to_categorical\n",
        "\n",
        "# Load dataset CIFAR-10\n",
        "(x_train, y_train), (x_test, y_test) = cifar10.load_data()\n",
        "\n",
        "# Normalisasi piksel gambar ke rentang [0, 1]\n",
        "x_train = x_train / 255.0\n",
        "x_test = x_test / 255.0\n",
        "\n",
        "# Konversi label ke bentuk one-hot encoding\n",
        "y_train_oh = to_categorical(y_train, num_classes=10)\n",
        "y_test_oh = to_categorical(y_test, num_classes=10)\n",
        "\n",
        "# Definisi nama-nama kelas untuk visualisasi dan interpretasi\n",
        "labels_cifar10 = [\n",
        "    'Airplane', 'Automobile', 'Bird', 'Cat', 'Deer',\n",
        "    'Dog', 'Frog', 'Horse', 'Ship', 'Truck'\n",
        "]\n",
        "\n",
        "# Cetak informasi dasar dataset\n",
        "print(f\"Data training: {x_train.shape[0]} sampel\")\n",
        "print(f\"Data testing: {x_test.shape[0]} sampel\")\n",
        "print(f\"Jumlah kelas: {len(labels_cifar10)}\")\n",
        "print(f\"Label CIFAR-10: {labels_cifar10}\")\n",
        "print(f\"Dimensi gambar per sampel: {x_train.shape[1:]}\")\n"
      ],
      "metadata": {
        "colab": {
          "base_uri": "https://localhost:8080/"
        },
        "id": "COzSb-gagB_f",
        "outputId": "f9a0a935-bec3-4bb6-ba64-c59bf1dadfc9"
      },
      "execution_count": 22,
      "outputs": [
        {
          "output_type": "stream",
          "name": "stdout",
          "text": [
            "Downloading data from https://www.cs.toronto.edu/~kriz/cifar-10-python.tar.gz\n",
            "\u001b[1m170498071/170498071\u001b[0m \u001b[32m━━━━━━━━━━━━━━━━━━━━\u001b[0m\u001b[37m\u001b[0m \u001b[1m4s\u001b[0m 0us/step\n",
            "Data training: 50000 sampel\n",
            "Data testing: 10000 sampel\n",
            "Jumlah kelas: 10\n",
            "Label CIFAR-10: ['Airplane', 'Automobile', 'Bird', 'Cat', 'Deer', 'Dog', 'Frog', 'Horse', 'Ship', 'Truck']\n",
            "Dimensi gambar per sampel: (32, 32, 3)\n"
          ]
        }
      ]
    },
    {
      "cell_type": "code",
      "source": [
        "# Fungsi untuk menampilkan grid gambar dari dataset\n",
        "def show_sample_images(data, labels, label_names, rows=3, cols=3):\n",
        "    fig, axes = plt.subplots(rows, cols, figsize=(9, 9))\n",
        "    selected_idx = np.random.choice(data.shape[0], rows * cols, replace=False)\n",
        "\n",
        "    for ax, idx in zip(axes.flat, selected_idx):\n",
        "        ax.imshow(data[idx])\n",
        "        label_index = labels[idx][0] if labels.ndim == 2 else labels[idx]\n",
        "        ax.set_title(label_names[label_index])\n",
        "        ax.axis('off')\n",
        "\n",
        "    plt.suptitle(\"Contoh Gambar dari CIFAR-10\", fontsize=16)\n",
        "    plt.tight_layout()\n",
        "    plt.show()\n",
        "\n",
        "# Panggil fungsi untuk menampilkan sampel gambar dari data pelatihan\n",
        "show_sample_images(x_train, y_train, labels_cifar10, rows=3, cols=3)\n"
      ],
      "metadata": {
        "colab": {
          "base_uri": "https://localhost:8080/",
          "height": 904
        },
        "id": "wAF8266ogcct",
        "outputId": "51c7bf77-8029-41b1-e0bf-7c0d48f1a139"
      },
      "execution_count": 23,
      "outputs": [
        {
          "output_type": "display_data",
          "data": {
            "text/plain": [
              "<Figure size 900x900 with 9 Axes>"
            ],
            "image/png": "[encoded data removed]"
          },
          "metadata": {}
        }
      ]
    },
    {
      "cell_type": "markdown",
      "source": [
        "### **MODEL CNN**"
      ],
      "metadata": {
        "id": "_DryVnNOgfTp"
      }
    },
    {
      "cell_type": "code",
      "source": [
        "# Fungsi untuk membangun arsitektur CNN CIFAR-10\n",
        "def build_cnn():\n",
        "    model = tf.keras.Sequential()\n",
        "\n",
        "    # Blok Conv 1\n",
        "    model.add(layers.Conv2D(32, kernel_size=3, padding='same', activation='relu', input_shape=(32, 32, 3)))\n",
        "    model.add(layers.BatchNormalization())\n",
        "    model.add(layers.MaxPooling2D(pool_size=2))\n",
        "\n",
        "    # Blok Conv 2\n",
        "    model.add(layers.Conv2D(64, kernel_size=3, activation='relu', padding='same'))\n",
        "    model.add(layers.BatchNormalization())\n",
        "    model.add(layers.MaxPooling2D(pool_size=2))\n",
        "\n",
        "    # Blok Conv 3\n",
        "    model.add(layers.Conv2D(128, kernel_size=3, activation='relu', padding='same'))\n",
        "    model.add(layers.BatchNormalization())\n",
        "    model.add(layers.MaxPooling2D(pool_size=2))\n",
        "\n",
        "    # Fully Connected Layer\n",
        "    model.add(layers.GlobalAveragePooling2D())\n",
        "    model.add(layers.Dense(256, activation='relu'))\n",
        "    model.add(layers.Dropout(0.3))\n",
        "    model.add(layers.Dense(10, activation='softmax'))\n",
        "\n",
        "    # Kompilasi model\n",
        "    model.compile(\n",
        "        optimizer=tf.keras.optimizers.Adam(learning_rate=0.001),\n",
        "        loss='categorical_crossentropy',\n",
        "        metrics=['accuracy']\n",
        "    )\n",
        "\n",
        "    return model\n",
        "\n",
        "# Inisialisasi model CNN\n",
        "cnn_model = build_cnn()\n",
        "\n",
        "# Tampilkan arsitektur model\n",
        "cnn_model.summary()\n"
      ],
      "metadata": {
        "colab": {
          "base_uri": "https://localhost:8080/",
          "height": 664
        },
        "id": "0DIoixg3ghRS",
        "outputId": "b24f5e67-922e-4f83-9eb3-07c2ead6affe"
      },
      "execution_count": 24,
      "outputs": [
        {
          "output_type": "stream",
          "name": "stderr",
          "text": [
            "/usr/local/lib/python3.11/dist-packages/keras/src/layers/convolutional/base_conv.py:107: UserWarning: Do not pass an `input_shape`/`input_dim` argument to a layer. When using Sequential models, prefer using an `Input(shape)` object as the first layer in the model instead.\n",
            "  super().__init__(activity_regularizer=activity_regularizer, **kwargs)\n"
          ]
        },
        {
          "output_type": "display_data",
          "data": {
            "text/plain": [
              "\u001b[1mModel: \"sequential\"\u001b[0m\n"
            ],
            "text/html": [
              "<pre style=\"white-space:pre;overflow-x:auto;line-height:normal;font-family:Menlo,'DejaVu Sans Mono',consolas,'Courier New',monospace\"><span style=\"font-weight: bold\">Model: \"sequential\"</span>\n",
              "</pre>\n"
            ]
          },
          "metadata": {}
        },
        {
          "output_type": "display_data",
          "data": {
            "text/plain": [
              "┏━━━━━━━━━━━━━━━━━━━━━━━━━━━━━━━━━━━━━━┳━━━━━━━━━━━━━━━━━━━━━━━━━━━━━┳━━━━━━━━━━━━━━━━━┓\n",
              "┃\u001b[1m \u001b[0m\u001b[1mLayer (type)                        \u001b[0m\u001b[1m \u001b[0m┃\u001b[1m \u001b[0m\u001b[1mOutput Shape               \u001b[0m\u001b[1m \u001b[0m┃\u001b[1m \u001b[0m\u001b[1m        Param #\u001b[0m\u001b[1m \u001b[0m┃\n",
              "┡━━━━━━━━━━━━━━━━━━━━━━━━━━━━━━━━━━━━━━╇━━━━━━━━━━━━━━━━━━━━━━━━━━━━━╇━━━━━━━━━━━━━━━━━┩\n",
              "│ conv2d (\u001b[38;5;33mConv2D\u001b[0m)                      │ (\u001b[38;5;45mNone\u001b[0m, \u001b[38;5;34m32\u001b[0m, \u001b[38;5;34m32\u001b[0m, \u001b[38;5;34m32\u001b[0m)          │             \u001b[38;5;34m896\u001b[0m │\n",
              "├──────────────────────────────────────┼─────────────────────────────┼─────────────────┤\n",
              "│ batch_normalization                  │ (\u001b[38;5;45mNone\u001b[0m, \u001b[38;5;34m32\u001b[0m, \u001b[38;5;34m32\u001b[0m, \u001b[38;5;34m32\u001b[0m)          │             \u001b[38;5;34m128\u001b[0m │\n",
              "│ (\u001b[38;5;33mBatchNormalization\u001b[0m)                 │                             │                 │\n",
              "├──────────────────────────────────────┼─────────────────────────────┼─────────────────┤\n",
              "│ max_pooling2d (\u001b[38;5;33mMaxPooling2D\u001b[0m)         │ (\u001b[38;5;45mNone\u001b[0m, \u001b[38;5;34m16\u001b[0m, \u001b[38;5;34m16\u001b[0m, \u001b[38;5;34m32\u001b[0m)          │               \u001b[38;5;34m0\u001b[0m │\n",
              "├──────────────────────────────────────┼─────────────────────────────┼─────────────────┤\n",
              "│ conv2d_1 (\u001b[38;5;33mConv2D\u001b[0m)                    │ (\u001b[38;5;45mNone\u001b[0m, \u001b[38;5;34m16\u001b[0m, \u001b[38;5;34m16\u001b[0m, \u001b[38;5;34m64\u001b[0m)          │          \u001b[38;5;34m18,496\u001b[0m │\n",
              "├──────────────────────────────────────┼─────────────────────────────┼─────────────────┤\n",
              "│ batch_normalization_1                │ (\u001b[38;5;45mNone\u001b[0m, \u001b[38;5;34m16\u001b[0m, \u001b[38;5;34m16\u001b[0m, \u001b[38;5;34m64\u001b[0m)          │             \u001b[38;5;34m256\u001b[0m │\n",
              "│ (\u001b[38;5;33mBatchNormalization\u001b[0m)                 │                             │                 │\n",
              "├──────────────────────────────────────┼─────────────────────────────┼─────────────────┤\n",
              "│ max_pooling2d_1 (\u001b[38;5;33mMaxPooling2D\u001b[0m)       │ (\u001b[38;5;45mNone\u001b[0m, \u001b[38;5;34m8\u001b[0m, \u001b[38;5;34m8\u001b[0m, \u001b[38;5;34m64\u001b[0m)            │               \u001b[38;5;34m0\u001b[0m │\n",
              "├──────────────────────────────────────┼─────────────────────────────┼─────────────────┤\n",
              "│ conv2d_2 (\u001b[38;5;33mConv2D\u001b[0m)                    │ (\u001b[38;5;45mNone\u001b[0m, \u001b[38;5;34m8\u001b[0m, \u001b[38;5;34m8\u001b[0m, \u001b[38;5;34m128\u001b[0m)           │          \u001b[38;5;34m73,856\u001b[0m │\n",
              "├──────────────────────────────────────┼─────────────────────────────┼─────────────────┤\n",
              "│ batch_normalization_2                │ (\u001b[38;5;45mNone\u001b[0m, \u001b[38;5;34m8\u001b[0m, \u001b[38;5;34m8\u001b[0m, \u001b[38;5;34m128\u001b[0m)           │             \u001b[38;5;34m512\u001b[0m │\n",
              "│ (\u001b[38;5;33mBatchNormalization\u001b[0m)                 │                             │                 │\n",
              "├──────────────────────────────────────┼─────────────────────────────┼─────────────────┤\n",
              "│ max_pooling2d_2 (\u001b[38;5;33mMaxPooling2D\u001b[0m)       │ (\u001b[38;5;45mNone\u001b[0m, \u001b[38;5;34m4\u001b[0m, \u001b[38;5;34m4\u001b[0m, \u001b[38;5;34m128\u001b[0m)           │               \u001b[38;5;34m0\u001b[0m │\n",
              "├──────────────────────────────────────┼─────────────────────────────┼─────────────────┤\n",
              "│ global_average_pooling2d             │ (\u001b[38;5;45mNone\u001b[0m, \u001b[38;5;34m128\u001b[0m)                 │               \u001b[38;5;34m0\u001b[0m │\n",
              "│ (\u001b[38;5;33mGlobalAveragePooling2D\u001b[0m)             │                             │                 │\n",
              "├──────────────────────────────────────┼─────────────────────────────┼─────────────────┤\n",
              "│ dense (\u001b[38;5;33mDense\u001b[0m)                        │ (\u001b[38;5;45mNone\u001b[0m, \u001b[38;5;34m256\u001b[0m)                 │          \u001b[38;5;34m33,024\u001b[0m │\n",
              "├──────────────────────────────────────┼─────────────────────────────┼─────────────────┤\n",
              "│ dropout (\u001b[38;5;33mDropout\u001b[0m)                    │ (\u001b[38;5;45mNone\u001b[0m, \u001b[38;5;34m256\u001b[0m)                 │               \u001b[38;5;34m0\u001b[0m │\n",
              "├──────────────────────────────────────┼─────────────────────────────┼─────────────────┤\n",
              "│ dense_1 (\u001b[38;5;33mDense\u001b[0m)                      │ (\u001b[38;5;45mNone\u001b[0m, \u001b[38;5;34m10\u001b[0m)                  │           \u001b[38;5;34m2,570\u001b[0m │\n",
              "└──────────────────────────────────────┴─────────────────────────────┴─────────────────┘\n"
            ],
            "text/html": [
              "<pre style=\"white-space:pre;overflow-x:auto;line-height:normal;font-family:Menlo,'DejaVu Sans Mono',consolas,'Courier New',monospace\">┏━━━━━━━━━━━━━━━━━━━━━━━━━━━━━━━━━━━━━━┳━━━━━━━━━━━━━━━━━━━━━━━━━━━━━┳━━━━━━━━━━━━━━━━━┓\n",
              "┃<span style=\"font-weight: bold\"> Layer (type)                         </span>┃<span style=\"font-weight: bold\"> Output Shape                </span>┃<span style=\"font-weight: bold\">         Param # </span>┃\n",
              "┡━━━━━━━━━━━━━━━━━━━━━━━━━━━━━━━━━━━━━━╇━━━━━━━━━━━━━━━━━━━━━━━━━━━━━╇━━━━━━━━━━━━━━━━━┩\n",
              "│ conv2d (<span style=\"color: #0087ff; text-decoration-color: #0087ff\">Conv2D</span>)                      │ (<span style=\"color: #00d7ff; text-decoration-color: #00d7ff\">None</span>, <span style=\"color: #00af00; text-decoration-color: #00af00\">32</span>, <span style=\"color: #00af00; text-decoration-color: #00af00\">32</span>, <span style=\"color: #00af00; text-decoration-color: #00af00\">32</span>)          │             <span style=\"color: #00af00; text-decoration-color: #00af00\">896</span> │\n",
              "├──────────────────────────────────────┼─────────────────────────────┼─────────────────┤\n",
              "│ batch_normalization                  │ (<span style=\"color: #00d7ff; text-decoration-color: #00d7ff\">None</span>, <span style=\"color: #00af00; text-decoration-color: #00af00\">32</span>, <span style=\"color: #00af00; text-decoration-color: #00af00\">32</span>, <span style=\"color: #00af00; text-decoration-color: #00af00\">32</span>)          │             <span style=\"color: #00af00; text-decoration-color: #00af00\">128</span> │\n",
              "│ (<span style=\"color: #0087ff; text-decoration-color: #0087ff\">BatchNormalization</span>)                 │                             │                 │\n",
              "├──────────────────────────────────────┼─────────────────────────────┼─────────────────┤\n",
              "│ max_pooling2d (<span style=\"color: #0087ff; text-decoration-color: #0087ff\">MaxPooling2D</span>)         │ (<span style=\"color: #00d7ff; text-decoration-color: #00d7ff\">None</span>, <span style=\"color: #00af00; text-decoration-color: #00af00\">16</span>, <span style=\"color: #00af00; text-decoration-color: #00af00\">16</span>, <span style=\"color: #00af00; text-decoration-color: #00af00\">32</span>)          │               <span style=\"color: #00af00; text-decoration-color: #00af00\">0</span> │\n",
              "├──────────────────────────────────────┼─────────────────────────────┼─────────────────┤\n",
              "│ conv2d_1 (<span style=\"color: #0087ff; text-decoration-color: #0087ff\">Conv2D</span>)                    │ (<span style=\"color: #00d7ff; text-decoration-color: #00d7ff\">None</span>, <span style=\"color: #00af00; text-decoration-color: #00af00\">16</span>, <span style=\"color: #00af00; text-decoration-color: #00af00\">16</span>, <span style=\"color: #00af00; text-decoration-color: #00af00\">64</span>)          │          <span style=\"color: #00af00; text-decoration-color: #00af00\">18,496</span> │\n",
              "├──────────────────────────────────────┼─────────────────────────────┼─────────────────┤\n",
              "│ batch_normalization_1                │ (<span style=\"color: #00d7ff; text-decoration-color: #00d7ff\">None</span>, <span style=\"color: #00af00; text-decoration-color: #00af00\">16</span>, <span style=\"color: #00af00; text-decoration-color: #00af00\">16</span>, <span style=\"color: #00af00; text-decoration-color: #00af00\">64</span>)          │             <span style=\"color: #00af00; text-decoration-color: #00af00\">256</span> │\n",
              "│ (<span style=\"color: #0087ff; text-decoration-color: #0087ff\">BatchNormalization</span>)                 │                             │                 │\n",
              "├──────────────────────────────────────┼─────────────────────────────┼─────────────────┤\n",
              "│ max_pooling2d_1 (<span style=\"color: #0087ff; text-decoration-color: #0087ff\">MaxPooling2D</span>)       │ (<span style=\"color: #00d7ff; text-decoration-color: #00d7ff\">None</span>, <span style=\"color: #00af00; text-decoration-color: #00af00\">8</span>, <span style=\"color: #00af00; text-decoration-color: #00af00\">8</span>, <span style=\"color: #00af00; text-decoration-color: #00af00\">64</span>)            │               <span style=\"color: #00af00; text-decoration-color: #00af00\">0</span> │\n",
              "├──────────────────────────────────────┼─────────────────────────────┼─────────────────┤\n",
              "│ conv2d_2 (<span style=\"color: #0087ff; text-decoration-color: #0087ff\">Conv2D</span>)                    │ (<span style=\"color: #00d7ff; text-decoration-color: #00d7ff\">None</span>, <span style=\"color: #00af00; text-decoration-color: #00af00\">8</span>, <span style=\"color: #00af00; text-decoration-color: #00af00\">8</span>, <span style=\"color: #00af00; text-decoration-color: #00af00\">128</span>)           │          <span style=\"color: #00af00; text-decoration-color: #00af00\">73,856</span> │\n",
              "├──────────────────────────────────────┼─────────────────────────────┼─────────────────┤\n",
              "│ batch_normalization_2                │ (<span style=\"color: #00d7ff; text-decoration-color: #00d7ff\">None</span>, <span style=\"color: #00af00; text-decoration-color: #00af00\">8</span>, <span style=\"color: #00af00; text-decoration-color: #00af00\">8</span>, <span style=\"color: #00af00; text-decoration-color: #00af00\">128</span>)           │             <span style=\"color: #00af00; text-decoration-color: #00af00\">512</span> │\n",
              "│ (<span style=\"color: #0087ff; text-decoration-color: #0087ff\">BatchNormalization</span>)                 │                             │                 │\n",
              "├──────────────────────────────────────┼─────────────────────────────┼─────────────────┤\n",
              "│ max_pooling2d_2 (<span style=\"color: #0087ff; text-decoration-color: #0087ff\">MaxPooling2D</span>)       │ (<span style=\"color: #00d7ff; text-decoration-color: #00d7ff\">None</span>, <span style=\"color: #00af00; text-decoration-color: #00af00\">4</span>, <span style=\"color: #00af00; text-decoration-color: #00af00\">4</span>, <span style=\"color: #00af00; text-decoration-color: #00af00\">128</span>)           │               <span style=\"color: #00af00; text-decoration-color: #00af00\">0</span> │\n",
              "├──────────────────────────────────────┼─────────────────────────────┼─────────────────┤\n",
              "│ global_average_pooling2d             │ (<span style=\"color: #00d7ff; text-decoration-color: #00d7ff\">None</span>, <span style=\"color: #00af00; text-decoration-color: #00af00\">128</span>)                 │               <span style=\"color: #00af00; text-decoration-color: #00af00\">0</span> │\n",
              "│ (<span style=\"color: #0087ff; text-decoration-color: #0087ff\">GlobalAveragePooling2D</span>)             │                             │                 │\n",
              "├──────────────────────────────────────┼─────────────────────────────┼─────────────────┤\n",
              "│ dense (<span style=\"color: #0087ff; text-decoration-color: #0087ff\">Dense</span>)                        │ (<span style=\"color: #00d7ff; text-decoration-color: #00d7ff\">None</span>, <span style=\"color: #00af00; text-decoration-color: #00af00\">256</span>)                 │          <span style=\"color: #00af00; text-decoration-color: #00af00\">33,024</span> │\n",
              "├──────────────────────────────────────┼─────────────────────────────┼─────────────────┤\n",
              "│ dropout (<span style=\"color: #0087ff; text-decoration-color: #0087ff\">Dropout</span>)                    │ (<span style=\"color: #00d7ff; text-decoration-color: #00d7ff\">None</span>, <span style=\"color: #00af00; text-decoration-color: #00af00\">256</span>)                 │               <span style=\"color: #00af00; text-decoration-color: #00af00\">0</span> │\n",
              "├──────────────────────────────────────┼─────────────────────────────┼─────────────────┤\n",
              "│ dense_1 (<span style=\"color: #0087ff; text-decoration-color: #0087ff\">Dense</span>)                      │ (<span style=\"color: #00d7ff; text-decoration-color: #00d7ff\">None</span>, <span style=\"color: #00af00; text-decoration-color: #00af00\">10</span>)                  │           <span style=\"color: #00af00; text-decoration-color: #00af00\">2,570</span> │\n",
              "└──────────────────────────────────────┴─────────────────────────────┴─────────────────┘\n",
              "</pre>\n"
            ]
          },
          "metadata": {}
        },
        {
          "output_type": "display_data",
          "data": {
            "text/plain": [
              "\u001b[1m Total params: \u001b[0m\u001b[38;5;34m129,738\u001b[0m (506.79 KB)\n"
            ],
            "text/html": [
              "<pre style=\"white-space:pre;overflow-x:auto;line-height:normal;font-family:Menlo,'DejaVu Sans Mono',consolas,'Courier New',monospace\"><span style=\"font-weight: bold\"> Total params: </span><span style=\"color: #00af00; text-decoration-color: #00af00\">129,738</span> (506.79 KB)\n",
              "</pre>\n"
            ]
          },
          "metadata": {}
        },
        {
          "output_type": "display_data",
          "data": {
            "text/plain": [
              "\u001b[1m Trainable params: \u001b[0m\u001b[38;5;34m129,290\u001b[0m (505.04 KB)\n"
            ],
            "text/html": [
              "<pre style=\"white-space:pre;overflow-x:auto;line-height:normal;font-family:Menlo,'DejaVu Sans Mono',consolas,'Courier New',monospace\"><span style=\"font-weight: bold\"> Trainable params: </span><span style=\"color: #00af00; text-decoration-color: #00af00\">129,290</span> (505.04 KB)\n",
              "</pre>\n"
            ]
          },
          "metadata": {}
        },
        {
          "output_type": "display_data",
          "data": {
            "text/plain": [
              "\u001b[1m Non-trainable params: \u001b[0m\u001b[38;5;34m448\u001b[0m (1.75 KB)\n"
            ],
            "text/html": [
              "<pre style=\"white-space:pre;overflow-x:auto;line-height:normal;font-family:Menlo,'DejaVu Sans Mono',consolas,'Courier New',monospace\"><span style=\"font-weight: bold\"> Non-trainable params: </span><span style=\"color: #00af00; text-decoration-color: #00af00\">448</span> (1.75 KB)\n",
              "</pre>\n"
            ]
          },
          "metadata": {}
        }
      ]
    },
    {
      "cell_type": "markdown",
      "source": [
        "### **Model MLP**"
      ],
      "metadata": {
        "id": "sR-ySjFahIE7"
      }
    },
    {
      "cell_type": "code",
      "source": [
        "# Membangun model MLP sederhana untuk klasifikasi CIFAR-10\n",
        "def build_mlp():\n",
        "    model = tf.keras.Sequential()\n",
        "\n",
        "    # Flatten input layer\n",
        "    model.add(layers.Input(shape=(32, 32, 3)))\n",
        "    model.add(layers.Flatten())\n",
        "\n",
        "    # Hidden dense layers\n",
        "    model.add(layers.Dense(1024, activation='relu'))\n",
        "    model.add(layers.Dropout(0.3))\n",
        "    model.add(layers.Dense(512, activation='relu'))\n",
        "    model.add(layers.Dropout(0.3))\n",
        "\n",
        "    # Output layer\n",
        "    model.add(layers.Dense(10, activation='softmax'))\n",
        "\n",
        "    # Kompilasi model\n",
        "    model.compile(\n",
        "        optimizer=tf.keras.optimizers.Adam(),\n",
        "        loss='categorical_crossentropy',\n",
        "        metrics=['accuracy']\n",
        "    )\n",
        "\n",
        "    return model\n",
        "\n",
        "# Inisialisasi dan tampilkan ringkasan model\n",
        "mlp_model = build_mlp()\n",
        "mlp_model.summary()\n"
      ],
      "metadata": {
        "colab": {
          "base_uri": "https://localhost:8080/",
          "height": 321
        },
        "id": "O90PL3FwhKSv",
        "outputId": "f20c4027-544e-4fc8-9454-ba4222cdb8ca"
      },
      "execution_count": 25,
      "outputs": [
        {
          "output_type": "display_data",
          "data": {
            "text/plain": [
              "\u001b[1mModel: \"sequential_1\"\u001b[0m\n"
            ],
            "text/html": [
              "<pre style=\"white-space:pre;overflow-x:auto;line-height:normal;font-family:Menlo,'DejaVu Sans Mono',consolas,'Courier New',monospace\"><span style=\"font-weight: bold\">Model: \"sequential_1\"</span>\n",
              "</pre>\n"
            ]
          },
          "metadata": {}
        },
        {
          "output_type": "display_data",
          "data": {
            "text/plain": [
              "┏━━━━━━━━━━━━━━━━━━━━━━━━━━━━━━━━━━━━━━┳━━━━━━━━━━━━━━━━━━━━━━━━━━━━━┳━━━━━━━━━━━━━━━━━┓\n",
              "┃\u001b[1m \u001b[0m\u001b[1mLayer (type)                        \u001b[0m\u001b[1m \u001b[0m┃\u001b[1m \u001b[0m\u001b[1mOutput Shape               \u001b[0m\u001b[1m \u001b[0m┃\u001b[1m \u001b[0m\u001b[1m        Param #\u001b[0m\u001b[1m \u001b[0m┃\n",
              "┡━━━━━━━━━━━━━━━━━━━━━━━━━━━━━━━━━━━━━━╇━━━━━━━━━━━━━━━━━━━━━━━━━━━━━╇━━━━━━━━━━━━━━━━━┩\n",
              "│ flatten (\u001b[38;5;33mFlatten\u001b[0m)                    │ (\u001b[38;5;45mNone\u001b[0m, \u001b[38;5;34m3072\u001b[0m)                │               \u001b[38;5;34m0\u001b[0m │\n",
              "├──────────────────────────────────────┼─────────────────────────────┼─────────────────┤\n",
              "│ dense_2 (\u001b[38;5;33mDense\u001b[0m)                      │ (\u001b[38;5;45mNone\u001b[0m, \u001b[38;5;34m1024\u001b[0m)                │       \u001b[38;5;34m3,146,752\u001b[0m │\n",
              "├──────────────────────────────────────┼─────────────────────────────┼─────────────────┤\n",
              "│ dropout_1 (\u001b[38;5;33mDropout\u001b[0m)                  │ (\u001b[38;5;45mNone\u001b[0m, \u001b[38;5;34m1024\u001b[0m)                │               \u001b[38;5;34m0\u001b[0m │\n",
              "├──────────────────────────────────────┼─────────────────────────────┼─────────────────┤\n",
              "│ dense_3 (\u001b[38;5;33mDense\u001b[0m)                      │ (\u001b[38;5;45mNone\u001b[0m, \u001b[38;5;34m512\u001b[0m)                 │         \u001b[38;5;34m524,800\u001b[0m │\n",
              "├──────────────────────────────────────┼─────────────────────────────┼─────────────────┤\n",
              "│ dropout_2 (\u001b[38;5;33mDropout\u001b[0m)                  │ (\u001b[38;5;45mNone\u001b[0m, \u001b[38;5;34m512\u001b[0m)                 │               \u001b[38;5;34m0\u001b[0m │\n",
              "├──────────────────────────────────────┼─────────────────────────────┼─────────────────┤\n",
              "│ dense_4 (\u001b[38;5;33mDense\u001b[0m)                      │ (\u001b[38;5;45mNone\u001b[0m, \u001b[38;5;34m10\u001b[0m)                  │           \u001b[38;5;34m5,130\u001b[0m │\n",
              "└──────────────────────────────────────┴─────────────────────────────┴─────────────────┘\n"
            ],
            "text/html": [
              "<pre style=\"white-space:pre;overflow-x:auto;line-height:normal;font-family:Menlo,'DejaVu Sans Mono',consolas,'Courier New',monospace\">┏━━━━━━━━━━━━━━━━━━━━━━━━━━━━━━━━━━━━━━┳━━━━━━━━━━━━━━━━━━━━━━━━━━━━━┳━━━━━━━━━━━━━━━━━┓\n",
              "┃<span style=\"font-weight: bold\"> Layer (type)                         </span>┃<span style=\"font-weight: bold\"> Output Shape                </span>┃<span style=\"font-weight: bold\">         Param # </span>┃\n",
              "┡━━━━━━━━━━━━━━━━━━━━━━━━━━━━━━━━━━━━━━╇━━━━━━━━━━━━━━━━━━━━━━━━━━━━━╇━━━━━━━━━━━━━━━━━┩\n",
              "│ flatten (<span style=\"color: #0087ff; text-decoration-color: #0087ff\">Flatten</span>)                    │ (<span style=\"color: #00d7ff; text-decoration-color: #00d7ff\">None</span>, <span style=\"color: #00af00; text-decoration-color: #00af00\">3072</span>)                │               <span style=\"color: #00af00; text-decoration-color: #00af00\">0</span> │\n",
              "├──────────────────────────────────────┼─────────────────────────────┼─────────────────┤\n",
              "│ dense_2 (<span style=\"color: #0087ff; text-decoration-color: #0087ff\">Dense</span>)                      │ (<span style=\"color: #00d7ff; text-decoration-color: #00d7ff\">None</span>, <span style=\"color: #00af00; text-decoration-color: #00af00\">1024</span>)                │       <span style=\"color: #00af00; text-decoration-color: #00af00\">3,146,752</span> │\n",
              "├──────────────────────────────────────┼─────────────────────────────┼─────────────────┤\n",
              "│ dropout_1 (<span style=\"color: #0087ff; text-decoration-color: #0087ff\">Dropout</span>)                  │ (<span style=\"color: #00d7ff; text-decoration-color: #00d7ff\">None</span>, <span style=\"color: #00af00; text-decoration-color: #00af00\">1024</span>)                │               <span style=\"color: #00af00; text-decoration-color: #00af00\">0</span> │\n",
              "├──────────────────────────────────────┼─────────────────────────────┼─────────────────┤\n",
              "│ dense_3 (<span style=\"color: #0087ff; text-decoration-color: #0087ff\">Dense</span>)                      │ (<span style=\"color: #00d7ff; text-decoration-color: #00d7ff\">None</span>, <span style=\"color: #00af00; text-decoration-color: #00af00\">512</span>)                 │         <span style=\"color: #00af00; text-decoration-color: #00af00\">524,800</span> │\n",
              "├──────────────────────────────────────┼─────────────────────────────┼─────────────────┤\n",
              "│ dropout_2 (<span style=\"color: #0087ff; text-decoration-color: #0087ff\">Dropout</span>)                  │ (<span style=\"color: #00d7ff; text-decoration-color: #00d7ff\">None</span>, <span style=\"color: #00af00; text-decoration-color: #00af00\">512</span>)                 │               <span style=\"color: #00af00; text-decoration-color: #00af00\">0</span> │\n",
              "├──────────────────────────────────────┼─────────────────────────────┼─────────────────┤\n",
              "│ dense_4 (<span style=\"color: #0087ff; text-decoration-color: #0087ff\">Dense</span>)                      │ (<span style=\"color: #00d7ff; text-decoration-color: #00d7ff\">None</span>, <span style=\"color: #00af00; text-decoration-color: #00af00\">10</span>)                  │           <span style=\"color: #00af00; text-decoration-color: #00af00\">5,130</span> │\n",
              "└──────────────────────────────────────┴─────────────────────────────┴─────────────────┘\n",
              "</pre>\n"
            ]
          },
          "metadata": {}
        },
        {
          "output_type": "display_data",
          "data": {
            "text/plain": [
              "\u001b[1m Total params: \u001b[0m\u001b[38;5;34m3,676,682\u001b[0m (14.03 MB)\n"
            ],
            "text/html": [
              "<pre style=\"white-space:pre;overflow-x:auto;line-height:normal;font-family:Menlo,'DejaVu Sans Mono',consolas,'Courier New',monospace\"><span style=\"font-weight: bold\"> Total params: </span><span style=\"color: #00af00; text-decoration-color: #00af00\">3,676,682</span> (14.03 MB)\n",
              "</pre>\n"
            ]
          },
          "metadata": {}
        },
        {
          "output_type": "display_data",
          "data": {
            "text/plain": [
              "\u001b[1m Trainable params: \u001b[0m\u001b[38;5;34m3,676,682\u001b[0m (14.03 MB)\n"
            ],
            "text/html": [
              "<pre style=\"white-space:pre;overflow-x:auto;line-height:normal;font-family:Menlo,'DejaVu Sans Mono',consolas,'Courier New',monospace\"><span style=\"font-weight: bold\"> Trainable params: </span><span style=\"color: #00af00; text-decoration-color: #00af00\">3,676,682</span> (14.03 MB)\n",
              "</pre>\n"
            ]
          },
          "metadata": {}
        },
        {
          "output_type": "display_data",
          "data": {
            "text/plain": [
              "\u001b[1m Non-trainable params: \u001b[0m\u001b[38;5;34m0\u001b[0m (0.00 B)\n"
            ],
            "text/html": [
              "<pre style=\"white-space:pre;overflow-x:auto;line-height:normal;font-family:Menlo,'DejaVu Sans Mono',consolas,'Courier New',monospace\"><span style=\"font-weight: bold\"> Non-trainable params: </span><span style=\"color: #00af00; text-decoration-color: #00af00\">0</span> (0.00 B)\n",
              "</pre>\n"
            ]
          },
          "metadata": {}
        }
      ]
    },
    {
      "cell_type": "markdown",
      "source": [
        "### **Fungsi Pelatihan Model**"
      ],
      "metadata": {
        "id": "71B3oCF4hzOU"
      }
    },
    {
      "cell_type": "code",
      "source": [
        "# Callback: Early Stopping untuk menghentikan pelatihan saat tidak ada peningkatan\n",
        "stop_early = tf.keras.callbacks.EarlyStopping(\n",
        "    monitor='val_loss',\n",
        "    patience=5,\n",
        "    restore_best_weights=True\n",
        ")\n",
        "\n",
        "# Callback: Simpan model terbaik berdasarkan val_loss\n",
        "save_best = tf.keras.callbacks.ModelCheckpoint(\n",
        "    filepath='best_model_cifar10_tf.keras',\n",
        "    monitor='val_loss',\n",
        "    save_best_only=True,\n",
        "    verbose=1\n",
        ")\n",
        "\n",
        "# TensorBoard (opsional, bisa aktifkan kalau pakai log)\n",
        "log_dir = \"./logs\"\n",
        "tensorboard_cb = tf.keras.callbacks.TensorBoard(log_dir=log_dir, histogram_freq=1)\n",
        "\n",
        "# Gabungkan semua callback\n",
        "callbacks_used = [stop_early, save_best]  # Tambahkan tensorboard_cb jika mau logging ke TensorBoard\n"
      ],
      "metadata": {
        "id": "QbUNX7s2h2JC"
      },
      "execution_count": 26,
      "outputs": []
    },
    {
      "cell_type": "markdown",
      "source": [
        "### **Fungsi Pelatihan Model**"
      ],
      "metadata": {
        "id": "t4bY7ZK7h6rk"
      }
    },
    {
      "cell_type": "code",
      "source": [
        "# Fungsi Evaluasi Lengkap\n",
        "def evaluate_classification(model, X_data, y_data, y_ohe, labels):\n",
        "    # Prediksi probabilitas dan label\n",
        "    probas = model.predict(X_data)\n",
        "    predictions = np.argmax(probas, axis=1)\n",
        "    true_labels = y_data.flatten()\n",
        "\n",
        "    # Metrik evaluasi\n",
        "    acc = accuracy_score(true_labels, predictions)\n",
        "    prec = precision_score(true_labels, predictions, average='macro')\n",
        "    rec = recall_score(true_labels, predictions, average='macro')\n",
        "    f1 = f1_score(true_labels, predictions, average='macro')\n",
        "\n",
        "    print(f\"📊 Accuracy      : {acc:.4f}\")\n",
        "    print(f\"🎯 Precision     : {prec:.4f}\")\n",
        "    print(f\"📈 Recall        : {rec:.4f}\")\n",
        "    print(f\"🏅 F1 Score      : {f1:.4f}\")\n",
        "\n",
        "    # Confusion matrix\n",
        "    conf_mat = confusion_matrix(true_labels, predictions)\n",
        "\n",
        "    # ROC & AUC untuk setiap kelas\n",
        "    num_classes = len(labels)\n",
        "    roc_scores = {}\n",
        "    fprs, tprs = {}, {}\n",
        "\n",
        "    for i in range(num_classes):\n",
        "        fprs[i], tprs[i], _ = roc_curve(y_ohe[:, i], probas[:, i])\n",
        "        roc_scores[i] = auc(fprs[i], tprs[i])\n",
        "\n",
        "    # Rata-rata AUC\n",
        "    mean_auc = np.mean(list(roc_scores.values()))\n",
        "    print(f\"🔵 Macro Average AUC: {mean_auc:.4f}\")\n",
        "\n",
        "    return {\n",
        "        \"accuracy\": acc,\n",
        "        \"precision\": prec,\n",
        "        \"recall\": rec,\n",
        "        \"f1\": f1,\n",
        "        \"macro_auc\": mean_auc,\n",
        "        \"conf_matrix\": conf_mat,\n",
        "        \"roc_auc_classwise\": roc_scores,\n",
        "        \"fpr\": fprs,\n",
        "        \"tpr\": tprs\n",
        "    }"
      ],
      "metadata": {
        "id": "hCqFfhlEh-p3"
      },
      "execution_count": 27,
      "outputs": []
    },
    {
      "cell_type": "markdown",
      "source": [
        "### **Training Menggunakan Model CNN**"
      ],
      "metadata": {
        "id": "aRngtgkuiB95"
      }
    },
    {
      "cell_type": "code",
      "source": [
        "print(\"🚀 Memulai pelatihan model CNN...\")\n",
        "\n",
        "start_cnn = time.perf_counter()\n",
        "\n",
        "history_cnn = cnn_model.fit(\n",
        "    x=x_train,\n",
        "    y=y_train_oh,\n",
        "    epochs=15,\n",
        "    batch_size=128,\n",
        "    validation_split=0.1,\n",
        "    callbacks=callbacks_used,\n",
        "    verbose=1\n",
        ")\n",
        "\n",
        "end_cnn = time.perf_counter()\n",
        "elapsed = end_cnn - start_cnn\n",
        "print(f\"✅ Pelatihan selesai dalam {elapsed:.2f} detik.\")"
      ],
      "metadata": {
        "colab": {
          "base_uri": "https://localhost:8080/"
        },
        "id": "A0EGlEubiW7i",
        "outputId": "bf65b664-a6c2-4586-e7b0-a0babe570359"
      },
      "execution_count": 30,
      "outputs": [
        {
          "output_type": "stream",
          "name": "stdout",
          "text": [
            "🚀 Memulai pelatihan model CNN...\n",
            "Epoch 1/15\n",
            "\u001b[1m352/352\u001b[0m \u001b[32m━━━━━━━━━━━━━━━━━━━━\u001b[0m\u001b[37m\u001b[0m \u001b[1m0s\u001b[0m 370ms/step - accuracy: 0.6110 - loss: 1.0841\n",
            "Epoch 1: val_loss improved from 5.74498 to 1.02682, saving model to best_model_cifar10_tf.keras\n",
            "\u001b[1m352/352\u001b[0m \u001b[32m━━━━━━━━━━━━━━━━━━━━\u001b[0m\u001b[37m\u001b[0m \u001b[1m136s\u001b[0m 386ms/step - accuracy: 0.6110 - loss: 1.0839 - val_accuracy: 0.6368 - val_loss: 1.0268\n",
            "Epoch 2/15\n",
            "\u001b[1m352/352\u001b[0m \u001b[32m━━━━━━━━━━━━━━━━━━━━\u001b[0m\u001b[37m\u001b[0m \u001b[1m0s\u001b[0m 355ms/step - accuracy: 0.6829 - loss: 0.9014\n",
            "Epoch 2: val_loss improved from 1.02682 to 0.90965, saving model to best_model_cifar10_tf.keras\n",
            "\u001b[1m352/352\u001b[0m \u001b[32m━━━━━━━━━━━━━━━━━━━━\u001b[0m\u001b[37m\u001b[0m \u001b[1m134s\u001b[0m 364ms/step - accuracy: 0.6830 - loss: 0.9014 - val_accuracy: 0.6832 - val_loss: 0.9096\n",
            "Epoch 3/15\n",
            "\u001b[1m352/352\u001b[0m \u001b[32m━━━━━━━━━━━━━━━━━━━━\u001b[0m\u001b[37m\u001b[0m \u001b[1m0s\u001b[0m 362ms/step - accuracy: 0.7235 - loss: 0.7805\n",
            "Epoch 3: val_loss improved from 0.90965 to 0.89096, saving model to best_model_cifar10_tf.keras\n",
            "\u001b[1m352/352\u001b[0m \u001b[32m━━━━━━━━━━━━━━━━━━━━\u001b[0m\u001b[37m\u001b[0m \u001b[1m146s\u001b[0m 377ms/step - accuracy: 0.7236 - loss: 0.7804 - val_accuracy: 0.6938 - val_loss: 0.8910\n",
            "Epoch 4/15\n",
            "\u001b[1m352/352\u001b[0m \u001b[32m━━━━━━━━━━━━━━━━━━━━\u001b[0m\u001b[37m\u001b[0m \u001b[1m0s\u001b[0m 374ms/step - accuracy: 0.7592 - loss: 0.6897\n",
            "Epoch 4: val_loss did not improve from 0.89096\n",
            "\u001b[1m352/352\u001b[0m \u001b[32m━━━━━━━━━━━━━━━━━━━━\u001b[0m\u001b[37m\u001b[0m \u001b[1m144s\u001b[0m 382ms/step - accuracy: 0.7592 - loss: 0.6897 - val_accuracy: 0.6112 - val_loss: 1.1712\n",
            "Epoch 5/15\n",
            "\u001b[1m352/352\u001b[0m \u001b[32m━━━━━━━━━━━━━━━━━━━━\u001b[0m\u001b[37m\u001b[0m \u001b[1m0s\u001b[0m 351ms/step - accuracy: 0.7852 - loss: 0.6142\n",
            "Epoch 5: val_loss did not improve from 0.89096\n",
            "\u001b[1m352/352\u001b[0m \u001b[32m━━━━━━━━━━━━━━━━━━━━\u001b[0m\u001b[37m\u001b[0m \u001b[1m129s\u001b[0m 366ms/step - accuracy: 0.7852 - loss: 0.6141 - val_accuracy: 0.6512 - val_loss: 1.0643\n",
            "Epoch 6/15\n",
            "\u001b[1m352/352\u001b[0m \u001b[32m━━━━━━━━━━━━━━━━━━━━\u001b[0m\u001b[37m\u001b[0m \u001b[1m0s\u001b[0m 348ms/step - accuracy: 0.8066 - loss: 0.5505\n",
            "Epoch 6: val_loss did not improve from 0.89096\n",
            "\u001b[1m352/352\u001b[0m \u001b[32m━━━━━━━━━━━━━━━━━━━━\u001b[0m\u001b[37m\u001b[0m \u001b[1m125s\u001b[0m 356ms/step - accuracy: 0.8066 - loss: 0.5505 - val_accuracy: 0.6612 - val_loss: 1.0233\n",
            "Epoch 7/15\n",
            "\u001b[1m352/352\u001b[0m \u001b[32m━━━━━━━━━━━━━━━━━━━━\u001b[0m\u001b[37m\u001b[0m \u001b[1m0s\u001b[0m 344ms/step - accuracy: 0.8260 - loss: 0.4938\n",
            "Epoch 7: val_loss did not improve from 0.89096\n",
            "\u001b[1m352/352\u001b[0m \u001b[32m━━━━━━━━━━━━━━━━━━━━\u001b[0m\u001b[37m\u001b[0m \u001b[1m143s\u001b[0m 359ms/step - accuracy: 0.8260 - loss: 0.4937 - val_accuracy: 0.5286 - val_loss: 1.7082\n",
            "Epoch 8/15\n",
            "\u001b[1m352/352\u001b[0m \u001b[32m━━━━━━━━━━━━━━━━━━━━\u001b[0m\u001b[37m\u001b[0m \u001b[1m0s\u001b[0m 345ms/step - accuracy: 0.8457 - loss: 0.4442\n",
            "Epoch 8: val_loss did not improve from 0.89096\n",
            "\u001b[1m352/352\u001b[0m \u001b[32m━━━━━━━━━━━━━━━━━━━━\u001b[0m\u001b[37m\u001b[0m \u001b[1m140s\u001b[0m 352ms/step - accuracy: 0.8457 - loss: 0.4441 - val_accuracy: 0.6272 - val_loss: 1.3036\n",
            "✅ Pelatihan selesai dalam 1118.27 detik.\n"
          ]
        }
      ]
    },
    {
      "cell_type": "markdown",
      "source": [
        "### **Test Model**"
      ],
      "metadata": {
        "id": "GbpHXX3EoL1i"
      }
    },
    {
      "cell_type": "code",
      "source": [
        "# --------------------------------\n",
        "# Evaluasi performa model CNN\n",
        "# --------------------------------\n",
        "print(\"\\n🔍 Mengevaluasi model CNN pada dataset uji...\")\n",
        "\n",
        "cnn_results = evaluate_classification(cnn_model,x_test, y_test, y_test_oh, labels_cifar10)"
      ],
      "metadata": {
        "colab": {
          "base_uri": "https://localhost:8080/"
        },
        "id": "HKDCRIlJoOhb",
        "outputId": "23456cc0-8af6-4163-c753-c60d77c8e6f1"
      },
      "execution_count": 34,
      "outputs": [
        {
          "output_type": "stream",
          "name": "stdout",
          "text": [
            "\n",
            "🔍 Mengevaluasi model CNN pada dataset uji...\n",
            "\u001b[1m313/313\u001b[0m \u001b[32m━━━━━━━━━━━━━━━━━━━━\u001b[0m\u001b[37m\u001b[0m \u001b[1m6s\u001b[0m 20ms/step\n",
            "📊 Accuracy      : 0.6763\n",
            "🎯 Precision     : 0.6943\n",
            "📈 Recall        : 0.6763\n",
            "🏅 F1 Score      : 0.6724\n",
            "🔵 Macro Average AUC: 0.9540\n"
          ]
        }
      ]
    },
    {
      "cell_type": "markdown",
      "source": [
        "Visualisasi"
      ],
      "metadata": {
        "id": "vDrKU6uqpBlO"
      }
    },
    {
      "cell_type": "code",
      "source": [
        "# Fungsi untuk visualisasi kurva training dan validasi\n",
        "def visualize_training_curves(logs, title):\n",
        "    plt.figure(figsize=(12, 4))\n",
        "\n",
        "    # Akurasi\n",
        "    plt.subplot(1, 2, 1)\n",
        "    plt.plot(logs.history['accuracy'], label='Train Acc')\n",
        "    plt.plot(logs.history['val_accuracy'], label='Val Acc')\n",
        "    plt.title(f'{title} - Akurasi')\n",
        "    plt.xlabel('Epoch')\n",
        "    plt.ylabel('Akurasi')\n",
        "    plt.legend(loc='lower right')\n",
        "    plt.grid(alpha=0.3)\n",
        "\n",
        "    # Loss\n",
        "    plt.subplot(1, 2, 2)\n",
        "    plt.plot(logs.history['loss'], label='Train Loss')\n",
        "    plt.plot(logs.history['val_loss'], label='Val Loss')\n",
        "    plt.title(f'{title} - Loss')\n",
        "    plt.xlabel('Epoch')\n",
        "    plt.ylabel('Loss')\n",
        "    plt.legend(loc='upper right')\n",
        "    plt.grid(alpha=0.3)\n",
        "\n",
        "    plt.tight_layout()\n",
        "    plt.show()\n",
        "# Visualisasi hasil training CNN\n",
        "visualize_training_curves(history_cnn, \"CNN\")\n"
      ],
      "metadata": {
        "colab": {
          "base_uri": "https://localhost:8080/",
          "height": 407
        },
        "id": "o0tY31tapDFx",
        "outputId": "85076174-0e13-4945-8b96-051fb4a48cb4"
      },
      "execution_count": 35,
      "outputs": [
        {
          "output_type": "display_data",
          "data": {
            "text/plain": [
              "<Figure size 1200x400 with 2 Axes>"
            ],
            "image/png": "[encoded data removed]"
          },
          "metadata": {}
        }
      ]
    },
    {
      "cell_type": "markdown",
      "source": [
        "### **Training Model MLP**"
      ],
      "metadata": {
        "id": "L6lih_1rp_yS"
      }
    },
    {
      "cell_type": "code",
      "source": [
        "print(\"⚙️ Mulai proses training model MLP...\")\n",
        "\n",
        "start_mlp = time.perf_counter()\n",
        "\n",
        "history_mlp = mlp_model.fit(\n",
        "    x=x_train,\n",
        "    y=y_train_oh,\n",
        "    epochs=15,\n",
        "    batch_size=64,\n",
        "    validation_split=0.1,\n",
        "    callbacks=callbacks_used,\n",
        "    verbose=1\n",
        ")\n",
        "\n",
        "end_mlp = time.perf_counter()\n",
        "duration = end_mlp - start_mlp\n",
        "print(f\"✅ Training MLP selesai dalam waktu {duration:.2f} detik.\")\n"
      ],
      "metadata": {
        "colab": {
          "base_uri": "https://localhost:8080/"
        },
        "id": "T1hB62cxqDCR",
        "outputId": "56cde4dc-475b-4e1f-aee1-ad32885864d1"
      },
      "execution_count": 40,
      "outputs": [
        {
          "output_type": "stream",
          "name": "stdout",
          "text": [
            "⚙️ Mulai proses training model MLP...\n",
            "Epoch 1/15\n",
            "\u001b[1m703/704\u001b[0m \u001b[32m━━━━━━━━━━━━━━━━━━━\u001b[0m\u001b[37m━\u001b[0m \u001b[1m0s\u001b[0m 58ms/step - accuracy: 0.2565 - loss: 2.0078\n",
            "Epoch 1: val_loss did not improve from 0.89096\n",
            "\u001b[1m704/704\u001b[0m \u001b[32m━━━━━━━━━━━━━━━━━━━━\u001b[0m\u001b[37m\u001b[0m \u001b[1m42s\u001b[0m 60ms/step - accuracy: 0.2566 - loss: 2.0077 - val_accuracy: 0.3278 - val_loss: 1.8730\n",
            "Epoch 2/15\n",
            "\u001b[1m704/704\u001b[0m \u001b[32m━━━━━━━━━━━━━━━━━━━━\u001b[0m\u001b[37m\u001b[0m \u001b[1m0s\u001b[0m 57ms/step - accuracy: 0.2977 - loss: 1.9122\n",
            "Epoch 2: val_loss did not improve from 0.89096\n",
            "\u001b[1m704/704\u001b[0m \u001b[32m━━━━━━━━━━━━━━━━━━━━\u001b[0m\u001b[37m\u001b[0m \u001b[1m82s\u001b[0m 61ms/step - accuracy: 0.2977 - loss: 1.9122 - val_accuracy: 0.3644 - val_loss: 1.7944\n",
            "Epoch 3/15\n",
            "\u001b[1m703/704\u001b[0m \u001b[32m━━━━━━━━━━━━━━━━━━━\u001b[0m\u001b[37m━\u001b[0m \u001b[1m0s\u001b[0m 59ms/step - accuracy: 0.3180 - loss: 1.8577\n",
            "Epoch 3: val_loss did not improve from 0.89096\n",
            "\u001b[1m704/704\u001b[0m \u001b[32m━━━━━━━━━━━━━━━━━━━━\u001b[0m\u001b[37m\u001b[0m \u001b[1m82s\u001b[0m 60ms/step - accuracy: 0.3180 - loss: 1.8577 - val_accuracy: 0.3610 - val_loss: 1.7844\n",
            "Epoch 4/15\n",
            "\u001b[1m703/704\u001b[0m \u001b[32m━━━━━━━━━━━━━━━━━━━\u001b[0m\u001b[37m━\u001b[0m \u001b[1m0s\u001b[0m 58ms/step - accuracy: 0.3380 - loss: 1.8108\n",
            "Epoch 4: val_loss did not improve from 0.89096\n",
            "\u001b[1m704/704\u001b[0m \u001b[32m━━━━━━━━━━━━━━━━━━━━\u001b[0m\u001b[37m\u001b[0m \u001b[1m81s\u001b[0m 59ms/step - accuracy: 0.3380 - loss: 1.8108 - val_accuracy: 0.3758 - val_loss: 1.7551\n",
            "Epoch 5/15\n",
            "\u001b[1m704/704\u001b[0m \u001b[32m━━━━━━━━━━━━━━━━━━━━\u001b[0m\u001b[37m\u001b[0m \u001b[1m0s\u001b[0m 57ms/step - accuracy: 0.3434 - loss: 1.7980\n",
            "Epoch 5: val_loss did not improve from 0.89096\n",
            "\u001b[1m704/704\u001b[0m \u001b[32m━━━━━━━━━━━━━━━━━━━━\u001b[0m\u001b[37m\u001b[0m \u001b[1m41s\u001b[0m 58ms/step - accuracy: 0.3434 - loss: 1.7980 - val_accuracy: 0.3736 - val_loss: 1.7506\n",
            "Epoch 6/15\n",
            "\u001b[1m703/704\u001b[0m \u001b[32m━━━━━━━━━━━━━━━━━━━\u001b[0m\u001b[37m━\u001b[0m \u001b[1m0s\u001b[0m 57ms/step - accuracy: 0.3508 - loss: 1.7746\n",
            "Epoch 6: val_loss did not improve from 0.89096\n",
            "\u001b[1m704/704\u001b[0m \u001b[32m━━━━━━━━━━━━━━━━━━━━\u001b[0m\u001b[37m\u001b[0m \u001b[1m43s\u001b[0m 61ms/step - accuracy: 0.3508 - loss: 1.7746 - val_accuracy: 0.4028 - val_loss: 1.6964\n",
            "Epoch 7/15\n",
            "\u001b[1m703/704\u001b[0m \u001b[32m━━━━━━━━━━━━━━━━━━━\u001b[0m\u001b[37m━\u001b[0m \u001b[1m0s\u001b[0m 60ms/step - accuracy: 0.3542 - loss: 1.7624\n",
            "Epoch 7: val_loss did not improve from 0.89096\n",
            "\u001b[1m704/704\u001b[0m \u001b[32m━━━━━━━━━━━━━━━━━━━━\u001b[0m\u001b[37m\u001b[0m \u001b[1m82s\u001b[0m 61ms/step - accuracy: 0.3542 - loss: 1.7624 - val_accuracy: 0.4014 - val_loss: 1.7210\n",
            "Epoch 8/15\n",
            "\u001b[1m703/704\u001b[0m \u001b[32m━━━━━━━━━━━━━━━━━━━\u001b[0m\u001b[37m━\u001b[0m \u001b[1m0s\u001b[0m 58ms/step - accuracy: 0.3587 - loss: 1.7615\n",
            "Epoch 8: val_loss did not improve from 0.89096\n",
            "\u001b[1m704/704\u001b[0m \u001b[32m━━━━━━━━━━━━━━━━━━━━\u001b[0m\u001b[37m\u001b[0m \u001b[1m83s\u001b[0m 62ms/step - accuracy: 0.3587 - loss: 1.7615 - val_accuracy: 0.4002 - val_loss: 1.7225\n",
            "Epoch 9/15\n",
            "\u001b[1m704/704\u001b[0m \u001b[32m━━━━━━━━━━━━━━━━━━━━\u001b[0m\u001b[37m\u001b[0m \u001b[1m0s\u001b[0m 77ms/step - accuracy: 0.3619 - loss: 1.7546\n",
            "Epoch 9: val_loss did not improve from 0.89096\n",
            "\u001b[1m704/704\u001b[0m \u001b[32m━━━━━━━━━━━━━━━━━━━━\u001b[0m\u001b[37m\u001b[0m \u001b[1m95s\u001b[0m 81ms/step - accuracy: 0.3619 - loss: 1.7546 - val_accuracy: 0.3972 - val_loss: 1.7072\n",
            "Epoch 10/15\n",
            "\u001b[1m703/704\u001b[0m \u001b[32m━━━━━━━━━━━━━━━━━━━\u001b[0m\u001b[37m━\u001b[0m \u001b[1m0s\u001b[0m 81ms/step - accuracy: 0.3664 - loss: 1.7395\n",
            "Epoch 10: val_loss did not improve from 0.89096\n",
            "\u001b[1m704/704\u001b[0m \u001b[32m━━━━━━━━━━━━━━━━━━━━\u001b[0m\u001b[37m\u001b[0m \u001b[1m84s\u001b[0m 83ms/step - accuracy: 0.3664 - loss: 1.7395 - val_accuracy: 0.4032 - val_loss: 1.6941\n",
            "Epoch 11/15\n",
            "\u001b[1m704/704\u001b[0m \u001b[32m━━━━━━━━━━━━━━━━━━━━\u001b[0m\u001b[37m\u001b[0m \u001b[1m0s\u001b[0m 86ms/step - accuracy: 0.3682 - loss: 1.7284\n",
            "Epoch 11: val_loss did not improve from 0.89096\n",
            "\u001b[1m704/704\u001b[0m \u001b[32m━━━━━━━━━━━━━━━━━━━━\u001b[0m\u001b[37m\u001b[0m \u001b[1m63s\u001b[0m 89ms/step - accuracy: 0.3682 - loss: 1.7284 - val_accuracy: 0.4156 - val_loss: 1.6763\n",
            "Epoch 12/15\n",
            "\u001b[1m703/704\u001b[0m \u001b[32m━━━━━━━━━━━━━━━━━━━\u001b[0m\u001b[37m━\u001b[0m \u001b[1m0s\u001b[0m 78ms/step - accuracy: 0.3702 - loss: 1.7239\n",
            "Epoch 12: val_loss did not improve from 0.89096\n",
            "\u001b[1m704/704\u001b[0m \u001b[32m━━━━━━━━━━━━━━━━━━━━\u001b[0m\u001b[37m\u001b[0m \u001b[1m56s\u001b[0m 80ms/step - accuracy: 0.3702 - loss: 1.7238 - val_accuracy: 0.3932 - val_loss: 1.7083\n",
            "Epoch 13/15\n",
            "\u001b[1m704/704\u001b[0m \u001b[32m━━━━━━━━━━━━━━━━━━━━\u001b[0m\u001b[37m\u001b[0m \u001b[1m0s\u001b[0m 60ms/step - accuracy: 0.3746 - loss: 1.7182\n",
            "Epoch 13: val_loss did not improve from 0.89096\n",
            "\u001b[1m704/704\u001b[0m \u001b[32m━━━━━━━━━━━━━━━━━━━━\u001b[0m\u001b[37m\u001b[0m \u001b[1m69s\u001b[0m 62ms/step - accuracy: 0.3746 - loss: 1.7182 - val_accuracy: 0.4262 - val_loss: 1.6602\n",
            "Epoch 14/15\n",
            "\u001b[1m704/704\u001b[0m \u001b[32m━━━━━━━━━━━━━━━━━━━━\u001b[0m\u001b[37m\u001b[0m \u001b[1m0s\u001b[0m 58ms/step - accuracy: 0.3815 - loss: 1.7025\n",
            "Epoch 14: val_loss did not improve from 0.89096\n",
            "\u001b[1m704/704\u001b[0m \u001b[32m━━━━━━━━━━━━━━━━━━━━\u001b[0m\u001b[37m\u001b[0m \u001b[1m80s\u001b[0m 60ms/step - accuracy: 0.3815 - loss: 1.7024 - val_accuracy: 0.4278 - val_loss: 1.6590\n",
            "Epoch 15/15\n",
            "\u001b[1m703/704\u001b[0m \u001b[32m━━━━━━━━━━━━━━━━━━━\u001b[0m\u001b[37m━\u001b[0m \u001b[1m0s\u001b[0m 58ms/step - accuracy: 0.3781 - loss: 1.7058\n",
            "Epoch 15: val_loss did not improve from 0.89096\n",
            "\u001b[1m704/704\u001b[0m \u001b[32m━━━━━━━━━━━━━━━━━━━━\u001b[0m\u001b[37m\u001b[0m \u001b[1m82s\u001b[0m 60ms/step - accuracy: 0.3781 - loss: 1.7058 - val_accuracy: 0.4038 - val_loss: 1.6930\n",
            "✅ Training MLP selesai dalam waktu 1069.49 detik.\n"
          ]
        }
      ]
    },
    {
      "cell_type": "markdown",
      "source": [
        "### **Evaluasi Model MLP**"
      ],
      "metadata": {
        "id": "pPM2vaRyqbuj"
      }
    },
    {
      "cell_type": "markdown",
      "source": [
        "**Penjelasan semua persamaan matematika** yang berkaitan dengan **training dan evaluasi model CNN dan MLP**:\n",
        "\n",
        "---\n",
        "\n",
        "## **Training Model (CNN & MLP)**\n",
        "\n",
        "### 1. **Forward Propagation dan Aktivasi**\n",
        "\n",
        "#### a. **Fungsi Aktivasi ReLU (Rectified Linear Unit)**\n",
        "Digunakan di hidden layer CNN & MLP:\n",
        "$$\n",
        "\\text{ReLU}(x) = \\max(0, x)\n",
        "$$\n",
        "\n",
        "- ReLU menjaga nilai positif dan mengubah nilai negatif menjadi nol.\n",
        "- Membantu menghindari vanishing gradient.\n",
        "\n",
        "---\n",
        "\n",
        "#### b. **Fungsi Aktivasi Softmax (Output Layer)**\n",
        "Softmax mengubah output menjadi probabilitas:\n",
        "$$\n",
        "\\text{Softmax}(z_i) = \\frac{e^{z_i}}{\\sum_{j=1}^{K} e^{z_j}}\n",
        "$$\n",
        "- $\\ z_i $: output neuron ke-i\n",
        "- $\\ K $: jumlah kelas\n",
        "- Hasilnya adalah distribusi probabilitas, jumlahnya = 1.\n",
        "\n",
        "---\n",
        "\n",
        "### 2. **Fungsi Loss: Categorical Cross-Entropy**\n",
        "\n",
        "Loss yang digunakan:\n",
        "$$\n",
        "\\mathcal{L}(y, \\hat{y}) = - \\sum_{i=1}^{K} y_i \\log(\\hat{y}_i)\n",
        "$$\n",
        "\n",
        "- $\\ y_i $: label asli (one-hot encoded)\n",
        "- $\\ \\hat{y}_i $: probabilitas prediksi dari softmax\n",
        "\n",
        "Loss ini mengukur jarak antara distribusi target dan prediksi.\n",
        "\n",
        "---\n",
        "\n",
        "### 3. **Optimisasi: Adam Optimizer**\n",
        "Adam menggabungkan RMSProp dan Momentum:\n",
        "\n",
        "- Update bobot menggunakan:\n",
        "$$\n",
        "m_t = \\beta_1 m_{t-1} + (1 - \\beta_1) g_t\n",
        "$$\n",
        "$$\n",
        "v_t = \\beta_2 v_{t-1} + (1 - \\beta_2) g_t^2\n",
        "$$\n",
        "$$\n",
        "\\hat{m}_t = \\frac{m_t}{1 - \\beta_1^t}, \\quad \\hat{v}_t = \\frac{v_t}{1 - \\beta_2^t}\n",
        "$$\n",
        "$$\n",
        "\\theta_{t+1} = \\theta_t - \\alpha \\cdot \\frac{\\hat{m}_t}{\\sqrt{\\hat{v}_t} + \\epsilon}\n",
        "$$\n",
        "\n",
        "- $\\ g_t $: gradien dari loss\n",
        "- $\\ \\theta $: parameter/bobot\n",
        "- $\\ \\alpha $: learning rate\n",
        "\n",
        "---\n",
        "\n",
        "## 📊 **Evaluasi Model**\n",
        "\n",
        "### 1. **Accuracy (Akurasi)**\n",
        "Mengukur proporsi prediksi yang benar:\n",
        "$$\n",
        "\\text{Accuracy} = \\frac{\\text{Jumlah prediksi benar}}{\\text{Total data}}\n",
        "$$\n",
        "\n",
        "---\n",
        "\n",
        "### 2. **Precision (Presisi) - Macro Average**\n",
        "$$\n",
        "\\text{Precision}_i = \\frac{TP_i}{TP_i + FP_i}\n",
        "$$\n",
        "\n",
        "- $\\ TP_i $: True Positive untuk kelas ke-i\n",
        "- $\\ FP_i $: False Positive untuk kelas ke-i\n",
        "\n",
        "$$\n",
        "\\text{Macro Precision} = \\frac{1}{K} \\sum_{i=1}^{K} \\text{Precision}_i\n",
        "$$\n",
        "\n",
        "---\n",
        "\n",
        "### 3. **Recall (Sensitivitas) - Macro Average**\n",
        "$$\n",
        "\\text{Recall}_i = \\frac{TP_i}{TP_i + FN_i}\n",
        "$$\n",
        "\n",
        "- $\\ FN_i $: False Negative\n",
        "\n",
        "$$\n",
        "\\text{Macro Recall} = \\frac{1}{K} \\sum_{i=1}^{K} \\text{Recall}_i\n",
        "$$\n",
        "\n",
        "---\n",
        "\n",
        "### 4. **F1-Score - Macro Average**\n",
        "F1 menggabungkan precision dan recall:\n",
        "$$\n",
        "\\text{F1}_i = 2 \\cdot \\frac{\\text{Precision}_i \\cdot \\text{Recall}_i}{\\text{Precision}_i + \\text{Recall}_i}\n",
        "$$\n",
        "\n",
        "$$\n",
        "\\text{Macro F1} = \\frac{1}{K} \\sum_{i=1}^{K} \\text{F1}_i\n",
        "$$\n",
        "\n",
        "---\n",
        "\n",
        "### 5. **Confusion Matrix**\n",
        "Sebuah matriks $\\ K \\times K $ yang memperlihatkan jumlah prediksi benar dan salah antar kelas:\n",
        "- Baris: Kelas sebenarnya\n",
        "- Kolom: Kelas prediksi\n",
        "\n",
        "### 6. **ROC Curve dan AUC (Area Under Curve)**\n",
        "\n",
        "#### a. **ROC (Receiver Operating Characteristic) Curve**\n",
        "Grafik antara **True Positive Rate (TPR)** vs **False Positive Rate (FPR)**\n",
        "\n",
        "$$\n",
        "\\text{TPR} = \\frac{TP}{TP + FN}, \\quad \\text{FPR} = \\frac{FP}{FP + TN}\n",
        "$$\n",
        "\n",
        "#### b. **AUC (Area Under Curve)**\n",
        "Luas di bawah kurva ROC.\n",
        "- Nilai AUC = 1: model sempurna\n",
        "- Nilai AUC = 0.5: model acak\n",
        "\n",
        "---\n",
        "\n",
        "## ✨ Ringkasan\n",
        "| Metode | Rumus |\n",
        "|--------|-------|\n",
        "| **ReLU** | $\\ \\max(0, x) $ |\n",
        "| **Softmax** | $\\ \\frac{e^{z_i}}{\\sum e^{z_j}} $ |\n",
        "| **Cross Entropy** | $\\ -\\sum y_i \\log(\\hat{y}_i) $ |\n",
        "| **Accuracy** | $\\ \\frac{\\text{benar}}{\\text{total}} $ |\n",
        "| **Precision** | $\\ \\frac{TP}{TP + FP} $ |\n",
        "| **Recall** | $\\ \\frac{TP}{TP + FN} $ |\n",
        "| **F1-Score** | $\\ 2 \\cdot \\frac{\\text{Prec} \\cdot \\text{Rec}}{\\text{Prec} + \\text{Rec}} $ |\n",
        "| **AUC ROC** | Luas antara ROC curve dan sumbu x |\n",
        "\n",
        "---\n",
        "\n",
        "Kalau kamu butuh diagram atau visualisasi penjelasan matematis juga (misalnya ROC curve, arsitektur CNN/MLP), tinggal bilang aja!"
      ],
      "metadata": {
        "id": "f_tVDiqisRx9"
      }
    }
  ],
  "metadata": {
    "accelerator": "GPU",
    "colab": {
      "gpuType": "T4",
      "provenance": [],
      "authorship_tag": "ABX9TyNOs26eyb9GNbltYRp58zMq",
      "include_colab_link": true
    },
    "kernelspec": {
      "display_name": "Python 3",
      "name": "python3"
    },
    "language_info": {
      "name": "python"
    }
  },
  "nbformat": 4,
  "nbformat_minor": 0
}
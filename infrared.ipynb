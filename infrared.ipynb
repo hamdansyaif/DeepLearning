{
  "nbformat": 4,
  "nbformat_minor": 0,
  "metadata": {
    "colab": {
      "provenance": [],
      "toc_visible": true,
      "authorship_tag": "ABX9TyOyg4tNysmpDazY2yuVKJM0",
      "include_colab_link": true
    },
    "kernelspec": {
      "name": "python3",
      "display_name": "Python 3"
    },
    "language_info": {
      "name": "python"
    }
  },
  "cells": [
    {
      "cell_type": "markdown",
      "metadata": {
        "id": "view-in-github",
        "colab_type": "text"
      },
      "source": [
        "<a href=\"https://colab.research.google.com/github/hamdansyaif/DeepLearning/blob/main/infrared.ipynb\" target=\"_parent\"><img src=\"https://colab.research.google.com/assets/colab-badge.svg\" alt=\"Open In Colab\"/></a>"
      ]
    },
    {
      "cell_type": "markdown",
      "source": [
        "TUGAS 1\n",
        "1. Buat model Deep learning (PyTorch and Tensorflow). Target variable aveOralM.\n",
        "2. Gunakan Matriks Evaluasi (RMSE,MSE,RSquared)\n",
        "3. Beri penjelasan untuk setiap persamaan matematika yang ada."
      ],
      "metadata": {
        "id": "BwTH_tj_ByXV"
      }
    },
    {
      "cell_type": "code",
      "source": [
        "import pandas as pd\n",
        "\n",
        "# Load dataset\n",
        "file_path = \"Infrared.csv\"\n",
        "df = pd.read_csv(file_path)\n",
        "\n",
        "# Tampilkan 10 baris pertama dalam bentuk tabel\n",
        "print(df.head(20).to_string(index=False))\n"
      ],
      "metadata": {
        "colab": {
          "base_uri": "https://localhost:8080/"
        },
        "id": "A4vX-4njB0Yi",
        "outputId": "fb4f9b0e-0f6f-4589-d4da-677d4a830914"
      },
      "execution_count": 1,
      "outputs": [
        {
          "output_type": "stream",
          "name": "stdout",
          "text": [
            "Gender   Age                 Ethnicity  T_atm  Humidity  Distance  T_offset1  Max1R13_1  Max1L13_1  aveAllR13_1  aveAllL13_1   T_RC1  T_RC_Dry1  T_RC_Wet1  T_RC_Max1     T_LC1  T_LC_Dry1  T_LC_Wet1  T_LC_Max1      RCC1      LCC1  canthiMax1  canthi4Max1   T_FHCC1   T_FHRC1  T_FHLC1   T_FHBC1   T_FHTC1  T_FH_Max1  T_FHC_Max1    T_Max1     T_OR1  T_OR_Max1  aveOralM\n",
            "  Male 41-50                     White   24.0      28.0       0.8   0.702500    35.0300  35.377500      34.4000    34.917500 34.9850    34.9850  34.762500  35.032500 35.337500  35.337500  34.485000    35.3775 34.785000 34.465000   35.377500      35.3375 33.577500 33.477500  33.3725 33.492500 33.002500    34.5300   34.007500 35.692500 35.635000  35.652500     36.59\n",
            "Female 31-40 Black or African-American   24.0      26.0       0.8   0.780000    34.5500  34.520000      33.9300    34.225000 34.7100    34.6325  34.640000  34.742500 34.560000  34.537500  34.350000    34.5750 34.322500 34.240000   34.740000      34.7150 34.032500 34.055000  33.6775 33.970000 34.002500    34.6825   34.660000 35.175000 35.092500  35.107500     37.19\n",
            "Female 21-30                     White   24.0      26.0       0.8   0.862500    35.6525  35.517500      34.2775    34.800000 35.6850    35.6675  35.615000  35.717500 35.502500  35.502500  35.295000    35.5300 35.357500 35.092500   35.717500      35.6825 34.900000 34.827500  34.6475 34.820000 34.670000    35.3450   35.222500 35.912500 35.860000  35.885000     37.34\n",
            "Female 21-30 Black or African-American   24.0      27.0       0.8   0.930000    35.2225  35.612500      34.3850    35.247500 35.2075    35.2000  35.117500  35.225000 35.595000  35.595000  35.327500    35.6125 34.910000 35.170000   35.612500      35.5950 34.440000 34.422500  34.6550 34.302500 34.917500    35.6025   35.315000 35.720000 34.965000  34.982500     37.09\n",
            "  Male 18-20                     White   24.0      27.0       0.8   0.895000    35.5450  35.665000      34.9100    35.367500 35.6025    35.4750  35.570000  35.640000 35.640000  35.640000  35.077500    35.6675 35.355000 35.120000   35.665000      35.6475 35.090000 35.160000  34.3975 34.670000 33.827500    35.4175   35.372500 35.895000 35.587500  35.617500     37.04\n",
            "Female 21-30                     White   24.0      26.0       0.8   0.827500    35.1325  35.202500      34.5275    34.582500 35.1300    35.1225  35.050000  35.147500 35.215000  35.187500  35.062500    35.2375 34.952500 34.777500   35.250000      35.2275 34.192500 34.282500  34.4800 34.285000 34.242500    34.8600   34.692500 35.850000 35.817500  35.850000     36.99\n",
            "  Male 21-30                     White   24.0      31.0       0.8   0.442500    35.2825  35.615000      34.7500    34.717500 35.2825    35.2500  35.210000  35.305000 35.582500  35.582500  35.017500    35.6150 35.140000 35.057500   35.615000      35.5800 33.477500 33.602500  34.0150 33.677500 34.277500    35.2000   34.630000 35.837500 35.665000  35.707500     36.59\n",
            "Female 18-20                     White   25.0      30.0       0.8   0.587500    35.1050  34.870000      34.2725    34.027500 35.1000    35.0750  34.940000  35.162500 34.852500  34.852500  34.320000    34.8800 34.707500 33.895000   35.162500      35.1050 33.727500 33.402500  33.3925 33.460000 33.555000    34.1325   33.997500 35.680000 35.442500  35.490000     36.49\n",
            "Female 18-20                     Asian   25.0      30.0       0.8   0.977500    35.3075  35.422500      34.5575    34.962500 35.3400    35.2750  35.340000  35.365000 35.405000  35.405000  35.265000    35.4225 35.162500 35.232500   35.422500      35.4025 35.147500 35.025000  35.1725 35.190000 35.290000    35.6550   35.475000 35.852500 35.357500  35.382500     36.59\n",
            "  Male 21-30               Multiracial   26.0      31.0       0.8   1.067500    35.8900  35.765000      35.4225    35.280000 35.8350    35.8350  35.605000  35.890000 35.732500  35.732500  35.520000    35.7650 35.590000 35.520000   35.890000      35.8350 35.255000 35.352500  35.3750 35.215000 35.010000    35.6350   35.487500 36.205000 35.975000  36.020000     36.89\n",
            "  Male 18-20                     Asian   22.8      15.5       0.8   0.375000    35.2750  35.200000      34.6425    34.667500 35.2575    35.2575  34.727500  35.280000 35.167500  35.167500  34.417500    35.2000 34.422500 34.377500   35.285000      35.2600 34.032500 33.977500  34.0875 33.730000 33.542500    34.8675   34.350000 35.805000 35.767500  35.805000     36.54\n",
            "Female 26-30               Multiracial   23.0      14.0       0.8   0.495000    35.3850  35.045000      33.9325    34.205000 35.3925    35.3675  35.257500  35.407500 35.035000  35.035000  34.885000    35.0750 34.772500 34.382500   35.407500      35.3925 33.290000 34.060000  33.5450 33.340000 33.787500    35.4725   34.382500 35.980000 35.827500  35.857500     36.74\n",
            "  Male 18-20                     White   23.0      14.0       0.8   0.412500    35.5725  35.600000      34.5150    34.677500 35.6325    35.4925  35.575000  35.652500 35.595000  35.587500  35.270000    35.6925 35.295000 35.125000   35.735000      35.7025 34.482500 34.365000  33.8625 34.055000 34.642500    35.0925   34.845000 35.875000 35.405000  35.425000     36.54\n",
            "Female 18-20                     White   23.0      14.0       0.8   0.432500    35.3775  35.682500      34.5275    34.570000 35.3500    35.3500  35.172500  35.380000 35.675000  35.667500  35.580000    35.6900 34.867500 35.042500   35.690000      35.6725 34.335000 34.555000  34.5325 34.270000 34.350000    35.5400   35.140000 36.160000 36.022500  36.055000     37.19\n",
            "  Male 21-25 Black or African-American   23.5      53.0       0.8   0.225000    36.2175  36.597500      35.8900    36.177500 36.2150    36.2050  36.130000  36.240000 36.580000  36.580000  36.395000    36.5975 35.982500 36.280000   36.597500      36.5800 34.665000 34.910000  35.0875 34.882500 34.750000    36.0600   35.270000 37.110000 36.847500  36.877500     37.79\n",
            "  Male 31-40                     White   23.7      61.2       0.8   0.750000    35.5825  35.680000      35.0550    35.325000 35.5550    35.5550  35.312500  35.585000 35.660000  35.660000  35.305000    35.6850 35.225000 35.300000   35.680000      35.6575 34.082500 34.132500  34.1425 34.230000 34.130000    34.8450   34.652500 35.845000 35.687500  35.717500     36.49\n",
            "Female 26-30               Multiracial   24.0      61.0       0.8   0.867500    35.3850  35.270000      34.3925    34.665000 35.5925    35.3625  35.525000  35.635000 35.267500  35.232500  35.060000    35.3025 35.037500 34.905000   35.630000      35.5975 33.732500 33.860000  33.8175 33.772500 34.107500    35.3725   34.630000 35.995000 35.700000  35.725000     37.09\n",
            "  Male 21-25                     White   22.5      23.1       0.8   0.483333    35.4400  35.643333      34.6400    35.253333 35.4500    35.4200  35.396667  35.473333 35.663333  35.663333  34.946667    35.7000 35.183333 34.846667   35.696667      35.6600 33.996667 34.196667  33.0500 34.316667 31.743333    34.9500   34.776667 36.333333 36.303333  36.333333     37.19\n",
            "Female 18-20                     Asian   23.2      22.6       0.8   0.895000    34.7175  34.967500      34.3975    34.385000 35.1375    34.7100  35.137500  35.175000 34.895000  34.895000  34.322500    34.9675 34.490000 34.192500   35.480000      35.4500 34.092500 34.265000  33.9250 33.930000 33.760000    35.0725   34.510000 35.882500 35.415000  35.470000     36.89\n",
            "  Male 21-25                     White   22.6      22.6       0.8   0.567500    35.4925  35.552500      34.3425    34.455000 35.4475    35.4475  35.152500  35.492500 35.507500  35.507500  34.895000    35.5550 35.062500 34.465000   35.555000      35.5150 34.267500 34.097500  34.0500 34.092500 34.322500    35.0625   34.667500 35.785000 35.652500  35.675000     36.54\n"
          ]
        }
      ]
    },
    {
      "cell_type": "markdown",
      "source": [
        "Pada data tersebut belum siap diolah karena kolom Gender, Age, dan Ethnicity adalah kategorikal. Maka harus diubah menjadi format numerik menggunakan metode label encoding.\n",
        "Namun ada masalah pada kolom Age yaitu kategori '21-25' dan '26-30' saling bertumpang tindih dengan kategori '21-30'."
      ],
      "metadata": {
        "id": "zun5jz2uCZg6"
      }
    },
    {
      "cell_type": "code",
      "source": [
        "# Load data\n",
        "df = pd.read_csv('Infrared.csv')\n",
        "\n",
        "# Pastikan kolom Age dalam bentuk string agar bisa difilter\n",
        "if 'Age' in df.columns:\n",
        "    df['Age'] = df['Age'].astype(str)\n",
        "\n",
        "    # Hitung jumlah data dalam setiap kategori\n",
        "    count_21_30 = df[df['Age'] == '21-30'].shape[0]\n",
        "    count_21_25 = df[df['Age'] == '21-25'].shape[0]\n",
        "    count_26_30 = df[df['Age'] == '26-30'].shape[0]\n",
        "\n",
        "    # Tampilkan hasil\n",
        "    print(f\"Jumlah data Age '21-30': {count_21_30}\")\n",
        "    print(f\"Jumlah data Age '21-25': {count_21_25}\")\n",
        "    print(f\"Jumlah data Age '26-30': {count_26_30}\")\n",
        "else:\n",
        "    print(\"Kolom 'Age' tidak ditemukan dalam dataset.\")"
      ],
      "metadata": {
        "colab": {
          "base_uri": "https://localhost:8080/"
        },
        "id": "uiKxtQw9CbXA",
        "outputId": "e3579c64-25c9-4792-ed67-9d7f7b65456d"
      },
      "execution_count": 2,
      "outputs": [
        {
          "output_type": "stream",
          "name": "stdout",
          "text": [
            "Jumlah data Age '21-30': 11\n",
            "Jumlah data Age '21-25': 355\n",
            "Jumlah data Age '26-30': 67\n"
          ]
        }
      ]
    },
    {
      "cell_type": "markdown",
      "source": [
        "Karena hanya ada 11 data pada Age \"21-30\", solusinya saya hapus data tersebut karena tidak terlalu berpengaruh besar. Jika tidak dihapus akan menjadi masalah pada kategori \"21-25\" dan \"26-30\"."
      ],
      "metadata": {
        "id": "SrR__HVyCgyi"
      }
    },
    {
      "cell_type": "code",
      "source": [
        "# Load dataset\n",
        "file_path = \"Infrared.csv\"\n",
        "df = pd.read_csv(file_path)\n",
        "\n",
        "# Filter out rows where Age is '21-30'\n",
        "df_filtered = df[df['Age'] != '21-30']\n",
        "\n",
        "# Save the cleaned dataset\n",
        "output_path = \"Infrared_filtered.csv\"\n",
        "df_filtered.to_csv(output_path, index=False)\n",
        "\n",
        "print(f\"Data terfilter disimpan ke {output_path}\")\n"
      ],
      "metadata": {
        "colab": {
          "base_uri": "https://localhost:8080/"
        },
        "id": "mlueAieqCh5v",
        "outputId": "ddeba2a4-41c8-4f86-959e-46f987ee45da"
      },
      "execution_count": 3,
      "outputs": [
        {
          "output_type": "stream",
          "name": "stdout",
          "text": [
            "Data terfilter disimpan ke Infrared_filtered.csv\n"
          ]
        }
      ]
    },
    {
      "cell_type": "markdown",
      "source": [
        "Ubah kolom Gender, Age, dan Ethnicity menjadi format numerik menggunakan metode label encoding."
      ],
      "metadata": {
        "id": "E2M0swc8Cmk9"
      }
    },
    {
      "cell_type": "code",
      "source": [
        "# Load dataset\n",
        "df = pd.read_csv(\"Infrared_filtered.csv\")\n",
        "\n",
        "# Encode Gender (Male = 1, Female = 0)\n",
        "df[\"Gender\"] = df[\"Gender\"].map({\"Male\": 1, \"Female\": 0})\n",
        "\n",
        "# Perbaikan Mapping kategori Age ke angka (Ordinal Encoding)\n",
        "age_mapping = {\n",
        "    \"18-20\": 0,\n",
        "    \"21-25\": 1,\n",
        "    \"26-30\": 2,\n",
        "    \"31-40\": 3,\n",
        "    \"41-50\": 4,\n",
        "    \"51-60\": 5,\n",
        "    \">60\": 6\n",
        "}\n",
        "\n",
        "# Pastikan hanya kategori yang valid yang dikonversi\n",
        "df[\"Age\"] = df[\"Age\"].map(age_mapping)\n",
        "\n",
        "# Mapping kategori Ethnicity ke angka (Label Encoding manual)\n",
        "ethnicity_mapping = {\n",
        "    \"White\": 0,\n",
        "    \"Black or African-American\": 1,\n",
        "    \"Asian\": 2,\n",
        "    \"Multiracial\": 3,\n",
        "    \"Hispanic/Latino\": 4,\n",
        "    \"American Indian or Alaskan Native\": 5\n",
        "}\n",
        "df[\"Ethnicity\"] = df[\"Ethnicity\"].map(ethnicity_mapping)\n",
        "\n",
        "# Simpan kembali ke file CSV setelah perubahan\n",
        "df.to_csv(\"Infrared_enco.csv\", index=False)\n",
        "\n",
        "print(\"Kolom Gender, Age, dan Ethnicity berhasil diubah menjadi numerik menggunakan Label Encoding dan disimpan di 'Infrared_enco.csv'.\")\n",
        "print(df.head(20).to_string(index=False))\n"
      ],
      "metadata": {
        "colab": {
          "base_uri": "https://localhost:8080/"
        },
        "id": "TJC-Mg9SCnSJ",
        "outputId": "5934a38d-5f8c-4143-9d7b-1ffab8dbc693"
      },
      "execution_count": 4,
      "outputs": [
        {
          "output_type": "stream",
          "name": "stdout",
          "text": [
            "Kolom Gender, Age, dan Ethnicity berhasil diubah menjadi numerik menggunakan Label Encoding dan disimpan di 'Infrared_enco.csv'.\n",
            " Gender  Age  Ethnicity  T_atm  Humidity  Distance  T_offset1  Max1R13_1  Max1L13_1  aveAllR13_1  aveAllL13_1     T_RC1  T_RC_Dry1  T_RC_Wet1  T_RC_Max1     T_LC1  T_LC_Dry1  T_LC_Wet1  T_LC_Max1      RCC1      LCC1  canthiMax1  canthi4Max1   T_FHCC1   T_FHRC1   T_FHLC1   T_FHBC1   T_FHTC1  T_FH_Max1  T_FHC_Max1    T_Max1     T_OR1  T_OR_Max1  aveOralM\n",
            "      1    4          0   24.0      28.0       0.8   0.702500  35.030000  35.377500    34.400000    34.917500 34.985000  34.985000  34.762500  35.032500 35.337500  35.337500  34.485000  35.377500 34.785000 34.465000   35.377500    35.337500 33.577500 33.477500 33.372500 33.492500 33.002500    34.5300   34.007500 35.692500 35.635000  35.652500     36.59\n",
            "      0    3          1   24.0      26.0       0.8   0.780000  34.550000  34.520000    33.930000    34.225000 34.710000  34.632500  34.640000  34.742500 34.560000  34.537500  34.350000  34.575000 34.322500 34.240000   34.740000    34.715000 34.032500 34.055000 33.677500 33.970000 34.002500    34.6825   34.660000 35.175000 35.092500  35.107500     37.19\n",
            "      1    0          0   24.0      27.0       0.8   0.895000  35.545000  35.665000    34.910000    35.367500 35.602500  35.475000  35.570000  35.640000 35.640000  35.640000  35.077500  35.667500 35.355000 35.120000   35.665000    35.647500 35.090000 35.160000 34.397500 34.670000 33.827500    35.4175   35.372500 35.895000 35.587500  35.617500     37.04\n",
            "      0    0          0   25.0      30.0       0.8   0.587500  35.105000  34.870000    34.272500    34.027500 35.100000  35.075000  34.940000  35.162500 34.852500  34.852500  34.320000  34.880000 34.707500 33.895000   35.162500    35.105000 33.727500 33.402500 33.392500 33.460000 33.555000    34.1325   33.997500 35.680000 35.442500  35.490000     36.49\n",
            "      0    0          2   25.0      30.0       0.8   0.977500  35.307500  35.422500    34.557500    34.962500 35.340000  35.275000  35.340000  35.365000 35.405000  35.405000  35.265000  35.422500 35.162500 35.232500   35.422500    35.402500 35.147500 35.025000 35.172500 35.190000 35.290000    35.6550   35.475000 35.852500 35.357500  35.382500     36.59\n",
            "      1    0          2   22.8      15.5       0.8   0.375000  35.275000  35.200000    34.642500    34.667500 35.257500  35.257500  34.727500  35.280000 35.167500  35.167500  34.417500  35.200000 34.422500 34.377500   35.285000    35.260000 34.032500 33.977500 34.087500 33.730000 33.542500    34.8675   34.350000 35.805000 35.767500  35.805000     36.54\n",
            "      0    2          3   23.0      14.0       0.8   0.495000  35.385000  35.045000    33.932500    34.205000 35.392500  35.367500  35.257500  35.407500 35.035000  35.035000  34.885000  35.075000 34.772500 34.382500   35.407500    35.392500 33.290000 34.060000 33.545000 33.340000 33.787500    35.4725   34.382500 35.980000 35.827500  35.857500     36.74\n",
            "      1    0          0   23.0      14.0       0.8   0.412500  35.572500  35.600000    34.515000    34.677500 35.632500  35.492500  35.575000  35.652500 35.595000  35.587500  35.270000  35.692500 35.295000 35.125000   35.735000    35.702500 34.482500 34.365000 33.862500 34.055000 34.642500    35.0925   34.845000 35.875000 35.405000  35.425000     36.54\n",
            "      0    0          0   23.0      14.0       0.8   0.432500  35.377500  35.682500    34.527500    34.570000 35.350000  35.350000  35.172500  35.380000 35.675000  35.667500  35.580000  35.690000 34.867500 35.042500   35.690000    35.672500 34.335000 34.555000 34.532500 34.270000 34.350000    35.5400   35.140000 36.160000 36.022500  36.055000     37.19\n",
            "      1    1          1   23.5      53.0       0.8   0.225000  36.217500  36.597500    35.890000    36.177500 36.215000  36.205000  36.130000  36.240000 36.580000  36.580000  36.395000  36.597500 35.982500 36.280000   36.597500    36.580000 34.665000 34.910000 35.087500 34.882500 34.750000    36.0600   35.270000 37.110000 36.847500  36.877500     37.79\n",
            "      1    3          0   23.7      61.2       0.8   0.750000  35.582500  35.680000    35.055000    35.325000 35.555000  35.555000  35.312500  35.585000 35.660000  35.660000  35.305000  35.685000 35.225000 35.300000   35.680000    35.657500 34.082500 34.132500 34.142500 34.230000 34.130000    34.8450   34.652500 35.845000 35.687500  35.717500     36.49\n",
            "      0    2          3   24.0      61.0       0.8   0.867500  35.385000  35.270000    34.392500    34.665000 35.592500  35.362500  35.525000  35.635000 35.267500  35.232500  35.060000  35.302500 35.037500 34.905000   35.630000    35.597500 33.732500 33.860000 33.817500 33.772500 34.107500    35.3725   34.630000 35.995000 35.700000  35.725000     37.09\n",
            "      1    1          0   22.5      23.1       0.8   0.483333  35.440000  35.643333    34.640000    35.253333 35.450000  35.420000  35.396667  35.473333 35.663333  35.663333  34.946667  35.700000 35.183333 34.846667   35.696667    35.660000 33.996667 34.196667 33.050000 34.316667 31.743333    34.9500   34.776667 36.333333 36.303333  36.333333     37.19\n",
            "      0    0          2   23.2      22.6       0.8   0.895000  34.717500  34.967500    34.397500    34.385000 35.137500  34.710000  35.137500  35.175000 34.895000  34.895000  34.322500  34.967500 34.490000 34.192500   35.480000    35.450000 34.092500 34.265000 33.925000 33.930000 33.760000    35.0725   34.510000 35.882500 35.415000  35.470000     36.89\n",
            "      1    1          0   22.6      22.6       0.8   0.567500  35.492500  35.552500    34.342500    34.455000 35.447500  35.447500  35.152500  35.492500 35.507500  35.507500  34.895000  35.555000 35.062500 34.465000   35.555000    35.515000 34.267500 34.097500 34.050000 34.092500 34.322500    35.0625   34.667500 35.785000 35.652500  35.675000     36.54\n",
            "      0    0          2   22.9      22.7       0.8   0.913333  35.006667  35.183333    33.963333    34.663333 35.103333  35.003333  35.093333  35.146667 35.150000  35.150000  34.420000  35.183333 34.846667 34.330000   35.313333    35.286667 34.693333 35.010000 34.663333 34.390000 34.993333    35.5700   35.433333 35.570000 34.543333  34.576667     37.04\n",
            "      1    0          0   23.0      22.4       0.8   0.945000  35.700000  35.852500    35.172500    35.245000 35.692500  35.675000  35.382500  35.717500 35.820000  35.820000  35.535000  35.860000 35.200000 35.272500   35.857500    35.822500 35.150000 35.062500 35.240000 35.202500 34.770000    35.5950   35.505000 36.062500 35.767500  35.792500     37.04\n",
            "      0    0          2   23.1      22.8       0.8   0.940000  34.535000  34.905000    33.960000    34.250000 34.670000  34.670000  34.355000  34.710000 34.860000  34.835000  34.810000  34.910000 34.105000 34.485000   34.910000    34.895000 34.375000 34.115000 33.995000 34.170000 34.365000    35.2450   34.785000 35.695000 35.090000  35.110000     36.14\n",
            "      0    0          2   23.1      22.7       0.8   0.887500  34.977500  35.200000    34.540000    34.787500 35.227500  34.927500  35.227500  35.260000 35.270000  35.187500  35.150000  35.305000 34.857500 34.997500   35.342500    35.300000 34.390000 34.185000 34.475000 34.042500 34.795000    35.1750   35.045000 35.775000 35.667500  35.715000     36.99\n",
            "      0    0          0   22.9      22.8       0.8   0.837500  35.990000  36.112500    35.505000    35.570000 36.030000  36.027500  35.827500  36.065000 36.170000  36.062500  36.032500  36.210000 35.752500 35.832500   36.210000    36.170000 34.657500 34.910000 35.002500 34.797500 35.042500    35.4900   35.262500 36.240000 35.972500  36.027500     37.09\n"
          ]
        }
      ]
    },
    {
      "cell_type": "markdown",
      "source": [
        "Cek apakah ada data kosong?"
      ],
      "metadata": {
        "id": "ns39wwWdCsE3"
      }
    },
    {
      "cell_type": "code",
      "source": [
        "# Load dataset\n",
        "df = pd.read_csv(\"Infrared_enco.csv\")\n",
        "\n",
        "# Menampilkan baris yang memiliki nilai kosong\n",
        "missing_rows = df[df.isnull().any(axis=1)]\n",
        "\n",
        "print(\"Baris dengan data kosong:\")\n",
        "print(missing_rows)"
      ],
      "metadata": {
        "colab": {
          "base_uri": "https://localhost:8080/"
        },
        "id": "X-38FDnkCsfI",
        "outputId": "3728b804-b345-4484-e0ed-d67344220b3e"
      },
      "execution_count": 5,
      "outputs": [
        {
          "output_type": "stream",
          "name": "stdout",
          "text": [
            "Baris dengan data kosong:\n",
            "     Gender  Age  Ethnicity  T_atm  Humidity  Distance  T_offset1  Max1R13_1  \\\n",
            "892       0    0          0   23.9      15.3       NaN     0.8100     35.735   \n",
            "893       1    0          0   23.9      15.3       NaN     0.7775     35.620   \n",
            "\n",
            "     Max1L13_1  aveAllR13_1  ...  T_FHRC1  T_FHLC1  T_FHBC1  T_FHTC1  \\\n",
            "892    35.4150      35.0525  ...    34.73   34.675  34.7075    34.77   \n",
            "893    35.6275      34.3650  ...    33.59   33.840  33.1125    33.35   \n",
            "\n",
            "     T_FH_Max1  T_FHC_Max1   T_Max1    T_OR1  T_OR_Max1  aveOralM  \n",
            "892    35.3900     35.1925  36.0075  35.8675     35.895     36.79  \n",
            "893    34.8675     34.4825  36.3350  36.0425     36.080     37.49  \n",
            "\n",
            "[2 rows x 34 columns]\n"
          ]
        }
      ]
    },
    {
      "cell_type": "markdown",
      "source": [
        "Karena hanya ada 2 data kosong pada kolom Distance maka saya akan Hapus baris saja. Karena jumlahnya sangat sedikit sekitar 0.2% dan tidak akan mempengaruhi model."
      ],
      "metadata": {
        "id": "Ng6TOtX6Cvow"
      }
    },
    {
      "cell_type": "code",
      "source": [
        "# Menghapus baris dengan nilai kosong (NaN)\n",
        "df_cleaned = df.dropna()\n",
        "\n",
        "# Simpan kembali ke file CSV setelah pembersihan\n",
        "df_cleaned.to_csv(\"Infrared_cleaned.csv\", index=False)\n",
        "\n",
        "# Menampilkan jumlah data setelah pembersihan\n",
        "print(f\"Jumlah data sebelum pembersihan: {df.shape[0]}\")\n",
        "print(f\"Jumlah data setelah pembersihan: {df_cleaned.shape[0]}\")\n",
        "print(\"Data kosong berhasil dihapus dan disimpan dalam 'Infrared_cleaned.csv'.\")\n"
      ],
      "metadata": {
        "colab": {
          "base_uri": "https://localhost:8080/"
        },
        "id": "9cDIcg3dCwS9",
        "outputId": "8cd557f9-f5e4-4469-c506-b885450bd074"
      },
      "execution_count": 6,
      "outputs": [
        {
          "output_type": "stream",
          "name": "stdout",
          "text": [
            "Jumlah data sebelum pembersihan: 1009\n",
            "Jumlah data setelah pembersihan: 1007\n",
            "Data kosong berhasil dihapus dan disimpan dalam 'Infrared_cleaned.csv'.\n"
          ]
        }
      ]
    },
    {
      "cell_type": "markdown",
      "source": [
        "sebelum masuk ke model deep learning:\n",
        "\n",
        "1️⃣ Pisahkan fitur (X) dan target (y)\n",
        "\n",
        "2️⃣ Bagi data menjadi training & testing set (80:20)\n",
        "\n",
        "3️⃣ Lakukan normalisasi dengan StandardScaler"
      ],
      "metadata": {
        "id": "heWhGFm5C16c"
      }
    },
    {
      "cell_type": "code",
      "source": [
        "import numpy as np\n",
        "from sklearn.model_selection import train_test_split\n",
        "from sklearn.preprocessing import StandardScaler\n",
        "\n",
        "# Load dataset\n",
        "df = pd.read_csv(\"Infrared_cleaned.csv\")\n",
        "\n",
        "# Pisahkan fitur (X) dan target (y)\n",
        "X = df.drop(columns=[\"aveOralM\"])\n",
        "y = df[\"aveOralM\"]\n",
        "\n",
        "# Bagi dataset menjadi train (80%) dan test (20%)\n",
        "X_train, X_test, y_train, y_test = train_test_split(X, y, test_size=0.2, random_state=42)\n",
        "\n",
        "# Normalisasi data menggunakan StandardScaler\n",
        "scaler = StandardScaler()\n",
        "X_train = scaler.fit_transform(X_train)\n",
        "X_test = scaler.transform(X_test)\n",
        "\n",
        "# Konversi kembali ke DataFrame agar lebih mudah dibaca\n",
        "X_train = pd.DataFrame(X_train, columns=X.columns)\n",
        "X_test = pd.DataFrame(X_test, columns=X.columns)\n",
        "\n",
        "print(\"Data berhasil diproses: dipisahkan, dibagi, dan dinormalisasi!\")\n"
      ],
      "metadata": {
        "colab": {
          "base_uri": "https://localhost:8080/"
        },
        "id": "GNUk3Kx6C2ed",
        "outputId": "34c5bf26-5940-477e-a403-0b2fd9d4baf5"
      },
      "execution_count": 7,
      "outputs": [
        {
          "output_type": "stream",
          "name": "stdout",
          "text": [
            "Data berhasil diproses: dipisahkan, dibagi, dan dinormalisasi!\n"
          ]
        }
      ]
    },
    {
      "cell_type": "markdown",
      "source": [
        "**Pytorch Model**"
      ],
      "metadata": {
        "id": "4nxzK-gFC_RJ"
      }
    },
    {
      "cell_type": "code",
      "source": [
        "import torch\n",
        "import torch.nn as nn\n",
        "import torch.optim as optim\n",
        "from torch.utils.data import DataLoader, TensorDataset\n",
        "\n",
        "# Konversi data ke tensor (menggunakan .to_numpy())\n",
        "X_train_tensor = torch.tensor(X_train.to_numpy(), dtype=torch.float32)\n",
        "y_train_tensor = torch.tensor(y_train.to_numpy(), dtype=torch.float32).view(-1, 1)\n",
        "X_test_tensor = torch.tensor(X_test.to_numpy(), dtype=torch.float32)\n",
        "y_test_tensor = torch.tensor(y_test.to_numpy(), dtype=torch.float32).view(-1, 1)\n",
        "\n",
        "# DataLoader untuk batch training\n",
        "train_dataset = TensorDataset(X_train_tensor, y_train_tensor)\n",
        "train_loader = DataLoader(train_dataset, batch_size=32, shuffle=True)\n",
        "\n",
        "# Definisi Model PyTorch\n",
        "class PyTorchModel(nn.Module):\n",
        "    def __init__(self, input_size):\n",
        "        super(PyTorchModel, self).__init__()\n",
        "        self.fc1 = nn.Linear(input_size, 64)\n",
        "        self.fc2 = nn.Linear(64, 32)\n",
        "        self.fc3 = nn.Linear(32, 1)\n",
        "        self.relu = nn.ReLU()\n",
        "\n",
        "    def forward(self, x):\n",
        "        x = self.relu(self.fc1(x))\n",
        "        x = self.relu(self.fc2(x))\n",
        "        x = self.fc3(x)\n",
        "        return x\n",
        "\n",
        "# Inisialisasi model\n",
        "input_size = X_train.shape[1]\n",
        "model_pytorch = PyTorchModel(input_size)\n",
        "\n",
        "# Loss function dan optimizer\n",
        "criterion = nn.MSELoss()\n",
        "optimizer = optim.Adam(model_pytorch.parameters(), lr=0.001)\n",
        "\n",
        "# Training loop\n",
        "epochs = 1000\n",
        "for epoch in range(epochs):\n",
        "    for X_batch, y_batch in train_loader:\n",
        "        optimizer.zero_grad()\n",
        "        outputs = model_pytorch(X_batch)\n",
        "        loss = criterion(outputs, y_batch)\n",
        "        loss.backward()\n",
        "        optimizer.step()\n",
        "\n",
        "    if (epoch + 1) % 50 == 0:  # Menampilkan loss setiap 50 epoch\n",
        "        print(f\"Epoch {epoch+1}/{epochs}, Loss: {loss.item()}\")\n",
        "\n",
        "# Evaluasi model PyTorch\n",
        "model_pytorch.eval()\n",
        "with torch.no_grad():  # Tidak perlu menghitung gradien saat evaluasi\n",
        "    y_pred_pytorch = model_pytorch(X_test_tensor).numpy()\n",
        "\n",
        "# Cetak hasil prediksi pertama sebagai contoh\n",
        "print(\"Contoh Prediksi (PyTorch):\", y_pred_pytorch[:5])\n"
      ],
      "metadata": {
        "colab": {
          "base_uri": "https://localhost:8080/"
        },
        "id": "s4mbViszDGfg",
        "outputId": "a2d1b313-d568-40be-a7fe-91d0bac54478"
      },
      "execution_count": 9,
      "outputs": [
        {
          "output_type": "stream",
          "name": "stdout",
          "text": [
            "Epoch 50/1000, Loss: 3.372971296310425\n",
            "Epoch 100/1000, Loss: 0.21443982422351837\n",
            "Epoch 150/1000, Loss: 0.15453508496284485\n",
            "Epoch 200/1000, Loss: 0.058195561170578\n",
            "Epoch 250/1000, Loss: 0.04660671949386597\n",
            "Epoch 300/1000, Loss: 0.039649516344070435\n",
            "Epoch 350/1000, Loss: 0.033779483288526535\n",
            "Epoch 400/1000, Loss: 0.04493723064661026\n",
            "Epoch 450/1000, Loss: 0.04236782342195511\n",
            "Epoch 500/1000, Loss: 0.03459443151950836\n",
            "Epoch 550/1000, Loss: 0.03994105011224747\n",
            "Epoch 600/1000, Loss: 0.04486504942178726\n",
            "Epoch 650/1000, Loss: 0.10327402502298355\n",
            "Epoch 700/1000, Loss: 0.011882448568940163\n",
            "Epoch 750/1000, Loss: 0.014607375487685204\n",
            "Epoch 800/1000, Loss: 0.007624060846865177\n",
            "Epoch 850/1000, Loss: 0.0539100281894207\n",
            "Epoch 900/1000, Loss: 0.03828176483511925\n",
            "Epoch 950/1000, Loss: 0.02072654850780964\n",
            "Epoch 1000/1000, Loss: 0.015311665832996368\n",
            "Contoh Prediksi (PyTorch): [[36.707027]\n",
            " [36.054356]\n",
            " [37.81102 ]\n",
            " [37.005775]\n",
            " [37.1424  ]]\n"
          ]
        }
      ]
    },
    {
      "cell_type": "markdown",
      "source": [
        "**TensorFlow**"
      ],
      "metadata": {
        "id": "S0-TDKCFDKoi"
      }
    },
    {
      "cell_type": "code",
      "source": [
        "import tensorflow as tf\n",
        "from tensorflow.keras.models import Sequential\n",
        "from tensorflow.keras.layers import Dense, Dropout, BatchNormalization, LeakyReLU\n",
        "from tensorflow.keras.optimizers import Adam\n",
        "from tensorflow.keras.callbacks import EarlyStopping, ModelCheckpoint, Callback\n",
        "from sklearn.preprocessing import StandardScaler\n",
        "import numpy as np\n",
        "from sklearn.metrics import mean_squared_error, r2_score\n",
        "\n",
        "# Normalisasi Data\n",
        "scaler = StandardScaler()\n",
        "X_train_scaled = scaler.fit_transform(X_train)\n",
        "X_test_scaled = scaler.transform(X_test)\n",
        "\n",
        "# Definisi Model\n",
        "model_tf = Sequential([\n",
        "    Dense(64, input_shape=(X_train.shape[1],)),\n",
        "    BatchNormalization(),\n",
        "    LeakyReLU(alpha=0.2),   # Tingkatkan alpha\n",
        "    Dropout(0.3),           # Tambahkan dropout\n",
        "\n",
        "    Dense(32),\n",
        "    BatchNormalization(),\n",
        "    LeakyReLU(alpha=0.2),\n",
        "    Dropout(0.3),\n",
        "\n",
        "    Dense(16),\n",
        "    BatchNormalization(),\n",
        "    LeakyReLU(alpha=0.2),\n",
        "\n",
        "    Dense(1)\n",
        "])\n",
        "\n",
        "# Kompilasi Model\n",
        "model_tf.compile(optimizer=Adam(learning_rate=0.001), loss='mse')\n",
        "\n",
        "# Callbacks\n",
        "early_stopping = EarlyStopping(monitor='val_loss', patience=50, restore_best_weights=True)\n",
        "model_checkpoint = ModelCheckpoint('best_model_tf.keras', save_best_only=True)  # Ganti .h5 dengan .keras\n",
        "\n",
        "# Callback untuk meringkas output epoch\n",
        "class CustomEpochProgress(Callback):\n",
        "    def __init__(self, interval=50):\n",
        "        super().__init__()\n",
        "        self.interval = interval\n",
        "\n",
        "    def on_epoch_end(self, epoch, logs=None):\n",
        "        if (epoch + 1) % self.interval == 0 or (epoch + 1) == self.params['epochs']:\n",
        "            print(f\"Epoch {epoch + 1}/{self.params['epochs']} - loss: {logs['loss']:.4f} - val_loss: {logs['val_loss']:.4f}\")\n",
        "\n",
        "# Menambahkan CustomEpochProgress ke dalam callbacks\n",
        "custom_progress = CustomEpochProgress(interval=50)\n",
        "\n",
        "# Training Model\n",
        "history = model_tf.fit(\n",
        "    X_train_scaled, y_train,\n",
        "    epochs=1000, batch_size=32, verbose=0,  # Mengubah verbose menjadi 0 untuk menyembunyikan output standar\n",
        "    validation_data=(X_test_scaled, y_test),\n",
        "    callbacks=[early_stopping, model_checkpoint, custom_progress]  # Menambahkan callback custom\n",
        ")\n",
        "\n",
        "# **PASTIKAN Menggunakan X_test_scaled!!**\n",
        "y_pred_tf = model_tf.predict(X_test_scaled)\n",
        "\n",
        "# Evaluasi Model TensorFlow\n",
        "mse_tf = mean_squared_error(y_test, y_pred_tf)\n",
        "rmse_tf = np.sqrt(mse_tf)\n",
        "r2_tf = r2_score(y_test, y_pred_tf)\n",
        "\n",
        "print(\"Evaluasi Model: TensorFlow\")\n",
        "print(f\"MSE  : {mse_tf:.4f}\")\n",
        "print(f\"RMSE : {rmse_tf:.4f}\")\n",
        "print(f\"R²   : {r2_tf:.4f}\")\n"
      ],
      "metadata": {
        "colab": {
          "base_uri": "https://localhost:8080/"
        },
        "id": "Dh_iinm-DOAd",
        "outputId": "4ba4c8e2-1b0c-44fd-9029-13a4357087c7"
      },
      "execution_count": 10,
      "outputs": [
        {
          "output_type": "stream",
          "name": "stderr",
          "text": [
            "/usr/local/lib/python3.11/dist-packages/keras/src/layers/core/dense.py:87: UserWarning: Do not pass an `input_shape`/`input_dim` argument to a layer. When using Sequential models, prefer using an `Input(shape)` object as the first layer in the model instead.\n",
            "  super().__init__(activity_regularizer=activity_regularizer, **kwargs)\n",
            "/usr/local/lib/python3.11/dist-packages/keras/src/layers/activations/leaky_relu.py:41: UserWarning: Argument `alpha` is deprecated. Use `negative_slope` instead.\n",
            "  warnings.warn(\n"
          ]
        },
        {
          "output_type": "stream",
          "name": "stdout",
          "text": [
            "Epoch 50/1000 - loss: 71.5061 - val_loss: 66.6968\n",
            "Epoch 100/1000 - loss: 4.3559 - val_loss: 2.4616\n",
            "Epoch 150/1000 - loss: 3.7170 - val_loss: 1.5752\n",
            "Epoch 200/1000 - loss: 2.4143 - val_loss: 1.1060\n",
            "Epoch 250/1000 - loss: 1.4229 - val_loss: 0.4582\n",
            "Epoch 300/1000 - loss: 0.8101 - val_loss: 0.2927\n",
            "Epoch 350/1000 - loss: 0.4378 - val_loss: 0.1480\n",
            "Epoch 400/1000 - loss: 0.3002 - val_loss: 0.1219\n",
            "Epoch 450/1000 - loss: 0.2407 - val_loss: 0.1120\n",
            "Epoch 500/1000 - loss: 0.1609 - val_loss: 0.1046\n",
            "Epoch 550/1000 - loss: 0.1230 - val_loss: 0.0938\n",
            "Epoch 600/1000 - loss: 0.1166 - val_loss: 0.0769\n",
            "\u001b[1m7/7\u001b[0m \u001b[32m━━━━━━━━━━━━━━━━━━━━\u001b[0m\u001b[37m\u001b[0m \u001b[1m0s\u001b[0m 13ms/step\n",
            "Evaluasi Model: TensorFlow\n",
            "MSE  : 0.0614\n",
            "RMSE : 0.2479\n",
            "R²   : 0.7542\n"
          ]
        }
      ]
    },
    {
      "cell_type": "markdown",
      "source": [
        "**Evaluasi**"
      ],
      "metadata": {
        "id": "-B2QtsamDg3y"
      }
    },
    {
      "cell_type": "code",
      "source": [
        "from sklearn.metrics import mean_squared_error, r2_score\n",
        "import numpy as np\n",
        "\n",
        "# Evaluasi Model PyTorch\n",
        "y_test_numpy = y_test.to_numpy().reshape(-1, 1)  # Pastikan berbentuk array\n",
        "mse_pytorch = mean_squared_error(y_test_numpy, y_pred_pytorch)\n",
        "rmse_pytorch = np.sqrt(mse_pytorch)\n",
        "r2_pytorch = r2_score(y_test_numpy, y_pred_pytorch)\n",
        "\n",
        "# Cetak hasil evaluasi\n",
        "print(\"Evaluasi Model: PyTorch\")\n",
        "print(f\"MSE  : {mse_pytorch:.4f}\")\n",
        "print(f\"RMSE : {rmse_pytorch:.4f}\")\n",
        "print(f\"R²   : {r2_pytorch:.4f}\")\n",
        "# Prediksi menggunakan model TensorFlow\n",
        "y_pred_tf = model_tf.predict(X_test)\n",
        "\n",
        "# Evaluasi Model TensorFlow\n",
        "mse_tf = mean_squared_error(y_test, y_pred_tf)\n",
        "rmse_tf = np.sqrt(mse_tf)\n",
        "r2_tf = r2_score(y_test, y_pred_tf)\n",
        "\n",
        "# Cetak hasil evaluasi\n",
        "print(\"Evaluasi Model: TensorFlow\")\n",
        "print(f\"MSE  : {mse_tf:.4f}\")\n",
        "print(f\"RMSE : {rmse_tf:.4f}\")\n",
        "print(f\"R²   : {r2_tf:.4f}\")\n"
      ],
      "metadata": {
        "colab": {
          "base_uri": "https://localhost:8080/"
        },
        "id": "_0VeELIoED-O",
        "outputId": "d412f062-9da1-48cd-af2e-35d83b6256c8"
      },
      "execution_count": 11,
      "outputs": [
        {
          "output_type": "stream",
          "name": "stdout",
          "text": [
            "Evaluasi Model: PyTorch\n",
            "MSE  : 0.1288\n",
            "RMSE : 0.3589\n",
            "R²   : 0.4848\n",
            "\u001b[1m7/7\u001b[0m \u001b[32m━━━━━━━━━━━━━━━━━━━━\u001b[0m\u001b[37m\u001b[0m \u001b[1m0s\u001b[0m 23ms/step \n",
            "Evaluasi Model: TensorFlow\n",
            "MSE  : 0.0614\n",
            "RMSE : 0.2479\n",
            "R²   : 0.7542\n"
          ]
        }
      ]
    },
    {
      "cell_type": "markdown",
      "source": [
        "---\n",
        "\n",
        "### 1. **Mean Squared Error (MSE)**\n",
        "\n",
        "#### Persamaan:\n",
        "$$\n",
        "\\text{MSE} = \\frac{1}{n} \\sum_{i=1}^{n} (y_i - \\hat{y}_i)^2\n",
        "$$\n",
        "\n",
        "#### Penjelasan:\n",
        "- \\(y_i\\) adalah nilai target yang sesungguhnya.\n",
        "- \\(\\hat{y}_i\\) adalah nilai prediksi model.\n",
        "- \\(n\\) adalah jumlah data dalam set uji.\n",
        "\n",
        "MSE mengukur seberapa besar perbedaan antara nilai yang diprediksi oleh model dan nilai yang sesungguhnya. Semakin kecil MSE, semakin baik model dalam memprediksi data yang diberikan.\n",
        "\n",
        "---\n",
        "\n",
        "### 2. **Root Mean Squared Error (RMSE)**\n",
        "\n",
        "#### Persamaan:\n",
        "$$\n",
        "\\text{RMSE} = \\sqrt{\\text{MSE}}\n",
        "$$\n",
        "\n",
        "#### Penjelasan:\n",
        "RMSE adalah akar kuadrat dari MSE. Meskipun MSE memberikan gambaran yang baik tentang kesalahan model, RMSE lebih mudah diinterpretasikan karena berada dalam satuan yang sama dengan data asli. Semakin kecil RMSE, semakin baik model dalam memprediksi target.\n",
        "\n",
        "---\n",
        "\n",
        "### 3. **Koefisien Determinasi (R²)**\n",
        "\n",
        "#### Persamaan:\n",
        "$$\n",
        "R^2 = 1 - \\frac{\\sum_{i=1}^{n} (y_i - \\hat{y}_i)^2}{\\sum_{i=1}^{n} (y_i - \\bar{y})^2}\n",
        "$$\n",
        "\n",
        "- \\(y_i\\) adalah nilai target yang sesungguhnya.\n",
        "- \\(\\hat{y}_i\\) adalah nilai prediksi model.\n",
        "- \\(\\bar{y}\\) adalah rata-rata dari nilai target \\(y\\).\n",
        "- \\(n\\) adalah jumlah data.\n",
        "\n",
        "#### Penjelasan:\n",
        "R² mengukur seberapa baik model dapat menjelaskan variasi dalam data. Nilai R² berkisar antara 0 dan 1:\n",
        "- \\(R^2 = 1\\): Model sangat baik dan dapat menjelaskan seluruh variasi data.\n",
        "- \\(R^2 = 0\\): Model tidak dapat menjelaskan variasi data lebih baik daripada model rata-rata.\n",
        "\n",
        "---\n",
        "\n",
        "### 4. **Loss Function (MSELoss di PyTorch)**\n",
        "\n",
        "#### Persamaan:\n",
        "$$\n",
        "\\text{Loss} = \\frac{1}{n} \\sum_{i=1}^{n} (y_i - \\hat{y}_i)^2\n",
        "$$\n",
        "\n",
        "#### Penjelasan:\n",
        "Loss function ini digunakan untuk mengukur kesalahan model selama pelatihan. Di PyTorch, ini diimplementasikan dengan fungsi `MSELoss`, yang mengukur kesalahan kuadrat rata-rata antara nilai target yang sesungguhnya dan nilai prediksi. Selama pelatihan, model akan mencoba meminimalkan nilai loss ini.\n",
        "\n",
        "---\n",
        "\n",
        "### 5. **Optimasi dengan Adam (Adam Optimizer)**\n",
        "\n",
        "Adam adalah algoritma optimasi yang menggabungkan dua pendekatan: Momentum dan Adagrad. Formula untuk pembaruan parameter \\( \\theta \\) dalam Adam adalah sebagai berikut:\n",
        "\n",
        "#### Persamaan:\n",
        "$$\n",
        "m_t = \\beta_1 m_{t-1} + (1 - \\beta_1) g_t\n",
        "$$\n",
        "$$\n",
        "v_t = \\beta_2 v_{t-1} + (1 - \\beta_2) g_t^2\n",
        "$$\n",
        "$$\n",
        "\\hat{m}_t = \\frac{m_t}{1 - \\beta_1^t}\n",
        "$$\n",
        "$$\n",
        "\\hat{v}_t = \\frac{v_t}{1 - \\beta_2^t}\n",
        "$$\n",
        "$$\n",
        "\\theta_{t+1} = \\theta_t - \\alpha \\frac{\\hat{m}_t}{\\sqrt{\\hat{v}_t} + \\epsilon}\n",
        "$$\n",
        "\n",
        "- \\(g_t\\) adalah gradien pada iterasi \\(t\\).\n",
        "- \\(\\beta_1\\) dan \\(\\beta_2\\) adalah parameter yang mengontrol seberapa cepat momentum dan kecepatan pembelajaran beradaptasi.\n",
        "- \\(\\hat{m}_t\\) dan \\(\\hat{v}_t\\) adalah estimasi yang diperbaiki dari rata-rata momentum dan variansi gradien.\n",
        "- \\(\\alpha\\) adalah learning rate.\n",
        "- \\(\\epsilon\\) adalah bilangan kecil untuk stabilitas numerik.\n",
        "\n",
        "\n",
        "Adam digunakan untuk memperbarui bobot model selama pelatihan dengan memanfaatkan estimasi rata-rata momentum dan gradien untuk membuat pembaruan lebih efisien.\n",
        "\n",
        "---\n",
        "\n",
        "### 6. **Fungsi Aktivasi LeakyReLU**\n",
        "\n",
        "#### Persamaan:\n",
        "$$\n",
        "f(x) =\n",
        "\\begin{cases}\n",
        "x & \\text{jika } x > 0 \\\\\n",
        "\\alpha x & \\text{jika } x \\leq 0\n",
        "\\end{cases}\n",
        "$$\n",
        "\n",
        "- \\(x\\) adalah input.\n",
        "- \\(\\alpha\\) adalah konstanta kecil, yang biasanya diatur ke 0.2.\n",
        "\n",
        "LeakyReLU adalah fungsi aktivasi yang memungkinkan sebagian kecil nilai negatif untuk lewat, menghindari masalah \"vanishing gradient\" yang dapat terjadi pada fungsi ReLU biasa. Ini membuatnya lebih efektif pada jaringan yang dalam.\n",
        "\n",
        "---\n",
        "\n",
        "### 7. **Dropout**\n",
        "\n",
        "Dropout adalah teknik regulasi yang digunakan untuk mencegah overfitting dengan \"menghapus\" (set ke 0) unit (neuron) secara acak selama pelatihan. Pada setiap langkah pelatihan, beberapa neuron yang dipilih secara acak tidak aktif. Hal ini mencegah model bergantung pada fitur tertentu dan membantu generalisasi.\n",
        "\n",
        "---\n",
        "\n",
        "Dengan penjelasan di atas, Anda dapat memahami bagaimana masing-masing fungsi dan persamaan ini bekerja untuk membantu melatih dan mengevaluasi model pembelajaran mesin Anda. Anda bisa menyalin penjelasan ini langsung ke dalam sel di Google Colab untuk referensi lebih lanjut."
      ],
      "metadata": {
        "id": "51dZlCriERtY"
      }
    },
    {
      "cell_type": "markdown",
      "source": [],
      "metadata": {
        "id": "thZpDl4fE9Ms"
      }
    },
    {
      "cell_type": "code",
      "source": [
        "from IPython.display import Math\n",
        "\n",
        "# Menampilkan rumus\n",
        "Math(r'y_i \\text{ adalah nilai target yang sesungguhnya.}')\n",
        "Math(r'\\hat{y}_i \\text{ adalah nilai prediksi model.}')\n",
        "Math(r'n \\text{ adalah jumlah data dalam set uji.}')\n",
        "Math(r'y = \\frac{1}{n} \\sum_{i=1}^{n} y_i')\n"
      ],
      "metadata": {
        "colab": {
          "base_uri": "https://localhost:8080/",
          "height": 67
        },
        "id": "DS434IxJMs-O",
        "outputId": "69be05ec-b12d-4ffd-e0da-d178d0b1b476"
      },
      "execution_count": 12,
      "outputs": [
        {
          "output_type": "execute_result",
          "data": {
            "text/plain": [
              "<IPython.core.display.Math object>"
            ],
            "text/latex": "$\\displaystyle y = \\frac{1}{n} \\sum_{i=1}^{n} y_i$"
          },
          "metadata": {},
          "execution_count": 12
        }
      ]
    }
  ]
}
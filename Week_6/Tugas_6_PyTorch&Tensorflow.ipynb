{
  "nbformat": 4,
  "nbformat_minor": 0,
  "metadata": {
    "colab": {
      "provenance": [],
      "authorship_tag": "ABX9TyOP6ojZpDEo0Zz0/ay0fpaM",
      "include_colab_link": true
    },
    "kernelspec": {
      "name": "python3",
      "display_name": "Python 3"
    },
    "language_info": {
      "name": "python"
    }
  },
  "cells": [
    {
      "cell_type": "markdown",
      "metadata": {
        "id": "view-in-github",
        "colab_type": "text"
      },
      "source": [
        "<a href=\"https://colab.research.google.com/github/hamdansyaif/DeepLearning/blob/main/Week_6/Tugas_6_PyTorch%26Tensorflow.ipynb\" target=\"_parent\"><img src=\"https://colab.research.google.com/assets/colab-badge.svg\" alt=\"Open In Colab\"/></a>"
      ]
    },
    {
      "cell_type": "markdown",
      "source": [
        "### Tugas 6\n",
        "1. Buat model Deep learning (PyTorch and Tensorflow).\n",
        "2. Gunakan Matriks Evaluasi (Akurasi,Presisi,Recall,F1Squared, AUC, ROC). Visualisasikan matriks akurasi dan loss.\n",
        "3. Beri penjelasan untuk setiap persamaan matematika yang ada.\n",
        "4. Akurasi pada Training dan Testing Set Minimal Sebesar 70%.\n",
        "5. Disarankan untuk mengerjakan tugas menggunakan Google Colab. Coba gunakan Google Colab dengan\n",
        "     T4 GPU atau TPU agar proses pelatihan model menjadi lebih cepat."
      ],
      "metadata": {
        "id": "FZ-6DIVjYs0l"
      }
    },
    {
      "cell_type": "markdown",
      "source": [
        "### Import Dataset dan Setup Awal"
      ],
      "metadata": {
        "id": "QABhYSGrYwdq"
      }
    },
    {
      "cell_type": "code",
      "source": [
        "# Cek dan aktifkan GPU jika tersedia\n",
        "import tensorflow as tf\n",
        "\n",
        "# Cek TensorFlow\n",
        "print(\"TensorFlow version:\", tf.__version__)\n",
        "print(\"GPU Available: \", tf.config.list_physical_devices('GPU'))"
      ],
      "metadata": {
        "colab": {
          "base_uri": "https://localhost:8080/"
        },
        "id": "z2oUiLu5fP-4",
        "outputId": "09276b3a-9166-4569-a26b-e920b696dd8d"
      },
      "execution_count": 35,
      "outputs": [
        {
          "output_type": "stream",
          "name": "stdout",
          "text": [
            "TensorFlow version: 2.18.0\n",
            "GPU Available:  []\n"
          ]
        }
      ]
    },
    {
      "cell_type": "code",
      "source": [
        "\n",
        "# Import library yang diperlukan\n",
        "import numpy as np\n",
        "import pandas as pd\n",
        "import matplotlib.pyplot as plt\n",
        "import seaborn as sns\n",
        "from sklearn.model_selection import train_test_split\n",
        "from sklearn.metrics import accuracy_score, precision_score, recall_score, f1_score, roc_auc_score, confusion_matrix, roc_curve\n",
        "import nltk\n",
        "from nltk.corpus import stopwords\n",
        "import re\n",
        "import string\n",
        "import time\n",
        "import warnings\n",
        "warnings.filterwarnings('ignore')\n",
        "\n",
        "# Set style untuk visualisasi\n",
        "plt.style.use('fivethirtyeight')\n",
        "sns.set(style='whitegrid')\n",
        "\n",
        "# Download resource untuk NLP\n",
        "!pip install nltk\n",
        "nltk.download('punkt', quiet=True)\n",
        "nltk.download('stopwords', quiet=True)\n",
        "\n",
        "# Set random seed untuk reproducibility\n",
        "np.random.seed(42)\n",
        "tf.random.set_seed(42)"
      ],
      "metadata": {
        "id": "AM_y9vTKfetS",
        "colab": {
          "base_uri": "https://localhost:8080/"
        },
        "outputId": "ccc99366-eafe-48ed-efce-0ac69a11d21b"
      },
      "execution_count": 36,
      "outputs": [
        {
          "output_type": "stream",
          "name": "stdout",
          "text": [
            "Requirement already satisfied: nltk in /usr/local/lib/python3.11/dist-packages (3.9.1)\n",
            "Requirement already satisfied: click in /usr/local/lib/python3.11/dist-packages (from nltk) (8.1.8)\n",
            "Requirement already satisfied: joblib in /usr/local/lib/python3.11/dist-packages (from nltk) (1.4.2)\n",
            "Requirement already satisfied: regex>=2021.8.3 in /usr/local/lib/python3.11/dist-packages (from nltk) (2024.11.6)\n",
            "Requirement already satisfied: tqdm in /usr/local/lib/python3.11/dist-packages (from nltk) (4.67.1)\n"
          ]
        }
      ]
    },
    {
      "cell_type": "markdown",
      "source": [
        "### Preprocessing Dataset"
      ],
      "metadata": {
        "id": "IV-zczT6ho-a"
      }
    },
    {
      "cell_type": "code",
      "source": [
        "# Load dataset\n",
        "import pandas as pd\n",
        "import re\n",
        "import string\n",
        "import nltk\n",
        "from nltk.corpus import stopwords\n",
        "import requests\n",
        "\n",
        "nltk.download('stopwords', quiet=True)\n",
        "stop_words = set(stopwords.words('english'))\n",
        "\n",
        "# Path dataset\n",
        "url = 'https://raw.githubusercontent.com/farrelrassya/teachingMLDL/1a62c814ab2a0a1c080e04391824de60a70e76e0/02.%20Deep%20Learning/06.%20Week%206/Datasets/DeteksiSarkasme.json'\n",
        "response = requests.get(url)\n",
        "data_path = '/content/DeteksiSarkasme.json'\n",
        "\n",
        "if response.status_code == 200:\n",
        "    with open(data_path, 'wb') as f:\n",
        "        f.write(response.content)\n",
        "    print(f\"Dataset berhasil diunduh ke: {data_path}\")\n",
        "else:\n",
        "    print(f\"Terjadi kesalahan saat mengunduh file. Status code: {response.status_code}\")\n",
        "\n",
        "print(\"📥 Memuat dataset dari:\", data_path)\n",
        "data = pd.read_json(data_path, lines=True)\n",
        "\n",
        "print(\"Jumlah data sebelum preprocessing:\", len(data))\n",
        "print(\"Kolom yang tersedia:\", data.columns.tolist())\n",
        "\n",
        "# Preprocessing\n",
        "def bersihkan_teks(teks):\n",
        "    if pd.isnull(teks):\n",
        "        return \"\"\n",
        "    teks = teks.lower()\n",
        "    teks = teks.translate(str.maketrans('', '', string.punctuation))\n",
        "    teks = re.sub(r'\\d+', '', teks)\n",
        "    teks = re.sub(r'\\s+', ' ', teks).strip()\n",
        "    tokens = teks.split()\n",
        "    tokens = [word for word in tokens if word not in stop_words]\n",
        "    return ' '.join(tokens)\n",
        "\n",
        "print(\"\\n🔧 Melakukan preprocessing pada teks ulasan...\")\n",
        "data['Cleaned Review'] = data['headline'].apply(bersihkan_teks)\n",
        "\n",
        "# Preview\n",
        "print(\"\\n🧾 Contoh hasil sebelum dan sesudah dibersihkan:\")\n",
        "for idx in range(3):\n",
        "    original = data['headline'].iloc[idx][:100]\n",
        "    cleaned = data['Cleaned Review'].iloc[idx][:100]\n",
        "    print(f\"\\nsebelum  : {original}...\")\n",
        "    print(f\"Sesudah   : {cleaned}...\")\n",
        "\n",
        "# Statistik panjang kalimat\n",
        "data['length'] = data['Cleaned Review'].apply(lambda x: len(x.split()))\n",
        "print(\"\\n📏 Statistik panjang kalimat (jumlah kata):\")\n",
        "print(data['length'].describe())\n"
      ],
      "metadata": {
        "colab": {
          "base_uri": "https://localhost:8080/"
        },
        "id": "RR2xSS4uhrK_",
        "outputId": "bfacdc43-969c-4902-aa74-74c564b9893c"
      },
      "execution_count": 37,
      "outputs": [
        {
          "output_type": "stream",
          "name": "stdout",
          "text": [
            "Dataset berhasil diunduh ke: /content/DeteksiSarkasme.json\n",
            "📥 Memuat dataset dari: /content/DeteksiSarkasme.json\n",
            "Jumlah data sebelum preprocessing: 26709\n",
            "Kolom yang tersedia: ['article_link', 'headline', 'is_sarcastic']\n",
            "\n",
            "🔧 Melakukan preprocessing pada teks ulasan...\n",
            "\n",
            "🧾 Contoh hasil sebelum dan sesudah dibersihkan:\n",
            "\n",
            "sebelum  : former versace store clerk sues over secret 'black code' for minority shoppers...\n",
            "Sesudah   : former versace store clerk sues secret black code minority shoppers...\n",
            "\n",
            "sebelum  : the 'roseanne' revival catches up to our thorny political mood, for better and worse...\n",
            "Sesudah   : roseanne revival catches thorny political mood better worse...\n",
            "\n",
            "sebelum  : mom starting to fear son's web series closest thing she will have to grandchild...\n",
            "Sesudah   : mom starting fear sons web series closest thing grandchild...\n",
            "\n",
            "📏 Statistik panjang kalimat (jumlah kata):\n",
            "count    26709.000000\n",
            "mean         6.984724\n",
            "std          2.269902\n",
            "min          0.000000\n",
            "25%          5.000000\n",
            "50%          7.000000\n",
            "75%          8.000000\n",
            "max         26.000000\n",
            "Name: length, dtype: float64\n"
          ]
        }
      ]
    },
    {
      "cell_type": "code",
      "source": [
        "from sklearn.model_selection import train_test_split\n",
        "\n",
        "# Pilih fitur dan label\n",
        "fitur = data['Cleaned Review']\n",
        "label = data['is_sarcastic']\n",
        "\n",
        "# Bagi data menjadi training dan testing set\n",
        "X_latih, X_uji, y_latih, y_uji = train_test_split(\n",
        "    fitur, label, test_size=0.2, random_state=42, stratify=label\n",
        ")\n",
        "\n",
        "# Reset index (supaya aman untuk indexing & tokenisasi selanjutnya)\n",
        "X_latih = X_latih.reset_index(drop=True)\n",
        "X_uji = X_uji.reset_index(drop=True)\n",
        "y_latih = y_latih.reset_index(drop=True)\n",
        "y_uji = y_uji.reset_index(drop=True)\n",
        "\n",
        "# Tampilkan informasi distribusi\n",
        "print(f\"\\n📊 Jumlah data latih: {len(X_latih)}\")\n",
        "print(f\"📊 Jumlah data uji: {len(X_uji)}\")\n",
        "print(f\"🔍 Distribusi label (Training): {y_latih.value_counts().to_dict()}\")\n",
        "print(f\"🔍 Distribusi label (Testing): {y_uji.value_counts().to_dict()}\")\n",
        "\n",
        "# Contoh sanity check\n",
        "print(\"\\n🧾 Contoh data latih:\")\n",
        "print(\"Teks:\", X_latih.iloc[0])\n",
        "print(\"Label:\", y_latih.iloc[0])\n"
      ],
      "metadata": {
        "colab": {
          "base_uri": "https://localhost:8080/"
        },
        "id": "gJy__2ZElvWC",
        "outputId": "23d6f882-0ebe-48cd-9475-3abd182ce980"
      },
      "execution_count": 38,
      "outputs": [
        {
          "output_type": "stream",
          "name": "stdout",
          "text": [
            "\n",
            "📊 Jumlah data latih: 21367\n",
            "📊 Jumlah data uji: 5342\n",
            "🔍 Distribusi label (Training): {0: 11988, 1: 9379}\n",
            "🔍 Distribusi label (Testing): {0: 2997, 1: 2345}\n",
            "\n",
            "🧾 Contoh data latih:\n",
            "Teks: fbi raids fridge\n",
            "Label: 1\n"
          ]
        }
      ]
    },
    {
      "cell_type": "code",
      "source": [
        "from collections import Counter\n",
        "\n",
        "def buat_kamus_kata(daftar_teks, batas_vocab=10000):\n",
        "    # Gabungkan semua kalimat dan pecah menjadi kata\n",
        "    semua_kata = ' '.join(daftar_teks).split()\n",
        "\n",
        "    # Hitung frekuensi setiap kata\n",
        "    frekuensi_kata = Counter(semua_kata)\n",
        "\n",
        "    # Ambil kata yang paling sering muncul (dikurangi token khusus)\n",
        "    kata_teratas = frekuensi_kata.most_common(batas_vocab - 2)\n",
        "\n",
        "    # Inisialisasi kamus dengan token spesial\n",
        "    kamus = {'<PAD>': 0, '<UNK>': 1}\n",
        "    for kata, _ in kata_teratas:\n",
        "        kamus[kata] = len(kamus)\n",
        "\n",
        "    return kamus\n",
        "\n",
        "print(\"🔠 Sedang membuat kamus kata dari data latih...\")\n",
        "kamus_kata = buat_kamus_kata(X_latih, batas_vocab=10000)\n",
        "ukuran_kamus = len(kamus_kata)\n",
        "print(f\"📚 Total kata dalam kamus: {ukuran_kamus}\")\n",
        "\n",
        "# Tampilkan sebagian isi kamus\n",
        "print(\"\\n📌 Contoh 20 entri pertama dalam kamus:\")\n",
        "for i, (kata, indeks) in enumerate(kamus_kata.items()):\n",
        "    if i >= 10:\n",
        "        break\n",
        "    print(f\"{kata}: {indeks}\")\n"
      ],
      "metadata": {
        "colab": {
          "base_uri": "https://localhost:8080/"
        },
        "id": "Dm2q6gd2l6yA",
        "outputId": "4b69348d-4dc8-4dfa-9fe9-60b99a041ba4"
      },
      "execution_count": 39,
      "outputs": [
        {
          "output_type": "stream",
          "name": "stdout",
          "text": [
            "🔠 Sedang membuat kamus kata dari data latih...\n",
            "📚 Total kata dalam kamus: 10000\n",
            "\n",
            "📌 Contoh 20 entri pertama dalam kamus:\n",
            "<PAD>: 0\n",
            "<UNK>: 1\n",
            "new: 2\n",
            "man: 3\n",
            "trump: 4\n",
            "us: 5\n",
            "one: 6\n",
            "report: 7\n",
            "area: 8\n",
            "day: 9\n"
          ]
        }
      ]
    },
    {
      "cell_type": "code",
      "source": [
        "import numpy as np\n",
        "\n",
        "# Fungsi konversi teks ke sequence angka\n",
        "def ubah_teks_ke_sequence(teks, kamus, panjang_maks=100):\n",
        "    # Pecah teks menjadi daftar kata\n",
        "    tokens = teks.split()\n",
        "\n",
        "    # Ubah tiap kata menjadi indeks dari kamus, jika tidak ditemukan pakai <UNK>\n",
        "    hasil_sequence = [kamus.get(kata, kamus['<UNK>']) for kata in tokens[:panjang_maks]]\n",
        "\n",
        "    # Tambahkan padding jika panjang belum cukup\n",
        "    if len(hasil_sequence) < panjang_maks:\n",
        "        hasil_sequence += [kamus['<PAD>']] * (panjang_maks - len(hasil_sequence))\n",
        "\n",
        "    return hasil_sequence\n",
        "\n",
        "# Tentukan panjang sequence maksimal\n",
        "panjang_sequence = 100\n",
        "\n",
        "# Proses seluruh data teks menjadi sequence angka\n",
        "print(f\"🔁 Mengubah teks menjadi urutan angka dengan panjang {panjang_sequence}...\")\n",
        "X_latih_seq = np.array([ubah_teks_ke_sequence(teks, kamus_kata, panjang_sequence) for teks in X_latih])\n",
        "X_uji_seq = np.array([ubah_teks_ke_sequence(teks, kamus_kata, panjang_sequence) for teks in X_uji])\n",
        "\n",
        "# Info bentuk hasil\n",
        "print(f\"✅ X_latih_seq shape: {X_latih_seq.shape}\")\n",
        "print(f\"✅ X_uji_seq shape: {X_uji_seq.shape}\")\n",
        "\n",
        "# Simpan hasil preprocessing ke file\n",
        "print(\"\\n💾 Menyimpan data hasil preprocessing...\")\n",
        "np.save('X_latih_seq.npy', X_latih_seq)\n",
        "np.save('X_uji_seq.npy', X_uji_seq)\n",
        "np.save('y_latih.npy', y_latih.values)\n",
        "np.save('y_uji.npy', y_uji.values)\n",
        "\n",
        "# Contoh hasil konversi\n",
        "print(\"\\n🧾 Contoh hasil sequence dari salah satu review:\")\n",
        "print(f\"Teks asli: {X_latih.iloc[0][:50]}...\")\n",
        "print(f\"Sequence: {X_latih_seq[0][:20]}...\")\n"
      ],
      "metadata": {
        "colab": {
          "base_uri": "https://localhost:8080/"
        },
        "id": "F8wmWxxBmfEb",
        "outputId": "7c5a0cd2-f6de-4d02-bc4f-57973b821269"
      },
      "execution_count": 40,
      "outputs": [
        {
          "output_type": "stream",
          "name": "stdout",
          "text": [
            "🔁 Mengubah teks menjadi urutan angka dengan panjang 100...\n",
            "✅ X_latih_seq shape: (21367, 100)\n",
            "✅ X_uji_seq shape: (5342, 100)\n",
            "\n",
            "💾 Menyimpan data hasil preprocessing...\n",
            "\n",
            "🧾 Contoh hasil sequence dari salah satu review:\n",
            "Teks asli: fbi raids fridge...\n",
            "Sequence: [ 473 4188 4189    0    0    0    0    0    0    0    0    0    0    0\n",
            "    0    0    0    0    0    0]...\n"
          ]
        }
      ]
    },
    {
      "cell_type": "markdown",
      "source": [
        "### Tensorflow/Keras\n"
      ],
      "metadata": {
        "id": "CvBPTZMQqjjR"
      }
    },
    {
      "cell_type": "markdown",
      "source": [
        "### Proses Training RNN Models"
      ],
      "metadata": {
        "id": "KFyHhEIqncJG"
      }
    },
    {
      "cell_type": "code",
      "source": [
        "import numpy as np\n",
        "\n",
        "# Memuat data yang sudah diproses\n",
        "X_latih_seq = np.load('X_latih_seq.npy')\n",
        "X_uji_seq = np.load('X_uji_seq.npy')\n",
        "y_latih = np.load('y_latih.npy')\n",
        "y_uji = np.load('y_uji.npy')\n",
        "\n",
        "print(f\"Shape X_latih_seq: {X_latih_seq.shape}\")\n",
        "print(f\"Shape X_uji_seq: {X_uji_seq.shape}\")\n",
        "print(f\"Shape y_latih: {y_latih.shape}\")\n",
        "print(f\"Shape y_uji: {y_uji.shape}\")\n"
      ],
      "metadata": {
        "colab": {
          "base_uri": "https://localhost:8080/"
        },
        "id": "ZCq9tuDJqoVz",
        "outputId": "3ca9e0ba-cea9-47f1-a734-f6e84b2c0dba"
      },
      "execution_count": 21,
      "outputs": [
        {
          "output_type": "stream",
          "name": "stdout",
          "text": [
            "Shape X_latih_seq: (21367, 100)\n",
            "Shape X_uji_seq: (5342, 100)\n",
            "Shape y_latih: (21367,)\n",
            "Shape y_uji: (5342,)\n"
          ]
        }
      ]
    },
    {
      "cell_type": "code",
      "source": [
        "import tensorflow as tf\n",
        "from tensorflow.keras.metrics import AUC, Precision, Recall\n",
        "\n",
        "# Parameter model\n",
        "input_length = 100\n",
        "vocab_size = 10000  # Sesuai kamus yang kamu buat\n",
        "embedding_dim = 128\n",
        "rnn_units = 64\n",
        "output_units = 1\n",
        "dropout_rate = 0.2\n",
        "\n",
        "# Arsitektur model\n",
        "model_rnn = tf.keras.Sequential([\n",
        "    tf.keras.layers.Embedding(input_dim=vocab_size, output_dim=embedding_dim, input_length=input_length),\n",
        "    tf.keras.layers.SimpleRNN(rnn_units, dropout=dropout_rate, return_sequences=False),\n",
        "    tf.keras.layers.Dense(output_units, activation='sigmoid')\n",
        "])\n",
        "\n",
        "# Kompilasi model\n",
        "model_rnn.compile(\n",
        "    optimizer='adam',\n",
        "    loss='binary_crossentropy',\n",
        "    metrics=['accuracy', AUC(name='auc'), Precision(name='precision'), Recall(name='recall')]\n",
        ")\n",
        "\n",
        "# Ringkasan\n",
        "model_rnn.summary()\n"
      ],
      "metadata": {
        "colab": {
          "base_uri": "https://localhost:8080/",
          "height": 238
        },
        "id": "jIiz7K-6rJUj",
        "outputId": "2ec54cd0-25fd-4069-edee-8d811394cbb3"
      },
      "execution_count": 22,
      "outputs": [
        {
          "output_type": "display_data",
          "data": {
            "text/plain": [
              "\u001b[1mModel: \"sequential_3\"\u001b[0m\n"
            ],
            "text/html": [
              "<pre style=\"white-space:pre;overflow-x:auto;line-height:normal;font-family:Menlo,'DejaVu Sans Mono',consolas,'Courier New',monospace\"><span style=\"font-weight: bold\">Model: \"sequential_3\"</span>\n",
              "</pre>\n"
            ]
          },
          "metadata": {}
        },
        {
          "output_type": "display_data",
          "data": {
            "text/plain": [
              "┏━━━━━━━━━━━━━━━━━━━━━━━━━━━━━━━━━┳━━━━━━━━━━━━━━━━━━━━━━━━┳━━━━━━━━━━━━━━━┓\n",
              "┃\u001b[1m \u001b[0m\u001b[1mLayer (type)                   \u001b[0m\u001b[1m \u001b[0m┃\u001b[1m \u001b[0m\u001b[1mOutput Shape          \u001b[0m\u001b[1m \u001b[0m┃\u001b[1m \u001b[0m\u001b[1m      Param #\u001b[0m\u001b[1m \u001b[0m┃\n",
              "┡━━━━━━━━━━━━━━━━━━━━━━━━━━━━━━━━━╇━━━━━━━━━━━━━━━━━━━━━━━━╇━━━━━━━━━━━━━━━┩\n",
              "│ embedding_3 (\u001b[38;5;33mEmbedding\u001b[0m)         │ ?                      │   \u001b[38;5;34m0\u001b[0m (unbuilt) │\n",
              "├─────────────────────────────────┼────────────────────────┼───────────────┤\n",
              "│ simple_rnn_1 (\u001b[38;5;33mSimpleRNN\u001b[0m)        │ ?                      │   \u001b[38;5;34m0\u001b[0m (unbuilt) │\n",
              "├─────────────────────────────────┼────────────────────────┼───────────────┤\n",
              "│ dense_3 (\u001b[38;5;33mDense\u001b[0m)                 │ ?                      │   \u001b[38;5;34m0\u001b[0m (unbuilt) │\n",
              "└─────────────────────────────────┴────────────────────────┴───────────────┘\n"
            ],
            "text/html": [
              "<pre style=\"white-space:pre;overflow-x:auto;line-height:normal;font-family:Menlo,'DejaVu Sans Mono',consolas,'Courier New',monospace\">┏━━━━━━━━━━━━━━━━━━━━━━━━━━━━━━━━━┳━━━━━━━━━━━━━━━━━━━━━━━━┳━━━━━━━━━━━━━━━┓\n",
              "┃<span style=\"font-weight: bold\"> Layer (type)                    </span>┃<span style=\"font-weight: bold\"> Output Shape           </span>┃<span style=\"font-weight: bold\">       Param # </span>┃\n",
              "┡━━━━━━━━━━━━━━━━━━━━━━━━━━━━━━━━━╇━━━━━━━━━━━━━━━━━━━━━━━━╇━━━━━━━━━━━━━━━┩\n",
              "│ embedding_3 (<span style=\"color: #0087ff; text-decoration-color: #0087ff\">Embedding</span>)         │ ?                      │   <span style=\"color: #00af00; text-decoration-color: #00af00\">0</span> (unbuilt) │\n",
              "├─────────────────────────────────┼────────────────────────┼───────────────┤\n",
              "│ simple_rnn_1 (<span style=\"color: #0087ff; text-decoration-color: #0087ff\">SimpleRNN</span>)        │ ?                      │   <span style=\"color: #00af00; text-decoration-color: #00af00\">0</span> (unbuilt) │\n",
              "├─────────────────────────────────┼────────────────────────┼───────────────┤\n",
              "│ dense_3 (<span style=\"color: #0087ff; text-decoration-color: #0087ff\">Dense</span>)                 │ ?                      │   <span style=\"color: #00af00; text-decoration-color: #00af00\">0</span> (unbuilt) │\n",
              "└─────────────────────────────────┴────────────────────────┴───────────────┘\n",
              "</pre>\n"
            ]
          },
          "metadata": {}
        },
        {
          "output_type": "display_data",
          "data": {
            "text/plain": [
              "\u001b[1m Total params: \u001b[0m\u001b[38;5;34m0\u001b[0m (0.00 B)\n"
            ],
            "text/html": [
              "<pre style=\"white-space:pre;overflow-x:auto;line-height:normal;font-family:Menlo,'DejaVu Sans Mono',consolas,'Courier New',monospace\"><span style=\"font-weight: bold\"> Total params: </span><span style=\"color: #00af00; text-decoration-color: #00af00\">0</span> (0.00 B)\n",
              "</pre>\n"
            ]
          },
          "metadata": {}
        },
        {
          "output_type": "display_data",
          "data": {
            "text/plain": [
              "\u001b[1m Trainable params: \u001b[0m\u001b[38;5;34m0\u001b[0m (0.00 B)\n"
            ],
            "text/html": [
              "<pre style=\"white-space:pre;overflow-x:auto;line-height:normal;font-family:Menlo,'DejaVu Sans Mono',consolas,'Courier New',monospace\"><span style=\"font-weight: bold\"> Trainable params: </span><span style=\"color: #00af00; text-decoration-color: #00af00\">0</span> (0.00 B)\n",
              "</pre>\n"
            ]
          },
          "metadata": {}
        },
        {
          "output_type": "display_data",
          "data": {
            "text/plain": [
              "\u001b[1m Non-trainable params: \u001b[0m\u001b[38;5;34m0\u001b[0m (0.00 B)\n"
            ],
            "text/html": [
              "<pre style=\"white-space:pre;overflow-x:auto;line-height:normal;font-family:Menlo,'DejaVu Sans Mono',consolas,'Courier New',monospace\"><span style=\"font-weight: bold\"> Non-trainable params: </span><span style=\"color: #00af00; text-decoration-color: #00af00\">0</span> (0.00 B)\n",
              "</pre>\n"
            ]
          },
          "metadata": {}
        }
      ]
    },
    {
      "cell_type": "code",
      "source": [
        "history = model_rnn.fit(\n",
        "    X_latih_seq, y_latih,\n",
        "    epochs=30,\n",
        "    batch_size=64,\n",
        "    validation_data=(X_uji_seq, y_uji)\n",
        ")\n"
      ],
      "metadata": {
        "colab": {
          "base_uri": "https://localhost:8080/"
        },
        "id": "D1gOYscTrKN4",
        "outputId": "5dfbb78a-29f0-4867-d5fa-894fb472dd71"
      },
      "execution_count": 23,
      "outputs": [
        {
          "output_type": "stream",
          "name": "stdout",
          "text": [
            "Epoch 1/30\n",
            "\u001b[1m334/334\u001b[0m \u001b[32m━━━━━━━━━━━━━━━━━━━━\u001b[0m\u001b[37m\u001b[0m \u001b[1m24s\u001b[0m 56ms/step - accuracy: 0.5487 - auc: 0.5049 - loss: 0.6890 - precision: 0.4257 - recall: 0.0664 - val_accuracy: 0.6612 - val_auc: 0.7212 - val_loss: 0.6567 - val_precision: 0.6040 - val_recall: 0.6623\n",
            "Epoch 2/30\n",
            "\u001b[1m334/334\u001b[0m \u001b[32m━━━━━━━━━━━━━━━━━━━━\u001b[0m\u001b[37m\u001b[0m \u001b[1m21s\u001b[0m 57ms/step - accuracy: 0.6877 - auc: 0.7205 - loss: 0.6054 - precision: 0.6762 - recall: 0.5605 - val_accuracy: 0.7613 - val_auc: 0.7919 - val_loss: 0.5407 - val_precision: 0.7267 - val_recall: 0.7313\n",
            "Epoch 3/30\n",
            "\u001b[1m334/334\u001b[0m \u001b[32m━━━━━━━━━━━━━━━━━━━━\u001b[0m\u001b[37m\u001b[0m \u001b[1m20s\u001b[0m 54ms/step - accuracy: 0.8024 - auc: 0.8368 - loss: 0.4790 - precision: 0.7650 - recall: 0.7974 - val_accuracy: 0.7490 - val_auc: 0.7750 - val_loss: 0.5563 - val_precision: 0.7134 - val_recall: 0.7156\n",
            "Epoch 4/30\n",
            "\u001b[1m334/334\u001b[0m \u001b[32m━━━━━━━━━━━━━━━━━━━━\u001b[0m\u001b[37m\u001b[0m \u001b[1m21s\u001b[0m 54ms/step - accuracy: 0.8339 - auc: 0.8751 - loss: 0.4261 - precision: 0.8249 - recall: 0.7916 - val_accuracy: 0.7666 - val_auc: 0.8302 - val_loss: 0.5225 - val_precision: 0.7370 - val_recall: 0.7279\n",
            "Epoch 5/30\n",
            "\u001b[1m334/334\u001b[0m \u001b[32m━━━━━━━━━━━━━━━━━━━━\u001b[0m\u001b[37m\u001b[0m \u001b[1m21s\u001b[0m 58ms/step - accuracy: 0.8624 - auc: 0.9130 - loss: 0.3569 - precision: 0.8572 - recall: 0.8257 - val_accuracy: 0.7480 - val_auc: 0.7986 - val_loss: 0.5785 - val_precision: 0.6836 - val_recall: 0.7932\n",
            "Epoch 6/30\n",
            "\u001b[1m334/334\u001b[0m \u001b[32m━━━━━━━━━━━━━━━━━━━━\u001b[0m\u001b[37m\u001b[0m \u001b[1m19s\u001b[0m 53ms/step - accuracy: 0.8791 - auc: 0.9313 - loss: 0.3182 - precision: 0.8636 - recall: 0.8633 - val_accuracy: 0.7520 - val_auc: 0.7882 - val_loss: 0.6098 - val_precision: 0.6992 - val_recall: 0.7633\n",
            "Epoch 7/30\n",
            "\u001b[1m334/334\u001b[0m \u001b[32m━━━━━━━━━━━━━━━━━━━━\u001b[0m\u001b[37m\u001b[0m \u001b[1m21s\u001b[0m 56ms/step - accuracy: 0.9006 - auc: 0.9429 - loss: 0.2806 - precision: 0.8885 - recall: 0.8861 - val_accuracy: 0.7840 - val_auc: 0.8367 - val_loss: 0.5729 - val_precision: 0.7821 - val_recall: 0.7041\n",
            "Epoch 8/30\n",
            "\u001b[1m334/334\u001b[0m \u001b[32m━━━━━━━━━━━━━━━━━━━━\u001b[0m\u001b[37m\u001b[0m \u001b[1m22s\u001b[0m 61ms/step - accuracy: 0.8506 - auc: 0.9109 - loss: 0.3567 - precision: 0.8376 - recall: 0.8177 - val_accuracy: 0.7127 - val_auc: 0.7603 - val_loss: 0.5773 - val_precision: 0.6658 - val_recall: 0.6934\n",
            "Epoch 9/30\n",
            "\u001b[1m334/334\u001b[0m \u001b[32m━━━━━━━━━━━━━━━━━━━━\u001b[0m\u001b[37m\u001b[0m \u001b[1m18s\u001b[0m 54ms/step - accuracy: 0.8166 - auc: 0.8696 - loss: 0.4390 - precision: 0.7936 - recall: 0.7900 - val_accuracy: 0.7621 - val_auc: 0.8212 - val_loss: 0.5358 - val_precision: 0.7243 - val_recall: 0.7394\n",
            "Epoch 10/30\n",
            "\u001b[1m334/334\u001b[0m \u001b[32m━━━━━━━━━━━━━━━━━━━━\u001b[0m\u001b[37m\u001b[0m \u001b[1m19s\u001b[0m 58ms/step - accuracy: 0.8927 - auc: 0.9349 - loss: 0.3042 - precision: 0.8669 - recall: 0.8942 - val_accuracy: 0.7692 - val_auc: 0.8279 - val_loss: 0.5501 - val_precision: 0.7491 - val_recall: 0.7130\n",
            "Epoch 11/30\n",
            "\u001b[1m334/334\u001b[0m \u001b[32m━━━━━━━━━━━━━━━━━━━━\u001b[0m\u001b[37m\u001b[0m \u001b[1m19s\u001b[0m 53ms/step - accuracy: 0.9034 - auc: 0.9501 - loss: 0.2715 - precision: 0.8983 - recall: 0.8813 - val_accuracy: 0.7550 - val_auc: 0.8242 - val_loss: 0.5852 - val_precision: 0.6818 - val_recall: 0.8286\n",
            "Epoch 12/30\n",
            "\u001b[1m334/334\u001b[0m \u001b[32m━━━━━━━━━━━━━━━━━━━━\u001b[0m\u001b[37m\u001b[0m \u001b[1m22s\u001b[0m 58ms/step - accuracy: 0.9299 - auc: 0.9659 - loss: 0.2068 - precision: 0.9257 - recall: 0.9147 - val_accuracy: 0.7658 - val_auc: 0.8242 - val_loss: 0.6109 - val_precision: 0.6989 - val_recall: 0.8196\n",
            "Epoch 13/30\n",
            "\u001b[1m334/334\u001b[0m \u001b[32m━━━━━━━━━━━━━━━━━━━━\u001b[0m\u001b[37m\u001b[0m \u001b[1m19s\u001b[0m 55ms/step - accuracy: 0.9304 - auc: 0.9643 - loss: 0.2147 - precision: 0.9218 - recall: 0.9203 - val_accuracy: 0.7709 - val_auc: 0.8186 - val_loss: 0.6725 - val_precision: 0.7287 - val_recall: 0.7616\n",
            "Epoch 14/30\n",
            "\u001b[1m334/334\u001b[0m \u001b[32m━━━━━━━━━━━━━━━━━━━━\u001b[0m\u001b[37m\u001b[0m \u001b[1m20s\u001b[0m 54ms/step - accuracy: 0.9313 - auc: 0.9679 - loss: 0.2073 - precision: 0.9197 - recall: 0.9252 - val_accuracy: 0.7791 - val_auc: 0.8415 - val_loss: 0.6073 - val_precision: 0.7505 - val_recall: 0.7441\n",
            "Epoch 15/30\n",
            "\u001b[1m334/334\u001b[0m \u001b[32m━━━━━━━━━━━━━━━━━━━━\u001b[0m\u001b[37m\u001b[0m \u001b[1m22s\u001b[0m 58ms/step - accuracy: 0.9028 - auc: 0.9540 - loss: 0.2470 - precision: 0.8844 - recall: 0.8994 - val_accuracy: 0.6975 - val_auc: 0.7488 - val_loss: 0.6162 - val_precision: 0.6442 - val_recall: 0.6942\n",
            "Epoch 16/30\n",
            "\u001b[1m334/334\u001b[0m \u001b[32m━━━━━━━━━━━━━━━━━━━━\u001b[0m\u001b[37m\u001b[0m \u001b[1m20s\u001b[0m 55ms/step - accuracy: 0.8377 - auc: 0.9014 - loss: 0.3893 - precision: 0.8175 - recall: 0.8140 - val_accuracy: 0.7265 - val_auc: 0.7883 - val_loss: 0.6073 - val_precision: 0.6811 - val_recall: 0.7087\n",
            "Epoch 17/30\n",
            "\u001b[1m334/334\u001b[0m \u001b[32m━━━━━━━━━━━━━━━━━━━━\u001b[0m\u001b[37m\u001b[0m \u001b[1m21s\u001b[0m 55ms/step - accuracy: 0.8178 - auc: 0.8816 - loss: 0.4262 - precision: 0.7763 - recall: 0.8254 - val_accuracy: 0.7115 - val_auc: 0.7887 - val_loss: 0.6138 - val_precision: 0.6812 - val_recall: 0.6443\n",
            "Epoch 18/30\n",
            "\u001b[1m334/334\u001b[0m \u001b[32m━━━━━━━━━━━━━━━━━━━━\u001b[0m\u001b[37m\u001b[0m \u001b[1m20s\u001b[0m 60ms/step - accuracy: 0.8279 - auc: 0.9038 - loss: 0.3874 - precision: 0.7782 - recall: 0.8529 - val_accuracy: 0.6821 - val_auc: 0.7276 - val_loss: 0.6298 - val_precision: 0.6166 - val_recall: 0.7296\n",
            "Epoch 19/30\n",
            "\u001b[1m334/334\u001b[0m \u001b[32m━━━━━━━━━━━━━━━━━━━━\u001b[0m\u001b[37m\u001b[0m \u001b[1m19s\u001b[0m 55ms/step - accuracy: 0.7934 - auc: 0.8459 - loss: 0.4686 - precision: 0.7328 - recall: 0.8373 - val_accuracy: 0.6988 - val_auc: 0.7638 - val_loss: 0.6324 - val_precision: 0.6425 - val_recall: 0.7075\n",
            "Epoch 20/30\n",
            "\u001b[1m334/334\u001b[0m \u001b[32m━━━━━━━━━━━━━━━━━━━━\u001b[0m\u001b[37m\u001b[0m \u001b[1m19s\u001b[0m 57ms/step - accuracy: 0.8415 - auc: 0.8918 - loss: 0.3936 - precision: 0.7941 - recall: 0.8653 - val_accuracy: 0.7170 - val_auc: 0.7761 - val_loss: 0.6314 - val_precision: 0.6589 - val_recall: 0.7365\n",
            "Epoch 21/30\n",
            "\u001b[1m334/334\u001b[0m \u001b[32m━━━━━━━━━━━━━━━━━━━━\u001b[0m\u001b[37m\u001b[0m \u001b[1m22s\u001b[0m 62ms/step - accuracy: 0.8658 - auc: 0.9174 - loss: 0.3434 - precision: 0.8167 - recall: 0.8975 - val_accuracy: 0.7224 - val_auc: 0.7883 - val_loss: 0.6643 - val_precision: 0.6631 - val_recall: 0.7471\n",
            "Epoch 22/30\n",
            "\u001b[1m334/334\u001b[0m \u001b[32m━━━━━━━━━━━━━━━━━━━━\u001b[0m\u001b[37m\u001b[0m \u001b[1m41s\u001b[0m 62ms/step - accuracy: 0.8832 - auc: 0.9314 - loss: 0.3118 - precision: 0.8408 - recall: 0.9070 - val_accuracy: 0.7220 - val_auc: 0.7933 - val_loss: 0.6563 - val_precision: 0.6566 - val_recall: 0.7689\n",
            "Epoch 23/30\n",
            "\u001b[1m334/334\u001b[0m \u001b[32m━━━━━━━━━━━━━━━━━━━━\u001b[0m\u001b[37m\u001b[0m \u001b[1m40s\u001b[0m 59ms/step - accuracy: 0.9020 - auc: 0.9466 - loss: 0.2759 - precision: 0.8599 - recall: 0.9292 - val_accuracy: 0.7263 - val_auc: 0.8013 - val_loss: 0.6680 - val_precision: 0.6724 - val_recall: 0.7343\n",
            "Epoch 24/30\n",
            "\u001b[1m334/334\u001b[0m \u001b[32m━━━━━━━━━━━━━━━━━━━━\u001b[0m\u001b[37m\u001b[0m \u001b[1m21s\u001b[0m 61ms/step - accuracy: 0.9018 - auc: 0.9545 - loss: 0.2639 - precision: 0.8613 - recall: 0.9267 - val_accuracy: 0.6868 - val_auc: 0.7474 - val_loss: 0.6808 - val_precision: 0.7044 - val_recall: 0.4938\n",
            "Epoch 25/30\n",
            "\u001b[1m334/334\u001b[0m \u001b[32m━━━━━━━━━━━━━━━━━━━━\u001b[0m\u001b[37m\u001b[0m \u001b[1m18s\u001b[0m 55ms/step - accuracy: 0.8422 - auc: 0.9124 - loss: 0.3754 - precision: 0.8532 - recall: 0.7766 - val_accuracy: 0.7458 - val_auc: 0.8149 - val_loss: 0.5924 - val_precision: 0.7106 - val_recall: 0.7100\n",
            "Epoch 26/30\n",
            "\u001b[1m334/334\u001b[0m \u001b[32m━━━━━━━━━━━━━━━━━━━━\u001b[0m\u001b[37m\u001b[0m \u001b[1m19s\u001b[0m 57ms/step - accuracy: 0.7833 - auc: 0.8398 - loss: 0.4938 - precision: 0.7553 - recall: 0.7544 - val_accuracy: 0.7263 - val_auc: 0.8004 - val_loss: 0.5678 - val_precision: 0.6807 - val_recall: 0.7092\n",
            "Epoch 27/30\n",
            "\u001b[1m334/334\u001b[0m \u001b[32m━━━━━━━━━━━━━━━━━━━━\u001b[0m\u001b[37m\u001b[0m \u001b[1m20s\u001b[0m 55ms/step - accuracy: 0.8446 - auc: 0.9136 - loss: 0.3681 - precision: 0.8286 - recall: 0.8170 - val_accuracy: 0.7366 - val_auc: 0.8054 - val_loss: 0.5973 - val_precision: 0.7015 - val_recall: 0.6964\n",
            "Epoch 28/30\n",
            "\u001b[1m334/334\u001b[0m \u001b[32m━━━━━━━━━━━━━━━━━━━━\u001b[0m\u001b[37m\u001b[0m \u001b[1m21s\u001b[0m 57ms/step - accuracy: 0.8818 - auc: 0.9453 - loss: 0.2930 - precision: 0.8738 - recall: 0.8559 - val_accuracy: 0.7398 - val_auc: 0.8052 - val_loss: 0.6265 - val_precision: 0.7000 - val_recall: 0.7126\n",
            "Epoch 29/30\n",
            "\u001b[1m334/334\u001b[0m \u001b[32m━━━━━━━━━━━━━━━━━━━━\u001b[0m\u001b[37m\u001b[0m \u001b[1m18s\u001b[0m 55ms/step - accuracy: 0.9023 - auc: 0.9577 - loss: 0.2535 - precision: 0.8936 - recall: 0.8840 - val_accuracy: 0.7450 - val_auc: 0.8133 - val_loss: 0.6481 - val_precision: 0.7306 - val_recall: 0.6640\n",
            "Epoch 30/30\n",
            "\u001b[1m334/334\u001b[0m \u001b[32m━━━━━━━━━━━━━━━━━━━━\u001b[0m\u001b[37m\u001b[0m \u001b[1m22s\u001b[0m 59ms/step - accuracy: 0.9061 - auc: 0.9599 - loss: 0.2482 - precision: 0.8955 - recall: 0.8914 - val_accuracy: 0.7177 - val_auc: 0.7851 - val_loss: 0.6728 - val_precision: 0.6519 - val_recall: 0.7659\n"
          ]
        }
      ]
    },
    {
      "cell_type": "code",
      "source": [
        "model_rnn.save('model_rnn.h5')\n",
        "print(\"💾 Model berhasil disimpan!\")\n"
      ],
      "metadata": {
        "colab": {
          "base_uri": "https://localhost:8080/"
        },
        "id": "plUR9jF8rMoh",
        "outputId": "1bc0cda5-b9ee-4614-9192-c6e66b0fe35a"
      },
      "execution_count": 24,
      "outputs": [
        {
          "output_type": "stream",
          "name": "stderr",
          "text": [
            "WARNING:absl:You are saving your model as an HDF5 file via `model.save()` or `keras.saving.save_model(model)`. This file format is considered legacy. We recommend using instead the native Keras format, e.g. `model.save('my_model.keras')` or `keras.saving.save_model(model, 'my_model.keras')`. \n"
          ]
        },
        {
          "output_type": "stream",
          "name": "stdout",
          "text": [
            "💾 Model berhasil disimpan!\n"
          ]
        }
      ]
    },
    {
      "cell_type": "code",
      "source": [
        "from sklearn.metrics import classification_report\n",
        "\n",
        "# Prediksi\n",
        "y_pred_prob = model_rnn.predict(X_uji_seq)\n",
        "y_pred = (y_pred_prob >= 0.5).astype(int)\n",
        "\n",
        "# Laporan klasifikasi\n",
        "print(\"\\n📊 Evaluasi Model:\")\n",
        "print(classification_report(y_uji, y_pred, digits=4))"
      ],
      "metadata": {
        "colab": {
          "base_uri": "https://localhost:8080/"
        },
        "id": "Eny4Bq_IvAGZ",
        "outputId": "29e17ae0-7abd-4040-b7d5-0cd00ce3f1d7"
      },
      "execution_count": 26,
      "outputs": [
        {
          "output_type": "stream",
          "name": "stdout",
          "text": [
            "\u001b[1m167/167\u001b[0m \u001b[32m━━━━━━━━━━━━━━━━━━━━\u001b[0m\u001b[37m\u001b[0m \u001b[1m1s\u001b[0m 8ms/step\n",
            "\n",
            "📊 Evaluasi Model:\n",
            "              precision    recall  f1-score   support\n",
            "\n",
            "           0     0.7878    0.6800    0.7299      2997\n",
            "           1     0.6519    0.7659    0.7043      2345\n",
            "\n",
            "    accuracy                         0.7177      5342\n",
            "   macro avg     0.7198    0.7229    0.7171      5342\n",
            "weighted avg     0.7281    0.7177    0.7187      5342\n",
            "\n"
          ]
        }
      ]
    },
    {
      "cell_type": "code",
      "source": [
        "from sklearn.metrics import accuracy_score, precision_score, recall_score, f1_score, roc_auc_score, roc_curve\n",
        "import matplotlib.pyplot as plt\n",
        "\n",
        "# Prediksi probabilitas\n",
        "y_pred_prob = model_rnn.predict(X_uji_seq)\n",
        "# Binerkan probabilitas menjadi 0 atau 1\n",
        "y_pred = (y_pred_prob >= 0.5).astype(int)\n",
        "\n",
        "# Hitung metrik evaluasi\n",
        "akurasi = accuracy_score(y_uji, y_pred)\n",
        "presisi = precision_score(y_uji, y_pred)\n",
        "recall = recall_score(y_uji, y_pred)\n",
        "f1 = f1_score(y_uji, y_pred)\n",
        "auc = roc_auc_score(y_uji, y_pred_prob)\n",
        "\n",
        "print(\"\\n📊 Matriks Evaluasi Model RNN:\")\n",
        "print(f\"Akurasi  : {akurasi:.4f}\")\n",
        "print(f\"Presisi  : {presisi:.4f}\")\n",
        "print(f\"Recall   : {recall:.4f}\")\n",
        "print(f\"F1 Score : {f1:.4f}\")\n",
        "print(f\"AUC      : {auc:.4f}\")\n"
      ],
      "metadata": {
        "colab": {
          "base_uri": "https://localhost:8080/"
        },
        "id": "lhygn_Ro_5ce",
        "outputId": "79f38e9a-9072-4a73-b01e-687ad28be89c"
      },
      "execution_count": 27,
      "outputs": [
        {
          "output_type": "stream",
          "name": "stdout",
          "text": [
            "\u001b[1m167/167\u001b[0m \u001b[32m━━━━━━━━━━━━━━━━━━━━\u001b[0m\u001b[37m\u001b[0m \u001b[1m3s\u001b[0m 19ms/step\n",
            "\n",
            "📊 Matriks Evaluasi Model RNN:\n",
            "Akurasi  : 0.7177\n",
            "Presisi  : 0.6519\n",
            "Recall   : 0.7659\n",
            "F1 Score : 0.7043\n",
            "AUC      : 0.7850\n"
          ]
        }
      ]
    },
    {
      "cell_type": "code",
      "source": [
        "# Plot akurasi dan loss\n",
        "plt.figure(figsize=(14, 5))\n",
        "\n",
        "# Akurasi\n",
        "plt.subplot(1, 2, 1)\n",
        "plt.plot(history.history['accuracy'], label='Train Accuracy')\n",
        "plt.plot(history.history['val_accuracy'], label='Validation Accuracy')\n",
        "plt.title('Akurasi Selama Training')\n",
        "plt.xlabel('Epoch')\n",
        "plt.ylabel('Accuracy')\n",
        "plt.legend()\n",
        "\n",
        "# Loss\n",
        "plt.subplot(1, 2, 2)\n",
        "plt.plot(history.history['loss'], label='Train Loss')\n",
        "plt.plot(history.history['val_loss'], label='Validation Loss')\n",
        "plt.title('Loss Selama Training')\n",
        "plt.xlabel('Epoch')\n",
        "plt.ylabel('Loss')\n",
        "plt.legend()\n",
        "\n",
        "plt.tight_layout()\n",
        "plt.show()"
      ],
      "metadata": {
        "colab": {
          "base_uri": "https://localhost:8080/",
          "height": 501
        },
        "id": "RsHqxGyT_863",
        "outputId": "462bd959-e536-441e-e9d9-1731863abd11"
      },
      "execution_count": 28,
      "outputs": [
        {
          "output_type": "display_data",
          "data": {
            "text/plain": [
              "<Figure size 1400x500 with 2 Axes>"
            ],
            "image/png": "[encoded data removed]"
          },
          "metadata": {}
        }
      ]
    },
    {
      "cell_type": "code",
      "source": [
        "# Hitung nilai fpr, tpr untuk ROC curve\n",
        "fpr, tpr, thresholds = roc_curve(y_uji, y_pred_prob)\n",
        "\n",
        "plt.figure(figsize=(6, 6))\n",
        "plt.plot(fpr, tpr, label=f'ROC Curve (AUC = {auc:.4f})')\n",
        "plt.plot([0, 1], [0, 1], 'k--')  # garis diagonal\n",
        "plt.xlabel('False Positive Rate')\n",
        "plt.ylabel('True Positive Rate')\n",
        "plt.title('ROC Curve')\n",
        "plt.legend()\n",
        "plt.grid(True)\n",
        "plt.show()\n"
      ],
      "metadata": {
        "colab": {
          "base_uri": "https://localhost:8080/",
          "height": 597
        },
        "id": "I6FHtyRb__wu",
        "outputId": "d93b3657-35d9-4de9-aaec-19975290aa2a"
      },
      "execution_count": 29,
      "outputs": [
        {
          "output_type": "display_data",
          "data": {
            "text/plain": [
              "<Figure size 600x600 with 1 Axes>"
            ],
            "image/png": "[encoded data removed]"
          },
          "metadata": {}
        }
      ]
    },
    {
      "cell_type": "markdown",
      "source": [
        "### Hyperparameter Tuning (Tensorflow)"
      ],
      "metadata": {
        "id": "2fDqwXWKgIOr"
      }
    },
    {
      "cell_type": "code",
      "source": [
        "!pip install -q -U keras-tuner\n"
      ],
      "metadata": {
        "id": "gCcH0TxQzB_J"
      },
      "execution_count": 45,
      "outputs": []
    },
    {
      "cell_type": "code",
      "source": [
        "import keras_tuner as kt\n",
        "import tensorflow as tf\n",
        "from tensorflow.keras import layers\n",
        "from tensorflow.keras.metrics import AUC, Precision, Recall\n",
        "\n",
        "# Fungsi model untuk Keras Tuner\n",
        "def build_model(hp):\n",
        "    model = tf.keras.Sequential()\n",
        "\n",
        "    # Hyperparameter tuning untuk jumlah unit di layer embedding dan RNN\n",
        "    model.add(layers.Embedding(input_dim=vocab_size, output_dim=hp.Int('embedding_dim', min_value=32, max_value=256, step=32), input_length=input_length))\n",
        "\n",
        "    model.add(layers.SimpleRNN(\n",
        "        units=hp.Int('rnn_units', min_value=32, max_value=128, step=32),\n",
        "        dropout=hp.Float('dropout_rate', min_value=0.2, max_value=0.5, step=0.1),\n",
        "        return_sequences=False))\n",
        "\n",
        "    # Layer Dense untuk output\n",
        "    model.add(layers.Dense(1, activation='sigmoid'))\n",
        "\n",
        "    # Compile model\n",
        "    model.compile(\n",
        "        optimizer=tf.keras.optimizers.Adam(),\n",
        "        loss='binary_crossentropy',\n",
        "        metrics=['accuracy', AUC(), Precision(), Recall()]\n",
        "    )\n",
        "\n",
        "    return model"
      ],
      "metadata": {
        "id": "3VFMhIIpzLf9"
      },
      "execution_count": 46,
      "outputs": []
    },
    {
      "cell_type": "code",
      "source": [
        "# Inisialisasi Keras Tuner\n",
        "tuner = kt.Hyperband(\n",
        "    build_model,\n",
        "    objective='val_accuracy',  # Maksimalkan akurasi validasi\n",
        "    max_epochs=10,  # Kurangi epoch menjadi 10\n",
        "    factor=3,\n",
        "    directory='tuner_results',\n",
        "    project_name='sarcasm_classification'\n",
        ")\n"
      ],
      "metadata": {
        "id": "7BvGpXZbiUdZ"
      },
      "execution_count": 47,
      "outputs": []
    },
    {
      "cell_type": "code",
      "source": [
        "# Melakukan pencarian hyperparameter\n",
        "tuner.search(X_latih_seq, y_latih, validation_data=(X_uji_seq, y_uji), epochs=10, batch_size=64)"
      ],
      "metadata": {
        "id": "L6PMPRuqzN_g",
        "outputId": "a77c13e1-fa04-488d-a16d-48ab12a63bee",
        "colab": {
          "base_uri": "https://localhost:8080/"
        }
      },
      "execution_count": 48,
      "outputs": [
        {
          "output_type": "stream",
          "name": "stdout",
          "text": [
            "Trial 30 Complete [00h 11m 50s]\n",
            "val_accuracy: 0.5675776600837708\n",
            "\n",
            "Best val_accuracy So Far: 0.7880943417549133\n",
            "Total elapsed time: 01h 05m 08s\n"
          ]
        }
      ]
    },
    {
      "cell_type": "code",
      "source": [
        "# Ambil model terbaik\n",
        "best_model = tuner.get_best_models(num_models=1)[0]\n",
        "\n",
        "# WAJIB compile ulang sebelum retrain\n",
        "from tensorflow.keras.metrics import AUC, Precision, Recall\n",
        "\n",
        "best_model.compile(\n",
        "    optimizer='adam',\n",
        "    loss='binary_crossentropy',\n",
        "    metrics=['accuracy', AUC(), Precision(), Recall()]\n",
        ")\n",
        "\n",
        "# Retrain untuk ambil history\n",
        "history = best_model.fit(\n",
        "    X_latih_seq, y_latih,\n",
        "    epochs=10,\n",
        "    batch_size=64,\n",
        "    validation_data=(X_uji_seq, y_uji),\n",
        "    verbose=1\n",
        ")"
      ],
      "metadata": {
        "id": "dSOvf7ZmzRRv",
        "outputId": "a33fddc3-5b74-44a8-991d-e010b5559838",
        "colab": {
          "base_uri": "https://localhost:8080/"
        }
      },
      "execution_count": 52,
      "outputs": [
        {
          "output_type": "stream",
          "name": "stdout",
          "text": [
            "Epoch 1/10\n",
            "\u001b[1m334/334\u001b[0m \u001b[32m━━━━━━━━━━━━━━━━━━━━\u001b[0m\u001b[37m\u001b[0m \u001b[1m30s\u001b[0m 68ms/step - accuracy: 0.8764 - auc_1: 0.9335 - loss: 0.3194 - precision_1: 0.8610 - recall_1: 0.8586 - val_accuracy: 0.7924 - val_auc_1: 0.8520 - val_loss: 0.5320 - val_precision_1: 0.7621 - val_recall_1: 0.7663\n",
            "Epoch 2/10\n",
            "\u001b[1m334/334\u001b[0m \u001b[32m━━━━━━━━━━━━━━━━━━━━\u001b[0m\u001b[37m\u001b[0m \u001b[1m19s\u001b[0m 58ms/step - accuracy: 0.8941 - auc_1: 0.9502 - loss: 0.2775 - precision_1: 0.8735 - recall_1: 0.8890 - val_accuracy: 0.7911 - val_auc_1: 0.8468 - val_loss: 0.5740 - val_precision_1: 0.7654 - val_recall_1: 0.7557\n",
            "Epoch 3/10\n",
            "\u001b[1m334/334\u001b[0m \u001b[32m━━━━━━━━━━━━━━━━━━━━\u001b[0m\u001b[37m\u001b[0m \u001b[1m19s\u001b[0m 53ms/step - accuracy: 0.9155 - auc_1: 0.9632 - loss: 0.2360 - precision_1: 0.9091 - recall_1: 0.8984 - val_accuracy: 0.7849 - val_auc_1: 0.8447 - val_loss: 0.6000 - val_precision_1: 0.7547 - val_recall_1: 0.7557\n",
            "Epoch 4/10\n",
            "\u001b[1m334/334\u001b[0m \u001b[32m━━━━━━━━━━━━━━━━━━━━\u001b[0m\u001b[37m\u001b[0m \u001b[1m19s\u001b[0m 58ms/step - accuracy: 0.9265 - auc_1: 0.9718 - loss: 0.2046 - precision_1: 0.9217 - recall_1: 0.9107 - val_accuracy: 0.7787 - val_auc_1: 0.8353 - val_loss: 0.5858 - val_precision_1: 0.7438 - val_recall_1: 0.7565\n",
            "Epoch 5/10\n",
            "\u001b[1m334/334\u001b[0m \u001b[32m━━━━━━━━━━━━━━━━━━━━\u001b[0m\u001b[37m\u001b[0m \u001b[1m19s\u001b[0m 53ms/step - accuracy: 0.9287 - auc_1: 0.9729 - loss: 0.1992 - precision_1: 0.9223 - recall_1: 0.9155 - val_accuracy: 0.7782 - val_auc_1: 0.8399 - val_loss: 0.6297 - val_precision_1: 0.7479 - val_recall_1: 0.7463\n",
            "Epoch 6/10\n",
            "\u001b[1m334/334\u001b[0m \u001b[32m━━━━━━━━━━━━━━━━━━━━\u001b[0m\u001b[37m\u001b[0m \u001b[1m18s\u001b[0m 55ms/step - accuracy: 0.9392 - auc_1: 0.9790 - loss: 0.1734 - precision_1: 0.9323 - recall_1: 0.9298 - val_accuracy: 0.7804 - val_auc_1: 0.8329 - val_loss: 0.6601 - val_precision_1: 0.7678 - val_recall_1: 0.7164\n",
            "Epoch 7/10\n",
            "\u001b[1m334/334\u001b[0m \u001b[32m━━━━━━━━━━━━━━━━━━━━\u001b[0m\u001b[37m\u001b[0m \u001b[1m20s\u001b[0m 54ms/step - accuracy: 0.9465 - auc_1: 0.9805 - loss: 0.1596 - precision_1: 0.9483 - recall_1: 0.9293 - val_accuracy: 0.4390 - val_auc_1: 0.6523 - val_loss: 0.9203 - val_precision_1: 0.4390 - val_recall_1: 1.0000\n",
            "Epoch 8/10\n",
            "\u001b[1m334/334\u001b[0m \u001b[32m━━━━━━━━━━━━━━━━━━━━\u001b[0m\u001b[37m\u001b[0m \u001b[1m21s\u001b[0m 54ms/step - accuracy: 0.9188 - auc_1: 0.9632 - loss: 0.2271 - precision_1: 0.9045 - recall_1: 0.9162 - val_accuracy: 0.7651 - val_auc_1: 0.7865 - val_loss: 0.7064 - val_precision_1: 0.7282 - val_recall_1: 0.7416\n",
            "Epoch 9/10\n",
            "\u001b[1m334/334\u001b[0m \u001b[32m━━━━━━━━━━━━━━━━━━━━\u001b[0m\u001b[37m\u001b[0m \u001b[1m19s\u001b[0m 50ms/step - accuracy: 0.9366 - auc_1: 0.9728 - loss: 0.1879 - precision_1: 0.9177 - recall_1: 0.9408 - val_accuracy: 0.7696 - val_auc_1: 0.8044 - val_loss: 0.7516 - val_precision_1: 0.7407 - val_recall_1: 0.7309\n",
            "Epoch 10/10\n",
            "\u001b[1m334/334\u001b[0m \u001b[32m━━━━━━━━━━━━━━━━━━━━\u001b[0m\u001b[37m\u001b[0m \u001b[1m21s\u001b[0m 51ms/step - accuracy: 0.9504 - auc_1: 0.9791 - loss: 0.1602 - precision_1: 0.9413 - recall_1: 0.9467 - val_accuracy: 0.7769 - val_auc_1: 0.8008 - val_loss: 0.7405 - val_precision_1: 0.7563 - val_recall_1: 0.7254\n"
          ]
        }
      ]
    },
    {
      "cell_type": "code",
      "source": [
        "from sklearn.metrics import f1_score, roc_auc_score, roc_curve\n",
        "import matplotlib.pyplot as plt\n",
        "\n",
        "# Evaluasi pada data uji\n",
        "loss, accuracy, auc_score, precision, recall = best_model.evaluate(X_uji_seq, y_uji)\n",
        "\n",
        "# Prediksi probabilitas\n",
        "y_pred_proba = best_model.predict(X_uji_seq)\n",
        "y_pred_binary = (y_pred_proba > 0.5).astype(int)\n",
        "\n",
        "# Hitung F1 dan ROC AUC secara manual\n",
        "f1 = f1_score(y_uji, y_pred_binary)\n",
        "roc_auc = roc_auc_score(y_uji, y_pred_proba)\n",
        "fpr, tpr, _ = roc_curve(y_uji, y_pred_proba)\n",
        "\n",
        "# Tampilkan hasil evaluasi\n",
        "print(\"\\n📊 Matriks Evaluasi Model RNN:\")\n",
        "print(f\"Akurasi  : {accuracy:.4f}\")\n",
        "print(f\"Presisi  : {precision:.4f}\")\n",
        "print(f\"Recall   : {recall:.4f}\")\n",
        "print(f\"F1 Score : {f1:.4f}\")\n",
        "print(f\"AUC      : {roc_auc:.4f}\")\n"
      ],
      "metadata": {
        "colab": {
          "base_uri": "https://localhost:8080/"
        },
        "id": "HQYUwN5EiUGq",
        "outputId": "da9ad1be-12ee-4b23-89e9-edf0b2f6cc6f"
      },
      "execution_count": 53,
      "outputs": [
        {
          "output_type": "stream",
          "name": "stdout",
          "text": [
            "\u001b[1m167/167\u001b[0m \u001b[32m━━━━━━━━━━━━━━━━━━━━\u001b[0m\u001b[37m\u001b[0m \u001b[1m3s\u001b[0m 18ms/step - accuracy: 0.7770 - auc_1: 0.7962 - loss: 0.7528 - precision_1: 0.7632 - recall_1: 0.7146\n",
            "\u001b[1m167/167\u001b[0m \u001b[32m━━━━━━━━━━━━━━━━━━━━\u001b[0m\u001b[37m\u001b[0m \u001b[1m5s\u001b[0m 28ms/step\n",
            "\n",
            "📊 Matriks Evaluasi Model RNN:\n",
            "Akurasi  : 0.7769\n",
            "Presisi  : 0.7563\n",
            "Recall   : 0.7254\n",
            "F1 Score : 0.7405\n",
            "AUC      : 0.8007\n"
          ]
        }
      ]
    },
    {
      "cell_type": "code",
      "source": [
        "plt.figure(figsize=(8, 6))\n",
        "plt.plot(fpr, tpr, label=f'ROC Curve (AUC = {roc_auc:.4f})', color='darkorange')\n",
        "plt.plot([0, 1], [0, 1], linestyle='--', color='gray')\n",
        "plt.xlabel('False Positive Rate')\n",
        "plt.ylabel('True Positive Rate')\n",
        "plt.title('ROC Curve')\n",
        "plt.legend()\n",
        "plt.grid(True)\n",
        "plt.show()\n"
      ],
      "metadata": {
        "colab": {
          "base_uri": "https://localhost:8080/",
          "height": 597
        },
        "id": "ncHI1KKbiV9I",
        "outputId": "89a08b18-071f-47d1-a78d-aa5f60eead0c"
      },
      "execution_count": 54,
      "outputs": [
        {
          "output_type": "display_data",
          "data": {
            "text/plain": [
              "<Figure size 800x600 with 1 Axes>"
            ],
            "image/png": "[encoded data removed]"
          },
          "metadata": {}
        }
      ]
    },
    {
      "cell_type": "code",
      "source": [
        "history_dict = history.history\n",
        "\n",
        "plt.figure(figsize=(12, 5))\n",
        "\n",
        "# Akurasi\n",
        "plt.subplot(1, 2, 1)\n",
        "plt.plot(history_dict['accuracy'], label='Training Accuracy')\n",
        "plt.plot(history_dict['val_accuracy'], label='Validation Accuracy')\n",
        "plt.xlabel('Epoch')\n",
        "plt.ylabel('Accuracy')\n",
        "plt.title('Training vs Validation Accuracy')\n",
        "plt.legend()\n",
        "plt.grid(True)\n",
        "\n",
        "# Loss\n",
        "plt.subplot(1, 2, 2)\n",
        "plt.plot(history_dict['loss'], label='Training Loss')\n",
        "plt.plot(history_dict['val_loss'], label='Validation Loss')\n",
        "plt.xlabel('Epoch')\n",
        "plt.ylabel('Loss')\n",
        "plt.title('Training vs Validation Loss')\n",
        "plt.legend()\n",
        "plt.grid(True)\n",
        "\n",
        "plt.tight_layout()\n",
        "plt.show()\n"
      ],
      "metadata": {
        "colab": {
          "base_uri": "https://localhost:8080/",
          "height": 501
        },
        "id": "pMFkU2b5iXts",
        "outputId": "809a54dd-a8de-4c1d-e1d7-5d2a767d4a31"
      },
      "execution_count": 55,
      "outputs": [
        {
          "output_type": "display_data",
          "data": {
            "text/plain": [
              "<Figure size 1200x500 with 2 Axes>"
            ],
            "image/png": "[encoded data removed]"
          },
          "metadata": {}
        }
      ]
    },
    {
      "cell_type": "markdown",
      "source": [
        "---\n",
        "\n",
        "## 🔁 Urutan Lengkap: Dari Keras Tuner Sampai Evaluasi Model\n",
        "\n",
        "Bayangin **lagi ikut lomba bikin mobil tercepat**:\n",
        "- Punya banyak **komponen** (mesin, ban, dll).\n",
        "- Tapi belum tahu kombinasi terbaiknya (berapa cc mesin, model sasis, dll).\n",
        "\n",
        "---\n",
        "\n",
        "### 1. 🔍 **Keras Tuner = Montir Otomatis**\n",
        "> Dia yang nyobain berbagai kombinasi mesin, sasis, dll.\n",
        "```python\n",
        "tuner = RandomSearch(\n",
        "    build_model,  # fungsi pembuat model dengan hp\n",
        "    objective='val_accuracy',\n",
        "    max_trials=10,\n",
        "    executions_per_trial=1,\n",
        "    directory='my_dir',\n",
        "    project_name='rnn_tuner'\n",
        ")\n",
        "tuner.search(X_latih_seq, y_latih, validation_data=(X_valid_seq, y_valid), epochs=10, callbacks=[stop_early])\n",
        "```\n",
        "\n",
        "📌 *Hasilnya:* tuner nyimpen semua kombinasi yang dicoba, dan tahu mana yang paling bagus.\n",
        "\n",
        "---\n",
        "\n",
        "### 2. ✅ **Ambil Model Terbaik**\n",
        "```python\n",
        "best_model = tuner.get_best_models(num_models=1)[0]\n",
        "```\n",
        "\n",
        "> Ini kayak bilang: “Oke, ambilin mobil (model) yang paling ngebut dari semua yang udah dicoba.”\n",
        "\n",
        "🛑 **TAPI... model ini belum dilatih serius.**  \n",
        "Cuma dipakai buat *uji coba cepat* selama tuning (10 epoch per trial, kecil-kecilan).\n",
        "\n",
        "---\n",
        "\n",
        "### 3. 🧪 **Model Harus Dicomplie Lagi**\n",
        "```python\n",
        "best_model.compile(optimizer='adam', loss='binary_crossentropy', metrics=['accuracy', AUC(), Precision(), Recall()])\n",
        "```\n",
        "\n",
        "Kenapa?\n",
        "> Soalnya kadang saat `get_best_models()`, modelnya belum 100% siap buat dipakai ulang (terutama di luar tuning).\n",
        "\n",
        "---\n",
        "\n",
        "### 4. 🔁 **Latih Ulang (Full Training, Seriusan)**\n",
        "```python\n",
        "history = best_model.fit(X_latih_seq, y_latih,\n",
        "                         validation_data=(X_valid_seq, y_valid),\n",
        "                         epochs=10, batch_size=32)\n",
        "```\n",
        "\n",
        "Ini penting, karena:\n",
        "- Sekarang punya **arsitektur dan hyperparameter terbaik** dari tuning.\n",
        "- Tapi butuh **melatih dari awal lagi** (dengan data training penuh) supaya hasil akhirnya bagus dan bisa divisualisasikan (`history`).\n",
        "\n",
        "---\n",
        "\n",
        "### 5. 📈 **Baru Evaluasi + Visualisasi**\n",
        "Setelah itu baru:\n",
        "- Evaluasi akurasi, presisi, recall, dll\n",
        "- Visualisasi akurasi/loss\n",
        "- ROC curve\n",
        "- Prediksi di data uji\n",
        "\n",
        "---\n",
        "\n",
        "## 🔁 Kesimpulan Sederhana:\n",
        "\n",
        "| Tahap | Tujuan |\n",
        "|------|--------|\n",
        "| `tuner.search(...)` | Cari kombinasi terbaik |\n",
        "| `tuner.get_best_models(1)[0]` | Ambil model terbaik |\n",
        "| `best_model.compile(...)` | Siapkan model untuk dilatih |\n",
        "| `best_model.fit(...)` | Latih ulang pakai data kamu |\n",
        "| `evaluate`, `predict`, `plot` | Tampilkan dan nilai performanya |\n",
        "\n",
        "---"
      ],
      "metadata": {
        "id": "pTE_3vLKiemU"
      }
    },
    {
      "cell_type": "markdown",
      "source": [
        "### Proses Training LSTM Models Tensorflow"
      ],
      "metadata": {
        "id": "j31qOgAMuRJm"
      }
    },
    {
      "cell_type": "code",
      "source": [
        "import requests\n",
        "import pandas as pd\n",
        "from tensorflow.keras.preprocessing.text import Tokenizer\n",
        "from tensorflow.keras.preprocessing.sequence import pad_sequences\n",
        "from sklearn.model_selection import train_test_split\n",
        "\n",
        "# Path dataset\n",
        "url = 'https://raw.githubusercontent.com/farrelrassya/teachingMLDL/1a62c814ab2a0a1c080e04391824de60a70e76e0/02.%20Deep%20Learning/06.%20Week%206/Datasets/DeteksiSarkasme.json'\n",
        "data_path = '/content/DeteksiSarkasme.json'\n",
        "\n",
        "# Mengunduh file\n",
        "response = requests.get(url)\n",
        "if response.status_code == 200:\n",
        "    with open(data_path, 'wb') as f:\n",
        "        f.write(response.content)\n",
        "    print(f\"Dataset berhasil diunduh ke: {data_path}\")\n",
        "else:\n",
        "    print(f\"Terjadi kesalahan saat mengunduh file. Status code: {response.status_code}\")\n",
        "\n",
        "# Membaca dataset dari file yang telah diunduh\n",
        "data = pd.read_json(data_path, lines=True)\n",
        "\n",
        "# Menyiapkan data input (X) dan label (y)\n",
        "X = data['headline']  # Ambil kolom 'headline' sebagai teks input\n",
        "y = data['is_sarcastic']  # Ambil kolom 'is_sarcastic' sebagai label (0 atau 1)\n",
        "\n",
        "# Tokenisasi dan padding\n",
        "tokenizer = Tokenizer(num_words=10000)  # Maksimal 10,000 kata yang dipertimbangkan\n",
        "tokenizer.fit_on_texts(X)\n",
        "\n",
        "# Ubah teks menjadi sequence angka\n",
        "X_seq = tokenizer.texts_to_sequences(X)\n",
        "\n",
        "# Padding sequence agar panjangnya seragam (misalnya panjang maksimal 100)\n",
        "X_seq_padded = pad_sequences(X_seq, maxlen=100)  # Sesuaikan maxlen dengan panjang input yang diinginkan\n",
        "\n",
        "# Membagi data menjadi training dan validation set\n",
        "X_train, X_val, y_train, y_val = train_test_split(X_seq_padded, y, test_size=0.2, random_state=42)\n",
        "\n",
        "# Sekarang X_train, X_val, y_train, y_val sudah siap digunakan untuk pelatihan\n",
        "\n"
      ],
      "metadata": {
        "colab": {
          "base_uri": "https://localhost:8080/"
        },
        "id": "SlkMysD9kaKC",
        "outputId": "b03d0132-4d1f-4f46-87b3-edb47737f06f"
      },
      "execution_count": 67,
      "outputs": [
        {
          "output_type": "stream",
          "name": "stdout",
          "text": [
            "Dataset berhasil diunduh ke: /content/DeteksiSarkasme.json\n"
          ]
        }
      ]
    },
    {
      "cell_type": "code",
      "source": [
        "import keras\n",
        "from tensorflow.keras import layers\n",
        "from keras_tuner import HyperModel, RandomSearch\n",
        "\n",
        "class LSTMHyperModel(HyperModel):\n",
        "    def __init__(self, vocab_size, maxlen):\n",
        "        self.vocab_size = vocab_size\n",
        "        self.maxlen = maxlen\n",
        "\n",
        "    def build(self, hp):\n",
        "        model = keras.Sequential()\n",
        "        model.add(layers.Embedding(\n",
        "            input_dim=self.vocab_size,\n",
        "            output_dim=hp.Int('embedding_dim', min_value=16, max_value=128, step=16),\n",
        "            input_length=self.maxlen\n",
        "        ))\n",
        "        model.add(layers.LSTM(units=hp.Int('units', min_value=32, max_value=128, step=32), return_sequences=True))\n",
        "        model.add(layers.LSTM(units=hp.Int('units', min_value=32, max_value=128, step=32)))\n",
        "        model.add(layers.Dense(1, activation='sigmoid'))\n",
        "\n",
        "        model.compile(\n",
        "            optimizer=keras.optimizers.Adam(hp.Float('learning_rate', 1e-5, 1e-2, sampling='log')),\n",
        "            loss='binary_crossentropy',\n",
        "            metrics=['accuracy', keras.metrics.Precision(), keras.metrics.Recall(), keras.metrics.AUC()]\n",
        "        )\n",
        "\n",
        "        return model\n"
      ],
      "metadata": {
        "id": "WsovEuDGucPA"
      },
      "execution_count": 68,
      "outputs": []
    },
    {
      "cell_type": "code",
      "source": [
        "vocab_size = len(tokenizer.word_index) + 1\n",
        "maxlen = X_train.shape[1]\n",
        "\n",
        "tuner = RandomSearch(\n",
        "    LSTMHyperModel(vocab_size, maxlen),\n",
        "    objective='val_accuracy',\n",
        "    max_trials=10,\n",
        "    executions_per_trial=1,\n",
        "    directory='my_dir',\n",
        "    project_name='lstm_tuning'\n",
        ")\n"
      ],
      "metadata": {
        "colab": {
          "base_uri": "https://localhost:8080/"
        },
        "id": "ay7e1dRO0mig",
        "outputId": "7bbd7768-d9d0-4be4-e628-974db8e97f13"
      },
      "execution_count": 69,
      "outputs": [
        {
          "output_type": "stream",
          "name": "stdout",
          "text": [
            "Reloading Tuner from my_dir/lstm_tuning/tuner0.json\n"
          ]
        }
      ]
    },
    {
      "cell_type": "code",
      "source": [
        "tuner.search(X_train, y_train, epochs=10, batch_size=32, validation_data=(X_val, y_val))\n"
      ],
      "metadata": {
        "colab": {
          "base_uri": "https://localhost:8080/"
        },
        "id": "Fag1MguflQP2",
        "outputId": "a93e2411-3782-4008-d06b-98a50078cebe"
      },
      "execution_count": 70,
      "outputs": [
        {
          "output_type": "stream",
          "name": "stdout",
          "text": [
            "Trial 10 Complete [00h 42m 32s]\n",
            "val_accuracy: 0.8584799766540527\n",
            "\n",
            "Best val_accuracy So Far: 0.8603519201278687\n",
            "Total elapsed time: 04h 02m 52s\n"
          ]
        }
      ]
    },
    {
      "cell_type": "code",
      "source": [
        "from sklearn.metrics import classification_report, roc_auc_score, roc_curve\n",
        "import matplotlib.pyplot as plt\n",
        "import seaborn as sns\n",
        "\n",
        "# 1. Ambil model terbaik\n",
        "best_model = tuner.get_best_models(1)[0]\n",
        "\n",
        "# 2. Compile ulang (biasanya perlu)\n",
        "best_model.compile(\n",
        "    loss='binary_crossentropy',\n",
        "    optimizer='adam',\n",
        "    metrics=['accuracy']\n",
        ")\n",
        "\n",
        "# 3. Latih ulang model terbaik (agar dapat history training untuk visualisasi)\n",
        "history = best_model.fit(\n",
        "    X_train, y_train,\n",
        "    epochs=10,\n",
        "    batch_size=32,\n",
        "    validation_data=(X_val, y_val)\n",
        ")\n"
      ],
      "metadata": {
        "colab": {
          "base_uri": "https://localhost:8080/"
        },
        "id": "mzTWLkspnq8O",
        "outputId": "cfd4a45d-af68-4694-cef3-3f69be38aee3"
      },
      "execution_count": 75,
      "outputs": [
        {
          "output_type": "stream",
          "name": "stdout",
          "text": [
            "Epoch 1/10\n",
            "\u001b[1m668/668\u001b[0m \u001b[32m━━━━━━━━━━━━━━━━━━━━\u001b[0m\u001b[37m\u001b[0m \u001b[1m224s\u001b[0m 327ms/step - accuracy: 0.9223 - loss: 0.1906 - val_accuracy: 0.8615 - val_loss: 0.4301\n",
            "Epoch 2/10\n",
            "\u001b[1m668/668\u001b[0m \u001b[32m━━━━━━━━━━━━━━━━━━━━\u001b[0m\u001b[37m\u001b[0m \u001b[1m212s\u001b[0m 317ms/step - accuracy: 0.9409 - loss: 0.1545 - val_accuracy: 0.8613 - val_loss: 0.5045\n",
            "Epoch 3/10\n",
            "\u001b[1m668/668\u001b[0m \u001b[32m━━━━━━━━━━━━━━━━━━━━\u001b[0m\u001b[37m\u001b[0m \u001b[1m263s\u001b[0m 319ms/step - accuracy: 0.9637 - loss: 0.0990 - val_accuracy: 0.8577 - val_loss: 0.6918\n",
            "Epoch 4/10\n",
            "\u001b[1m668/668\u001b[0m \u001b[32m━━━━━━━━━━━━━━━━━━━━\u001b[0m\u001b[37m\u001b[0m \u001b[1m262s\u001b[0m 320ms/step - accuracy: 0.9824 - loss: 0.0533 - val_accuracy: 0.8602 - val_loss: 0.7895\n",
            "Epoch 5/10\n",
            "\u001b[1m668/668\u001b[0m \u001b[32m━━━━━━━━━━━━━━━━━━━━\u001b[0m\u001b[37m\u001b[0m \u001b[1m255s\u001b[0m 309ms/step - accuracy: 0.9913 - loss: 0.0259 - val_accuracy: 0.8545 - val_loss: 0.8719\n",
            "Epoch 6/10\n",
            "\u001b[1m668/668\u001b[0m \u001b[32m━━━━━━━━━━━━━━━━━━━━\u001b[0m\u001b[37m\u001b[0m \u001b[1m267s\u001b[0m 317ms/step - accuracy: 0.9919 - loss: 0.0229 - val_accuracy: 0.8517 - val_loss: 0.9848\n",
            "Epoch 7/10\n",
            "\u001b[1m668/668\u001b[0m \u001b[32m━━━━━━━━━━━━━━━━━━━━\u001b[0m\u001b[37m\u001b[0m \u001b[1m257s\u001b[0m 310ms/step - accuracy: 0.9971 - loss: 0.0115 - val_accuracy: 0.8484 - val_loss: 1.0707\n",
            "Epoch 8/10\n",
            "\u001b[1m668/668\u001b[0m \u001b[32m━━━━━━━━━━━━━━━━━━━━\u001b[0m\u001b[37m\u001b[0m \u001b[1m214s\u001b[0m 320ms/step - accuracy: 0.9975 - loss: 0.0059 - val_accuracy: 0.8482 - val_loss: 1.0538\n",
            "Epoch 9/10\n",
            "\u001b[1m668/668\u001b[0m \u001b[32m━━━━━━━━━━━━━━━━━━━━\u001b[0m\u001b[37m\u001b[0m \u001b[1m262s\u001b[0m 320ms/step - accuracy: 0.9980 - loss: 0.0054 - val_accuracy: 0.8474 - val_loss: 1.2546\n",
            "Epoch 10/10\n",
            "\u001b[1m668/668\u001b[0m \u001b[32m━━━━━━━━━━━━━━━━━━━━\u001b[0m\u001b[37m\u001b[0m \u001b[1m212s\u001b[0m 317ms/step - accuracy: 0.9988 - loss: 0.0036 - val_accuracy: 0.8476 - val_loss: 1.2318\n"
          ]
        }
      ]
    },
    {
      "cell_type": "code",
      "source": [
        "# Visualisasi akurasi\n",
        "plt.plot(history.history['accuracy'], label='Train Accuracy')\n",
        "plt.plot(history.history['val_accuracy'], label='Val Accuracy')\n",
        "plt.title('Accuracy per Epoch')\n",
        "plt.xlabel('Epoch')\n",
        "plt.ylabel('Accuracy')\n",
        "plt.legend()\n",
        "plt.show()\n",
        "\n",
        "# Visualisasi loss\n",
        "plt.plot(history.history['loss'], label='Train Loss')\n",
        "plt.plot(history.history['val_loss'], label='Val Loss')\n",
        "plt.title('Loss per Epoch')\n",
        "plt.xlabel('Epoch')\n",
        "plt.ylabel('Loss')\n",
        "plt.legend()\n",
        "plt.show()\n"
      ],
      "metadata": {
        "colab": {
          "base_uri": "https://localhost:8080/",
          "height": 981
        },
        "id": "ofxFjwQ_ntP6",
        "outputId": "e30107b2-eb20-43e6-8e90-9866012a8b8d"
      },
      "execution_count": 76,
      "outputs": [
        {
          "output_type": "display_data",
          "data": {
            "text/plain": [
              "<Figure size 640x480 with 1 Axes>"
            ],
            "image/png": "[encoded data removed]"
          },
          "metadata": {}
        },
        {
          "output_type": "display_data",
          "data": {
            "text/plain": [
              "<Figure size 640x480 with 1 Axes>"
            ],
            "image/png": "[encoded data removed]"
          },
          "metadata": {}
        }
      ]
    },
    {
      "cell_type": "code",
      "source": [
        "# Prediksi probabilitas dan kelas\n",
        "y_pred_prob = best_model.predict(X_val)\n",
        "y_pred = (y_pred_prob > 0.5).astype(\"int32\")\n",
        "\n",
        "# Classification report\n",
        "print(\"Classification Report:\")\n",
        "print(classification_report(y_val, y_pred, digits=4))\n",
        "\n",
        "# AUC Score\n",
        "auc = roc_auc_score(y_val, y_pred_prob)\n",
        "print(f\"AUC Score: {auc:.4f}\")\n",
        "\n",
        "# ROC Curve\n",
        "fpr, tpr, thresholds = roc_curve(y_val, y_pred_prob)\n",
        "plt.plot(fpr, tpr, label=f\"AUC = {auc:.4f}\")\n",
        "plt.plot([0, 1], [0, 1], linestyle='--', color='gray')\n",
        "plt.xlabel('False Positive Rate')\n",
        "plt.ylabel('True Positive Rate')\n",
        "plt.title('ROC Curve')\n",
        "plt.legend()\n",
        "plt.show()\n"
      ],
      "metadata": {
        "colab": {
          "base_uri": "https://localhost:8080/",
          "height": 707
        },
        "id": "73thf4PWnu8m",
        "outputId": "0f89fe62-63de-435f-dd95-4f8e501d1cd2"
      },
      "execution_count": 77,
      "outputs": [
        {
          "output_type": "stream",
          "name": "stdout",
          "text": [
            "\u001b[1m167/167\u001b[0m \u001b[32m━━━━━━━━━━━━━━━━━━━━\u001b[0m\u001b[37m\u001b[0m \u001b[1m16s\u001b[0m 93ms/step\n",
            "Classification Report:\n",
            "              precision    recall  f1-score   support\n",
            "\n",
            "           0     0.8627    0.8662    0.8644      2996\n",
            "           1     0.8282    0.8240    0.8261      2346\n",
            "\n",
            "    accuracy                         0.8476      5342\n",
            "   macro avg     0.8454    0.8451    0.8452      5342\n",
            "weighted avg     0.8475    0.8476    0.8476      5342\n",
            "\n",
            "AUC Score: 0.9179\n"
          ]
        },
        {
          "output_type": "display_data",
          "data": {
            "text/plain": [
              "<Figure size 640x480 with 1 Axes>"
            ],
            "image/png": "[encoded data removed]"
          },
          "metadata": {}
        }
      ]
    },
    {
      "cell_type": "markdown",
      "source": [
        "### Proses Training Model GRU"
      ],
      "metadata": {
        "id": "OWsdN67DTKuS"
      }
    },
    {
      "cell_type": "code",
      "source": [
        "from keras_tuner import HyperModel\n",
        "from tensorflow.keras import layers, models, optimizers\n",
        "\n",
        "class GRUHyperModel(HyperModel):\n",
        "    def build(self, hp):\n",
        "        model = models.Sequential()\n",
        "        model.add(layers.Embedding(\n",
        "            input_dim=10000,\n",
        "            output_dim=hp.Int('embedding_dim', min_value=16, max_value=128, step=16),\n",
        "            input_length=100\n",
        "        ))\n",
        "        model.add(layers.GRU(units=hp.Int('units', min_value=32, max_value=128, step=32), return_sequences=True))\n",
        "        model.add(layers.GRU(units=hp.Int('units', min_value=32, max_value=128, step=32)))\n",
        "        model.add(layers.Dense(1, activation='sigmoid'))\n",
        "\n",
        "        model.compile(\n",
        "            optimizer=optimizers.Adam(learning_rate=hp.Float('learning_rate', 1e-4, 1e-2, sampling='LOG')),\n",
        "            loss='binary_crossentropy',\n",
        "            metrics=['accuracy']\n",
        "        )\n",
        "        return model\n"
      ],
      "metadata": {
        "id": "G3XpBt6rTPg9"
      },
      "execution_count": 78,
      "outputs": []
    },
    {
      "cell_type": "code",
      "source": [
        "from keras_tuner.tuners import RandomSearch\n",
        "\n",
        "tuner = RandomSearch(\n",
        "    GRUHyperModel(),\n",
        "    objective='val_accuracy',\n",
        "    max_trials=10,\n",
        "    executions_per_trial=1,\n",
        "    directory='my_dir',\n",
        "    project_name='gru_tuning'\n",
        ")\n"
      ],
      "metadata": {
        "id": "ZZTGFtWMTcRx"
      },
      "execution_count": 79,
      "outputs": []
    },
    {
      "cell_type": "code",
      "source": [
        "tuner.search(X_train, y_train, epochs=10, batch_size=32, validation_data=(X_val, y_val))\n"
      ],
      "metadata": {
        "colab": {
          "base_uri": "https://localhost:8080/"
        },
        "id": "yJAWLgIYTeY1",
        "outputId": "8909fc56-7a74-426f-b9ff-3a8b7841af5f"
      },
      "execution_count": null,
      "outputs": [
        {
          "output_type": "stream",
          "name": "stdout",
          "text": [
            "Trial 3 Complete [00h 33m 16s]\n",
            "val_accuracy: 0.8554848432540894\n",
            "\n",
            "Best val_accuracy So Far: 0.863347053527832\n",
            "Total elapsed time: 01h 08m 39s\n",
            "\n",
            "Search: Running Trial #4\n",
            "\n",
            "Value             |Best Value So Far |Hyperparameter\n",
            "80                |16                |embedding_dim\n",
            "96                |32                |units\n",
            "0.0093815         |0.0069406         |learning_rate\n",
            "\n",
            "Epoch 1/10\n",
            "\u001b[1m668/668\u001b[0m \u001b[32m━━━━━━━━━━━━━━━━━━━━\u001b[0m\u001b[37m\u001b[0m \u001b[1m132s\u001b[0m 188ms/step - accuracy: 0.7675 - loss: 0.4911 - val_accuracy: 0.8474 - val_loss: 0.3519\n",
            "Epoch 2/10\n",
            "\u001b[1m668/668\u001b[0m \u001b[32m━━━━━━━━━━━━━━━━━━━━\u001b[0m\u001b[37m\u001b[0m \u001b[1m120s\u001b[0m 180ms/step - accuracy: 0.9136 - loss: 0.2156 - val_accuracy: 0.8255 - val_loss: 0.4256\n",
            "Epoch 3/10\n",
            "\u001b[1m668/668\u001b[0m \u001b[32m━━━━━━━━━━━━━━━━━━━━\u001b[0m\u001b[37m\u001b[0m \u001b[1m144s\u001b[0m 184ms/step - accuracy: 0.9439 - loss: 0.1475 - val_accuracy: 0.8353 - val_loss: 0.4774\n",
            "Epoch 4/10\n",
            "\u001b[1m668/668\u001b[0m \u001b[32m━━━━━━━━━━━━━━━━━━━━\u001b[0m\u001b[37m\u001b[0m \u001b[1m138s\u001b[0m 178ms/step - accuracy: 0.9497 - loss: 0.1355 - val_accuracy: 0.8379 - val_loss: 0.4786\n",
            "Epoch 5/10\n",
            "\u001b[1m668/668\u001b[0m \u001b[32m━━━━━━━━━━━━━━━━━━━━\u001b[0m\u001b[37m\u001b[0m \u001b[1m141s\u001b[0m 177ms/step - accuracy: 0.9469 - loss: 0.1402 - val_accuracy: 0.8325 - val_loss: 0.4972\n",
            "Epoch 6/10\n",
            "\u001b[1m668/668\u001b[0m \u001b[32m━━━━━━━━━━━━━━━━━━━━\u001b[0m\u001b[37m\u001b[0m \u001b[1m146s\u001b[0m 184ms/step - accuracy: 0.9403 - loss: 0.1528 - val_accuracy: 0.8257 - val_loss: 0.5284\n",
            "Epoch 7/10\n",
            "\u001b[1m668/668\u001b[0m \u001b[32m━━━━━━━━━━━━━━━━━━━━\u001b[0m\u001b[37m\u001b[0m \u001b[1m142s\u001b[0m 184ms/step - accuracy: 0.9373 - loss: 0.1552 - val_accuracy: 0.8276 - val_loss: 0.5467\n",
            "Epoch 8/10\n",
            "\u001b[1m668/668\u001b[0m \u001b[32m━━━━━━━━━━━━━━━━━━━━\u001b[0m\u001b[37m\u001b[0m \u001b[1m138s\u001b[0m 178ms/step - accuracy: 0.9329 - loss: 0.1740 - val_accuracy: 0.8207 - val_loss: 0.5172\n",
            "Epoch 9/10\n",
            "\u001b[1m668/668\u001b[0m \u001b[32m━━━━━━━━━━━━━━━━━━━━\u001b[0m\u001b[37m\u001b[0m \u001b[1m146s\u001b[0m 184ms/step - accuracy: 0.9302 - loss: 0.1814 - val_accuracy: 0.8182 - val_loss: 0.5371\n",
            "Epoch 10/10\n",
            "\u001b[1m526/668\u001b[0m \u001b[32m━━━━━━━━━━━━━━━\u001b[0m\u001b[37m━━━━━\u001b[0m \u001b[1m23s\u001b[0m 169ms/step - accuracy: 0.9272 - loss: 0.1858"
          ]
        }
      ]
    },
    {
      "cell_type": "code",
      "source": [
        "# Ambil model terbaik dari tuner\n",
        "best_gru_model = tuner.get_best_models(1)[0]\n",
        "\n",
        "# Compile ulang model\n",
        "best_gru_model.compile(\n",
        "    optimizer='adam',\n",
        "    loss='binary_crossentropy',\n",
        "    metrics=['accuracy']\n",
        ")\n",
        "\n",
        "# Fit ulang untuk mendapatkan history (agar bisa divisualisasikan)\n",
        "history = best_gru_model.fit(\n",
        "    X_train, y_train,\n",
        "    epochs=10,\n",
        "    batch_size=32,\n",
        "    validation_data=(X_val, y_val)\n",
        ")\n"
      ],
      "metadata": {
        "id": "NJHh8QthTflv"
      },
      "execution_count": null,
      "outputs": []
    },
    {
      "cell_type": "code",
      "source": [
        "from sklearn.metrics import accuracy_score, precision_score, recall_score, f1_score, roc_auc_score, roc_curve\n",
        "import matplotlib.pyplot as plt\n",
        "\n",
        "# Prediksi probabilitas dan kelas\n",
        "y_pred_prob = best_gru_model.predict(X_val)\n",
        "y_pred = (y_pred_prob > 0.5).astype(int)\n",
        "\n",
        "# Evaluasi metrik\n",
        "accuracy = accuracy_score(y_val, y_pred)\n",
        "precision = precision_score(y_val, y_pred)\n",
        "recall = recall_score(y_val, y_pred)\n",
        "f1 = f1_score(y_val, y_pred)\n",
        "auc = roc_auc_score(y_val, y_pred_prob)\n",
        "\n",
        "print(f\"Akurasi: {accuracy:.4f}\")\n",
        "print(f\"Presisi: {precision:.4f}\")\n",
        "print(f\"Recall: {recall:.4f}\")\n",
        "print(f\"F1 Score: {f1:.4f}\")\n",
        "print(f\"AUC: {auc:.4f}\")\n"
      ],
      "metadata": {
        "id": "LdUNXO-fTk6t"
      },
      "execution_count": null,
      "outputs": []
    },
    {
      "cell_type": "code",
      "source": [
        "# Visualisasi akurasi dan loss\n",
        "plt.figure(figsize=(12, 5))\n",
        "\n",
        "# Akurasi\n",
        "plt.subplot(1, 2, 1)\n",
        "plt.plot(history.history['accuracy'], label='Train Accuracy')\n",
        "plt.plot(history.history['val_accuracy'], label='Val Accuracy')\n",
        "plt.title('Akurasi Training & Validasi')\n",
        "plt.xlabel('Epoch')\n",
        "plt.ylabel('Akurasi')\n",
        "plt.legend()\n",
        "\n",
        "# Loss\n",
        "plt.subplot(1, 2, 2)\n",
        "plt.plot(history.history['loss'], label='Train Loss')\n",
        "plt.plot(history.history['val_loss'], label='Val Loss')\n",
        "plt.title('Loss Training & Validasi')\n",
        "plt.xlabel('Epoch')\n",
        "plt.ylabel('Loss')\n",
        "plt.legend()\n",
        "\n",
        "plt.tight_layout()\n",
        "plt.show()\n"
      ],
      "metadata": {
        "id": "nTEo13ooTmOI"
      },
      "execution_count": null,
      "outputs": []
    },
    {
      "cell_type": "code",
      "source": [
        "fpr, tpr, thresholds = roc_curve(y_val, y_pred_prob)\n",
        "\n",
        "plt.figure(figsize=(6, 5))\n",
        "plt.plot(fpr, tpr, label=f\"AUC = {auc:.4f}\")\n",
        "plt.plot([0, 1], [0, 1], 'k--')\n",
        "plt.title(\"ROC Curve\")\n",
        "plt.xlabel(\"False Positive Rate\")\n",
        "plt.ylabel(\"True Positive Rate\")\n",
        "plt.legend(loc='lower right')\n",
        "plt.grid(True)\n",
        "plt.show()\n"
      ],
      "metadata": {
        "id": "DoEnH6Ei-s1M"
      },
      "execution_count": null,
      "outputs": []
    },
    {
      "cell_type": "markdown",
      "source": [
        "### PyTorch"
      ],
      "metadata": {
        "id": "LTZJrIQvnKnz"
      }
    },
    {
      "cell_type": "markdown",
      "source": [
        "### Persiapan Awal PyTorch"
      ],
      "metadata": {
        "id": "0x1ryoJunewR"
      }
    },
    {
      "cell_type": "code",
      "source": [
        "import numpy as np\n",
        "\n",
        "X_train = np.load('X_latih_seq.npy')\n",
        "X_test = np.load('X_uji_seq.npy')\n",
        "y_train = np.load('y_latih.npy')\n",
        "y_test = np.load('y_uji.npy')\n"
      ],
      "metadata": {
        "id": "cHrkscXinhWP"
      },
      "execution_count": null,
      "outputs": []
    },
    {
      "cell_type": "code",
      "source": [
        "import torch\n",
        "from torch.utils.data import TensorDataset, DataLoader\n",
        "\n",
        "X_train_tensor = torch.tensor(X_train, dtype=torch.long)\n",
        "y_train_tensor = torch.tensor(y_train, dtype=torch.float32)\n",
        "\n",
        "X_test_tensor = torch.tensor(X_test, dtype=torch.long)\n",
        "y_test_tensor = torch.tensor(y_test, dtype=torch.float32)\n"
      ],
      "metadata": {
        "id": "BDVwNRfFnpgS"
      },
      "execution_count": null,
      "outputs": []
    },
    {
      "cell_type": "code",
      "source": [
        "train_dataset = TensorDataset(X_train_tensor, y_train_tensor)\n",
        "test_dataset = TensorDataset(X_test_tensor, y_test_tensor)\n",
        "\n",
        "train_loader = DataLoader(train_dataset, batch_size=32, shuffle=True)\n",
        "test_loader = DataLoader(test_dataset, batch_size=32)\n"
      ],
      "metadata": {
        "id": "s296idSmnsVz"
      },
      "execution_count": null,
      "outputs": []
    },
    {
      "cell_type": "markdown",
      "source": [
        "### RNN Models Dengan PyTorch"
      ],
      "metadata": {
        "id": "bn9XZPnJn1Ei"
      }
    },
    {
      "cell_type": "code",
      "source": [
        "import numpy as np\n",
        "\n",
        "# Load data\n",
        "X_latih = np.load('X_latih_seq.npy')\n",
        "X_uji = np.load('X_uji_seq.npy')\n",
        "y_latih = np.load('y_latih.npy')\n",
        "y_uji = np.load('y_uji.npy')\n"
      ],
      "metadata": {
        "id": "OID_7Ms4n4BA"
      },
      "execution_count": null,
      "outputs": []
    },
    {
      "cell_type": "code",
      "source": [
        "import torch\n",
        "from torch.utils.data import Dataset, DataLoader\n",
        "\n",
        "# Dataset custom\n",
        "class ReviewDataset(Dataset):\n",
        "    def __init__(self, data, label):\n",
        "        self.data = torch.tensor(data, dtype=torch.long)  # ubah ke tensor integer\n",
        "        self.label = torch.tensor(label, dtype=torch.float32)  # ubah ke tensor float\n",
        "\n",
        "    def __len__(self):\n",
        "        return len(self.data)\n",
        "\n",
        "    def __getitem__(self, idx):\n",
        "        return self.data[idx], self.label[idx]\n",
        "\n",
        "# Buat dataset\n",
        "train_dataset = ReviewDataset(X_latih, y_latih)\n",
        "test_dataset = ReviewDataset(X_uji, y_uji)\n",
        "\n",
        "# DataLoader\n",
        "train_loader = DataLoader(train_dataset, batch_size=32, shuffle=True)\n",
        "test_loader = DataLoader(test_dataset, batch_size=32)\n"
      ],
      "metadata": {
        "id": "ZeJYjc5Sn-Qq"
      },
      "execution_count": null,
      "outputs": []
    },
    {
      "cell_type": "markdown",
      "source": [
        "### Bangun Model RNN PyTorch"
      ],
      "metadata": {
        "id": "b9xLgZ0doD2R"
      }
    },
    {
      "cell_type": "code",
      "source": [
        "import torch.nn as nn\n",
        "\n",
        "class RNNClassifier(nn.Module):\n",
        "    def __init__(self, vocab_size, embedding_dim, hidden_dim):\n",
        "        super(RNNClassifier, self).__init__()\n",
        "        self.embedding = nn.Embedding(vocab_size, embedding_dim, padding_idx=0)\n",
        "        self.rnn = nn.RNN(embedding_dim, hidden_dim, batch_first=True)\n",
        "        self.fc = nn.Linear(hidden_dim, 1)\n",
        "        self.sigmoid = nn.Sigmoid()\n",
        "\n",
        "    def forward(self, x):\n",
        "        x = self.embedding(x)\n",
        "        output, hidden = self.rnn(x)\n",
        "        out = self.fc(hidden.squeeze(0))\n",
        "        return self.sigmoid(out)\n"
      ],
      "metadata": {
        "id": "9aUd8wEfoGxS"
      },
      "execution_count": null,
      "outputs": []
    },
    {
      "cell_type": "markdown",
      "source": [
        "### Inisialisasi Model, Loss, Optimizer"
      ],
      "metadata": {
        "id": "fqZyTLn-oJ7D"
      }
    },
    {
      "cell_type": "code",
      "source": [
        "# Param dasar\n",
        "vocab_size = len(kamus_kata)\n",
        "embedding_dim = 128\n",
        "hidden_dim = 128\n",
        "\n",
        "# Model, loss, optimizer\n",
        "model_rnn = RNNClassifier(vocab_size, embedding_dim, hidden_dim)\n",
        "loss_fn = nn.BCELoss()\n",
        "optimizer = torch.optim.Adam(model_rnn.parameters(), lr=0.001)\n"
      ],
      "metadata": {
        "id": "h-VxBtPpoJR8"
      },
      "execution_count": null,
      "outputs": []
    },
    {
      "cell_type": "markdown",
      "source": [
        "### Training Loop"
      ],
      "metadata": {
        "id": "-9VCItDtoQPV"
      }
    },
    {
      "cell_type": "code",
      "source": [
        "def train_model(model, train_loader, val_loader, loss_fn, optimizer, epochs=30):\n",
        "    train_losses = []\n",
        "    val_losses = []\n",
        "    train_accuracies = []\n",
        "    val_accuracies = []\n",
        "\n",
        "    for epoch in range(epochs):\n",
        "        model.train()\n",
        "        total_loss = 0\n",
        "        correct = 0\n",
        "        total = 0\n",
        "\n",
        "        for X_batch, y_batch in train_loader:\n",
        "            optimizer.zero_grad()\n",
        "            output = model(X_batch).squeeze()\n",
        "            loss = loss_fn(output, y_batch)\n",
        "            loss.backward()\n",
        "            optimizer.step()\n",
        "\n",
        "            total_loss += loss.item()\n",
        "            preds = (torch.sigmoid(output) >= 0.5).long()\n",
        "            correct += (preds == y_batch).sum().item()\n",
        "            total += y_batch.size(0)\n",
        "\n",
        "        train_loss = total_loss / len(train_loader)\n",
        "        train_acc = correct / total\n",
        "        train_losses.append(train_loss)\n",
        "        train_accuracies.append(train_acc)\n",
        "\n",
        "        # Validation\n",
        "        model.eval()\n",
        "        val_loss = 0\n",
        "        val_correct = 0\n",
        "        val_total = 0\n",
        "        with torch.no_grad():\n",
        "            for X_val, y_val in val_loader:\n",
        "                val_output = model(X_val).squeeze()\n",
        "                v_loss = loss_fn(val_output, y_val)\n",
        "                val_loss += v_loss.item()\n",
        "                val_preds = (torch.sigmoid(val_output) >= 0.5).long()\n",
        "                val_correct += (val_preds == y_val).sum().item()\n",
        "                val_total += y_val.size(0)\n",
        "\n",
        "        val_losses.append(val_loss / len(val_loader))\n",
        "        val_accuracies.append(val_correct / val_total)\n",
        "\n",
        "        print(f\"📚 Epoch {epoch+1}/{epochs} | Train Loss: {train_loss:.4f}, Train Acc: {train_acc:.4f} | Val Loss: {val_losses[-1]:.4f}, Val Acc: {val_accuracies[-1]:.4f}\")\n",
        "\n",
        "    return train_losses, val_losses, train_accuracies, val_accuracies\n"
      ],
      "metadata": {
        "id": "Ee9d9v8MoS4u"
      },
      "execution_count": null,
      "outputs": []
    },
    {
      "cell_type": "code",
      "source": [
        "from torch.utils.data import TensorDataset, DataLoader\n",
        "y_uji_tensor = torch.tensor(y_uji, dtype=torch.float32).to(device)\n",
        "val_dataset = TensorDataset(X_uji_tensor, y_uji_tensor)\n",
        "val_loader = DataLoader(val_dataset, batch_size=32)\n"
      ],
      "metadata": {
        "id": "kSVQcEqmuqBh"
      },
      "execution_count": null,
      "outputs": []
    },
    {
      "cell_type": "code",
      "source": [
        "train_losses, val_losses, train_accuracies, val_accuracies = train_model(\n",
        "    model_rnn, train_loader, val_loader, loss_fn, optimizer, epochs=30\n",
        ")\n"
      ],
      "metadata": {
        "id": "SUoZS8m6u33a"
      },
      "execution_count": null,
      "outputs": []
    },
    {
      "cell_type": "markdown",
      "source": [
        "### Evaluasi Model"
      ],
      "metadata": {
        "id": "RBInTNe5tGRp"
      }
    },
    {
      "cell_type": "code",
      "source": [
        "import torch\n",
        "from sklearn.metrics import accuracy_score, precision_score, recall_score, f1_score, roc_auc_score, roc_curve\n",
        "import matplotlib.pyplot as plt\n",
        "\n",
        "# Setup device\n",
        "device = torch.device('cuda' if torch.cuda.is_available() else 'cpu')\n",
        "\n",
        "# Konversi X_uji ke tensor\n",
        "X_uji_tensor = torch.tensor(X_uji_seq, dtype=torch.long).to(device)\n",
        "\n",
        "# Prediksi\n",
        "model_rnn.eval()\n",
        "with torch.no_grad():\n",
        "    output = model_rnn(X_uji_tensor).squeeze()\n",
        "    pred_probs = torch.sigmoid(output).cpu().numpy()\n",
        "    y_pred = (pred_probs >= 0.5).astype(int)\n",
        "\n",
        "# Konversi y_uji ke NumPy (pastikan ini NumPy array, bukan tensor)\n",
        "y_true = y_uji if isinstance(y_uji, np.ndarray) else y_uji.values\n",
        "\n",
        "# Evaluasi\n",
        "acc = accuracy_score(y_true, y_pred)\n",
        "prec = precision_score(y_true, y_pred)\n",
        "rec = recall_score(y_true, y_pred)\n",
        "f1 = f1_score(y_true, y_pred)\n",
        "auc = roc_auc_score(y_true, pred_probs)\n",
        "\n",
        "# Output hasil\n",
        "print(f\"📊 Akurasi: {acc:.4f}\")\n",
        "print(f\"📊 Presisi: {prec:.4f}\")\n",
        "print(f\"📊 Recall: {rec:.4f}\")\n",
        "print(f\"📊 F1 Score: {f1:.4f}\")\n",
        "print(f\"📊 AUC: {auc:.4f}\")\n"
      ],
      "metadata": {
        "id": "QbYT9s7AtILi"
      },
      "execution_count": null,
      "outputs": []
    },
    {
      "cell_type": "code",
      "source": [
        "# ROC Curve\n",
        "fpr, tpr, thresholds = roc_curve(y_true, pred_probs)\n",
        "\n",
        "plt.figure(figsize=(6, 5))\n",
        "plt.plot(fpr, tpr, label=f'AUC = {auc:.4f}')\n",
        "plt.plot([0, 1], [0, 1], 'k--', label='Random Guess')\n",
        "plt.xlabel('False Positive Rate')\n",
        "plt.ylabel('True Positive Rate')\n",
        "plt.title('ROC Curve - RNN PyTorch')\n",
        "plt.legend()\n",
        "plt.grid(True)\n",
        "plt.show()"
      ],
      "metadata": {
        "id": "gDog4ibMt0AL"
      },
      "execution_count": null,
      "outputs": []
    },
    {
      "cell_type": "code",
      "source": [
        "import matplotlib.pyplot as plt\n",
        "\n",
        "plt.figure(figsize=(12, 5))\n",
        "\n",
        "# Loss\n",
        "plt.subplot(1, 2, 1)\n",
        "plt.plot(train_losses, label='Train Loss')\n",
        "plt.plot(val_losses, label='Val Loss')\n",
        "plt.title('Loss Training & Validation')\n",
        "plt.xlabel('Epoch')\n",
        "plt.ylabel('Loss')\n",
        "plt.legend()\n",
        "\n",
        "# Accuracy\n",
        "plt.subplot(1, 2, 2)\n",
        "plt.plot(train_accuracies, label='Train Accuracy')\n",
        "plt.plot(val_accuracies, label='Val Accuracy')\n",
        "plt.title('Accuracy Training & Validation')\n",
        "plt.xlabel('Epoch')\n",
        "plt.ylabel('Accuracy')\n",
        "plt.legend()\n",
        "\n",
        "plt.tight_layout()\n",
        "plt.show()\n"
      ],
      "metadata": {
        "id": "c-FZ8o4CuE9N"
      },
      "execution_count": null,
      "outputs": []
    },
    {
      "cell_type": "markdown",
      "source": [
        "---\n",
        "\n",
        "### 📘 1. **Input ke Hidden State**\n",
        "Untuk setiap time step $ t $, RNN menerima input $ x_t $ dan hidden state dari step sebelumnya $ h_{t-1} $, lalu menghitung hidden state sekarang $ h_t $:\n",
        "\n",
        "$$\n",
        "h_t = \\tanh(W_{xh}x_t + W_{hh}h_{t-1} + b_h)\n",
        "$$\n",
        "\n",
        "**Penjelasan**:\n",
        "- $ x_t $: input di urutan ke-$ t $ (biasanya vektor embedding dari satu kata).\n",
        "- $ h_{t-1} $: hidden state sebelumnya (memory dari urutan sebelumnya).\n",
        "- $ W_{xh} $: bobot dari input ke hidden.\n",
        "- $ W_{hh} $: bobot dari hidden sebelumnya ke hidden sekarang.\n",
        "- $ b_h $: bias.\n",
        "- $ \\tanh $: fungsi aktivasi, bikin output tetap dalam range $-1$ sampai $1$ dan menambahkan non-linearitas.\n",
        "\n",
        "---\n",
        "\n",
        "### 📘 2. **Hidden State ke Output**\n",
        "Setelah selesai memproses semua urutan, hidden state terakhir bisa digunakan untuk prediksi output (dalam kasus ini: klasifikasi biner).\n",
        "\n",
        "$$\n",
        "\\hat{y} = \\sigma(W_{hy}h_T + b_y)\n",
        "$$\n",
        "\n",
        "**Penjelasan**:\n",
        "- $ h_T $: hidden state terakhir (setelah semua kata diproses).\n",
        "- $ W_{hy} $: bobot dari hidden state ke output.\n",
        "- $ b_y $: bias output.\n",
        "- $ \\sigma $: sigmoid function karena klasifikasinya biner, hasil antara 0 dan 1.\n",
        "\n",
        "---\n",
        "\n",
        "### 📘 3. **Loss Function**\n",
        "Model pakai **Binary Cross Entropy Loss**, ini rumus umumnya:\n",
        "\n",
        "$$\n",
        "\\mathcal{L} = - \\left( y \\cdot \\log(\\hat{y}) + (1 - y) \\cdot \\log(1 - \\hat{y}) \\right)\n",
        "$$\n",
        "\n",
        "**Penjelasan**:\n",
        "- $ y $: label asli (0 atau 1).\n",
        "- $ \\hat{y} $: probabilitas prediksi model.\n",
        "- Loss ini bikin prediksi makin \"deket\" ke label asli.\n",
        "\n",
        "---\n",
        "\n",
        "### 📘 4. **Backpropagation**\n",
        "Di belakang layar, PyTorch menghitung turunan dari loss terhadap parameter model (misalnya $ W_{xh}, W_{hh}, W_{hy} $) dengan **backpropagation through time (BPTT)**.\n",
        "\n",
        "---\n",
        "\n",
        "### 🧠 Intuisi Singkat\n",
        "- Di setiap step, RNN gabungin info baru (kata ke-$t$) dengan memory sebelumnya (hidden state).\n",
        "- Setelah semua kata diproses, RNN punya *representasi* kalimat dalam bentuk $ h_T $, yang bisa dipakai untuk klasifikasi.\n",
        "- Karena dia “recurrent”, memory bisa mengalir ke depan, cocok banget buat data sekuensial seperti review.\n",
        "\n",
        "---"
      ],
      "metadata": {
        "id": "zFqL-e_Hy3hw"
      }
    },
    {
      "cell_type": "markdown",
      "source": [
        "### Model LSTM Dengan PyTorch"
      ],
      "metadata": {
        "id": "LLx0w2O2zFOp"
      }
    },
    {
      "cell_type": "code",
      "source": [
        "import torch.nn as nn\n",
        "\n",
        "class LSTMClassifier(nn.Module):\n",
        "    def __init__(self, vocab_size, embed_dim, hidden_dim, output_dim=1):\n",
        "        super(LSTMClassifier, self).__init__()\n",
        "        self.embedding = nn.Embedding(vocab_size, embed_dim, padding_idx=0)\n",
        "        self.lstm = nn.LSTM(embed_dim, hidden_dim, batch_first=True)\n",
        "        self.fc = nn.Linear(hidden_dim, output_dim)\n",
        "\n",
        "    def forward(self, x):\n",
        "        embedded = self.embedding(x)\n",
        "        lstm_out, _ = self.lstm(embedded)\n",
        "        final_hidden_state = lstm_out[:, -1, :]  # Ambil hidden state terakhir\n",
        "        output = self.fc(final_hidden_state)\n",
        "        return output\n"
      ],
      "metadata": {
        "id": "KvCSp3bUzKZY"
      },
      "execution_count": null,
      "outputs": []
    },
    {
      "cell_type": "code",
      "source": [
        "# Parameter\n",
        "vocab_size = len(kamus_kata)\n",
        "embed_dim = 100\n",
        "hidden_dim = 128\n",
        "\n",
        "# Inisialisasi model\n",
        "model_lstm = LSTMClassifier(vocab_size, embed_dim, hidden_dim).to(device)\n",
        "\n",
        "# Loss dan optimizer\n",
        "loss_fn = nn.BCEWithLogitsLoss()\n",
        "optimizer = torch.optim.Adam(model_lstm.parameters(), lr=0.001)\n"
      ],
      "metadata": {
        "id": "pezxGJP1zXyJ"
      },
      "execution_count": null,
      "outputs": []
    },
    {
      "cell_type": "code",
      "source": [
        "def train_model(model, train_loader, val_loader, loss_fn, optimizer, epochs=30):\n",
        "    train_losses, val_losses = [], []\n",
        "    train_accs, val_accs = [], []\n",
        "\n",
        "    for epoch in range(epochs):\n",
        "        model.train()\n",
        "        total_loss, correct, total = 0, 0, 0\n",
        "\n",
        "        for X_batch, y_batch in train_loader:\n",
        "            optimizer.zero_grad()\n",
        "            output = model(X_batch).squeeze()\n",
        "            loss = loss_fn(output, y_batch)\n",
        "            loss.backward()\n",
        "            optimizer.step()\n",
        "\n",
        "            total_loss += loss.item()\n",
        "            preds = torch.sigmoid(output) >= 0.5\n",
        "            correct += (preds == y_batch).sum().item()\n",
        "            total += y_batch.size(0)\n",
        "\n",
        "        train_loss = total_loss / len(train_loader)\n",
        "        train_acc = correct / total\n",
        "        train_losses.append(train_loss)\n",
        "        train_accs.append(train_acc)\n",
        "\n",
        "        # Validasi\n",
        "        model.eval()\n",
        "        with torch.no_grad():\n",
        "            val_loss, val_correct, val_total = 0, 0, 0\n",
        "            for X_val, y_val in val_loader:\n",
        "                val_output = model(X_val).squeeze()\n",
        "                loss = loss_fn(val_output, y_val)\n",
        "                val_loss += loss.item()\n",
        "\n",
        "                val_preds = torch.sigmoid(val_output) >= 0.5\n",
        "                val_correct += (val_preds == y_val).sum().item()\n",
        "                val_total += y_val.size(0)\n",
        "\n",
        "        val_loss /= len(val_loader)\n",
        "        val_acc = val_correct / val_total\n",
        "        val_losses.append(val_loss)\n",
        "        val_accs.append(val_acc)\n",
        "\n",
        "        print(f\"📚 Epoch {epoch+1}/{epochs}, Train Loss: {train_loss:.4f}, Val Loss: {val_loss:.4f}, Val Acc: {val_acc:.4f}\")\n",
        "\n",
        "    return train_losses, val_losses, train_accs, val_accs\n"
      ],
      "metadata": {
        "id": "L6ul_UVZzZI3"
      },
      "execution_count": null,
      "outputs": []
    },
    {
      "cell_type": "code",
      "source": [
        "train_losses, val_losses, train_accs, val_accs = train_model(\n",
        "    model_lstm, train_loader, val_loader, loss_fn, optimizer, epochs=30\n",
        ")\n"
      ],
      "metadata": {
        "id": "Ep_KmDgmzaXn"
      },
      "execution_count": null,
      "outputs": []
    },
    {
      "cell_type": "code",
      "source": [
        "import matplotlib.pyplot as plt\n",
        "\n",
        "plt.figure(figsize=(12, 5))\n",
        "\n",
        "# Plot akurasi\n",
        "plt.subplot(1, 2, 1)\n",
        "plt.plot(train_accs, label='Train Accuracy')\n",
        "plt.plot(val_accs, label='Val Accuracy')\n",
        "plt.title('Akurasi Training & Validasi')\n",
        "plt.xlabel('Epoch')\n",
        "plt.ylabel('Accuracy')\n",
        "plt.legend()\n",
        "\n",
        "# Plot loss\n",
        "plt.subplot(1, 2, 2)\n",
        "plt.plot(train_losses, label='Train Loss')\n",
        "plt.plot(val_losses, label='Val Loss')\n",
        "plt.title('Loss Training & Validasi')\n",
        "plt.xlabel('Epoch')\n",
        "plt.ylabel('Loss')\n",
        "plt.legend()\n",
        "\n",
        "plt.tight_layout()\n",
        "plt.show()\n"
      ],
      "metadata": {
        "id": "U9ABUFnnzbtg"
      },
      "execution_count": null,
      "outputs": []
    },
    {
      "cell_type": "code",
      "source": [
        "from sklearn.metrics import accuracy_score, precision_score, recall_score, f1_score, roc_auc_score, roc_curve\n",
        "import matplotlib.pyplot as plt\n",
        "\n",
        "# Pastikan data uji sudah jadi tensor\n",
        "X_uji_tensor = torch.tensor(X_uji_seq, dtype=torch.long).to(device)\n",
        "y_uji_tensor = torch.tensor(y_uji, dtype=torch.float).to(device)\n",
        "\n",
        "# Prediksi\n",
        "model_lstm.eval()\n",
        "with torch.no_grad():\n",
        "    output = model_lstm(X_uji_tensor).squeeze()\n",
        "    pred_probs = torch.sigmoid(output).cpu().numpy()\n",
        "    y_pred = (pred_probs >= 0.5).astype(int)\n",
        "\n",
        "# Konversi y_true\n",
        "y_true = y_uji_tensor.cpu().numpy()\n",
        "\n",
        "# Hitung metrik\n",
        "acc = accuracy_score(y_true, y_pred)\n",
        "prec = precision_score(y_true, y_pred)\n",
        "rec = recall_score(y_true, y_pred)\n",
        "f1 = f1_score(y_true, y_pred)\n",
        "auc = roc_auc_score(y_true, pred_probs)\n",
        "\n",
        "# Tampilkan\n",
        "print(f\"📊 Akurasi: {acc:.4f}\")\n",
        "print(f\"📊 Presisi: {prec:.4f}\")\n",
        "print(f\"📊 Recall: {rec:.4f}\")\n",
        "print(f\"📊 F1 Score: {f1:.4f}\")\n",
        "print(f\"📊 AUC: {auc:.4f}\")\n"
      ],
      "metadata": {
        "id": "S6vXK7Qi7kuH"
      },
      "execution_count": null,
      "outputs": []
    },
    {
      "cell_type": "code",
      "source": [
        "# ROC Curve\n",
        "fpr, tpr, thresholds = roc_curve(y_true, pred_probs)\n",
        "\n",
        "plt.figure(figsize=(6, 5))\n",
        "plt.plot(fpr, tpr, label=f\"AUC = {auc:.4f}\")\n",
        "plt.plot([0, 1], [0, 1], linestyle='--', color='gray')\n",
        "plt.title(\"ROC Curve\")\n",
        "plt.xlabel(\"False Positive Rate\")\n",
        "plt.ylabel(\"True Positive Rate\")\n",
        "plt.legend(loc=\"lower right\")\n",
        "plt.grid()\n",
        "plt.show()\n"
      ],
      "metadata": {
        "id": "h9iOPwpU7mV_"
      },
      "execution_count": null,
      "outputs": []
    },
    {
      "cell_type": "markdown",
      "source": [
        "---\n",
        "\n",
        "## 🔁 Struktur Dasar LSTM\n",
        "\n",
        "LSTM punya **3 gerbang utama** yang mengatur aliran informasi:\n",
        "1. **Forget Gate** 🧽\n",
        "2. **Input Gate** ✍️\n",
        "3. **Output Gate** 📤\n",
        "\n",
        "Dan juga **cell state** `C_t` yang menyimpan memori jangka panjang.\n",
        "\n",
        "---\n",
        "\n",
        "### 🧠 Notasi:\n",
        "- `x_t` = input saat waktu `t`\n",
        "- `h_t` = hidden state saat waktu `t`\n",
        "- `C_t` = cell state saat waktu `t`\n",
        "- `W` dan `b` = bobot dan bias yang dilatih\n",
        "- `σ` = sigmoid function\n",
        "- `tanh` = hyperbolic tangent function\n",
        "- `*` = elemen-wise multiplication\n",
        "\n",
        "---\n",
        "\n",
        "## 📘 Persamaan Matematika LSTM\n",
        "\n",
        "---\n",
        "\n",
        "### 1. **Forget Gate**  \n",
        "Menentukan berapa banyak informasi lama yang perlu dilupakan dari `C_{t-1}`.\n",
        "\n",
        "$$\n",
        "f_t = \\sigma(W_f \\cdot [h_{t-1}, x_t] + b_f)\n",
        "$$\n",
        "\n",
        "- Fungsi sigmoid akan output antara 0–1\n",
        "- Jika hasilnya 0 → buang semua memori lama\n",
        "- Jika hasilnya 1 → pertahankan semua\n",
        "\n",
        "---\n",
        "\n",
        "### 2. **Input Gate**  \n",
        "Menentukan berapa banyak informasi baru yang akan ditambahkan ke cell state.\n",
        "\n",
        "$$\n",
        "i_t = \\sigma(W_i \\cdot [h_{t-1}, x_t] + b_i)\n",
        "$$\n",
        "$$\n",
        "\\tilde{C}_t = \\tanh(W_C \\cdot [h_{t-1}, x_t] + b_C)\n",
        "$$\n",
        "\n",
        "- `i_t` = seberapa penting informasi baru\n",
        "- `\\tilde{C}_t` = kandidat nilai baru yang akan ditambahkan ke cell state\n",
        "\n",
        "---\n",
        "\n",
        "### 3. **Update Cell State**\n",
        "\n",
        "$$\n",
        "C_t = f_t * C_{t-1} + i_t * \\tilde{C}_t\n",
        "$$\n",
        "\n",
        "- Ini kombinasi antara memori lama (`C_{t-1}`) dan informasi baru (`\\tilde{C}_t`)\n",
        "- Memungkinkan LSTM mempertahankan informasi jangka panjang\n",
        "\n",
        "---\n",
        "\n",
        "### 4. **Output Gate**\n",
        "\n",
        "$$\n",
        "o_t = \\sigma(W_o \\cdot [h_{t-1}, x_t] + b_o)\n",
        "$$\n",
        "$$\n",
        "h_t = o_t * \\tanh(C_t)\n",
        "$$\n",
        "\n",
        "- `o_t` memutuskan bagian mana dari cell state yang akan dikeluarkan\n",
        "- `h_t` ini yang dikirim ke waktu berikutnya & output akhir\n",
        "\n",
        "---\n",
        "\n",
        "## 🧠 Di PyTorch\n",
        "\n",
        "Kalau pakai `nn.LSTM`, semua ini sudah dibungkus secara internal:\n",
        "\n",
        "```python\n",
        "self.lstm = nn.LSTM(input_size=100, hidden_size=128, batch_first=True)\n",
        "```\n",
        "\n",
        "- **`input_size`** → ukuran vektor input tiap timestep\n",
        "- **`hidden_size`** → dimensi dari `h_t` dan `C_t`\n",
        "- PyTorch secara otomatis menyimpan dan update `C_t` dan `h_t` di dalam training loop\n",
        "\n",
        "---\n",
        "\n",
        "## 🔚 Output LSTM\n",
        "\n",
        "```python\n",
        "output, (h_n, c_n) = self.lstm(x)\n",
        "```\n",
        "\n",
        "- `output` → semua hidden state `h_t` untuk setiap timestep\n",
        "- `h_n` → hidden state terakhir (biasanya ini yang dipakai untuk klasifikasi)\n",
        "- `c_n` → cell state terakhir\n",
        "\n",
        "---"
      ],
      "metadata": {
        "id": "qIkhS1Ts8Uds"
      }
    },
    {
      "cell_type": "markdown",
      "source": [
        "### Model GRU dengan PyTorch"
      ],
      "metadata": {
        "id": "Q3OZh7oS8jJv"
      }
    },
    {
      "cell_type": "code",
      "source": [
        "import torch.nn as nn\n",
        "\n",
        "class GRUModel(nn.Module):\n",
        "    def __init__(self, vocab_size, embed_dim, hidden_dim):\n",
        "        super(GRUModel, self).__init__()\n",
        "        self.embedding = nn.Embedding(vocab_size, embed_dim)\n",
        "        self.gru = nn.GRU(embed_dim, hidden_dim, batch_first=True)\n",
        "        self.fc = nn.Linear(hidden_dim, 1)\n",
        "        self.sigmoid = nn.Sigmoid()\n",
        "\n",
        "    def forward(self, x):\n",
        "        embedded = self.embedding(x)\n",
        "        output, hidden = self.gru(embedded)\n",
        "        out = self.fc(hidden[-1])\n",
        "        return self.sigmoid(out)\n"
      ],
      "metadata": {
        "id": "7Pri1s2z8nKL"
      },
      "execution_count": null,
      "outputs": []
    },
    {
      "cell_type": "code",
      "source": [
        "import torch\n",
        "\n",
        "# Konversi data latih dan label ke tensor\n",
        "X_latih_tensor = torch.tensor(X_latih_seq, dtype=torch.long).to(device)\n",
        "y_latih_tensor = torch.tensor(y_latih, dtype=torch.float32).to(device)\n"
      ],
      "metadata": {
        "id": "_xf1oloq9Xal"
      },
      "execution_count": null,
      "outputs": []
    },
    {
      "cell_type": "code",
      "source": [
        "vocab_size = int(torch.max(X_latih_tensor)) + 1\n",
        "embed_dim = 128\n",
        "hidden_dim = 128\n",
        "\n",
        "model_gru = GRUModel(vocab_size, embed_dim, hidden_dim).to(device)\n",
        "loss_fn = nn.BCELoss()\n",
        "optimizer = torch.optim.Adam(model_gru.parameters(), lr=0.001)\n"
      ],
      "metadata": {
        "id": "svFuIQVk83cp"
      },
      "execution_count": null,
      "outputs": []
    },
    {
      "cell_type": "code",
      "source": [
        "def train_model(model, train_loader, val_loader, loss_fn, optimizer, epochs=30):\n",
        "    train_losses, val_losses = [], []\n",
        "    train_accs, val_accs = [], []\n",
        "\n",
        "    for epoch in range(epochs):\n",
        "        model.train()\n",
        "        total_loss, correct, total = 0, 0, 0\n",
        "\n",
        "        for X_batch, y_batch in train_loader:\n",
        "            optimizer.zero_grad()\n",
        "            output = model(X_batch).squeeze()\n",
        "            loss = loss_fn(output, y_batch)\n",
        "            loss.backward()\n",
        "            optimizer.step()\n",
        "\n",
        "            total_loss += loss.item()\n",
        "            preds = (output >= 0.5).float()\n",
        "            correct += (preds == y_batch).sum().item()\n",
        "            total += y_batch.size(0)\n",
        "\n",
        "        train_losses.append(total_loss / len(train_loader))\n",
        "        train_accs.append(correct / total)\n",
        "\n",
        "        # Validasi\n",
        "        model.eval()\n",
        "        val_loss, val_correct, val_total = 0, 0, 0\n",
        "        with torch.no_grad():\n",
        "            for X_val, y_val in val_loader:\n",
        "                val_output = model(X_val).squeeze()\n",
        "                loss = loss_fn(val_output, y_val)\n",
        "                val_loss += loss.item()\n",
        "\n",
        "                val_preds = (val_output >= 0.5).float()\n",
        "                val_correct += (val_preds == y_val).sum().item()\n",
        "                val_total += y_val.size(0)\n",
        "\n",
        "        val_losses.append(val_loss / len(val_loader))\n",
        "        val_accs.append(val_correct / val_total)\n",
        "\n",
        "        print(f\"📚 Epoch {epoch+1}/{epochs}, Loss: {train_losses[-1]:.4f}, Val Loss: {val_losses[-1]:.4f}, Val Acc: {val_accs[-1]:.4f}\")\n",
        "\n",
        "    return train_losses, val_losses, train_accs, val_accs\n",
        "\n",
        "# Training model\n",
        "train_losses, val_losses, train_accs, val_accs = train_model(model_gru, train_loader, val_loader, loss_fn, optimizer, epochs=30)\n"
      ],
      "metadata": {
        "id": "FjzI1KS89bxv"
      },
      "execution_count": null,
      "outputs": []
    },
    {
      "cell_type": "code",
      "source": [
        "from sklearn.metrics import accuracy_score, precision_score, recall_score, f1_score, roc_auc_score, roc_curve\n",
        "import matplotlib.pyplot as plt\n",
        "\n",
        "model_gru.eval()\n",
        "with torch.no_grad():\n",
        "    output = model_gru(X_uji_tensor).squeeze()\n",
        "    pred_probs = torch.sigmoid(output).cpu().numpy()\n",
        "    y_pred = (pred_probs >= 0.5).astype(int)\n",
        "\n",
        "# Konversi label ke numpy\n",
        "y_true = y_uji_tensor.cpu().numpy()\n",
        "\n",
        "# Evaluasi\n",
        "acc = accuracy_score(y_true, y_pred)\n",
        "prec = precision_score(y_true, y_pred)\n",
        "rec = recall_score(y_true, y_pred)\n",
        "f1 = f1_score(y_true, y_pred)\n",
        "auc = roc_auc_score(y_true, pred_probs)\n",
        "\n",
        "print(f\"📊 Akurasi: {acc:.4f}\")\n",
        "print(f\"📊 Presisi: {prec:.4f}\")\n",
        "print(f\"📊 Recall: {rec:.4f}\")\n",
        "print(f\"📊 F1 Score: {f1:.4f}\")\n",
        "print(f\"📊 AUC: {auc:.4f}\")\n",
        "\n",
        "# ROC Curve\n",
        "fpr, tpr, _ = roc_curve(y_true, pred_probs)\n",
        "plt.figure()\n",
        "plt.plot(fpr, tpr, label=f'GRU (AUC = {auc:.2f})')\n",
        "plt.plot([0, 1], [0, 1], 'k--')\n",
        "plt.xlabel('False Positive Rate')\n",
        "plt.ylabel('True Positive Rate')\n",
        "plt.title('ROC Curve - GRU')\n",
        "plt.legend()\n",
        "plt.grid()\n",
        "plt.show()\n"
      ],
      "metadata": {
        "id": "R7ZZv1VsFBSC"
      },
      "execution_count": null,
      "outputs": []
    },
    {
      "cell_type": "code",
      "source": [
        "plt.figure(figsize=(12, 6))\n",
        "\n",
        "# Akurasi\n",
        "plt.subplot(1, 2, 1)\n",
        "plt.plot(train_accs, label='Training Accuracy')\n",
        "plt.plot(val_accs, label='Validation Accuracy')\n",
        "plt.title('Akurasi Training & Validation')\n",
        "plt.xlabel('Epoch')\n",
        "plt.ylabel('Accuracy')\n",
        "plt.legend()\n",
        "plt.grid(True)\n",
        "\n",
        "# Loss\n",
        "plt.subplot(1, 2, 2)\n",
        "plt.plot(train_losses, label='Training Loss')\n",
        "plt.plot(val_losses, label='Validation Loss')\n",
        "plt.title('Loss Training & Validation')\n",
        "plt.xlabel('Epoch')\n",
        "plt.ylabel('Loss')\n",
        "plt.legend()\n",
        "plt.grid(True)\n",
        "\n",
        "plt.tight_layout()\n",
        "plt.show()\n"
      ],
      "metadata": {
        "id": "0x-X81rSFEL6"
      },
      "execution_count": null,
      "outputs": []
    },
    {
      "cell_type": "markdown",
      "source": [
        "---\n",
        "\n",
        "## 🔍 Arsitektur GRU\n",
        "\n",
        "GRU adalah varian dari RNN yang menggabungkan dua **gate**:  \n",
        "1. **Update Gate** `zₜ`  \n",
        "2. **Reset Gate** `rₜ`\n",
        "\n",
        "Tujuannya untuk mengatasi **vanishing gradient** dan membuat model **ingat informasi penting lebih lama**.\n",
        "\n",
        "---\n",
        "\n",
        "## 💡 Persamaan GRU\n",
        "\n",
        "Misalkan:\n",
        "- $ x_t $: input pada waktu ke-𝑡\n",
        "- $ h_{t-1} $: hidden state sebelumnya\n",
        "- $ h_t $: hidden state saat ini\n",
        "- $ \\sigma $: sigmoid activation\n",
        "- $ \\tanh $: hyperbolic tangent activation\n",
        "\n",
        "---\n",
        "\n",
        "### 1. **Update Gate** $ z_t $\n",
        "\n",
        "$$\n",
        "z_t = \\sigma(W_z x_t + U_z h_{t-1} + b_z)\n",
        "$$\n",
        "\n",
        "🔎 *Fungsi:* Mengontrol seberapa banyak informasi dari waktu sebelumnya ($ h_{t-1} $) yang akan dibawa ke waktu sekarang ($ h_t $).\n",
        "\n",
        "---\n",
        "\n",
        "### 2. **Reset Gate** $ r_t $\n",
        "\n",
        "$$\n",
        "r_t = \\sigma(W_r x_t + U_r h_{t-1} + b_r)\n",
        "$$\n",
        "\n",
        "🔎 *Fungsi:* Mengontrol seberapa banyak dari masa lalu yang akan dilupakan. Jika gate ini kecil → informasi lama di-*reset*.\n",
        "\n",
        "---\n",
        "\n",
        "### 3. **Candidate Activation** $ \\tilde{h}_t $\n",
        "\n",
        "$$\n",
        "\\tilde{h}_t = \\tanh(W_h x_t + U_h (r_t \\odot h_{t-1}) + b_h)\n",
        "$$\n",
        "\n",
        "🔎 *Fungsi:* Calon nilai hidden state baru. Dikalikan dulu dengan reset gate, agar hanya sebagian dari $ h_{t-1} $ yang dilanjutkan.\n",
        "\n",
        "---\n",
        "\n",
        "### 4. **Final Hidden State** $ h_t $\n",
        "\n",
        "$$\n",
        "h_t = (1 - z_t) \\odot h_{t-1} + z_t \\odot \\tilde{h}_t\n",
        "$$\n",
        "\n",
        "🔎 *Fungsi:* Kombinasi antara hidden state lama dan yang baru. Update gate $ z_t $ yang mengontrol pencampuran ini.\n",
        "\n",
        "---\n",
        "\n",
        "## 🧠 Intuisi Sederhana\n",
        "\n",
        "- **Update gate**: “Apa yang harus saya simpan dari masa lalu?”\n",
        "- **Reset gate**: “Apa yang harus saya lupakan dari masa lalu?”\n",
        "- **Hidden state**: “Informasi baru yang disesuaikan dengan yang penting dari masa lalu.”\n",
        "\n",
        "---\n",
        "\n",
        "## 💻 Implementasi di PyTorch\n",
        "\n",
        "Saat pakai `nn.GRU(...)`, semua persamaan di atas sudah dibungkus dan dioptimalkan di dalam PyTorch. Secara internal, ia melakukan hal seperti:\n",
        "\n",
        "```python\n",
        "self.gru = nn.GRU(input_size, hidden_size, batch_first=True)\n",
        "```\n",
        "\n",
        "Itu otomatis menangani:\n",
        "- perhitungan `z_t`, `r_t`, dan `h_t`\n",
        "- unrolling waktu\n",
        "- tracking gradien untuk backpropagation\n",
        "\n",
        "---"
      ],
      "metadata": {
        "id": "TuYZ5AIMFbwR"
      }
    }
  ]
}
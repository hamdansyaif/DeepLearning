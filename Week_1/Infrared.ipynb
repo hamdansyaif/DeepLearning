{
  "nbformat": 4,
  "nbformat_minor": 0,
  "metadata": {
    "colab": {
      "provenance": [],
      "toc_visible": true
    },
    "kernelspec": {
      "name": "python3",
      "display_name": "Python 3"
    },
    "language_info": {
      "name": "python"
    }
  },
  "cells": [
    {
      "cell_type": "markdown",
      "source": [
        "TUGAS 1\n",
        "1. Buat model Deep learning (PyTorch and Tensorflow). Target variable aveOralM.\n",
        "2. Gunakan Matriks Evaluasi (RMSE,MSE,RSquared)\n",
        "3. Beri penjelasan untuk setiap persamaan matematika yang ada."
      ],
      "metadata": {
        "id": "BwTH_tj_ByXV"
      }
    },
    {
      "cell_type": "code",
      "source": [
        "import pandas as pd\n",
        "\n",
        "# Load dataset\n",
        "file_path = \"Infrared.csv\"\n",
        "df = pd.read_csv(file_path)\n",
        "\n",
        "# Tampilkan 10 baris pertama dalam bentuk tabel\n",
        "print(df.head(20).to_string(index=False))\n"
      ],
      "metadata": {
        "colab": {
          "base_uri": "https://localhost:8080/"
        },
        "id": "A4vX-4njB0Yi",
        "outputId": "fb4f9b0e-0f6f-4589-d4da-677d4a830914"
      },
      "execution_count": null,
      "outputs": [
        {
          "output_type": "stream",
          "name": "stdout",
          "text": [
            "Gender   Age                 Ethnicity  T_atm  Humidity  Distance  T_offset1  Max1R13_1  Max1L13_1  aveAllR13_1  aveAllL13_1   T_RC1  T_RC_Dry1  T_RC_Wet1  T_RC_Max1     T_LC1  T_LC_Dry1  T_LC_Wet1  T_LC_Max1      RCC1      LCC1  canthiMax1  canthi4Max1   T_FHCC1   T_FHRC1  T_FHLC1   T_FHBC1   T_FHTC1  T_FH_Max1  T_FHC_Max1    T_Max1     T_OR1  T_OR_Max1  aveOralM\n",
            "  Male 41-50                     White   24.0      28.0       0.8   0.702500    35.0300  35.377500      34.4000    34.917500 34.9850    34.9850  34.762500  35.032500 35.337500  35.337500  34.485000    35.3775 34.785000 34.465000   35.377500      35.3375 33.577500 33.477500  33.3725 33.492500 33.002500    34.5300   34.007500 35.692500 35.635000  35.652500     36.59\n",
            "Female 31-40 Black or African-American   24.0      26.0       0.8   0.780000    34.5500  34.520000      33.9300    34.225000 34.7100    34.6325  34.640000  34.742500 34.560000  34.537500  34.350000    34.5750 34.322500 34.240000   34.740000      34.7150 34.032500 34.055000  33.6775 33.970000 34.002500    34.6825   34.660000 35.175000 35.092500  35.107500     37.19\n",
            "Female 21-30                     White   24.0      26.0       0.8   0.862500    35.6525  35.517500      34.2775    34.800000 35.6850    35.6675  35.615000  35.717500 35.502500  35.502500  35.295000    35.5300 35.357500 35.092500   35.717500      35.6825 34.900000 34.827500  34.6475 34.820000 34.670000    35.3450   35.222500 35.912500 35.860000  35.885000     37.34\n",
            "Female 21-30 Black or African-American   24.0      27.0       0.8   0.930000    35.2225  35.612500      34.3850    35.247500 35.2075    35.2000  35.117500  35.225000 35.595000  35.595000  35.327500    35.6125 34.910000 35.170000   35.612500      35.5950 34.440000 34.422500  34.6550 34.302500 34.917500    35.6025   35.315000 35.720000 34.965000  34.982500     37.09\n",
            "  Male 18-20                     White   24.0      27.0       0.8   0.895000    35.5450  35.665000      34.9100    35.367500 35.6025    35.4750  35.570000  35.640000 35.640000  35.640000  35.077500    35.6675 35.355000 35.120000   35.665000      35.6475 35.090000 35.160000  34.3975 34.670000 33.827500    35.4175   35.372500 35.895000 35.587500  35.617500     37.04\n",
            "Female 21-30                     White   24.0      26.0       0.8   0.827500    35.1325  35.202500      34.5275    34.582500 35.1300    35.1225  35.050000  35.147500 35.215000  35.187500  35.062500    35.2375 34.952500 34.777500   35.250000      35.2275 34.192500 34.282500  34.4800 34.285000 34.242500    34.8600   34.692500 35.850000 35.817500  35.850000     36.99\n",
            "  Male 21-30                     White   24.0      31.0       0.8   0.442500    35.2825  35.615000      34.7500    34.717500 35.2825    35.2500  35.210000  35.305000 35.582500  35.582500  35.017500    35.6150 35.140000 35.057500   35.615000      35.5800 33.477500 33.602500  34.0150 33.677500 34.277500    35.2000   34.630000 35.837500 35.665000  35.707500     36.59\n",
            "Female 18-20                     White   25.0      30.0       0.8   0.587500    35.1050  34.870000      34.2725    34.027500 35.1000    35.0750  34.940000  35.162500 34.852500  34.852500  34.320000    34.8800 34.707500 33.895000   35.162500      35.1050 33.727500 33.402500  33.3925 33.460000 33.555000    34.1325   33.997500 35.680000 35.442500  35.490000     36.49\n",
            "Female 18-20                     Asian   25.0      30.0       0.8   0.977500    35.3075  35.422500      34.5575    34.962500 35.3400    35.2750  35.340000  35.365000 35.405000  35.405000  35.265000    35.4225 35.162500 35.232500   35.422500      35.4025 35.147500 35.025000  35.1725 35.190000 35.290000    35.6550   35.475000 35.852500 35.357500  35.382500     36.59\n",
            "  Male 21-30               Multiracial   26.0      31.0       0.8   1.067500    35.8900  35.765000      35.4225    35.280000 35.8350    35.8350  35.605000  35.890000 35.732500  35.732500  35.520000    35.7650 35.590000 35.520000   35.890000      35.8350 35.255000 35.352500  35.3750 35.215000 35.010000    35.6350   35.487500 36.205000 35.975000  36.020000     36.89\n",
            "  Male 18-20                     Asian   22.8      15.5       0.8   0.375000    35.2750  35.200000      34.6425    34.667500 35.2575    35.2575  34.727500  35.280000 35.167500  35.167500  34.417500    35.2000 34.422500 34.377500   35.285000      35.2600 34.032500 33.977500  34.0875 33.730000 33.542500    34.8675   34.350000 35.805000 35.767500  35.805000     36.54\n",
            "Female 26-30               Multiracial   23.0      14.0       0.8   0.495000    35.3850  35.045000      33.9325    34.205000 35.3925    35.3675  35.257500  35.407500 35.035000  35.035000  34.885000    35.0750 34.772500 34.382500   35.407500      35.3925 33.290000 34.060000  33.5450 33.340000 33.787500    35.4725   34.382500 35.980000 35.827500  35.857500     36.74\n",
            "  Male 18-20                     White   23.0      14.0       0.8   0.412500    35.5725  35.600000      34.5150    34.677500 35.6325    35.4925  35.575000  35.652500 35.595000  35.587500  35.270000    35.6925 35.295000 35.125000   35.735000      35.7025 34.482500 34.365000  33.8625 34.055000 34.642500    35.0925   34.845000 35.875000 35.405000  35.425000     36.54\n",
            "Female 18-20                     White   23.0      14.0       0.8   0.432500    35.3775  35.682500      34.5275    34.570000 35.3500    35.3500  35.172500  35.380000 35.675000  35.667500  35.580000    35.6900 34.867500 35.042500   35.690000      35.6725 34.335000 34.555000  34.5325 34.270000 34.350000    35.5400   35.140000 36.160000 36.022500  36.055000     37.19\n",
            "  Male 21-25 Black or African-American   23.5      53.0       0.8   0.225000    36.2175  36.597500      35.8900    36.177500 36.2150    36.2050  36.130000  36.240000 36.580000  36.580000  36.395000    36.5975 35.982500 36.280000   36.597500      36.5800 34.665000 34.910000  35.0875 34.882500 34.750000    36.0600   35.270000 37.110000 36.847500  36.877500     37.79\n",
            "  Male 31-40                     White   23.7      61.2       0.8   0.750000    35.5825  35.680000      35.0550    35.325000 35.5550    35.5550  35.312500  35.585000 35.660000  35.660000  35.305000    35.6850 35.225000 35.300000   35.680000      35.6575 34.082500 34.132500  34.1425 34.230000 34.130000    34.8450   34.652500 35.845000 35.687500  35.717500     36.49\n",
            "Female 26-30               Multiracial   24.0      61.0       0.8   0.867500    35.3850  35.270000      34.3925    34.665000 35.5925    35.3625  35.525000  35.635000 35.267500  35.232500  35.060000    35.3025 35.037500 34.905000   35.630000      35.5975 33.732500 33.860000  33.8175 33.772500 34.107500    35.3725   34.630000 35.995000 35.700000  35.725000     37.09\n",
            "  Male 21-25                     White   22.5      23.1       0.8   0.483333    35.4400  35.643333      34.6400    35.253333 35.4500    35.4200  35.396667  35.473333 35.663333  35.663333  34.946667    35.7000 35.183333 34.846667   35.696667      35.6600 33.996667 34.196667  33.0500 34.316667 31.743333    34.9500   34.776667 36.333333 36.303333  36.333333     37.19\n",
            "Female 18-20                     Asian   23.2      22.6       0.8   0.895000    34.7175  34.967500      34.3975    34.385000 35.1375    34.7100  35.137500  35.175000 34.895000  34.895000  34.322500    34.9675 34.490000 34.192500   35.480000      35.4500 34.092500 34.265000  33.9250 33.930000 33.760000    35.0725   34.510000 35.882500 35.415000  35.470000     36.89\n",
            "  Male 21-25                     White   22.6      22.6       0.8   0.567500    35.4925  35.552500      34.3425    34.455000 35.4475    35.4475  35.152500  35.492500 35.507500  35.507500  34.895000    35.5550 35.062500 34.465000   35.555000      35.5150 34.267500 34.097500  34.0500 34.092500 34.322500    35.0625   34.667500 35.785000 35.652500  35.675000     36.54\n"
          ]
        }
      ]
    },
    {
      "cell_type": "markdown",
      "source": [
        "Pada data tersebut belum siap diolah karena kolom Gender, Age, dan Ethnicity adalah kategorikal. Maka harus diubah menjadi format numerik menggunakan metode label encoding.\n",
        "Namun ada masalah pada kolom Age yaitu kategori '21-25' dan '26-30' saling bertumpang tindih dengan kategori '21-30'."
      ],
      "metadata": {
        "id": "zun5jz2uCZg6"
      }
    },
    {
      "cell_type": "code",
      "source": [
        "# Load data\n",
        "df = pd.read_csv('Infrared.csv')\n",
        "\n",
        "# Pastikan kolom Age dalam bentuk string agar bisa difilter\n",
        "if 'Age' in df.columns:\n",
        "    df['Age'] = df['Age'].astype(str)\n",
        "\n",
        "    # Hitung jumlah data dalam setiap kategori\n",
        "    count_21_30 = df[df['Age'] == '21-30'].shape[0]\n",
        "    count_21_25 = df[df['Age'] == '21-25'].shape[0]\n",
        "    count_26_30 = df[df['Age'] == '26-30'].shape[0]\n",
        "\n",
        "    # Tampilkan hasil\n",
        "    print(f\"Jumlah data Age '21-30': {count_21_30}\")\n",
        "    print(f\"Jumlah data Age '21-25': {count_21_25}\")\n",
        "    print(f\"Jumlah data Age '26-30': {count_26_30}\")\n",
        "else:\n",
        "    print(\"Kolom 'Age' tidak ditemukan dalam dataset.\")"
      ],
      "metadata": {
        "colab": {
          "base_uri": "https://localhost:8080/"
        },
        "id": "uiKxtQw9CbXA",
        "outputId": "e3579c64-25c9-4792-ed67-9d7f7b65456d"
      },
      "execution_count": null,
      "outputs": [
        {
          "output_type": "stream",
          "name": "stdout",
          "text": [
            "Jumlah data Age '21-30': 11\n",
            "Jumlah data Age '21-25': 355\n",
            "Jumlah data Age '26-30': 67\n"
          ]
        }
      ]
    },
    {
      "cell_type": "markdown",
      "source": [
        "Karena hanya ada 11 data pada Age \"21-30\", solusinya saya hapus data tersebut karena tidak terlalu berpengaruh besar. Jika tidak dihapus akan menjadi masalah pada kategori \"21-25\" dan \"26-30\"."
      ],
      "metadata": {
        "id": "SrR__HVyCgyi"
      }
    },
    {
      "cell_type": "code",
      "source": [
        "# Load dataset\n",
        "file_path = \"Infrared.csv\"\n",
        "df = pd.read_csv(file_path)\n",
        "\n",
        "# Filter out rows where Age is '21-30'\n",
        "df_filtered = df[df['Age'] != '21-30']\n",
        "\n",
        "# Save the cleaned dataset\n",
        "output_path = \"Infrared_filtered.csv\"\n",
        "df_filtered.to_csv(output_path, index=False)\n",
        "\n",
        "print(f\"Data terfilter disimpan ke {output_path}\")\n"
      ],
      "metadata": {
        "colab": {
          "base_uri": "https://localhost:8080/"
        },
        "id": "mlueAieqCh5v",
        "outputId": "ddeba2a4-41c8-4f86-959e-46f987ee45da"
      },
      "execution_count": null,
      "outputs": [
        {
          "output_type": "stream",
          "name": "stdout",
          "text": [
            "Data terfilter disimpan ke Infrared_filtered.csv\n"
          ]
        }
      ]
    },
    {
      "cell_type": "markdown",
      "source": [
        "Ubah kolom Gender, Age, dan Ethnicity menjadi format numerik menggunakan metode label encoding."
      ],
      "metadata": {
        "id": "E2M0swc8Cmk9"
      }
    },
    {
      "cell_type": "code",
      "source": [
        "# Load dataset\n",
        "df = pd.read_csv(\"Infrared_filtered.csv\")\n",
        "\n",
        "# Encode Gender (Male = 1, Female = 0)\n",
        "df[\"Gender\"] = df[\"Gender\"].map({\"Male\": 1, \"Female\": 0})\n",
        "\n",
        "# Perbaikan Mapping kategori Age ke angka (Ordinal Encoding)\n",
        "age_mapping = {\n",
        "    \"18-20\": 0,\n",
        "    \"21-25\": 1,\n",
        "    \"26-30\": 2,\n",
        "    \"31-40\": 3,\n",
        "    \"41-50\": 4,\n",
        "    \"51-60\": 5,\n",
        "    \">60\": 6\n",
        "}\n",
        "\n",
        "# Pastikan hanya kategori yang valid yang dikonversi\n",
        "df[\"Age\"] = df[\"Age\"].map(age_mapping)\n",
        "\n",
        "# Mapping kategori Ethnicity ke angka (Label Encoding manual)\n",
        "ethnicity_mapping = {\n",
        "    \"White\": 0,\n",
        "    \"Black or African-American\": 1,\n",
        "    \"Asian\": 2,\n",
        "    \"Multiracial\": 3,\n",
        "    \"Hispanic/Latino\": 4,\n",
        "    \"American Indian or Alaskan Native\": 5\n",
        "}\n",
        "df[\"Ethnicity\"] = df[\"Ethnicity\"].map(ethnicity_mapping)\n",
        "\n",
        "# Simpan kembali ke file CSV setelah perubahan\n",
        "df.to_csv(\"Infrared_enco.csv\", index=False)\n",
        "\n",
        "print(\"Kolom Gender, Age, dan Ethnicity berhasil diubah menjadi numerik menggunakan Label Encoding dan disimpan di 'Infrared_enco.csv'.\")\n",
        "print(df.head(20).to_string(index=False))\n"
      ],
      "metadata": {
        "colab": {
          "base_uri": "https://localhost:8080/"
        },
        "id": "TJC-Mg9SCnSJ",
        "outputId": "5934a38d-5f8c-4143-9d7b-1ffab8dbc693"
      },
      "execution_count": null,
      "outputs": [
        {
          "output_type": "stream",
          "name": "stdout",
          "text": [
            "Kolom Gender, Age, dan Ethnicity berhasil diubah menjadi numerik menggunakan Label Encoding dan disimpan di 'Infrared_enco.csv'.\n",
            " Gender  Age  Ethnicity  T_atm  Humidity  Distance  T_offset1  Max1R13_1  Max1L13_1  aveAllR13_1  aveAllL13_1     T_RC1  T_RC_Dry1  T_RC_Wet1  T_RC_Max1     T_LC1  T_LC_Dry1  T_LC_Wet1  T_LC_Max1      RCC1      LCC1  canthiMax1  canthi4Max1   T_FHCC1   T_FHRC1   T_FHLC1   T_FHBC1   T_FHTC1  T_FH_Max1  T_FHC_Max1    T_Max1     T_OR1  T_OR_Max1  aveOralM\n",
            "      1    4          0   24.0      28.0       0.8   0.702500  35.030000  35.377500    34.400000    34.917500 34.985000  34.985000  34.762500  35.032500 35.337500  35.337500  34.485000  35.377500 34.785000 34.465000   35.377500    35.337500 33.577500 33.477500 33.372500 33.492500 33.002500    34.5300   34.007500 35.692500 35.635000  35.652500     36.59\n",
            "      0    3          1   24.0      26.0       0.8   0.780000  34.550000  34.520000    33.930000    34.225000 34.710000  34.632500  34.640000  34.742500 34.560000  34.537500  34.350000  34.575000 34.322500 34.240000   34.740000    34.715000 34.032500 34.055000 33.677500 33.970000 34.002500    34.6825   34.660000 35.175000 35.092500  35.107500     37.19\n",
            "      1    0          0   24.0      27.0       0.8   0.895000  35.545000  35.665000    34.910000    35.367500 35.602500  35.475000  35.570000  35.640000 35.640000  35.640000  35.077500  35.667500 35.355000 35.120000   35.665000    35.647500 35.090000 35.160000 34.397500 34.670000 33.827500    35.4175   35.372500 35.895000 35.587500  35.617500     37.04\n",
            "      0    0          0   25.0      30.0       0.8   0.587500  35.105000  34.870000    34.272500    34.027500 35.100000  35.075000  34.940000  35.162500 34.852500  34.852500  34.320000  34.880000 34.707500 33.895000   35.162500    35.105000 33.727500 33.402500 33.392500 33.460000 33.555000    34.1325   33.997500 35.680000 35.442500  35.490000     36.49\n",
            "      0    0          2   25.0      30.0       0.8   0.977500  35.307500  35.422500    34.557500    34.962500 35.340000  35.275000  35.340000  35.365000 35.405000  35.405000  35.265000  35.422500 35.162500 35.232500   35.422500    35.402500 35.147500 35.025000 35.172500 35.190000 35.290000    35.6550   35.475000 35.852500 35.357500  35.382500     36.59\n",
            "      1    0          2   22.8      15.5       0.8   0.375000  35.275000  35.200000    34.642500    34.667500 35.257500  35.257500  34.727500  35.280000 35.167500  35.167500  34.417500  35.200000 34.422500 34.377500   35.285000    35.260000 34.032500 33.977500 34.087500 33.730000 33.542500    34.8675   34.350000 35.805000 35.767500  35.805000     36.54\n",
            "      0    2          3   23.0      14.0       0.8   0.495000  35.385000  35.045000    33.932500    34.205000 35.392500  35.367500  35.257500  35.407500 35.035000  35.035000  34.885000  35.075000 34.772500 34.382500   35.407500    35.392500 33.290000 34.060000 33.545000 33.340000 33.787500    35.4725   34.382500 35.980000 35.827500  35.857500     36.74\n",
            "      1    0          0   23.0      14.0       0.8   0.412500  35.572500  35.600000    34.515000    34.677500 35.632500  35.492500  35.575000  35.652500 35.595000  35.587500  35.270000  35.692500 35.295000 35.125000   35.735000    35.702500 34.482500 34.365000 33.862500 34.055000 34.642500    35.0925   34.845000 35.875000 35.405000  35.425000     36.54\n",
            "      0    0          0   23.0      14.0       0.8   0.432500  35.377500  35.682500    34.527500    34.570000 35.350000  35.350000  35.172500  35.380000 35.675000  35.667500  35.580000  35.690000 34.867500 35.042500   35.690000    35.672500 34.335000 34.555000 34.532500 34.270000 34.350000    35.5400   35.140000 36.160000 36.022500  36.055000     37.19\n",
            "      1    1          1   23.5      53.0       0.8   0.225000  36.217500  36.597500    35.890000    36.177500 36.215000  36.205000  36.130000  36.240000 36.580000  36.580000  36.395000  36.597500 35.982500 36.280000   36.597500    36.580000 34.665000 34.910000 35.087500 34.882500 34.750000    36.0600   35.270000 37.110000 36.847500  36.877500     37.79\n",
            "      1    3          0   23.7      61.2       0.8   0.750000  35.582500  35.680000    35.055000    35.325000 35.555000  35.555000  35.312500  35.585000 35.660000  35.660000  35.305000  35.685000 35.225000 35.300000   35.680000    35.657500 34.082500 34.132500 34.142500 34.230000 34.130000    34.8450   34.652500 35.845000 35.687500  35.717500     36.49\n",
            "      0    2          3   24.0      61.0       0.8   0.867500  35.385000  35.270000    34.392500    34.665000 35.592500  35.362500  35.525000  35.635000 35.267500  35.232500  35.060000  35.302500 35.037500 34.905000   35.630000    35.597500 33.732500 33.860000 33.817500 33.772500 34.107500    35.3725   34.630000 35.995000 35.700000  35.725000     37.09\n",
            "      1    1          0   22.5      23.1       0.8   0.483333  35.440000  35.643333    34.640000    35.253333 35.450000  35.420000  35.396667  35.473333 35.663333  35.663333  34.946667  35.700000 35.183333 34.846667   35.696667    35.660000 33.996667 34.196667 33.050000 34.316667 31.743333    34.9500   34.776667 36.333333 36.303333  36.333333     37.19\n",
            "      0    0          2   23.2      22.6       0.8   0.895000  34.717500  34.967500    34.397500    34.385000 35.137500  34.710000  35.137500  35.175000 34.895000  34.895000  34.322500  34.967500 34.490000 34.192500   35.480000    35.450000 34.092500 34.265000 33.925000 33.930000 33.760000    35.0725   34.510000 35.882500 35.415000  35.470000     36.89\n",
            "      1    1          0   22.6      22.6       0.8   0.567500  35.492500  35.552500    34.342500    34.455000 35.447500  35.447500  35.152500  35.492500 35.507500  35.507500  34.895000  35.555000 35.062500 34.465000   35.555000    35.515000 34.267500 34.097500 34.050000 34.092500 34.322500    35.0625   34.667500 35.785000 35.652500  35.675000     36.54\n",
            "      0    0          2   22.9      22.7       0.8   0.913333  35.006667  35.183333    33.963333    34.663333 35.103333  35.003333  35.093333  35.146667 35.150000  35.150000  34.420000  35.183333 34.846667 34.330000   35.313333    35.286667 34.693333 35.010000 34.663333 34.390000 34.993333    35.5700   35.433333 35.570000 34.543333  34.576667     37.04\n",
            "      1    0          0   23.0      22.4       0.8   0.945000  35.700000  35.852500    35.172500    35.245000 35.692500  35.675000  35.382500  35.717500 35.820000  35.820000  35.535000  35.860000 35.200000 35.272500   35.857500    35.822500 35.150000 35.062500 35.240000 35.202500 34.770000    35.5950   35.505000 36.062500 35.767500  35.792500     37.04\n",
            "      0    0          2   23.1      22.8       0.8   0.940000  34.535000  34.905000    33.960000    34.250000 34.670000  34.670000  34.355000  34.710000 34.860000  34.835000  34.810000  34.910000 34.105000 34.485000   34.910000    34.895000 34.375000 34.115000 33.995000 34.170000 34.365000    35.2450   34.785000 35.695000 35.090000  35.110000     36.14\n",
            "      0    0          2   23.1      22.7       0.8   0.887500  34.977500  35.200000    34.540000    34.787500 35.227500  34.927500  35.227500  35.260000 35.270000  35.187500  35.150000  35.305000 34.857500 34.997500   35.342500    35.300000 34.390000 34.185000 34.475000 34.042500 34.795000    35.1750   35.045000 35.775000 35.667500  35.715000     36.99\n",
            "      0    0          0   22.9      22.8       0.8   0.837500  35.990000  36.112500    35.505000    35.570000 36.030000  36.027500  35.827500  36.065000 36.170000  36.062500  36.032500  36.210000 35.752500 35.832500   36.210000    36.170000 34.657500 34.910000 35.002500 34.797500 35.042500    35.4900   35.262500 36.240000 35.972500  36.027500     37.09\n"
          ]
        }
      ]
    },
    {
      "cell_type": "markdown",
      "source": [
        "Cek apakah ada data kosong?"
      ],
      "metadata": {
        "id": "ns39wwWdCsE3"
      }
    },
    {
      "cell_type": "code",
      "source": [
        "# Load dataset\n",
        "df = pd.read_csv(\"Infrared_enco.csv\")\n",
        "\n",
        "# Menampilkan baris yang memiliki nilai kosong\n",
        "missing_rows = df[df.isnull().any(axis=1)]\n",
        "\n",
        "print(\"Baris dengan data kosong:\")\n",
        "print(missing_rows)"
      ],
      "metadata": {
        "colab": {
          "base_uri": "https://localhost:8080/"
        },
        "id": "X-38FDnkCsfI",
        "outputId": "3728b804-b345-4484-e0ed-d67344220b3e"
      },
      "execution_count": null,
      "outputs": [
        {
          "output_type": "stream",
          "name": "stdout",
          "text": [
            "Baris dengan data kosong:\n",
            "     Gender  Age  Ethnicity  T_atm  Humidity  Distance  T_offset1  Max1R13_1  \\\n",
            "892       0    0          0   23.9      15.3       NaN     0.8100     35.735   \n",
            "893       1    0          0   23.9      15.3       NaN     0.7775     35.620   \n",
            "\n",
            "     Max1L13_1  aveAllR13_1  ...  T_FHRC1  T_FHLC1  T_FHBC1  T_FHTC1  \\\n",
            "892    35.4150      35.0525  ...    34.73   34.675  34.7075    34.77   \n",
            "893    35.6275      34.3650  ...    33.59   33.840  33.1125    33.35   \n",
            "\n",
            "     T_FH_Max1  T_FHC_Max1   T_Max1    T_OR1  T_OR_Max1  aveOralM  \n",
            "892    35.3900     35.1925  36.0075  35.8675     35.895     36.79  \n",
            "893    34.8675     34.4825  36.3350  36.0425     36.080     37.49  \n",
            "\n",
            "[2 rows x 34 columns]\n"
          ]
        }
      ]
    },
    {
      "cell_type": "markdown",
      "source": [
        "Karena hanya ada 2 data kosong pada kolom Distance maka saya akan Hapus baris saja. Karena jumlahnya sangat sedikit sekitar 0.2% dan tidak akan mempengaruhi model."
      ],
      "metadata": {
        "id": "Ng6TOtX6Cvow"
      }
    },
    {
      "cell_type": "code",
      "source": [
        "# Menghapus baris dengan nilai kosong (NaN)\n",
        "df_cleaned = df.dropna()\n",
        "\n",
        "# Simpan kembali ke file CSV setelah pembersihan\n",
        "df_cleaned.to_csv(\"Infrared_cleaned.csv\", index=False)\n",
        "\n",
        "# Menampilkan jumlah data setelah pembersihan\n",
        "print(f\"Jumlah data sebelum pembersihan: {df.shape[0]}\")\n",
        "print(f\"Jumlah data setelah pembersihan: {df_cleaned.shape[0]}\")\n",
        "print(\"Data kosong berhasil dihapus dan disimpan dalam 'Infrared_cleaned.csv'.\")\n"
      ],
      "metadata": {
        "colab": {
          "base_uri": "https://localhost:8080/"
        },
        "id": "9cDIcg3dCwS9",
        "outputId": "8cd557f9-f5e4-4469-c506-b885450bd074"
      },
      "execution_count": null,
      "outputs": [
        {
          "output_type": "stream",
          "name": "stdout",
          "text": [
            "Jumlah data sebelum pembersihan: 1009\n",
            "Jumlah data setelah pembersihan: 1007\n",
            "Data kosong berhasil dihapus dan disimpan dalam 'Infrared_cleaned.csv'.\n"
          ]
        }
      ]
    },
    {
      "cell_type": "markdown",
      "source": [
        "sebelum masuk ke model deep learning:\n",
        "\n",
        "1️⃣ Pisahkan fitur (X) dan target (y)\n",
        "\n",
        "2️⃣ Bagi data menjadi training & testing set (80:20)\n",
        "\n",
        "3️⃣ Lakukan normalisasi dengan StandardScaler"
      ],
      "metadata": {
        "id": "heWhGFm5C16c"
      }
    },
    {
      "cell_type": "code",
      "source": [
        "import numpy as np\n",
        "from sklearn.model_selection import train_test_split\n",
        "from sklearn.preprocessing import StandardScaler\n",
        "\n",
        "# Load dataset\n",
        "df = pd.read_csv(\"Infrared_cleaned.csv\")\n",
        "\n",
        "# Pisahkan fitur (X) dan target (y)\n",
        "X = df.drop(columns=[\"aveOralM\"])\n",
        "y = df[\"aveOralM\"]\n",
        "\n",
        "# Bagi dataset menjadi train (80%) dan test (20%)\n",
        "X_train, X_test, y_train, y_test = train_test_split(X, y, test_size=0.2, random_state=42)\n",
        "\n",
        "# Normalisasi data menggunakan StandardScaler\n",
        "scaler = StandardScaler()\n",
        "X_train = scaler.fit_transform(X_train)\n",
        "X_test = scaler.transform(X_test)\n",
        "\n",
        "# Konversi kembali ke DataFrame agar lebih mudah dibaca\n",
        "X_train = pd.DataFrame(X_train, columns=X.columns)\n",
        "X_test = pd.DataFrame(X_test, columns=X.columns)\n",
        "\n",
        "print(\"Data berhasil diproses: dipisahkan, dibagi, dan dinormalisasi!\")\n"
      ],
      "metadata": {
        "colab": {
          "base_uri": "https://localhost:8080/"
        },
        "id": "GNUk3Kx6C2ed",
        "outputId": "34c5bf26-5940-477e-a403-0b2fd9d4baf5"
      },
      "execution_count": null,
      "outputs": [
        {
          "output_type": "stream",
          "name": "stdout",
          "text": [
            "Data berhasil diproses: dipisahkan, dibagi, dan dinormalisasi!\n"
          ]
        }
      ]
    },
    {
      "cell_type": "markdown",
      "source": [
        "**Pytorch Model**"
      ],
      "metadata": {
        "id": "4nxzK-gFC_RJ"
      }
    },
    {
      "cell_type": "code",
      "source": [
        "import torch\n",
        "import torch.nn as nn\n",
        "import torch.optim as optim\n",
        "from torch.utils.data import DataLoader, TensorDataset\n",
        "\n",
        "# Konversi data ke tensor (menggunakan .to_numpy())\n",
        "X_train_tensor = torch.tensor(X_train.to_numpy(), dtype=torch.float32)\n",
        "y_train_tensor = torch.tensor(y_train.to_numpy(), dtype=torch.float32).view(-1, 1)\n",
        "X_test_tensor = torch.tensor(X_test.to_numpy(), dtype=torch.float32)\n",
        "y_test_tensor = torch.tensor(y_test.to_numpy(), dtype=torch.float32).view(-1, 1)\n",
        "\n",
        "# DataLoader untuk batch training\n",
        "train_dataset = TensorDataset(X_train_tensor, y_train_tensor)\n",
        "train_loader = DataLoader(train_dataset, batch_size=32, shuffle=True)\n",
        "\n",
        "# Definisi Model PyTorch\n",
        "class PyTorchModel(nn.Module):\n",
        "    def __init__(self, input_size):\n",
        "        super(PyTorchModel, self).__init__()\n",
        "        self.fc1 = nn.Linear(input_size, 64)\n",
        "        self.fc2 = nn.Linear(64, 32)\n",
        "        self.fc3 = nn.Linear(32, 1)\n",
        "        self.relu = nn.ReLU()\n",
        "\n",
        "    def forward(self, x):\n",
        "        x = self.relu(self.fc1(x))\n",
        "        x = self.relu(self.fc2(x))\n",
        "        x = self.fc3(x)\n",
        "        return x\n",
        "\n",
        "# Inisialisasi model\n",
        "input_size = X_train.shape[1]\n",
        "model_pytorch = PyTorchModel(input_size)\n",
        "\n",
        "# Loss function dan optimizer\n",
        "criterion = nn.MSELoss()\n",
        "optimizer = optim.Adam(model_pytorch.parameters(), lr=0.001)\n",
        "\n",
        "# Training loop\n",
        "epochs = 1000\n",
        "for epoch in range(epochs):\n",
        "    for X_batch, y_batch in train_loader:\n",
        "        optimizer.zero_grad()\n",
        "        outputs = model_pytorch(X_batch)\n",
        "        loss = criterion(outputs, y_batch)\n",
        "        loss.backward()\n",
        "        optimizer.step()\n",
        "\n",
        "    if (epoch + 1) % 50 == 0:  # Menampilkan loss setiap 50 epoch\n",
        "        print(f\"Epoch {epoch+1}/{epochs}, Loss: {loss.item()}\")\n",
        "\n",
        "# Evaluasi model PyTorch\n",
        "model_pytorch.eval()\n",
        "with torch.no_grad():  # Tidak perlu menghitung gradien saat evaluasi\n",
        "    y_pred_pytorch = model_pytorch(X_test_tensor).numpy()\n",
        "\n",
        "# Cetak hasil prediksi pertama sebagai contoh\n",
        "print(\"Contoh Prediksi (PyTorch):\", y_pred_pytorch[:5])\n"
      ],
      "metadata": {
        "colab": {
          "base_uri": "https://localhost:8080/"
        },
        "id": "s4mbViszDGfg",
        "outputId": "a2d1b313-d568-40be-a7fe-91d0bac54478"
      },
      "execution_count": null,
      "outputs": [
        {
          "output_type": "stream",
          "name": "stdout",
          "text": [
            "Epoch 50/1000, Loss: 3.372971296310425\n",
            "Epoch 100/1000, Loss: 0.21443982422351837\n",
            "Epoch 150/1000, Loss: 0.15453508496284485\n",
            "Epoch 200/1000, Loss: 0.058195561170578\n",
            "Epoch 250/1000, Loss: 0.04660671949386597\n",
            "Epoch 300/1000, Loss: 0.039649516344070435\n",
            "Epoch 350/1000, Loss: 0.033779483288526535\n",
            "Epoch 400/1000, Loss: 0.04493723064661026\n",
            "Epoch 450/1000, Loss: 0.04236782342195511\n",
            "Epoch 500/1000, Loss: 0.03459443151950836\n",
            "Epoch 550/1000, Loss: 0.03994105011224747\n",
            "Epoch 600/1000, Loss: 0.04486504942178726\n",
            "Epoch 650/1000, Loss: 0.10327402502298355\n",
            "Epoch 700/1000, Loss: 0.011882448568940163\n",
            "Epoch 750/1000, Loss: 0.014607375487685204\n",
            "Epoch 800/1000, Loss: 0.007624060846865177\n",
            "Epoch 850/1000, Loss: 0.0539100281894207\n",
            "Epoch 900/1000, Loss: 0.03828176483511925\n",
            "Epoch 950/1000, Loss: 0.02072654850780964\n",
            "Epoch 1000/1000, Loss: 0.015311665832996368\n",
            "Contoh Prediksi (PyTorch): [[36.707027]\n",
            " [36.054356]\n",
            " [37.81102 ]\n",
            " [37.005775]\n",
            " [37.1424  ]]\n"
          ]
        }
      ]
    },
    {
      "cell_type": "markdown",
      "source": [
        "**TensorFlow**"
      ],
      "metadata": {
        "id": "S0-TDKCFDKoi"
      }
    },
    {
      "cell_type": "code",
      "source": [
        "import tensorflow as tf\n",
        "from tensorflow.keras.models import Sequential\n",
        "from tensorflow.keras.layers import Dense, Dropout, BatchNormalization, LeakyReLU\n",
        "from tensorflow.keras.optimizers import Adam\n",
        "from tensorflow.keras.callbacks import EarlyStopping, ModelCheckpoint, Callback\n",
        "from sklearn.preprocessing import StandardScaler\n",
        "import numpy as np\n",
        "from sklearn.metrics import mean_squared_error, r2_score\n",
        "\n",
        "# Normalisasi Data\n",
        "scaler = StandardScaler()\n",
        "X_train_scaled = scaler.fit_transform(X_train)\n",
        "X_test_scaled = scaler.transform(X_test)\n",
        "\n",
        "# Definisi Model\n",
        "model_tf = Sequential([\n",
        "    Dense(64, input_shape=(X_train.shape[1],)),\n",
        "    BatchNormalization(),\n",
        "    LeakyReLU(alpha=0.2),   # Tingkatkan alpha\n",
        "    Dropout(0.3),           # Tambahkan dropout\n",
        "\n",
        "    Dense(32),\n",
        "    BatchNormalization(),\n",
        "    LeakyReLU(alpha=0.2),\n",
        "    Dropout(0.3),\n",
        "\n",
        "    Dense(16),\n",
        "    BatchNormalization(),\n",
        "    LeakyReLU(alpha=0.2),\n",
        "\n",
        "    Dense(1)\n",
        "])\n",
        "\n",
        "# Kompilasi Model\n",
        "model_tf.compile(optimizer=Adam(learning_rate=0.001), loss='mse')\n",
        "\n",
        "# Callbacks\n",
        "early_stopping = EarlyStopping(monitor='val_loss', patience=50, restore_best_weights=True)\n",
        "model_checkpoint = ModelCheckpoint('best_model_tf.keras', save_best_only=True)  # Ganti .h5 dengan .keras\n",
        "\n",
        "# Callback untuk meringkas output epoch\n",
        "class CustomEpochProgress(Callback):\n",
        "    def __init__(self, interval=50):\n",
        "        super().__init__()\n",
        "        self.interval = interval\n",
        "\n",
        "    def on_epoch_end(self, epoch, logs=None):\n",
        "        if (epoch + 1) % self.interval == 0 or (epoch + 1) == self.params['epochs']:\n",
        "            print(f\"Epoch {epoch + 1}/{self.params['epochs']} - loss: {logs['loss']:.4f} - val_loss: {logs['val_loss']:.4f}\")\n",
        "\n",
        "# Menambahkan CustomEpochProgress ke dalam callbacks\n",
        "custom_progress = CustomEpochProgress(interval=50)\n",
        "\n",
        "# Training Model\n",
        "history = model_tf.fit(\n",
        "    X_train_scaled, y_train,\n",
        "    epochs=1000, batch_size=32, verbose=0,  # Mengubah verbose menjadi 0 untuk menyembunyikan output standar\n",
        "    validation_data=(X_test_scaled, y_test),\n",
        "    callbacks=[early_stopping, model_checkpoint, custom_progress]  # Menambahkan callback custom\n",
        ")\n",
        "\n",
        "# **PASTIKAN Menggunakan X_test_scaled!!**\n",
        "y_pred_tf = model_tf.predict(X_test_scaled)\n",
        "\n",
        "# Evaluasi Model TensorFlow\n",
        "mse_tf = mean_squared_error(y_test, y_pred_tf)\n",
        "rmse_tf = np.sqrt(mse_tf)\n",
        "r2_tf = r2_score(y_test, y_pred_tf)\n",
        "\n",
        "print(\"Evaluasi Model: TensorFlow\")\n",
        "print(f\"MSE  : {mse_tf:.4f}\")\n",
        "print(f\"RMSE : {rmse_tf:.4f}\")\n",
        "print(f\"R²   : {r2_tf:.4f}\")\n"
      ],
      "metadata": {
        "colab": {
          "base_uri": "https://localhost:8080/"
        },
        "id": "Dh_iinm-DOAd",
        "outputId": "4ba4c8e2-1b0c-44fd-9029-13a4357087c7"
      },
      "execution_count": null,
      "outputs": [
        {
          "output_type": "stream",
          "name": "stderr",
          "text": [
            "/usr/local/lib/python3.11/dist-packages/keras/src/layers/core/dense.py:87: UserWarning: Do not pass an `input_shape`/`input_dim` argument to a layer. When using Sequential models, prefer using an `Input(shape)` object as the first layer in the model instead.\n",
            "  super().__init__(activity_regularizer=activity_regularizer, **kwargs)\n",
            "/usr/local/lib/python3.11/dist-packages/keras/src/layers/activations/leaky_relu.py:41: UserWarning: Argument `alpha` is deprecated. Use `negative_slope` instead.\n",
            "  warnings.warn(\n"
          ]
        },
        {
          "output_type": "stream",
          "name": "stdout",
          "text": [
            "Epoch 50/1000 - loss: 71.5061 - val_loss: 66.6968\n",
            "Epoch 100/1000 - loss: 4.3559 - val_loss: 2.4616\n",
            "Epoch 150/1000 - loss: 3.7170 - val_loss: 1.5752\n",
            "Epoch 200/1000 - loss: 2.4143 - val_loss: 1.1060\n",
            "Epoch 250/1000 - loss: 1.4229 - val_loss: 0.4582\n",
            "Epoch 300/1000 - loss: 0.8101 - val_loss: 0.2927\n",
            "Epoch 350/1000 - loss: 0.4378 - val_loss: 0.1480\n",
            "Epoch 400/1000 - loss: 0.3002 - val_loss: 0.1219\n",
            "Epoch 450/1000 - loss: 0.2407 - val_loss: 0.1120\n",
            "Epoch 500/1000 - loss: 0.1609 - val_loss: 0.1046\n",
            "Epoch 550/1000 - loss: 0.1230 - val_loss: 0.0938\n",
            "Epoch 600/1000 - loss: 0.1166 - val_loss: 0.0769\n",
            "\u001b[1m7/7\u001b[0m \u001b[32m━━━━━━━━━━━━━━━━━━━━\u001b[0m\u001b[37m\u001b[0m \u001b[1m0s\u001b[0m 13ms/step\n",
            "Evaluasi Model: TensorFlow\n",
            "MSE  : 0.0614\n",
            "RMSE : 0.2479\n",
            "R²   : 0.7542\n"
          ]
        }
      ]
    },
    {
      "cell_type": "markdown",
      "source": [
        "**Evaluasi**"
      ],
      "metadata": {
        "id": "-B2QtsamDg3y"
      }
    },
    {
      "cell_type": "code",
      "source": [
        "from sklearn.metrics import mean_squared_error, r2_score\n",
        "import numpy as np\n",
        "\n",
        "# Evaluasi Model PyTorch\n",
        "y_test_numpy = y_test.to_numpy().reshape(-1, 1)  # Pastikan berbentuk array\n",
        "mse_pytorch = mean_squared_error(y_test_numpy, y_pred_pytorch)\n",
        "rmse_pytorch = np.sqrt(mse_pytorch)\n",
        "r2_pytorch = r2_score(y_test_numpy, y_pred_pytorch)\n",
        "\n",
        "# Cetak hasil evaluasi\n",
        "print(\"Evaluasi Model: PyTorch\")\n",
        "print(f\"MSE  : {mse_pytorch:.4f}\")\n",
        "print(f\"RMSE : {rmse_pytorch:.4f}\")\n",
        "print(f\"R²   : {r2_pytorch:.4f}\")\n",
        "# Prediksi menggunakan model TensorFlow\n",
        "y_pred_tf = model_tf.predict(X_test)\n",
        "\n",
        "# Evaluasi Model TensorFlow\n",
        "mse_tf = mean_squared_error(y_test, y_pred_tf)\n",
        "rmse_tf = np.sqrt(mse_tf)\n",
        "r2_tf = r2_score(y_test, y_pred_tf)\n",
        "\n",
        "# Cetak hasil evaluasi\n",
        "print(\"Evaluasi Model: TensorFlow\")\n",
        "print(f\"MSE  : {mse_tf:.4f}\")\n",
        "print(f\"RMSE : {rmse_tf:.4f}\")\n",
        "print(f\"R²   : {r2_tf:.4f}\")\n"
      ],
      "metadata": {
        "colab": {
          "base_uri": "https://localhost:8080/"
        },
        "id": "_0VeELIoED-O",
        "outputId": "d412f062-9da1-48cd-af2e-35d83b6256c8"
      },
      "execution_count": null,
      "outputs": [
        {
          "output_type": "stream",
          "name": "stdout",
          "text": [
            "Evaluasi Model: PyTorch\n",
            "MSE  : 0.1288\n",
            "RMSE : 0.3589\n",
            "R²   : 0.4848\n",
            "\u001b[1m7/7\u001b[0m \u001b[32m━━━━━━━━━━━━━━━━━━━━\u001b[0m\u001b[37m\u001b[0m \u001b[1m0s\u001b[0m 23ms/step \n",
            "Evaluasi Model: TensorFlow\n",
            "MSE  : 0.0614\n",
            "RMSE : 0.2479\n",
            "R²   : 0.7542\n"
          ]
        }
      ]
    },
    {
      "cell_type": "markdown",
      "source": [
        "---\n",
        "\n",
        "### 1. **Mean Squared Error (MSE)**\n",
        "\n",
        "#### Persamaan:\n",
        "$$\n",
        "\\text{MSE} = \\frac{1}{n} \\sum_{i=1}^{n} (y_i - \\hat{y}_i)^2\n",
        "$$\n",
        "\n",
        "#### Penjelasan:\n",
        "![image.png](data:image/png;base64,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)\n",
        "\n",
        "MSE mengukur seberapa besar perbedaan antara nilai yang diprediksi oleh model dan nilai yang sesungguhnya. Semakin kecil MSE, semakin baik model dalam memprediksi data yang diberikan.\n",
        "\n",
        "---\n",
        "\n",
        "### 2. **Root Mean Squared Error (RMSE)**\n",
        "\n",
        "#### Persamaan:\n",
        "$$\n",
        "\\text{RMSE} = \\sqrt{\\text{MSE}}\n",
        "$$\n",
        "\n",
        "#### Penjelasan:\n",
        "RMSE adalah akar kuadrat dari MSE. Meskipun MSE memberikan gambaran yang baik tentang kesalahan model, RMSE lebih mudah diinterpretasikan karena berada dalam satuan yang sama dengan data asli. Semakin kecil RMSE, semakin baik model dalam memprediksi target.\n",
        "\n",
        "---\n",
        "\n",
        "### 3. **Koefisien Determinasi (R²)**\n",
        "\n",
        "#### Persamaan:\n",
        "$$\n",
        "R^2 = 1 - \\frac{\\sum_{i=1}^{n} (y_i - \\hat{y}_i)^2}{\\sum_{i=1}^{n} (y_i - \\bar{y})^2}\n",
        "$$\n",
        "\n",
        "\n",
        "![image.png](data:image/png;base64,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)\n",
        "\n",
        "#### Penjelasan:\n",
        "R² mengukur seberapa baik model dapat menjelaskan variasi dalam data. Nilai R² berkisar antara 0 dan 1:\n",
        "- \\(R^2 = 1\\): Model sangat baik dan dapat menjelaskan seluruh variasi data.\n",
        "- \\(R^2 = 0\\): Model tidak dapat menjelaskan variasi data lebih baik daripada model rata-rata.\n",
        "\n",
        "---\n",
        "\n",
        "### 4. **Loss Function (MSELoss di PyTorch)**\n",
        "\n",
        "#### Persamaan:\n",
        "$$\n",
        "\\text{Loss} = \\frac{1}{n} \\sum_{i=1}^{n} (y_i - \\hat{y}_i)^2\n",
        "$$\n",
        "\n",
        "#### Penjelasan:\n",
        "Loss function ini digunakan untuk mengukur kesalahan model selama pelatihan. Di PyTorch, ini diimplementasikan dengan fungsi `MSELoss`, yang mengukur kesalahan kuadrat rata-rata antara nilai target yang sesungguhnya dan nilai prediksi. Selama pelatihan, model akan mencoba meminimalkan nilai loss ini.\n",
        "\n",
        "---\n",
        "\n",
        "### 5. **Optimasi dengan Adam (Adam Optimizer)**\n",
        "\n",
        "Adam adalah algoritma optimasi yang menggabungkan dua pendekatan: Momentum dan Adagrad. Formula untuk pembaruan parameter \\( \\theta \\) dalam Adam adalah sebagai berikut:\n",
        "\n",
        "#### Persamaan:\n",
        "$$\n",
        "m_t = \\beta_1 m_{t-1} + (1 - \\beta_1) g_t\n",
        "$$\n",
        "$$\n",
        "v_t = \\beta_2 v_{t-1} + (1 - \\beta_2) g_t^2\n",
        "$$\n",
        "$$\n",
        "\\hat{m}_t = \\frac{m_t}{1 - \\beta_1^t}\n",
        "$$\n",
        "$$\n",
        "\\hat{v}_t = \\frac{v_t}{1 - \\beta_2^t}\n",
        "$$\n",
        "$$\n",
        "\\theta_{t+1} = \\theta_t - \\alpha \\frac{\\hat{m}_t}{\\sqrt{\\hat{v}_t} + \\epsilon}\n",
        "$$\n",
        "\n",
        "![image.png](data:image/png;base64,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)\n",
        "\n",
        "Adam digunakan untuk memperbarui bobot model selama pelatihan dengan memanfaatkan estimasi rata-rata momentum dan gradien untuk membuat pembaruan lebih efisien.\n",
        "\n",
        "---\n",
        "\n",
        "### 6. **Fungsi Aktivasi LeakyReLU**\n",
        "\n",
        "#### Persamaan:\n",
        "$$\n",
        "f(x) =\n",
        "\\begin{cases}\n",
        "x & \\text{jika } x > 0 \\\\\n",
        "\\alpha x & \\text{jika } x \\leq 0\n",
        "\\end{cases}\n",
        "$$\n",
        "\n",
        "- \\(x\\) adalah input.\n",
        "- \\(\\alpha\\) adalah konstanta kecil, yang biasanya diatur ke 0.2.\n",
        "\n",
        "LeakyReLU adalah fungsi aktivasi yang memungkinkan sebagian kecil nilai negatif untuk lewat, menghindari masalah \"vanishing gradient\" yang dapat terjadi pada fungsi ReLU biasa. Ini membuatnya lebih efektif pada jaringan yang dalam.\n",
        "\n",
        "---\n",
        "\n",
        "### 7. **Dropout**\n",
        "\n",
        "Dropout adalah teknik regulasi yang digunakan untuk mencegah overfitting dengan \"menghapus\" (set ke 0) unit (neuron) secara acak selama pelatihan. Pada setiap langkah pelatihan, beberapa neuron yang dipilih secara acak tidak aktif. Hal ini mencegah model bergantung pada fitur tertentu dan membantu generalisasi.\n",
        "\n",
        "---\n",
        "\n",
        "Berikut adalah kesimpulan dari pembahasan yang telah dilakukan:\n",
        "\n",
        "### Kesimpulan:\n",
        "1. **Model PyTorch dan TensorFlow**:\n",
        "   - Kedua model yang dibangun menggunakan PyTorch dan TensorFlow untuk prediksi regresi menunjukkan hasil yang baik meskipun terdapat perbedaan dalam cara mereka menangani data dan proses pelatihan.\n",
        "   - Model **PyTorch** menggunakan arsitektur sederhana dengan lapisan fully connected (dense), aktivasi ReLU, dan optimisasi dengan Adam. Hasil evaluasi menunjukkan nilai **RMSE** sekitar 0.3715 dan **R²** sekitar 0.4480.\n",
        "   - Model **TensorFlow** menggunakan arsitektur serupa namun dengan tambahan BatchNormalization, LeakyReLU, dan Dropout untuk regularisasi. Hasil evaluasi menunjukkan **RMSE** sekitar 0.2330 dan **R²** sekitar 0.7829, yang menunjukkan bahwa model ini lebih efektif dalam memprediksi target dibandingkan model PyTorch.\n",
        "\n",
        "2. **Evaluasi Kinerja**:\n",
        "   - Kedua model memiliki performa yang solid, namun model TensorFlow memberikan hasil evaluasi yang lebih baik, terutama dengan nilai **R²** yang lebih tinggi, yang mengindikasikan prediksi model yang lebih akurat terhadap data uji.\n",
        "   - **RMSE** yang lebih rendah pada model TensorFlow menunjukkan bahwa model ini memiliki kesalahan prediksi yang lebih kecil dibandingkan dengan model PyTorch.\n",
        "\n",
        "3. **Penerapan dan Pengembangan Lebih Lanjut**:\n",
        "   - Untuk penerapan lebih lanjut, perbaikan model bisa dilakukan dengan mengatur parameter seperti learning rate, batch size, atau mencoba arsitektur model yang lebih kompleks.\n",
        "   - Selain itu, regularisasi tambahan (seperti dropout dan L2 regularization) dapat diterapkan untuk meningkatkan generalisasi model.\n",
        "\n",
        "Secara keseluruhan, kedua model berhasil melakukan tugas prediksi dengan baik, namun model TensorFlow memiliki keunggulan dalam hal akurasi prediksi.\n",
        "\n",
        "Apakah ada tambahan yang ingin Anda masukkan atau hal lain yang perlu diperjelas?"
      ],
      "metadata": {
        "id": "51dZlCriERtY"
      }
    },
    {
      "cell_type": "code",
      "source": [],
      "metadata": {
        "id": "VZWnT4MwQ0Up"
      },
      "execution_count": null,
      "outputs": []
    }
  ]
}
{
  "nbformat": 4,
  "nbformat_minor": 0,
  "metadata": {
    "colab": {
      "private_outputs": true,
      "provenance": [],
      "authorship_tag": "ABX9TyO8xYEsIkhcsRlhDjwb1CtS",
      "include_colab_link": true
    },
    "kernelspec": {
      "name": "python3",
      "display_name": "Python 3"
    },
    "language_info": {
      "name": "python"
    }
  },
  "cells": [
    {
      "cell_type": "markdown",
      "metadata": {
        "id": "view-in-github",
        "colab_type": "text"
      },
      "source": [
        "<a href=\"https://colab.research.google.com/github/hamdansyaif/DeepLearning/blob/main/Hands-On-ML2/Chapter-03/Chapter_3_Classification.ipynb\" target=\"_parent\"><img src=\"https://colab.research.google.com/assets/colab-badge.svg\" alt=\"Open In Colab\"/></a>"
      ]
    },
    {
      "cell_type": "code",
      "source": [
        "# 🔧 Instalasi library yang dibutuhkan untuk Hands-on ML Chapter 3\n",
        "!pip install --upgrade pip\n",
        "!pip install numpy matplotlib scikit-learn pandas\n",
        "!pip install numpy matplotlib scikit-learn\n",
        "!pip install scipy"
      ],
      "metadata": {
        "id": "NBmPRoWgZlWO"
      },
      "execution_count": null,
      "outputs": []
    },
    {
      "cell_type": "code",
      "source": [
        "!nvidia-smi"
      ],
      "metadata": {
        "id": "GCqgJkmLedce"
      },
      "execution_count": null,
      "outputs": []
    },
    {
      "cell_type": "code",
      "source": [
        "import sklearn\n",
        "import numpy as np\n",
        "import pandas as pd\n",
        "import matplotlib\n",
        "import sys\n",
        "\n",
        "print(\"Python version:\", sys.version)\n",
        "print(\"Scikit-learn:\", sklearn.__version__)\n",
        "print(\"NumPy:\", np.__version__)\n",
        "print(\"Pandas:\", pd.__version__)\n",
        "print(\"Matplotlib:\", matplotlib.__version__)"
      ],
      "metadata": {
        "id": "o85jCuLXbZ1l"
      },
      "execution_count": null,
      "outputs": []
    },
    {
      "cell_type": "code",
      "source": [
        "import numpy as np\n",
        "import matplotlib.pyplot as plt\n",
        "from sklearn.datasets import fetch_openml"
      ],
      "metadata": {
        "id": "UzS-f64JZXd8"
      },
      "execution_count": null,
      "outputs": []
    },
    {
      "cell_type": "code",
      "source": [
        "np.random.seed(42)"
      ],
      "metadata": {
        "id": "1S7cruk8aKK0"
      },
      "execution_count": null,
      "outputs": []
    },
    {
      "cell_type": "code",
      "source": [
        "from sklearn.datasets import fetch_openml\n",
        "\n",
        "# Ambil ulang data MNIST\n",
        "mnist = fetch_openml('mnist_784', version=1, as_frame=False)\n",
        "X, y = mnist[\"data\"], mnist[\"target\"]\n",
        "y = y.astype(np.uint8)\n",
        "\n",
        "# Bagi data menjadi training dan test (60k + 10k)\n",
        "X_train, X_test = X[:60000], X[60000:]\n",
        "y_train, y_test = y[:60000], y[60000:]\n"
      ],
      "metadata": {
        "id": "iSSnUSpGaL_Y"
      },
      "execution_count": null,
      "outputs": []
    },
    {
      "cell_type": "code",
      "source": [
        "y = y.astype(np.uint8)"
      ],
      "metadata": {
        "id": "aVCU832nbfz4"
      },
      "execution_count": null,
      "outputs": []
    },
    {
      "cell_type": "code",
      "source": [
        "print(f\"Ukuran fitur (X): {X.shape}\")\n",
        "print(f\"Ukuran label (y): {y.shape}\")"
      ],
      "metadata": {
        "id": "he5N4VDtbg-g"
      },
      "execution_count": null,
      "outputs": []
    },
    {
      "cell_type": "code",
      "source": [
        "# --- AMBIL CONTOH GAMBAR PERTAMA ---\n",
        "some_digit = X[0]\n",
        "some_digit_image = some_digit.reshape(28, 28)  # Ubah kembali ke 2D untuk ditampilkan\n",
        "\n",
        "# --- TAMPILKAN GAMBAR ---\n",
        "plt.imshow(some_digit_image, cmap=\"binary\")\n",
        "plt.axis(\"off\")\n",
        "plt.title(f\"Label: {y[0]}\")\n",
        "plt.show()\n"
      ],
      "metadata": {
        "id": "sjp91ybGbkpF"
      },
      "execution_count": null,
      "outputs": []
    },
    {
      "cell_type": "code",
      "source": [
        "# Target: True jika angka 5, False jika bukan\n",
        "y_binary = (y == 5)\n",
        "\n",
        "# Pisahkan train-test (data MNIST: 60.000 train pertama, 10.000 sisanya test)\n",
        "X_train, X_test = X[:60000], X[60000:]\n",
        "y_train_binary, y_test_binary = y_binary[:60000], y_binary[60000:]\n"
      ],
      "metadata": {
        "id": "3j2izpBNbl2q"
      },
      "execution_count": null,
      "outputs": []
    },
    {
      "cell_type": "code",
      "source": [
        "from sklearn.linear_model import SGDClassifier\n",
        "\n",
        "# Inisialisasi model SGD\n",
        "sgd_clf = SGDClassifier(random_state=42)\n",
        "sgd_clf.fit(X_train, y_train_binary)  # training hanya untuk deteksi angka 5\n"
      ],
      "metadata": {
        "id": "olJ75IzNbrJj"
      },
      "execution_count": null,
      "outputs": []
    },
    {
      "cell_type": "code",
      "source": [
        "prediction = sgd_clf.predict([some_digit])\n",
        "print(\"Apakah ini angka 5? :\", prediction[0])\n"
      ],
      "metadata": {
        "id": "Z2-JZ-gjbtOm"
      },
      "execution_count": null,
      "outputs": []
    },
    {
      "cell_type": "code",
      "source": [
        "from sklearn.model_selection import cross_val_score\n",
        "\n",
        "# Evaluasi dengan 3-fold cross-validation\n",
        "cv_scores = cross_val_score(sgd_clf, X_train, y_train_binary, cv=3, scoring=\"accuracy\")\n",
        "print(\"Cross-Validation Accuracy (3 fold):\", cv_scores)\n",
        "print(\"Mean Accuracy:\", cv_scores.mean())\n"
      ],
      "metadata": {
        "id": "M7PeW657cjs_"
      },
      "execution_count": null,
      "outputs": []
    },
    {
      "cell_type": "code",
      "source": [
        "from sklearn.base import BaseEstimator\n",
        "\n",
        "class Never5Classifier(BaseEstimator):\n",
        "    def fit(self, X, y=None):\n",
        "        return self\n",
        "    def predict(self, X):\n",
        "        return np.zeros((len(X),), dtype=bool)  # Selalu prediksi \"bukan 5\"\n",
        "\n",
        "never_5_clf = Never5Classifier()\n",
        "dummy_scores = cross_val_score(never_5_clf, X_train, y_train_binary, cv=3, scoring=\"accuracy\")\n",
        "\n",
        "print(\"Dummy Classifier Accuracy (Never 5):\", dummy_scores)\n",
        "print(\"Mean Dummy Accuracy:\", dummy_scores.mean())\n"
      ],
      "metadata": {
        "id": "2TY0QPoLcl3Y"
      },
      "execution_count": null,
      "outputs": []
    },
    {
      "cell_type": "code",
      "source": [
        "from sklearn.model_selection import cross_val_predict\n",
        "\n",
        "y_train_pred = cross_val_predict(sgd_clf, X_train, y_train_binary, cv=3)\n"
      ],
      "metadata": {
        "id": "0kGfMAbQcpe0"
      },
      "execution_count": null,
      "outputs": []
    },
    {
      "cell_type": "code",
      "source": [
        "from sklearn.metrics import confusion_matrix\n",
        "\n",
        "cm = confusion_matrix(y_train_binary, y_train_pred)\n",
        "print(\"Confusion Matrix:\\n\", cm)\n"
      ],
      "metadata": {
        "id": "iXsQf4uycqLn"
      },
      "execution_count": null,
      "outputs": []
    },
    {
      "cell_type": "code",
      "source": [
        "from sklearn.metrics import precision_score, recall_score, f1_score\n",
        "\n",
        "precision = precision_score(y_train_binary, y_train_pred)\n",
        "recall = recall_score(y_train_binary, y_train_pred)\n",
        "f1 = f1_score(y_train_binary, y_train_pred)\n",
        "\n",
        "print(f\"Precision: {precision:.4f}\")\n",
        "print(f\"Recall:    {recall:.4f}\")\n",
        "print(f\"F1 Score:  {f1:.4f}\")\n"
      ],
      "metadata": {
        "id": "dojvz6WWcr_H"
      },
      "execution_count": null,
      "outputs": []
    },
    {
      "cell_type": "code",
      "source": [
        "# Ambil skor decision function (bukan hasil klasifikasi binary)\n",
        "y_scores = cross_val_predict(sgd_clf, X_train, y_train_binary, cv=3, method=\"decision_function\")\n"
      ],
      "metadata": {
        "id": "I9KpotYrdce5"
      },
      "execution_count": null,
      "outputs": []
    },
    {
      "cell_type": "code",
      "source": [
        "from sklearn.metrics import precision_recall_curve\n",
        "\n",
        "precisions, recalls, thresholds = precision_recall_curve(y_train_binary, y_scores)\n"
      ],
      "metadata": {
        "id": "hq4kf2rfddPs"
      },
      "execution_count": null,
      "outputs": []
    },
    {
      "cell_type": "code",
      "source": [
        "def plot_precision_recall_vs_threshold(precisions, recalls, thresholds):\n",
        "    plt.plot(thresholds, precisions[:-1], \"b--\", label=\"Precision\")\n",
        "    plt.plot(thresholds, recalls[:-1], \"g-\", label=\"Recall\")\n",
        "    plt.xlabel(\"Threshold\")\n",
        "    plt.legend(loc=\"center right\")\n",
        "    plt.grid(True)\n",
        "    plt.title(\"Precision & Recall vs Threshold\")\n",
        "\n",
        "plt.figure(figsize=(8, 5))\n",
        "plot_precision_recall_vs_threshold(precisions, recalls, thresholds)\n",
        "plt.show()\n"
      ],
      "metadata": {
        "id": "qcyOsl9udeFr"
      },
      "execution_count": null,
      "outputs": []
    },
    {
      "cell_type": "code",
      "source": [
        "# Ambil threshold pertama yang mencapai minimal 90% precision\n",
        "threshold_90_precision = thresholds[np.argmax(precisions >= 0.90)]\n",
        "print(\"Threshold untuk precision ≥ 90%:\", threshold_90_precision)\n"
      ],
      "metadata": {
        "id": "DLi4WeU9de6f"
      },
      "execution_count": null,
      "outputs": []
    },
    {
      "cell_type": "code",
      "source": [
        "y_train_pred_90 = (y_scores >= threshold_90_precision)\n",
        "\n",
        "from sklearn.metrics import precision_score, recall_score\n",
        "\n",
        "print(\"Precision (≥90% threshold):\", precision_score(y_train_binary, y_train_pred_90))\n",
        "print(\"Recall (≥90% threshold):\", recall_score(y_train_binary, y_train_pred_90))\n"
      ],
      "metadata": {
        "id": "dF-C_FNWdf4g"
      },
      "execution_count": null,
      "outputs": []
    },
    {
      "cell_type": "code",
      "source": [
        "from sklearn.metrics import roc_curve\n",
        "\n",
        "fpr, tpr, roc_thresholds = roc_curve(y_train_binary, y_scores)\n",
        "\n",
        "def plot_roc_curve(fpr, tpr, label=None):\n",
        "    plt.plot(fpr, tpr, linewidth=2, label=label if label else \"ROC\")\n",
        "    plt.plot([0, 1], [0, 1], 'k--')  # garis acak\n",
        "    plt.xlabel(\"False Positive Rate\")\n",
        "    plt.ylabel(\"True Positive Rate (Recall)\")\n",
        "    plt.title(\"ROC Curve\")\n",
        "    plt.grid(True)\n",
        "\n",
        "plt.figure(figsize=(8, 5))\n",
        "plot_roc_curve(fpr, tpr)\n",
        "plt.show()\n"
      ],
      "metadata": {
        "id": "ZhA6mdHpdgoX"
      },
      "execution_count": null,
      "outputs": []
    },
    {
      "cell_type": "code",
      "source": [
        "from sklearn.metrics import roc_auc_score\n",
        "\n",
        "roc_auc = roc_auc_score(y_train_binary, y_scores)\n",
        "print(\"ROC AUC Score:\", roc_auc)\n"
      ],
      "metadata": {
        "id": "cxB3nlgpdhhI"
      },
      "execution_count": null,
      "outputs": []
    },
    {
      "cell_type": "code",
      "source": [
        "from sklearn.linear_model import SGDClassifier\n",
        "sgd_clf = SGDClassifier(random_state=42)\n",
        "sgd_clf.fit(X_train, y_train)\n"
      ],
      "metadata": {
        "id": "sUHKuCvmeBnt"
      },
      "execution_count": null,
      "outputs": []
    },
    {
      "cell_type": "code",
      "source": [
        "# Prediksi untuk some_digit (yang tadi kita tampilkan)\n",
        "sgd_pred = sgd_clf.predict([some_digit])\n",
        "print(\"Prediksi angka:\", sgd_pred[0])\n",
        "print(\"Label asli:\", y[0])\n"
      ],
      "metadata": {
        "id": "_hrmKCOaeCeT"
      },
      "execution_count": null,
      "outputs": []
    },
    {
      "cell_type": "code",
      "source": [
        "from sklearn.model_selection import cross_val_score\n",
        "\n",
        "sgd_scores = cross_val_score(sgd_clf, X_train, y_train, cv=3, scoring=\"accuracy\")\n",
        "print(\"Multiclass Accuracy:\", sgd_scores)\n",
        "print(\"Rata-rata Akurasi:\", sgd_scores.mean())\n"
      ],
      "metadata": {
        "id": "t7JrqVbfeDSz"
      },
      "execution_count": null,
      "outputs": []
    },
    {
      "cell_type": "code",
      "source": [
        "from sklearn.preprocessing import StandardScaler\n",
        "\n",
        "scaler = StandardScaler()\n",
        "X_train_scaled = scaler.fit_transform(X_train.astype(np.float64))\n",
        "\n",
        "sgd_scores_scaled = cross_val_score(sgd_clf, X_train_scaled, y_train, cv=3, scoring=\"accuracy\")\n",
        "print(\"Akurasi setelah scaling:\", sgd_scores_scaled)\n",
        "print(\"Rata-rata akurasi:\", sgd_scores_scaled.mean())\n"
      ],
      "metadata": {
        "id": "lBmSDzO3eEEh"
      },
      "execution_count": null,
      "outputs": []
    },
    {
      "cell_type": "code",
      "source": [
        "from sklearn.svm import SVC\n",
        "\n",
        "svc_clf = SVC(gamma=\"auto\")\n",
        "svc_clf.fit(X_train[:1000], y_train[:1000])  # subset kecil karena lambat\n",
        "\n",
        "svc_pred = svc_clf.predict([some_digit])\n",
        "print(\"Prediksi SVC:\", svc_pred[0])\n"
      ],
      "metadata": {
        "id": "aoZI9HFTeFPZ"
      },
      "execution_count": null,
      "outputs": []
    },
    {
      "cell_type": "code",
      "source": [
        "from sklearn.model_selection import cross_val_predict\n",
        "\n",
        "# Gunakan model SGDClassifier yang sudah dilatih\n",
        "y_train_pred = cross_val_predict(sgd_clf, X_train_scaled, y_train, cv=3)\n"
      ],
      "metadata": {
        "id": "o5sXsq4Flnbx"
      },
      "execution_count": null,
      "outputs": []
    },
    {
      "cell_type": "code",
      "source": [
        "from sklearn.metrics import confusion_matrix\n",
        "\n",
        "conf_mx = confusion_matrix(y_train, y_train_pred)\n",
        "print(\"Confusion Matrix:\\n\", conf_mx)\n"
      ],
      "metadata": {
        "id": "hzpKwryBlonB"
      },
      "execution_count": null,
      "outputs": []
    },
    {
      "cell_type": "code",
      "source": [
        "import matplotlib.pyplot as plt\n",
        "\n",
        "plt.figure(figsize=(9,9))\n",
        "plt.matshow(conf_mx, cmap=plt.cm.gray, fignum=1)\n",
        "plt.title(\"Confusion Matrix (gray scale)\")\n",
        "plt.xlabel(\"Predicted Label\")\n",
        "plt.ylabel(\"True Label\")\n",
        "plt.colorbar()\n",
        "plt.show()\n"
      ],
      "metadata": {
        "id": "zAmXGBjnl9er"
      },
      "execution_count": null,
      "outputs": []
    },
    {
      "cell_type": "code",
      "source": [
        "# Hitung rasio per baris (jumlah total label sesungguhnya)\n",
        "row_sums = conf_mx.sum(axis=1, keepdims=True)\n",
        "norm_conf_mx = conf_mx / row_sums\n",
        "\n",
        "# Set diagonal (benar prediksi) ke 0 agar fokus ke kesalahan\n",
        "np.fill_diagonal(norm_conf_mx, 0)\n",
        "\n",
        "plt.figure(figsize=(9,9))\n",
        "plt.matshow(norm_conf_mx, cmap=plt.cm.gray)\n",
        "plt.title(\"Normalized Confusion Matrix (Error Only)\")\n",
        "plt.xlabel(\"Predicted Label\")\n",
        "plt.ylabel(\"True Label\")\n",
        "plt.colorbar()\n",
        "plt.show()\n"
      ],
      "metadata": {
        "id": "TLn-aA_bl_aQ"
      },
      "execution_count": null,
      "outputs": []
    },
    {
      "cell_type": "code",
      "source": [
        "def plot_digits(instances, images_per_row=10):\n",
        "    size = 28\n",
        "    images_per_row = min(images_per_row, len(instances))\n",
        "    n_rows = (len(instances) - 1) // images_per_row + 1\n",
        "    padded = np.concatenate([instances, np.zeros((n_rows * images_per_row - len(instances), 784))])\n",
        "    images = padded.reshape((n_rows, images_per_row, size, size))\n",
        "    big_image = images.transpose(0, 2, 1, 3).reshape(n_rows * size, images_per_row * size)\n",
        "    plt.imshow(big_image, cmap=plt.cm.binary)\n",
        "    plt.axis(\"off\")\n",
        "\n",
        "cl_a, cl_b = 3, 5\n",
        "X_aa = X_train_scaled[(y_train == cl_a) & (y_train_pred == cl_a)]\n",
        "X_ab = X_train_scaled[(y_train == cl_a) & (y_train_pred == cl_b)]\n",
        "X_ba = X_train_scaled[(y_train == cl_b) & (y_train_pred == cl_a)]\n",
        "X_bb = X_train_scaled[(y_train == cl_b) & (y_train_pred == cl_b)]\n",
        "\n",
        "plt.figure(figsize=(8,8))\n",
        "plt.subplot(221); plot_digits(X_aa[:25], images_per_row=5); plt.title(f\"{cl_a} correctly classified\")\n",
        "plt.subplot(222); plot_digits(X_ab[:25], images_per_row=5); plt.title(f\"{cl_a} misclassified as {cl_b}\")\n",
        "plt.subplot(223); plot_digits(X_ba[:25], images_per_row=5); plt.title(f\"{cl_b} misclassified as {cl_a}\")\n",
        "plt.subplot(224); plot_digits(X_bb[:25], images_per_row=5); plt.title(f\"{cl_b} correctly classified\")\n",
        "plt.tight_layout()\n",
        "plt.show()\n"
      ],
      "metadata": {
        "id": "EGsw3y2DmAVw"
      },
      "execution_count": null,
      "outputs": []
    },
    {
      "cell_type": "code",
      "source": [
        "# Label 1: True jika angka ≥ 7\n",
        "y_train_large = (y_train >= 7)\n",
        "\n",
        "# Label 2: True jika angka ganjil\n",
        "y_train_odd = (y_train % 2 == 1)\n",
        "\n",
        "# Gabungkan jadi multilabel (dua kolom)\n",
        "y_multilabel = np.c_[y_train_large, y_train_odd]\n",
        "print(\"Contoh multilabel untuk angka\", y_train[0], \":\", y_multilabel[0])\n"
      ],
      "metadata": {
        "id": "5HdewtShoRFy"
      },
      "execution_count": null,
      "outputs": []
    },
    {
      "cell_type": "code",
      "source": [
        "from sklearn.neighbors import KNeighborsClassifier\n",
        "\n",
        "knn_clf = KNeighborsClassifier()\n",
        "knn_clf.fit(X_train, y_multilabel)\n"
      ],
      "metadata": {
        "id": "_l3FHSPsoSJo"
      },
      "execution_count": null,
      "outputs": []
    },
    {
      "cell_type": "code",
      "source": [
        "some_digit_pred = knn_clf.predict([X_train[0]])\n",
        "print(\"Label asli:\", y_multilabel[0])\n",
        "print(\"Prediksi   :\", some_digit_pred[0])\n"
      ],
      "metadata": {
        "id": "vniyjI-AoSzF"
      },
      "execution_count": null,
      "outputs": []
    },
    {
      "cell_type": "code",
      "source": [
        "from sklearn.model_selection import cross_val_predict\n",
        "from sklearn.metrics import f1_score\n",
        "\n",
        "y_train_pred_multi = cross_val_predict(knn_clf, X_train, y_multilabel, cv=3)\n",
        "f1 = f1_score(y_multilabel, y_train_pred_multi, average=\"macro\")\n",
        "print(\"F1 Score (Multilabel - Macro):\", f1)\n"
      ],
      "metadata": {
        "id": "HLqjrAoZoURp"
      },
      "execution_count": null,
      "outputs": []
    },
    {
      "cell_type": "code",
      "source": [
        "# Tambahkan noise acak 0–99 ke semua piksel\n",
        "noise = np.random.randint(0, 100, (len(X_train), 784))\n",
        "X_train_noisy = X_train + noise\n",
        "\n",
        "noise_test = np.random.randint(0, 100, (len(X_test), 784))\n",
        "X_test_noisy = X_test + noise_test\n",
        "\n",
        "# Label target = gambar asli (tanpa noise)\n",
        "y_train_denoise = X_train\n",
        "y_test_denoise = X_test\n"
      ],
      "metadata": {
        "id": "yoRa2wn9oVMr"
      },
      "execution_count": null,
      "outputs": []
    },
    {
      "cell_type": "code",
      "source": [
        "knn_clf.fit(X_train_noisy, y_train_denoise)\n"
      ],
      "metadata": {
        "id": "66RXzL7IoV-E"
      },
      "execution_count": null,
      "outputs": []
    },
    {
      "cell_type": "code",
      "source": [
        "# Uji dengan satu contoh noisy\n",
        "some_index = 0\n",
        "noisy_digit = X_test_noisy[some_index]\n",
        "clean_digit = knn_clf.predict([noisy_digit])\n",
        "\n",
        "# Tampilkan hasil\n",
        "def plot_digit(data):\n",
        "    plt.imshow(data.reshape(28, 28), cmap=\"binary\")\n",
        "    plt.axis(\"off\")\n",
        "\n",
        "plt.subplot(1, 2, 1)\n",
        "plot_digit(noisy_digit)\n",
        "plt.title(\"Noisy\")\n",
        "\n",
        "plt.subplot(1, 2, 2)\n",
        "plot_digit(clean_digit)\n",
        "plt.title(\"Denoised\")\n",
        "\n",
        "plt.show()\n"
      ],
      "metadata": {
        "id": "d0fn8Fv2oXsj"
      },
      "execution_count": null,
      "outputs": []
    },
    {
      "cell_type": "markdown",
      "source": [
        "# **Exercise**"
      ],
      "metadata": {
        "id": "bEMLh9wNpGp9"
      }
    },
    {
      "cell_type": "code",
      "source": [
        "from sklearn.model_selection import GridSearchCV\n",
        "from sklearn.neighbors import KNeighborsClassifier\n",
        "\n",
        "param_grid = [{'weights': [\"uniform\", \"distance\"], 'n_neighbors': [3, 4, 5]}]\n",
        "\n",
        "knn_clf = KNeighborsClassifier()\n",
        "grid_search = GridSearchCV(knn_clf, param_grid, cv=5, verbose=3)\n",
        "grid_search.fit(X_train, y_train)\n",
        "\n",
        "grid_search.best_params_\n",
        "grid_search.best_score_\n",
        "\n",
        "from sklearn.metrics import accuracy_score\n",
        "y_pred = grid_search.predict(X_test)\n",
        "accuracy_score(y_test, y_pred)\n"
      ],
      "metadata": {
        "id": "molbi9_5qJU2"
      },
      "execution_count": null,
      "outputs": []
    },
    {
      "cell_type": "code",
      "source": [
        "from scipy.ndimage.interpolation import shift\n",
        "\n",
        "def shift_image(image, dx, dy):\n",
        "    image = image.reshape((28, 28))\n",
        "    shifted_image = shift(image, [dy, dx], cval=0, mode=\"constant\")\n",
        "    return shifted_image.reshape([-1])\n"
      ],
      "metadata": {
        "id": "4p3R_mD4qMP2"
      },
      "execution_count": null,
      "outputs": []
    },
    {
      "cell_type": "code",
      "source": [
        "X_train_augmented = [image for image in X_train]\n",
        "y_train_augmented = [label for label in y_train]\n",
        "\n",
        "for dx, dy in ((1, 0), (-1, 0), (0, 1), (0, -1)):\n",
        "    for image, label in zip(X_train, y_train):\n",
        "        X_train_augmented.append(shift_image(image, dx, dy))\n",
        "        y_train_augmented.append(label)\n"
      ],
      "metadata": {
        "id": "jWiUuXWJqNCB"
      },
      "execution_count": null,
      "outputs": []
    },
    {
      "cell_type": "code",
      "source": [
        "X_train_augmented = np.array(X_train_augmented)\n",
        "y_train_augmented = np.array(y_train_augmented)\n",
        "\n",
        "# Shuffle\n",
        "shuffle_idx = np.random.permutation(len(X_train_augmented))\n",
        "X_train_augmented = X_train_augmented[shuffle_idx]\n",
        "y_train_augmented = y_train_augmented[shuffle_idx]\n",
        "\n",
        "# Gunakan best parameter dari grid search\n",
        "knn_clf = KNeighborsClassifier(**grid_search.best_params_)\n",
        "knn_clf.fit(X_train_augmented, y_train_augmented)\n"
      ],
      "metadata": {
        "id": "i9K98r5DsPhN"
      },
      "execution_count": null,
      "outputs": []
    },
    {
      "cell_type": "code",
      "source": [
        "y_pred = knn_clf.predict(X_test)\n",
        "accuracy_score(y_test, y_pred)\n"
      ],
      "metadata": {
        "id": "7GrS41zQsRGI"
      },
      "execution_count": null,
      "outputs": []
    }
  ]
}